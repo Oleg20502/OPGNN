{
 "cells": [
  {
   "cell_type": "code",
   "execution_count": 1,
   "id": "8250cdd9-d544-4c0c-9b22-3db45a8396f8",
   "metadata": {},
   "outputs": [],
   "source": [
    "import os\n",
    "import yaml\n",
    "import json\n",
    "import math\n",
    "import pandas as pd\n",
    "import pickle\n",
    "import random\n",
    "from tqdm.notebook import tqdm\n",
    "import matplotlib.pyplot as plt\n",
    "\n",
    "from sklearn.model_selection import train_test_split\n",
    "from sklearn.preprocessing import StandardScaler\n",
    "from sklearn.metrics import root_mean_squared_error\n",
    "from sklearn.metrics import r2_score\n",
    "\n",
    "import numpy as np\n",
    "\n",
    "import ase\n",
    "\n",
    "import torch\n",
    "import torch.nn as nn\n",
    "import torch.optim as optim\n",
    "\n",
    "import schnetpack as spk\n",
    "import schnetpack.nn as snn\n",
    "from schnetpack import properties\n",
    "from schnetpack.interfaces import AtomsConverter\n",
    "from schnetpack.transform import ASENeighborList\n",
    "\n",
    "EPS = 1e-8"
   ]
  },
  {
   "cell_type": "code",
   "execution_count": 2,
   "id": "d78d0fa7-950e-4671-8202-ef352d6cc94c",
   "metadata": {},
   "outputs": [],
   "source": [
    "def set_seed(seed=42):\n",
    "    np.random.seed(seed)\n",
    "    random.seed(seed)\n",
    "    torch.manual_seed(seed)\n",
    "    torch.cuda.manual_seed(seed)\n",
    "\n",
    "set_seed(12345)"
   ]
  },
  {
   "cell_type": "code",
   "execution_count": 3,
   "id": "fcb64e5a-4710-4daa-954e-62e5eb704dd4",
   "metadata": {},
   "outputs": [],
   "source": [
    "def get_radial_basis_by_string(radial_basis_type):\n",
    "    if radial_basis_type == \"Bessel\":\n",
    "        return snn.BesselRBF\n",
    "    elif radial_basis_type == \"Gaussian\":\n",
    "        return snn.GaussianRBF\n",
    "\n",
    "    raise ValueError(f\"Unexpected radial basis type:{radial_basis_type}\")\n",
    "\n",
    "def get_cutoff_by_string(cutoff_type):\n",
    "    if cutoff_type == \"cosine\":\n",
    "        return snn.cutoff.CosineCutoff\n",
    "\n",
    "    raise ValueError(f\"Unexpected cutoff type:{cutoff_type}\")"
   ]
  },
  {
   "cell_type": "markdown",
   "id": "cd3dc8e7-b2f1-4fcd-95e3-5c7a48a6ed02",
   "metadata": {},
   "source": [
    "## Load conformations"
   ]
  },
  {
   "cell_type": "code",
   "execution_count": 4,
   "id": "08f7b3b8-01bb-4ede-ac9c-7c9c3317a2f7",
   "metadata": {},
   "outputs": [],
   "source": [
    "def read_atoms(atoms_path, smiles2number):\n",
    "    atoms_list = []\n",
    "    for smiles, number in smiles2number.items():\n",
    "        atoms_list.append(ase.io.read(f'{atoms_path}/{number}.xyz'))\n",
    "    return atoms_list\n",
    "\n",
    "def read_atoms_db(atoms_path, smiles2number):\n",
    "    atoms_list = []\n",
    "    for smiles, number in smiles2number.items():\n",
    "        atoms_list.append(ase.io.read(f'{atoms_path}@{number}'))\n",
    "    return atoms_list"
   ]
  },
  {
   "cell_type": "code",
   "execution_count": 5,
   "id": "da414814-0795-49d6-b987-af61ad166aa8",
   "metadata": {},
   "outputs": [],
   "source": [
    "converter = AtomsConverter(\n",
    "    neighbor_list=ASENeighborList(cutoff=math.inf),\n",
    "    dtype=torch.float32,\n",
    "    device=torch.device(\"cpu\"),\n",
    ")"
   ]
  },
  {
   "cell_type": "markdown",
   "id": "f517738a-b72f-4c44-8962-4f63fa57faeb",
   "metadata": {},
   "source": [
    "### Load molecules"
   ]
  },
  {
   "cell_type": "code",
   "execution_count": 23,
   "id": "f67e563f-a020-47d2-ad6d-a685bf59dfc5",
   "metadata": {},
   "outputs": [],
   "source": [
    "with open(\"../keys_smiles.yml\") as stream:\n",
    "    try:\n",
    "        smiles2number_1 = yaml.safe_load(stream)\n",
    "    except yaml.YAMLError as exc:\n",
    "        print(exc)"
   ]
  },
  {
   "cell_type": "code",
   "execution_count": 25,
   "id": "a8b7f51f-ee5d-4c65-bcc3-766f04dd4318",
   "metadata": {},
   "outputs": [],
   "source": [
    "atoms_list = read_atoms_db('../GemNet-OC_test_opt.db', smiles2number_1)"
   ]
  },
  {
   "cell_type": "markdown",
   "id": "3ee5ded1-5382-44e6-8327-ad12c4db7efa",
   "metadata": {},
   "source": [
    "### Load solvent molecules"
   ]
  },
  {
   "cell_type": "code",
   "execution_count": 26,
   "id": "9e8d9595-3a13-46a8-9c9c-8c248d81efcb",
   "metadata": {},
   "outputs": [],
   "source": [
    "dataset = pd.read_csv('../train_split_fluor.csv')\n",
    "solvents = np.unique(dataset['Solvent'])\n",
    "smiles2number_2 = {}\n",
    "\n",
    "i = 0\n",
    "for smi in list(solvents[:-1]):\n",
    "    smiles2number_2[smi] = i\n",
    "    i += 1"
   ]
  },
  {
   "cell_type": "code",
   "execution_count": 27,
   "id": "5941b615-f49c-4806-9fb3-cb1a3e58b107",
   "metadata": {},
   "outputs": [],
   "source": [
    "solvents_list = read_atoms('../xtb_solvents', smiles2number_2)"
   ]
  },
  {
   "cell_type": "markdown",
   "id": "3a6846f3-83ca-49bf-88de-8407ecd66c41",
   "metadata": {},
   "source": [
    "## Make dataset"
   ]
  },
  {
   "cell_type": "code",
   "execution_count": 28,
   "id": "77746ace-56ff-45ed-8f45-0f5e7cb8533e",
   "metadata": {},
   "outputs": [],
   "source": [
    "def drop_extra(df, columns):\n",
    "    return df[columns]\n",
    "\n",
    "def dropna(df):\n",
    "    return df.dropna(subset=['Absorption max (nm)', 'Emission max (nm)', 'Stokes shift', 'Quantum yield'], how='all')\n",
    "\n",
    "def replace_gas(df):\n",
    "    df.loc[df['Solvent'] == 'gas', 'Solvent'] = df['Chromophore']\n",
    "    return df\n",
    "\n",
    "def remove_neg_shift(df):\n",
    "    return df[(df['Stokes shift'] >= 0.0) | (df['Stokes shift'].isna())]\n",
    "\n",
    "def nm2hz(df):\n",
    "    df_tmp = df.copy()\n",
    "    df_tmp.loc[:, 'absorption_freq'] = 3 * 10**(8+9-15) / df_tmp['Absorption max (nm)']\n",
    "    df_tmp.loc[:, 'emission_freq'] = 3 * 10**(8+9-15) / df_tmp['Emission max (nm)']\n",
    "    return df_tmp\n",
    "\n",
    "\n",
    "def make_inv_sig_q_yield(df, eps=1e-5):\n",
    "    df_tmp = df.copy()\n",
    "    df_tmp.loc[df_tmp['Quantum yield'] == 0.0, 'Quantum yield'] = eps\n",
    "    df_tmp.loc[df_tmp['Quantum yield'] == 1.0, 'Quantum yield'] = 1 - eps\n",
    "    df_tmp.loc[:, 'inv_sig_q_yield'] = np.log(df_tmp['Quantum yield']) - \\\n",
    "                 np.log(1 - df_tmp['Quantum yield'])\n",
    "    return df_tmp\n",
    "\n",
    "def delete_outliers(df, columns):\n",
    "    for column in columns:\n",
    "        print(column)\n",
    "        q1 = df[column].quantile(0.25)\n",
    "        q3 = df[column].quantile(0.75)\n",
    "        iqr = q3 - q1\n",
    "        df = df[\n",
    "            ((df[column] > q1 - 1.5 * iqr) & (df[column] < q3 + 1.5 * iqr))\n",
    "            | (df[column].isna())\n",
    "        ]\n",
    "\n",
    "        print(\"left\", q1 - 1.5 * iqr)\n",
    "        print(\"right\", q3 + 1.5 * iqr)\n",
    "        print(\"=\" * 100)\n",
    "    return df\n",
    "\n",
    "\n",
    "def preprocess_train(df):\n",
    "    df = drop_extra(df, smiles_columns + ['Absorption max (nm)', 'Emission max (nm)',\n",
    "                                          'Stokes shift', 'Quantum yield'])\n",
    "    df = dropna(df)\n",
    "    df = replace_gas(df)\n",
    "    df = remove_neg_shift(df)\n",
    "    df = nm2hz(df)\n",
    "    df = make_inv_sig_q_yield(df)\n",
    "    # df = delete_outliers(df, target_columns[:-1])\n",
    "    df = drop_extra(df, smiles_columns + target_columns)\n",
    "    return df\n",
    "\n",
    "def preprocess_test(df):\n",
    "    df = drop_extra(df, smiles_columns + ['Absorption max (nm)', 'Emission max (nm)',\n",
    "                                          'Stokes shift', 'Quantum yield'])\n",
    "    df = replace_gas(df)\n",
    "    df = remove_neg_shift(df)\n",
    "    df = nm2hz(df)\n",
    "    df = make_inv_sig_q_yield(df)\n",
    "    # df = delete_outliers(df, target_columns[:-1])\n",
    "    df = drop_extra(df, smiles_columns + target_columns)\n",
    "    return df"
   ]
  },
  {
   "cell_type": "code",
   "execution_count": 29,
   "id": "718f2ab6-5545-4dcc-91fa-40a84d6ccefb",
   "metadata": {},
   "outputs": [],
   "source": [
    "data_path = '../train_split_fluor.csv'\n",
    "\n",
    "smiles_columns = ['Chromophore', 'Solvent']\n",
    "target_columns = ['absorption_freq', 'emission_freq', 'inv_sig_q_yield']"
   ]
  },
  {
   "cell_type": "code",
   "execution_count": 30,
   "id": "3c01ee3f-69f7-478c-b41c-cc6416bf675e",
   "metadata": {},
   "outputs": [],
   "source": [
    "data_df = pd.read_csv(data_path)"
   ]
  },
  {
   "cell_type": "code",
   "execution_count": 31,
   "id": "5b2817b4-ea59-44e9-9494-d18c496c0a06",
   "metadata": {},
   "outputs": [
    {
     "data": {
      "text/plain": [
       "(18110, 5)"
      ]
     },
     "execution_count": 31,
     "metadata": {},
     "output_type": "execute_result"
    }
   ],
   "source": [
    "data_clean = preprocess_train(data_df)\n",
    "data_clean.shape"
   ]
  },
  {
   "cell_type": "code",
   "execution_count": 32,
   "id": "99a02679-23b9-4d29-85eb-fa7816bc8470",
   "metadata": {},
   "outputs": [
    {
     "data": {
      "text/plain": [
       "(1850, 16)"
      ]
     },
     "execution_count": 32,
     "metadata": {},
     "output_type": "execute_result"
    }
   ],
   "source": [
    "test_data_df = pd.read_csv('../test_split_fluor.csv')\n",
    "test_data_df.shape"
   ]
  },
  {
   "cell_type": "code",
   "execution_count": 33,
   "id": "bbbd3e53-4457-4903-90c4-14155f052c71",
   "metadata": {},
   "outputs": [
    {
     "data": {
      "text/plain": [
       "(1847, 5)"
      ]
     },
     "execution_count": 33,
     "metadata": {},
     "output_type": "execute_result"
    }
   ],
   "source": [
    "test_data_clean = preprocess_test(test_data_df)\n",
    "test_data_clean.shape"
   ]
  },
  {
   "cell_type": "code",
   "execution_count": 34,
   "id": "731c5832-1e60-4440-8ba8-821873076453",
   "metadata": {},
   "outputs": [],
   "source": [
    "def make_dataset(\n",
    "    data,\n",
    "    atoms_list,\n",
    "    solvents_list,\n",
    "    smiles_columns,\n",
    "    target_columns,\n",
    "    smiles2number_1,\n",
    "    smiles2number_2,\n",
    "):\n",
    "    confs = []\n",
    "    targets = []\n",
    "    for index, row in data.iterrows():\n",
    "        atoms_and_solvents = []\n",
    "        smiles_1 = data.loc[index, smiles_columns[0]]\n",
    "        smiles_2 = data.loc[index, smiles_columns[1]]\n",
    "            \n",
    "        if smiles_1 in smiles2number_1:\n",
    "            if smiles_2 in smiles2number_2:\n",
    "                atoms_and_solvents.append(atoms_list[smiles2number_1[smiles_1]])\n",
    "                atoms_and_solvents.append(solvents_list[smiles2number_2[smiles_2]])\n",
    "\n",
    "                confs.append(atoms_and_solvents)\n",
    "                targets.append(data.loc[index, target_columns].to_numpy())\n",
    "            elif smiles_2 == 'gas':\n",
    "                atoms_and_solvents.append(atoms_list[smiles2number_1[smiles_1]])\n",
    "                atoms_and_solvents.append(atoms_list[smiles2number_1[smiles_1]])\n",
    "\n",
    "                confs.append(atoms_and_solvents)\n",
    "                targets.append(data.loc[index, target_columns].to_numpy())\n",
    "    targets = np.array(targets)\n",
    "    return confs, targets\n",
    "        "
   ]
  },
  {
   "cell_type": "code",
   "execution_count": 35,
   "id": "b7d90811-c5e3-45cb-8fae-a072a941fffe",
   "metadata": {},
   "outputs": [],
   "source": [
    "confs, targets = make_dataset(\n",
    "    data_clean,\n",
    "    atoms_list,\n",
    "    solvents_list,\n",
    "    smiles_columns,\n",
    "    target_columns,\n",
    "    smiles2number_1,\n",
    "    smiles2number_2\n",
    ")"
   ]
  },
  {
   "cell_type": "code",
   "execution_count": 36,
   "id": "c0cb5c01-8f1c-47d0-9756-0c155d4c0ce0",
   "metadata": {},
   "outputs": [],
   "source": [
    "# место для теста"
   ]
  },
  {
   "cell_type": "code",
   "execution_count": 37,
   "id": "26234ee0-14fc-48f4-9714-ec793215ad9d",
   "metadata": {},
   "outputs": [],
   "source": [
    "seed = 12345\n",
    "\n",
    "train_confs, val_confs, train_targets, val_targets = train_test_split(\n",
    "    confs,\n",
    "    targets,\n",
    "    test_size=0.1,\n",
    "    random_state=seed\n",
    ")"
   ]
  },
  {
   "cell_type": "code",
   "execution_count": 38,
   "id": "ac86a292-a507-438f-8b7e-791c2afc19b0",
   "metadata": {
    "scrolled": true
   },
   "outputs": [],
   "source": [
    "target_scaler = StandardScaler()\n",
    "\n",
    "train_targets = target_scaler.fit_transform(train_targets)\n",
    "val_targets = target_scaler.transform(val_targets)"
   ]
  },
  {
   "cell_type": "code",
   "execution_count": 39,
   "id": "0385db7b-049f-40a4-b00f-e05c36a254db",
   "metadata": {},
   "outputs": [],
   "source": [
    "target_scaler_coefs = {\n",
    "    'scale': target_scaler.scale_,\n",
    "    'mean': target_scaler.mean_\n",
    "}\n",
    "\n",
    "with open(f\"target_scaler_coefs_{seed}.pkl\", \"wb\") as f:\n",
    "    pickle.dump(target_scaler_coefs, f)"
   ]
  },
  {
   "cell_type": "code",
   "execution_count": 40,
   "id": "021a2e21-c450-4f9d-8fac-439b99cc42d6",
   "metadata": {},
   "outputs": [],
   "source": [
    "def confs_targets_to_dset(confs, targets):\n",
    "    return [[conf, y] for conf, y in zip(confs, targets)]\n",
    "\n",
    "train_dataset = confs_targets_to_dset(train_confs, train_targets)\n",
    "val_dataset = confs_targets_to_dset(val_confs, val_targets) "
   ]
  },
  {
   "cell_type": "markdown",
   "id": "06a0edf6-2b2b-4f3f-868a-c74e886d5022",
   "metadata": {},
   "source": [
    "## Training model"
   ]
  },
  {
   "cell_type": "code",
   "execution_count": 113,
   "id": "a3c15a0c-aacc-4e4e-b8d0-c85f9672b1c2",
   "metadata": {},
   "outputs": [],
   "source": [
    "class PaiNNModel(nn.Module):\n",
    "    def __init__(\n",
    "        self,\n",
    "        repr_1,\n",
    "        repr_2,\n",
    "        mlp_layers=3,\n",
    "        mlp_in=256,\n",
    "        mlp_hidden=256,\n",
    "        mlp_dropout=0.5,\n",
    "        mlp_out = len(target_columns)\n",
    "    ):\n",
    "        super().__init__()\n",
    "\n",
    "        self.input_module = spk.atomistic.PairwiseDistances()\n",
    "        \n",
    "        self.representation_1 = repr_1\n",
    "        self.representation_2 = repr_2\n",
    "        \n",
    "        self.atomwise_1 = spk.atomistic.Atomwise(\n",
    "                n_in=self.representation_1.n_atom_basis,\n",
    "                n_out=mlp_in\n",
    "        )\n",
    "        self.atomwise_2 = spk.atomistic.Atomwise(\n",
    "                n_in=self.representation_2.n_atom_basis,\n",
    "                n_out=mlp_in\n",
    "        )\n",
    "\n",
    "        head_layers = []\n",
    "        head_layers.append(nn.SELU())\n",
    "        head_layers.append(nn.Linear(2*mlp_in, mlp_hidden))\n",
    "        head_layers.append(nn.ReLU())\n",
    "        head_layers.append(nn.Dropout(mlp_dropout))\n",
    "        for i in range(mlp_layers-1):\n",
    "            head_layers.append(nn.Linear(mlp_hidden, mlp_hidden))\n",
    "            head_layers.append(nn.ReLU())\n",
    "            head_layers.append(nn.Dropout(mlp_dropout))\n",
    "        head_layers.append(nn.Linear(mlp_hidden, mlp_out))\n",
    "        # head_layers.append(nn.SELU())\n",
    "        # head_layers.append(nn.Linear(2*mlp_in, mlp_out))\n",
    "        \n",
    "        self.head = nn.Sequential(*head_layers)\n",
    "\n",
    "        \n",
    "    def forward(self, input):\n",
    "        output_1 = self.input_module(input[0])\n",
    "        output_2 = self.input_module(input[1])\n",
    "\n",
    "        output_1 = self.representation_1(output_1)\n",
    "        output_2 = self.representation_2(output_2)\n",
    "\n",
    "        output_1 = self.atomwise_1(output_1)\n",
    "        output_2 = self.atomwise_2(output_2)\n",
    "\n",
    "        output = torch.cat([output_1['y'], output_2['y']], dim=-1)\n",
    "\n",
    "        output = self.head(output)\n",
    "        \n",
    "        return output\n",
    "    "
   ]
  },
  {
   "cell_type": "code",
   "execution_count": 114,
   "id": "ec42d96b-a5ef-47a4-904e-b4e2834a5aae",
   "metadata": {},
   "outputs": [],
   "source": [
    "def process_atoms(atoms_batch):\n",
    "    atoms_batch = converter(atoms_batch)\n",
    "    atoms_batch = {k:v.to(device) for k, v in atoms_batch.items()}\n",
    "    return atoms_batch\n",
    "\n",
    "def process_batch(batch):\n",
    "    batch_size = len(batch)\n",
    "    atoms_batch = []\n",
    "    solvents_batch = []\n",
    "    targets = np.zeros((batch_size, len(target_columns)))\n",
    "    for i in range(batch_size):\n",
    "        atoms_batch.append(batch[i][0][0])\n",
    "        solvents_batch.append(batch[i][0][1])\n",
    "        targets[i, :] = batch[i][1]\n",
    "\n",
    "    atoms_batch = process_atoms(atoms_batch)\n",
    "    solvents_batch = process_atoms(solvents_batch)\n",
    "    targets = torch.tensor(targets, dtype=torch.float32).to(device)\n",
    "    return ((atoms_batch, solvents_batch), targets)\n",
    "    "
   ]
  },
  {
   "cell_type": "code",
   "execution_count": 115,
   "id": "0c47fa92-5a45-4a63-b1a2-06778c42028a",
   "metadata": {},
   "outputs": [],
   "source": [
    "def masked_mse_loss(predictions, targets):\n",
    "    mask = ~torch.isnan(targets)\n",
    "    \n",
    "    masked_predictions = predictions[mask]\n",
    "    masked_targets = targets[mask]\n",
    "    \n",
    "    mse_loss = nn.functional.mse_loss(masked_predictions, masked_targets)\n",
    "\n",
    "    return mse_loss"
   ]
  },
  {
   "cell_type": "code",
   "execution_count": 116,
   "id": "a870dc83-dfc4-4ca6-882a-9b289335a1d8",
   "metadata": {},
   "outputs": [],
   "source": [
    "class SaveBestModel:\n",
    "    def __init__(self, save_dir, best_value=None):\n",
    "        self.save_dir = save_dir\n",
    "        \n",
    "        if best_value is None:\n",
    "            self.best_value = float('inf')\n",
    "        else:\n",
    "            self.best_value = best_value\n",
    "\n",
    "        self.last_checkpoint_path = None\n",
    "\n",
    "    def __call__(self, model, current_value,\n",
    "                 epoch, optimizer, scheduler,\n",
    "                 train_loss_history, val_loss_history):\n",
    "        if current_value < self.best_value:\n",
    "            self.best_value = current_value\n",
    "\n",
    "            state = {\n",
    "                'epoch': epoch,\n",
    "                'state_dict': model.state_dict(),\n",
    "                'optimizer': optimizer.state_dict(),\n",
    "                'scheduler': scheduler.state_dict(),\n",
    "                'train_loss_history': train_loss_history,\n",
    "                'val_loss_history': val_loss_history,\n",
    "            }\n",
    "\n",
    "            save_path = os.path.join(self.save_dir, f'epoch={epoch}-loss={self.best_value:.4f}.pt')\n",
    "            torch.save(state, save_path)\n",
    "\n",
    "            if self.last_checkpoint_path is not None and os.path.exists(self.last_checkpoint_path):\n",
    "                os.remove(self.last_checkpoint_path)\n",
    "\n",
    "            self.last_checkpoint_path = save_path\n"
   ]
  },
  {
   "cell_type": "code",
   "execution_count": 129,
   "id": "2ba385cf-2a86-413d-9b35-9e25b5328389",
   "metadata": {},
   "outputs": [],
   "source": [
    "def train_model(\n",
    "    model,\n",
    "    train_dataset,\n",
    "    val_dataset,\n",
    "    loss_fn,\n",
    "    optimizer,\n",
    "    scheduler,\n",
    "    save_best_model,\n",
    "    num_epochs=5,\n",
    "    batch_size=32\n",
    "):\n",
    "    train_loss_history = []\n",
    "    val_loss_history = []\n",
    "    \n",
    "    for epoch in range(num_epochs):\n",
    "        model.train()\n",
    "        random.shuffle(train_dataset)\n",
    "        \n",
    "        total_train_loss = 0.0\n",
    "        n_iters = 0\n",
    "        for i in tqdm(range(0, len(train_dataset), batch_size)):\n",
    "            optimizer.zero_grad()\n",
    "            \n",
    "            batch = train_dataset[i:i + batch_size]\n",
    "            batch = process_batch(batch)\n",
    "            inputs, targets = batch[0], batch[1]\n",
    "                        \n",
    "            predictions = model(inputs)\n",
    "            loss = loss_fn(predictions, targets)\n",
    "\n",
    "            loss.backward()\n",
    "            optimizer.step()\n",
    "\n",
    "            total_train_loss += loss.item()\n",
    "            n_iters += 1\n",
    "        avg_train_loss = total_train_loss / n_iters\n",
    "        train_loss_history.append(avg_train_loss)\n",
    "        \n",
    "        model.eval()\n",
    "        total_val_loss = 0.0\n",
    "        n_iters = 0\n",
    "        with torch.no_grad():\n",
    "            for i in range(0, len(val_dataset), batch_size):\n",
    "                batch = val_dataset[i:i + batch_size]\n",
    "                batch = process_batch(batch)\n",
    "                inputs, targets = batch[0], batch[1]\n",
    "                \n",
    "                predictions = model(inputs)\n",
    "                loss = loss_fn(predictions, targets)\n",
    "                \n",
    "                total_val_loss += loss.item()\n",
    "                n_iters += 1\n",
    "        avg_val_loss = total_val_loss / n_iters\n",
    "        val_loss_history.append(avg_val_loss)\n",
    "\n",
    "        scheduler.step(avg_val_loss)\n",
    "        save_best_model(model, avg_val_loss,\n",
    "                 epoch, optimizer, scheduler,\n",
    "                 train_loss_history, val_loss_history)\n",
    "\n",
    "        history = {\n",
    "            'train_loss_history': train_loss_history,\n",
    "            'val_loss_history': val_loss_history\n",
    "        }\n",
    "        with open(f'{model_dir}_history.json', 'w') as f:\n",
    "            json.dump(history, f)\n",
    "\n",
    "        print(f\"Epoch {epoch + 1}/{num_epochs}, Train Loss: {avg_train_loss:.4f}, Validation Loss: {avg_val_loss:.4f}\")\n",
    "\n",
    "    return train_loss_history, val_loss_history\n"
   ]
  },
  {
   "cell_type": "code",
   "execution_count": 130,
   "id": "12f14433-b850-4ba0-8c90-0f9859a365a5",
   "metadata": {},
   "outputs": [],
   "source": [
    "def initialize_pretrained_model(\n",
    "    ckpt_path,\n",
    "    mlp_layers,\n",
    "    mlp_in,\n",
    "    mlp_hidden,\n",
    "    mlp_dropout,\n",
    "):\n",
    "    n_atom_basis = 128\n",
    "    n_interactions = 6\n",
    "    \n",
    "    representation_1 = spk.representation.PaiNN(\n",
    "        n_atom_basis=n_atom_basis,\n",
    "        n_interactions=n_interactions,\n",
    "        radial_basis=get_radial_basis_by_string(\"Gaussian\")(n_rbf=100, cutoff=5.0),\n",
    "        cutoff_fn=get_cutoff_by_string(\"cosine\")(5.0)\n",
    "    )\n",
    "\n",
    "    representation_2 = spk.representation.PaiNN(\n",
    "        n_atom_basis=n_atom_basis,\n",
    "        n_interactions=n_interactions,\n",
    "        radial_basis=get_radial_basis_by_string(\"Gaussian\")(n_rbf=100, cutoff=5.0),\n",
    "        cutoff_fn=get_cutoff_by_string(\"cosine\")(5.0)\n",
    "    )\n",
    "\n",
    "    model_pt = torch.load(ckpt_path)['state_dict']\n",
    "\n",
    "    representation_state_dict = {k.replace('model.representation.', ''): v \\\n",
    "                                 for k, v in model_pt.items() \\\n",
    "                                 if k.startswith('model.representation.')}\n",
    "\n",
    "    representation_1.load_state_dict(representation_state_dict)\n",
    "    representation_2.load_state_dict(representation_state_dict)\n",
    "\n",
    "    model = PaiNNModel(\n",
    "        representation_1,\n",
    "        representation_2,\n",
    "        mlp_layers=3,\n",
    "        mlp_in=256,\n",
    "        mlp_hidden=256,\n",
    "        mlp_dropout=0.3,\n",
    "    ).to(device)\n",
    "    \n",
    "    return model\n",
    "\n",
    "def load_model(\n",
    "    ckpt_path,\n",
    "    mlp_layers,\n",
    "    mlp_in,\n",
    "    mlp_hidden,\n",
    "    mlp_dropout,\n",
    "):    \n",
    "    n_atom_basis = 128\n",
    "    n_interactions = 6\n",
    "    \n",
    "    representation_1 = spk.representation.PaiNN(\n",
    "        n_atom_basis=n_atom_basis,\n",
    "        n_interactions=n_interactions,\n",
    "        radial_basis=get_radial_basis_by_string(\"Gaussian\")(n_rbf=100, cutoff=5.0),\n",
    "        cutoff_fn=get_cutoff_by_string(\"cosine\")(5.0)\n",
    "    )\n",
    "\n",
    "    representation_2 = spk.representation.PaiNN(\n",
    "        n_atom_basis=n_atom_basis,\n",
    "        n_interactions=n_interactions,\n",
    "        radial_basis=get_radial_basis_by_string(\"Gaussian\")(n_rbf=100, cutoff=5.0),\n",
    "        cutoff_fn=get_cutoff_by_string(\"cosine\")(5.0)\n",
    "    )\n",
    "\n",
    "    model = PaiNNModel(\n",
    "        representation_1,\n",
    "        representation_2,\n",
    "        mlp_layers=3,\n",
    "        mlp_in=256,\n",
    "        mlp_hidden=256,\n",
    "        mlp_dropout=0.3,\n",
    "    )\n",
    "\n",
    "    model_pt = torch.load(ckpt_path)['state_dict']\n",
    "    model = model.load_state_dict(model_pt).to(device)\n",
    "    \n",
    "    return model\n",
    "\n",
    "def freeze_representations(model):\n",
    "    for param in model.representation_1.parameters():\n",
    "        param.requires_grad = False\n",
    "\n",
    "    for param in model.representation_2.parameters():\n",
    "        param.requires_grad = False\n",
    "\n",
    "    for param in model.representation_1.embedding.parameters():\n",
    "        param.requires_grad = True\n",
    "\n",
    "    for param in model.representation_2.embedding.parameters():\n",
    "        param.requires_grad = True\n"
   ]
  },
  {
   "cell_type": "code",
   "execution_count": 134,
   "id": "d90cd296-2c03-49c5-bb89-58d82d7798d0",
   "metadata": {},
   "outputs": [],
   "source": [
    "device = torch.device(\"cuda:2\")"
   ]
  },
  {
   "cell_type": "code",
   "execution_count": 135,
   "id": "d9b78008-db45-4dc9-a6ad-24d272987066",
   "metadata": {},
   "outputs": [],
   "source": [
    "model_dir = 'model_1'\n",
    "\n",
    "batch_size = 32\n",
    "N_epochs = 30"
   ]
  },
  {
   "cell_type": "code",
   "execution_count": 136,
   "id": "c609acb8-78d7-48e0-b01e-8cbf0e36c54b",
   "metadata": {},
   "outputs": [],
   "source": [
    "mlp_layers=3\n",
    "mlp_in=256\n",
    "mlp_hidden=512\n",
    "mlp_dropout=0.5"
   ]
  },
  {
   "cell_type": "code",
   "execution_count": 137,
   "id": "4519830f-15da-4420-a259-d1fc92e74114",
   "metadata": {},
   "outputs": [],
   "source": [
    "if not os.path.exists(model_dir):\n",
    "    os.makedirs(model_dir)\n",
    "\n",
    "save_best_model = SaveBestModel(model_dir)"
   ]
  },
  {
   "cell_type": "code",
   "execution_count": 138,
   "id": "f5281153-0412-435e-9412-66f32c437d7d",
   "metadata": {},
   "outputs": [],
   "source": [
    "checkpoint = '../painn_1/painn_100k_traj_10k.ckpt'\n",
    "\n",
    "model = initialize_pretrained_model(\n",
    "    checkpoint,\n",
    "    mlp_layers,\n",
    "    mlp_in,\n",
    "    mlp_hidden,\n",
    "    mlp_dropout).to(device)\n",
    "freeze_representations(model)"
   ]
  },
  {
   "cell_type": "code",
   "execution_count": 139,
   "id": "159533d1-942c-4665-9881-9fbaa79cbd21",
   "metadata": {},
   "outputs": [],
   "source": [
    "# load_path = os.path.join('model_1', 'epoch=97-loss=0.2748.pt')\n",
    "# checkpoint = torch.load(load_path)\n",
    "\n",
    "# model.load_state_dict(checkpoint['state_dict'])"
   ]
  },
  {
   "cell_type": "code",
   "execution_count": 140,
   "id": "dc164c44-01ad-4c19-bff6-43d2039db67e",
   "metadata": {},
   "outputs": [],
   "source": [
    "# load model without head\n",
    "# def get_module_dict(name):\n",
    "#     return {k.replace(f'{name}.', ''): v \\\n",
    "#                                  for k, v in model_pt.items() \\\n",
    "#                                  if k.startswith(f'{name}.')}\n",
    "\n",
    "# load_path = os.path.join('model_2', 'epoch=89-loss=0.2234.pt')\n",
    "# checkpoint = torch.load(load_path)\n",
    "# model_pt = checkpoint['state_dict']\n",
    "\n",
    "# n_atom_basis = 128\n",
    "# n_interactions = 6\n",
    "\n",
    "# representation_1 = spk.representation.PaiNN(\n",
    "#     n_atom_basis=n_atom_basis,\n",
    "#     n_interactions=n_interactions,\n",
    "#     radial_basis=get_radial_basis_by_string(\"Gaussian\")(n_rbf=100, cutoff=5.0),\n",
    "#     cutoff_fn=get_cutoff_by_string(\"cosine\")(5.0)\n",
    "# )\n",
    "\n",
    "# representation_2 = spk.representation.PaiNN(\n",
    "#     n_atom_basis=n_atom_basis,\n",
    "#     n_interactions=n_interactions,\n",
    "#     radial_basis=get_radial_basis_by_string(\"Gaussian\")(n_rbf=100, cutoff=5.0),\n",
    "#     cutoff_fn=get_cutoff_by_string(\"cosine\")(5.0)\n",
    "# )\n",
    "\n",
    "# representation_1.load_state_dict(get_module_dict('representation_1'))\n",
    "# representation_2.load_state_dict(get_module_dict('representation_2'))\n",
    "\n",
    "# model = PaiNNModel(representation_1, representation_2).to(device)\n",
    "\n",
    "# model.atomwise_1.load_state_dict(get_module_dict('atomwise_1'))\n",
    "# model.atomwise_2.load_state_dict(get_module_dict('atomwise_2'))"
   ]
  },
  {
   "cell_type": "code",
   "execution_count": 141,
   "id": "5a437814-ec94-401a-ae14-0240223f256a",
   "metadata": {},
   "outputs": [
    {
     "name": "stdout",
     "output_type": "stream",
     "text": [
      "Trainable params 486915\n"
     ]
    }
   ],
   "source": [
    "pytorch_total_params = sum(p.numel() for p in model.parameters() if p.requires_grad)\n",
    "print(f'Trainable params {pytorch_total_params}')"
   ]
  },
  {
   "cell_type": "code",
   "execution_count": 142,
   "id": "c95e7423-7fce-4260-9113-71e8dd247f47",
   "metadata": {},
   "outputs": [],
   "source": [
    "factor = 0.8\n",
    "patience = 10\n",
    "lr = 2 * 1e-4\n",
    "min_lr = 1e-6\n",
    "\n",
    "optimizer = optim.Adam(model.parameters(), lr=lr)\n",
    "\n",
    "scheduler = optim.lr_scheduler.ReduceLROnPlateau(\n",
    "    optimizer, mode='min', factor=factor, patience=patience\n",
    ")\n",
    "\n",
    "loss_fn = masked_mse_loss"
   ]
  },
  {
   "cell_type": "code",
   "execution_count": null,
   "id": "0d45a97e-5511-4bd7-bdec-fb5df1543cfe",
   "metadata": {},
   "outputs": [
    {
     "data": {
      "application/vnd.jupyter.widget-view+json": {
       "model_id": "1a1f5790475440d4889657eca2c6d8be",
       "version_major": 2,
       "version_minor": 0
      },
      "text/plain": [
       "  0%|          | 0/483 [00:00<?, ?it/s]"
      ]
     },
     "metadata": {},
     "output_type": "display_data"
    },
    {
     "name": "stdout",
     "output_type": "stream",
     "text": [
      "Epoch 1/30, Train Loss: 4.1011, Validation Loss: 0.8166\n"
     ]
    },
    {
     "data": {
      "application/vnd.jupyter.widget-view+json": {
       "model_id": "484a820709904f01a0d3b6acfc8cf6bb",
       "version_major": 2,
       "version_minor": 0
      },
      "text/plain": [
       "  0%|          | 0/483 [00:00<?, ?it/s]"
      ]
     },
     "metadata": {},
     "output_type": "display_data"
    },
    {
     "name": "stdout",
     "output_type": "stream",
     "text": [
      "Epoch 2/30, Train Loss: 0.8525, Validation Loss: 0.7196\n"
     ]
    },
    {
     "data": {
      "application/vnd.jupyter.widget-view+json": {
       "model_id": "9ccee2fcd4b14d6bada2af187483c9d5",
       "version_major": 2,
       "version_minor": 0
      },
      "text/plain": [
       "  0%|          | 0/483 [00:00<?, ?it/s]"
      ]
     },
     "metadata": {},
     "output_type": "display_data"
    }
   ],
   "source": [
    "train_loss_history, val_loss_history = train_model(model, train_dataset, val_dataset,\n",
    "            loss_fn, optimizer, scheduler, save_best_model,\n",
    "            num_epochs=N_epochs, batch_size=batch_size)"
   ]
  },
  {
   "cell_type": "code",
   "execution_count": null,
   "id": "38853d71-70b7-41b4-aca6-94415b33b1ec",
   "metadata": {},
   "outputs": [],
   "source": [
    "torch.save(model.state_dict(), model_dir + 'last.pt')\n",
    "\n",
    "history = {\n",
    "    'train_loss_history': train_loss_history,\n",
    "    'val_loss_history': val_loss_history\n",
    "}\n",
    "\n",
    "with open(f'{model_dir}_history.json', 'w') as f:\n",
    "    json.dump(history, f)"
   ]
  },
  {
   "cell_type": "code",
   "execution_count": 192,
   "id": "7eac5b07-c87c-4779-a12f-530dd14ebd51",
   "metadata": {},
   "outputs": [],
   "source": [
    "# torch.cuda.empty_cache()"
   ]
  },
  {
   "cell_type": "code",
   "execution_count": 279,
   "id": "0aac71ed-e9b8-49dd-bef7-3f4e5893a548",
   "metadata": {},
   "outputs": [],
   "source": [
    "def predict(model, dataset, scaler=None):\n",
    "    model.eval()\n",
    "\n",
    "    predictions_all = []\n",
    "    targets_all = []\n",
    "    predictions_arr = []\n",
    "    targets_arr = []\n",
    "    \n",
    "    with torch.no_grad():\n",
    "        for i in tqdm(range(0, len(dataset), batch_size)):\n",
    "            batch = dataset[i:i + batch_size]\n",
    "            batch = process_batch(batch)\n",
    "            inputs, targets = batch[0], batch[1]\n",
    "            \n",
    "            predictions = model(inputs)\n",
    "            \n",
    "            predictions_arr = predictions.detach().cpu().numpy()\n",
    "            targets_arr = targets.detach().cpu().numpy()\n",
    "            \n",
    "            predictions_all.append(predictions_arr)\n",
    "            targets_all.append(targets_arr)\n",
    "\n",
    "    predictions_all = np.concatenate(predictions_all, axis=0)\n",
    "    targets_all = np.concatenate(targets_all, axis=0)\n",
    "\n",
    "    if scaler is not None:\n",
    "        predictions_all = scaler.inverse_transform(predictions_all)\n",
    "        targets_all = scaler.inverse_transform(targets_all)\n",
    "\n",
    "    return predictions_all, targets_all\n",
    "            "
   ]
  },
  {
   "cell_type": "code",
   "execution_count": 280,
   "id": "2c946b68-9421-414c-adf5-5d7f64c564d3",
   "metadata": {},
   "outputs": [
    {
     "data": {
      "text/plain": [
       "<All keys matched successfully>"
      ]
     },
     "execution_count": 280,
     "metadata": {},
     "output_type": "execute_result"
    }
   ],
   "source": [
    "load_path = os.path.join(model_dir, 'epoch=92-loss=0.2043.pt')\n",
    "checkpoint = torch.load(load_path)\n",
    "\n",
    "model.load_state_dict(checkpoint['state_dict'])"
   ]
  },
  {
   "cell_type": "code",
   "execution_count": 281,
   "id": "009740f0-2786-40ee-82e9-9b5eadd0999f",
   "metadata": {},
   "outputs": [
    {
     "data": {
      "application/vnd.jupyter.widget-view+json": {
       "model_id": "012dbe9e59d24dfcbcb8327b4e963b41",
       "version_major": 2,
       "version_minor": 0
      },
      "text/plain": [
       "  0%|          | 0/54 [00:00<?, ?it/s]"
      ]
     },
     "metadata": {},
     "output_type": "display_data"
    }
   ],
   "source": [
    "preds, targets = predict(model, val_dataset, target_scaler)"
   ]
  },
  {
   "cell_type": "code",
   "execution_count": 282,
   "id": "14463850-1c91-4a19-9c32-cf1ffc773bd3",
   "metadata": {},
   "outputs": [],
   "source": [
    "def hz2nm(data):\n",
    "    data[:, :2] = 3 * 10**(8+9-15) / data[:, :2]\n",
    "    return data\n",
    "\n",
    "def make_q_yield(data):\n",
    "    data[:, 2] = 1/(1 + np.exp(-data[:, 2]))\n",
    "    return data\n",
    "\n",
    "def make_log_q_yield(data, eps=1e-5):\n",
    "    q_yield = data[:, 2]\n",
    "    q_yield[q_yield == 0.0] = eps\n",
    "    data[:, 2] = np.log(q_yield)\n",
    "    return data\n",
    "\n",
    "def process_pred(data):\n",
    "    data_tmp = np.copy(data)\n",
    "    data_tmp = hz2nm(data_tmp)\n",
    "    data_tmp = make_q_yield(data_tmp)\n",
    "    data_tmp = make_log_q_yield(data_tmp)\n",
    "    return data_tmp\n",
    "\n",
    "def rmsd(pred, target):\n",
    "    mask = ~np.isnan(pred) & ~np.isnan(target)\n",
    "    return root_mean_squared_error(pred[mask], target[mask])\n",
    "\n",
    "def r2(pred, target):\n",
    "    mask = ~np.isnan(pred) & ~np.isnan(target)\n",
    "    return r2_score(pred[mask], target[mask])"
   ]
  },
  {
   "cell_type": "code",
   "execution_count": 283,
   "id": "bc7481a6-5c45-4fec-acf2-8bea9bae5e17",
   "metadata": {},
   "outputs": [],
   "source": [
    "preds_processed = process_pred(preds)\n",
    "targets_processed = process_pred(targets)"
   ]
  },
  {
   "cell_type": "code",
   "execution_count": 284,
   "id": "fbe29263-59c5-4bdf-be8f-39832e3b0f26",
   "metadata": {},
   "outputs": [
    {
     "name": "stdout",
     "output_type": "stream",
     "text": [
      "RMSD Absorption max, nm: 83.52676391601562\n",
      "RMSD Emission max, nm: 34.83814239501953\n",
      "RMSD Log quantum yield: 1.2763971090316772\n"
     ]
    }
   ],
   "source": [
    "print(f\"RMSD Absorption max, nm: {rmsd(preds_processed[:, 0], targets_processed[:, 0])}\")\n",
    "print(f\"RMSD Emission max, nm: {rmsd(preds_processed[:, 1], targets_processed[:, 1])}\")\n",
    "print(f\"RMSD Log quantum yield: {rmsd(preds_processed[:, 2], targets_processed[:, 2])}\")"
   ]
  },
  {
   "cell_type": "code",
   "execution_count": 285,
   "id": "de53f393-ba01-40d1-b14f-3dc413e0d918",
   "metadata": {},
   "outputs": [
    {
     "name": "stdout",
     "output_type": "stream",
     "text": [
      "R2 Absorption max: 0.5916072130203247\n",
      "R2 Emission max: 0.8519306182861328\n",
      "R2 Log quantum yield: 0.3653085231781006\n"
     ]
    }
   ],
   "source": [
    "print(f\"R2 Absorption max: {r2(preds_processed[:, 0], targets_processed[:, 0])}\")\n",
    "print(f\"R2 Emission max: {r2(preds_processed[:, 1], targets_processed[:, 1])}\")\n",
    "print(f\"R2 Log quantum yield: {r2(preds_processed[:, 2], targets_processed[:, 2])}\")"
   ]
  },
  {
   "cell_type": "code",
   "execution_count": 202,
   "id": "075b72df-73c5-42ed-b1ba-13adc8a5bc84",
   "metadata": {},
   "outputs": [],
   "source": []
  },
  {
   "cell_type": "code",
   "execution_count": 228,
   "id": "5e8624a6-adf6-4084-b842-407554feee6b",
   "metadata": {},
   "outputs": [
    {
     "data": {
      "image/png": "[encoded data removed]",
      "text/plain": [
       "<Figure size 640x480 with 1 Axes>"
      ]
     },
     "metadata": {},
     "output_type": "display_data"
    }
   ],
   "source": [
    "plt.hist(preds[:, 2], bins=20)\n",
    "plt.show()"
   ]
  },
  {
   "cell_type": "code",
   "execution_count": 227,
   "id": "ebf1e432-8e81-48c1-92cf-33c9b5d08a0a",
   "metadata": {},
   "outputs": [
    {
     "data": {
      "image/png": "[encoded data removed]",
      "text/plain": [
       "<Figure size 640x480 with 1 Axes>"
      ]
     },
     "metadata": {},
     "output_type": "display_data"
    }
   ],
   "source": [
    "plt.hist(targets[:, 2], bins=20)\n",
    "plt.show()"
   ]
  },
  {
   "cell_type": "code",
   "execution_count": 224,
   "id": "17fcf09a-644a-479c-a158-cfdbd5527535",
   "metadata": {},
   "outputs": [
    {
     "name": "stdout",
     "output_type": "stream",
     "text": [
      "R2 Absorption max: 0.80356365442276\n",
      "R2 Emission max: 0.7671544551849365\n",
      "R2 Log quantum yield: 0.09194207191467285\n"
     ]
    }
   ],
   "source": [
    "print(f\"R2 Absorption max: {r2(preds[:, 0], targets[:, 0])}\")\n",
    "print(f\"R2 Emission max: {r2(preds[:, 1], targets[:, 1])}\")\n",
    "print(f\"R2 Log quantum yield: {r2(preds[:, 2], targets[:, 2])}\")"
   ]
  },
  {
   "cell_type": "code",
   "execution_count": 207,
   "id": "ebee46a2-092b-4862-ab6a-ab77def1cd21",
   "metadata": {},
   "outputs": [
    {
     "data": {
      "image/png": "[encoded data removed]",
      "text/plain": [
       "<Figure size 640x480 with 1 Axes>"
      ]
     },
     "metadata": {},
     "output_type": "display_data"
    }
   ],
   "source": [
    "plt.plot(checkpoint['val_loss_history'], label='Val')\n",
    "plt.plot(checkpoint['train_loss_history'], label='Train')\n",
    "plt.legend()\n",
    "plt.show()"
   ]
  },
  {
   "cell_type": "code",
   "execution_count": 287,
   "id": "af5e31f5-de04-4cde-bcef-a9408ac76a9f",
   "metadata": {},
   "outputs": [
    {
     "data": {
      "image/png": "[encoded data removed]",
      "text/plain": [
       "<Figure size 640x480 with 1 Axes>"
      ]
     },
     "metadata": {},
     "output_type": "display_data"
    }
   ],
   "source": [
    "plt.plot(checkpoint['val_loss_history'], label='Val')\n",
    "plt.plot(checkpoint['train_loss_history'], label='Train')\n",
    "plt.legend()\n",
    "plt.show()"
   ]
  },
  {
   "cell_type": "code",
   "execution_count": null,
   "id": "d868a6dc-5fcd-4405-8289-2def277f0b1f",
   "metadata": {},
   "outputs": [],
   "source": []
  }
 ],
 "metadata": {
  "kernelspec": {
   "display_name": "Python 3 (ipykernel)",
   "language": "python",
   "name": "python3"
  },
  "language_info": {
   "codemirror_mode": {
    "name": "ipython",
    "version": 3
   },
   "file_extension": ".py",
   "mimetype": "text/x-python",
   "name": "python",
   "nbconvert_exporter": "python",
   "pygments_lexer": "ipython3",
   "version": "3.12.4"
  }
 },
 "nbformat": 4,
 "nbformat_minor": 5
}
