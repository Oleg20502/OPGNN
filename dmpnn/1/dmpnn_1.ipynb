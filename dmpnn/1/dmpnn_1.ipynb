{
 "cells": [
  {
   "cell_type": "markdown",
   "metadata": {},
   "source": [
    "# Import packages"
   ]
  },
  {
   "cell_type": "code",
   "execution_count": 1,
   "metadata": {},
   "outputs": [],
   "source": [
    "import os\n",
    "import csv\n",
    "from pathlib import Path\n",
    "from copy import deepcopy\n",
    "import time\n",
    "from tqdm import tqdm\n",
    "import pandas as pd\n",
    "import numpy as np\n",
    "import matplotlib.pyplot as plt\n",
    "\n",
    "import joblib\n",
    "import pickle\n",
    "\n",
    "import torch\n",
    "from lightning import pytorch as pl\n",
    "from lightning.pytorch.callbacks.early_stopping import EarlyStopping\n",
    "from lightning.pytorch.callbacks import ModelCheckpoint\n",
    "from lightning.pytorch.callbacks import Callback\n",
    "\n",
    "from chemprop import data, featurizers, models, nn\n",
    "\n",
    "from hyperopt import STATUS_OK, Trials, fmin, hp, tpe\n",
    "from hyperopt.pyll.base import scope\n",
    "\n",
    "import warnings\n",
    "warnings.filterwarnings(\"ignore\", \".*Consider increasing the value of the `num_workers` argument*\")\n",
    "\n",
    "import logging\n",
    "\n",
    "# logging.getLogger('lightning').setLevel(0)\n",
    "\n",
    "# configure logging at the root level of Lightning\n",
    "# logging.getLogger(\"lightning.pytorch\").setLevel(logging.ERROR)\n",
    "\n",
    "# configure logging on module level, redirect to file\n",
    "# logger = logging.getLogger(\"lightning.pytorch.core\")\n",
    "# logger.addHandler(logging.FileHandler(\"core.log\"))\n",
    "\n",
    "# logging.getLogger(\"lightning.pytorch.utilities.rank_zero\").setLevel(logging.ERROR)\n",
    "# logging.getLogger(\"lightning.pytorch.accelerators.cuda\").setLevel(logging.ERROR)\n",
    "\n",
    "# logging.getLogger(\"lightning.fabric.plugins.environments.slurm\").setLevel(logging.ERROR)\n",
    "# logging.getLogger(\"lightning.pytorch.callbacks.model_checkpoint\").setLevel(logging.ERROR)"
   ]
  },
  {
   "cell_type": "code",
   "execution_count": 2,
   "metadata": {},
   "outputs": [],
   "source": [
    "from sklearn.preprocessing import StandardScaler\n",
    "from sklearn.pipeline import Pipeline\n",
    "from sklearn.model_selection import train_test_split\n",
    "from sklearn.model_selection import GridSearchCV\n",
    "from sklearn.model_selection import cross_val_score\n",
    "from sklearn.model_selection import cross_validate\n",
    "from sklearn.ensemble import RandomForestRegressor\n",
    "from sklearn.ensemble import GradientBoostingRegressor\n",
    "from sklearn.metrics import root_mean_squared_error\n",
    "from sklearn.metrics import r2_score\n",
    "\n",
    "from sklearn.decomposition import TruncatedSVD\n",
    "from sklearn.decomposition import PCA\n",
    "from sklearn.manifold import TSNE\n",
    "from sklearn.feature_selection import SelectKBest\n",
    "from sklearn.feature_selection import RFE\n",
    "from sklearn.feature_selection import SelectFromModel\n",
    "\n",
    "# from xgboost import XGBRegressor\n",
    "\n",
    "# from skopt import BayesSearchCV\n",
    "# from skopt.space import Real, Categorical, Integer\n",
    "# from skopt.plots import plot_objective\n",
    "# from skopt.plots import plot_convergence"
   ]
  },
  {
   "cell_type": "markdown",
   "metadata": {},
   "source": [
    "## Load data"
   ]
  },
  {
   "cell_type": "code",
   "execution_count": 3,
   "metadata": {},
   "outputs": [],
   "source": [
    "chemprop_dir = Path.cwd().parent\n",
    "data_path = '../train_split_fluor.csv'\n",
    "\n",
    "smiles_columns = ['Chromophore', 'Solvent']\n",
    "target_columns = ['Absorption max (nm)', 'Emission max (nm)', 'log qyield']\n",
    "# target_columns = ['Quantum yield']"
   ]
  },
  {
   "cell_type": "code",
   "execution_count": 4,
   "metadata": {},
   "outputs": [],
   "source": [
    "num_workers = 0 # number of workers for dataloader. 0 means using main process for data loading\n",
    "batch_size = 512"
   ]
  },
  {
   "cell_type": "code",
   "execution_count": 5,
   "metadata": {},
   "outputs": [],
   "source": [
    "data_df = pd.read_csv(data_path)"
   ]
  },
  {
   "cell_type": "markdown",
   "metadata": {},
   "source": [
    "## Preprocess data"
   ]
  },
  {
   "cell_type": "code",
   "execution_count": 6,
   "metadata": {},
   "outputs": [],
   "source": [
    "def dropna(df):\n",
    "    return df.dropna(subset=['Absorption max (nm)', 'Emission max (nm)', 'Stokes shift', 'Quantum yield'], how='all')\n",
    "\n",
    "def replace_gas(df):\n",
    "    df.loc[df['Solvent'] == 'gas', 'Solvent'] = df['Chromophore']\n",
    "    return df\n",
    "\n",
    "def remove_neg_shift(df):\n",
    "    return df[(df['Stokes shift'] >= 0.0) | (df['Stokes shift'].isna())]\n",
    "\n",
    "def make_log_qyield(df):\n",
    "    df_tmp = df.copy()\n",
    "    df_tmp.loc[df_tmp['Quantum yield'] == 0.0, 'Quantum yield'] = 1e-5\n",
    "    df_tmp.loc[:, 'log qyield'] = np.log(df_tmp['Quantum yield'])\n",
    "    return df_tmp\n",
    "\n",
    "def preprocess_data(df):\n",
    "    df = dropna(df)\n",
    "    df = replace_gas(df)\n",
    "    df = remove_neg_shift(df)\n",
    "    df = make_log_qyield(df)\n",
    "    return df"
   ]
  },
  {
   "cell_type": "code",
   "execution_count": 7,
   "metadata": {},
   "outputs": [
    {
     "data": {
      "text/plain": [
       "(18110, 17)"
      ]
     },
     "execution_count": 7,
     "metadata": {},
     "output_type": "execute_result"
    }
   ],
   "source": [
    "data_clean = preprocess_data(data_df)\n",
    "data_clean.shape"
   ]
  },
  {
   "cell_type": "code",
   "execution_count": 8,
   "metadata": {},
   "outputs": [
    {
     "data": {
      "text/plain": [
       "(1850, 16)"
      ]
     },
     "execution_count": 8,
     "metadata": {},
     "output_type": "execute_result"
    }
   ],
   "source": [
    "test_data_df = pd.read_csv('../test_split_fluor.csv')\n",
    "test_data_df.shape"
   ]
  },
  {
   "cell_type": "code",
   "execution_count": 9,
   "metadata": {},
   "outputs": [
    {
     "data": {
      "text/plain": [
       "(1850, 17)"
      ]
     },
     "execution_count": 9,
     "metadata": {},
     "output_type": "execute_result"
    }
   ],
   "source": [
    "test_data_clean = replace_gas(test_data_df)\n",
    "test_data_clean = make_log_qyield(test_data_clean)\n",
    "test_data_clean.shape"
   ]
  },
  {
   "cell_type": "markdown",
   "metadata": {},
   "source": [
    "### Prepare data for training"
   ]
  },
  {
   "cell_type": "code",
   "execution_count": 10,
   "metadata": {},
   "outputs": [],
   "source": [
    "smiss = data_clean.loc[:, smiles_columns].values\n",
    "ys = data_clean.loc[:, target_columns].values"
   ]
  },
  {
   "cell_type": "code",
   "execution_count": 11,
   "metadata": {},
   "outputs": [],
   "source": [
    "test_smiss = test_data_clean.loc[:, smiles_columns].values\n",
    "test_ys = test_data_clean.loc[:, target_columns].values"
   ]
  },
  {
   "cell_type": "code",
   "execution_count": 12,
   "metadata": {},
   "outputs": [
    {
     "data": {
      "text/plain": [
       "(18110, 2)"
      ]
     },
     "execution_count": 12,
     "metadata": {},
     "output_type": "execute_result"
    }
   ],
   "source": [
    "smiss.shape"
   ]
  },
  {
   "cell_type": "code",
   "execution_count": 13,
   "metadata": {},
   "outputs": [],
   "source": [
    "all_data = [[data.MoleculeDatapoint.from_smi(smis[0], y) for smis, y in zip(smiss, ys)]]\n",
    "all_data += [[data.MoleculeDatapoint.from_smi(smis[i]) for smis in smiss] for i in range(1, len(smiles_columns))]"
   ]
  },
  {
   "cell_type": "code",
   "execution_count": 14,
   "metadata": {},
   "outputs": [],
   "source": [
    "test_data = [[data.MoleculeDatapoint.from_smi(smis[0], y) for smis, y in zip(test_smiss, test_ys)]]\n",
    "test_data += [[data.MoleculeDatapoint.from_smi(smis[i]) for smis in test_smiss] for i in range(1, len(smiles_columns))]"
   ]
  },
  {
   "cell_type": "code",
   "execution_count": 15,
   "metadata": {},
   "outputs": [],
   "source": [
    "component_to_split_by = 1\n",
    "mols = [d.mol for d in all_data[component_to_split_by]]\n",
    "train_indices, val_indices, test_indices = data.make_split_indices(mols, \"random\", (0.9, 0.05, 0.05))\n",
    "val_indices += test_indices\n",
    "train_data, val_data, _ = data.split_data_by_indices(\n",
    "    all_data, train_indices, val_indices, test_indices\n",
    ")"
   ]
  },
  {
   "cell_type": "code",
   "execution_count": 16,
   "metadata": {},
   "outputs": [
    {
     "data": {
      "text/plain": [
       "18110"
      ]
     },
     "execution_count": 16,
     "metadata": {},
     "output_type": "execute_result"
    }
   ],
   "source": [
    "len(train_data[0]) + len(val_data[0])"
   ]
  },
  {
   "cell_type": "code",
   "execution_count": 17,
   "metadata": {},
   "outputs": [],
   "source": [
    "featurizer = featurizers.SimpleMoleculeMolGraphFeaturizer()\n",
    "\n",
    "train_datasets = [data.MoleculeDataset(train_data[i], featurizer) for i in range(len(smiles_columns))]\n",
    "val_datasets = [data.MoleculeDataset(val_data[i], featurizer) for i in range(len(smiles_columns))]\n",
    "test_datasets = [data.MoleculeDataset(test_data[i], featurizer) for i in range(len(smiles_columns))]"
   ]
  },
  {
   "cell_type": "code",
   "execution_count": 18,
   "metadata": {},
   "outputs": [],
   "source": [
    "train_mcdset = data.MulticomponentDataset(train_datasets)\n",
    "\n",
    "scaler = train_mcdset.normalize_targets()\n",
    "\n",
    "val_mcdset = data.MulticomponentDataset(val_datasets)\n",
    "val_mcdset.normalize_targets(scaler)\n",
    "\n",
    "test_mcdset = data.MulticomponentDataset(test_datasets)"
   ]
  },
  {
   "cell_type": "code",
   "execution_count": 19,
   "metadata": {},
   "outputs": [],
   "source": [
    "train_loader = data.build_dataloader(train_mcdset, batch_size=batch_size)\n",
    "val_loader = data.build_dataloader(val_mcdset, shuffle=False, batch_size=batch_size)\n",
    "test_loader = data.build_dataloader(test_mcdset, shuffle=False, batch_size=batch_size)"
   ]
  },
  {
   "cell_type": "code",
   "execution_count": 20,
   "metadata": {},
   "outputs": [],
   "source": [
    "batch = next(iter(val_loader))"
   ]
  },
  {
   "cell_type": "markdown",
   "metadata": {},
   "source": [
    "## Training"
   ]
  },
  {
   "cell_type": "code",
   "execution_count": 21,
   "metadata": {},
   "outputs": [
    {
     "data": {
      "text/plain": [
       "MulticomponentMPNN(\n",
       "  (message_passing): MulticomponentMessagePassing(\n",
       "    (blocks): ModuleList(\n",
       "      (0-1): 2 x BondMessagePassing(\n",
       "        (W_i): Linear(in_features=86, out_features=512, bias=True)\n",
       "        (W_h): Linear(in_features=512, out_features=512, bias=True)\n",
       "        (W_o): Linear(in_features=584, out_features=512, bias=True)\n",
       "        (dropout): Dropout(p=0.1, inplace=False)\n",
       "        (tau): ReLU()\n",
       "        (V_d_transform): Identity()\n",
       "        (graph_transform): Identity()\n",
       "      )\n",
       "    )\n",
       "  )\n",
       "  (agg): MeanAggregation()\n",
       "  (bn): BatchNorm1d(1024, eps=1e-05, momentum=0.1, affine=True, track_running_stats=True)\n",
       "  (predictor): RegressionFFN(\n",
       "    (ffn): MLP(\n",
       "      (0): Sequential(\n",
       "        (0): Linear(in_features=1024, out_features=512, bias=True)\n",
       "      )\n",
       "      (1): Sequential(\n",
       "        (0): ReLU()\n",
       "        (1): Dropout(p=0.5, inplace=False)\n",
       "        (2): Linear(in_features=512, out_features=512, bias=True)\n",
       "      )\n",
       "      (2): Sequential(\n",
       "        (0): ReLU()\n",
       "        (1): Dropout(p=0.5, inplace=False)\n",
       "        (2): Linear(in_features=512, out_features=512, bias=True)\n",
       "      )\n",
       "      (3): Sequential(\n",
       "        (0): ReLU()\n",
       "        (1): Dropout(p=0.5, inplace=False)\n",
       "        (2): Linear(in_features=512, out_features=512, bias=True)\n",
       "      )\n",
       "      (4): Sequential(\n",
       "        (0): ReLU()\n",
       "        (1): Dropout(p=0.5, inplace=False)\n",
       "        (2): Linear(in_features=512, out_features=3, bias=True)\n",
       "      )\n",
       "    )\n",
       "    (criterion): MSELoss(task_weights=[[1.0, 1.0, 1.0]])\n",
       "    (output_transform): UnscaleTransform()\n",
       "  )\n",
       "  (X_d_transform): Identity()\n",
       ")"
      ]
     },
     "execution_count": 21,
     "metadata": {},
     "output_type": "execute_result"
    }
   ],
   "source": [
    "mcmp = nn.MulticomponentMessagePassing(\n",
    "    blocks=[\n",
    "        nn.BondMessagePassing(\n",
    "                d_h=512,\n",
    "                dropout=0.1,\n",
    "                depth=3,\n",
    "                bias=True\n",
    "            )\n",
    "        for _ in range(len(smiles_columns))],\n",
    "    n_components=len(smiles_columns),\n",
    ")\n",
    "\n",
    "output_transform = nn.UnscaleTransform.from_standard_scaler(scaler)\n",
    "\n",
    "ffn = nn.RegressionFFN(\n",
    "    n_tasks=len(target_columns),\n",
    "    output_transform=output_transform,\n",
    "    input_dim=mcmp.output_dim,\n",
    "    hidden_dim=512,\n",
    "    n_layers=4,\n",
    "    dropout=0.5,\n",
    "    activation=\"relu\"\n",
    ")\n",
    "\n",
    "mpnn = models.MulticomponentMPNN(\n",
    "    mcmp,\n",
    "    nn.MeanAggregation(),\n",
    "    ffn,\n",
    "    batch_norm=True,\n",
    "    warmup_epochs=5,\n",
    "    # init_lr=1e-5,\n",
    "    max_lr=1e-3,\n",
    "    # final_lr=1e-4,\n",
    "    metrics=[nn.metrics.RMSEMetric()],\n",
    ")\n",
    "\n",
    "mpnn"
   ]
  },
  {
   "cell_type": "markdown",
   "metadata": {},
   "source": [
    "# Set up trainer"
   ]
  },
  {
   "cell_type": "code",
   "execution_count": 268,
   "metadata": {},
   "outputs": [
    {
     "name": "stderr",
     "output_type": "stream",
     "text": [
      "GPU available: True (cuda), used: True\n",
      "TPU available: False, using: 0 TPU cores\n",
      "HPU available: False, using: 0 HPUs\n"
     ]
    }
   ],
   "source": [
    "checkpoint_cb = ModelCheckpoint(\n",
    "    save_top_k=3,\n",
    "    monitor=\"val_loss\",\n",
    "    mode=\"min\",\n",
    "    dirpath=\"model_2\",\n",
    "    filename=\"{epoch:03d}-{val_loss:.3f}\"\n",
    ")\n",
    "\n",
    "earlystopping_cb = EarlyStopping(\n",
    "    monitor=\"val_loss\",\n",
    "    mode=\"min\",\n",
    "    patience=15,\n",
    "    min_delta=0.0\n",
    ")\n",
    "\n",
    "# class MetricTracker(Callback):\n",
    "#     def __init__(self):\n",
    "#         self.collection = []\n",
    "    \n",
    "#     def on_validation_batch_end(trainer, module, outputs, ...):\n",
    "#         vacc = outputs['val_acc'] # you can access them here\n",
    "#         self.collection.append(vacc) # track them\n",
    "    \n",
    "#     def on_validation_epoch_end(trainer, module):\n",
    "#         elogs = trainer.logged_metrics # access it here\n",
    "#         self.collection.append(elogs)\n",
    "#         # do whatever is needed\n",
    "\n",
    "\n",
    "trainer = pl.Trainer(\n",
    "    logger=True,\n",
    "    enable_progress_bar=True,\n",
    "    accelerator=\"cuda\",\n",
    "    devices=[0],\n",
    "    min_epochs=5,\n",
    "    max_epochs=200,\n",
    "    callbacks=[checkpoint_cb, earlystopping_cb],\n",
    ")"
   ]
  },
  {
   "cell_type": "markdown",
   "metadata": {},
   "source": [
    "# Start training"
   ]
  },
  {
   "cell_type": "code",
   "execution_count": 269,
   "metadata": {
    "scrolled": true
   },
   "outputs": [
    {
     "name": "stderr",
     "output_type": "stream",
     "text": [
      "LOCAL_RANK: 0 - CUDA_VISIBLE_DEVICES: [0,1,2,3]\n",
      "Loading `train_dataloader` to estimate number of stepping batches.\n",
      "/home/kashurin/soft/miniconda3/envs/chemprop/lib/python3.11/site-packages/lightning/pytorch/loops/fit_loop.py:298: The number of training batches (32) is smaller than the logging interval Trainer(log_every_n_steps=50). Set a lower value for log_every_n_steps if you want to see logs for the training epoch.\n",
      "\n",
      "  | Name            | Type                         | Params | Mode \n",
      "-------------------------------------------------------------------------\n",
      "0 | message_passing | MulticomponentMessagePassing | 1.2 M  | train\n",
      "1 | agg             | MeanAggregation              | 0      | train\n",
      "2 | bn              | BatchNorm1d                  | 2.0 K  | train\n",
      "3 | predictor       | RegressionFFN                | 1.3 M  | train\n",
      "4 | X_d_transform   | Identity                     | 0      | train\n",
      "-------------------------------------------------------------------------\n",
      "2.5 M     Trainable params\n",
      "0         Non-trainable params\n",
      "2.5 M     Total params\n",
      "10.119    Total estimated model params size (MB)\n",
      "37        Modules in train mode\n",
      "0         Modules in eval mode\n"
     ]
    },
    {
     "name": "stdout",
     "output_type": "stream",
     "text": [
      "Epoch 199: 100%|██████████| 32/32 [00:18<00:00,  1.72it/s, v_num=7, train_loss=0.0678, val_loss=0.342]"
     ]
    },
    {
     "name": "stderr",
     "output_type": "stream",
     "text": [
      "`Trainer.fit` stopped: `max_epochs=200` reached.\n"
     ]
    },
    {
     "name": "stdout",
     "output_type": "stream",
     "text": [
      "Epoch 199: 100%|██████████| 32/32 [00:18<00:00,  1.70it/s, v_num=7, train_loss=0.0678, val_loss=0.342]\n"
     ]
    }
   ],
   "source": [
    "trainer.fit(mpnn, train_loader, val_loader)"
   ]
  },
  {
   "cell_type": "code",
   "execution_count": 270,
   "metadata": {},
   "outputs": [
    {
     "data": {
      "text/plain": [
       "tensor(0.3416, device='cuda:0')"
      ]
     },
     "execution_count": 270,
     "metadata": {},
     "output_type": "execute_result"
    }
   ],
   "source": [
    "earlystopping_cb.best_score"
   ]
  },
  {
   "cell_type": "code",
   "execution_count": 271,
   "metadata": {},
   "outputs": [],
   "source": [
    "# %reload_ext tensorboard\n",
    "# %tensorboard --logdir lightning_logs"
   ]
  },
  {
   "cell_type": "markdown",
   "metadata": {},
   "source": [
    "### Test results"
   ]
  },
  {
   "cell_type": "code",
   "execution_count": 273,
   "metadata": {},
   "outputs": [
    {
     "name": "stderr",
     "output_type": "stream",
     "text": [
      "Restoring states from the checkpoint path at /home/kashurin/gnn_1/model_2/epoch=199-val_loss=0.342.ckpt\n",
      "LOCAL_RANK: 0 - CUDA_VISIBLE_DEVICES: [0,1,2,3]\n",
      "Loaded model weights from the checkpoint at /home/kashurin/gnn_1/model_2/epoch=199-val_loss=0.342.ckpt\n"
     ]
    },
    {
     "name": "stdout",
     "output_type": "stream",
     "text": [
      "Testing DataLoader 0: 100%|██████████| 4/4 [00:01<00:00,  2.77it/s]\n",
      "────────────────────────────────────────────────────────────────────────────────────────────────────────────────────────\n",
      "       Test metric             DataLoader 0\n",
      "────────────────────────────────────────────────────────────────────────────────────────────────────────────────────────\n",
      "batch_averaged_test/rmse    19.345558166503906\n",
      "────────────────────────────────────────────────────────────────────────────────────────────────────────────────────────\n"
     ]
    }
   ],
   "source": [
    "ckpt_path = [None, 'model_'][0]\n",
    "if ckpt_path is None:\n",
    "    ckpt_path = 'best'\n",
    "results = trainer.test(mpnn, test_loader, ckpt_path=ckpt_path)"
   ]
  },
  {
   "cell_type": "code",
   "execution_count": 274,
   "metadata": {},
   "outputs": [
    {
     "data": {
      "text/plain": [
       "[{'batch_averaged_test/rmse': 19.345558166503906}]"
      ]
     },
     "execution_count": 274,
     "metadata": {},
     "output_type": "execute_result"
    }
   ],
   "source": [
    "results"
   ]
  },
  {
   "cell_type": "code",
   "execution_count": 275,
   "metadata": {},
   "outputs": [
    {
     "data": {
      "text/plain": [
       "'/home/kashurin/gnn_1/model_2/epoch=199-val_loss=0.342.ckpt'"
      ]
     },
     "execution_count": 275,
     "metadata": {},
     "output_type": "execute_result"
    }
   ],
   "source": [
    "checkpoint_cb.best_model_path"
   ]
  },
  {
   "cell_type": "code",
   "execution_count": 23,
   "metadata": {},
   "outputs": [
    {
     "name": "stderr",
     "output_type": "stream",
     "text": [
      "/home/kashurin/soft/miniconda3/envs/chemprop/lib/python3.11/site-packages/lightning/fabric/plugins/environments/slurm.py:204: The `srun` command is available on your system but is not used. HINT: If your intention is to run Lightning on SLURM, prepend your python command with `srun` like so: srun python /home/kashurin/soft/miniconda3/envs/chemprop/lib/pyt ...\n",
      "GPU available: True (cuda), used: True\n",
      "TPU available: False, using: 0 TPU cores\n",
      "HPU available: False, using: 0 HPUs\n",
      "/home/kashurin/soft/miniconda3/envs/chemprop/lib/python3.11/site-packages/lightning/pytorch/trainer/connectors/logger_connector/logger_connector.py:75: Starting from v1.9.0, `tensorboardX` has been removed as a dependency of the `lightning.pytorch` package, due to potential conflicts with other packages in the ML ecosystem. For this reason, `logger=True` will use `CSVLogger` as the default logger, unless the `tensorboard` or `tensorboardX` packages are found. Please `pip install lightning[extra]` or one of them to enable TensorBoard support by default\n",
      "Restoring states from the checkpoint path at /home/kashurin/gnn_1/model_2/epoch=199-val_loss=0.342.ckpt\n",
      "LOCAL_RANK: 0 - CUDA_VISIBLE_DEVICES: [0,1,2,3]\n",
      "Loaded model weights from the checkpoint at /home/kashurin/gnn_1/model_2/epoch=199-val_loss=0.342.ckpt\n"
     ]
    },
    {
     "data": {
      "application/vnd.jupyter.widget-view+json": {
       "model_id": "359757cc643449dbbdc3fa552664a130",
       "version_major": 2,
       "version_minor": 0
      },
      "text/plain": [
       "Predicting: |                                                                                                |…"
      ]
     },
     "metadata": {},
     "output_type": "display_data"
    }
   ],
   "source": [
    "# ckpt_path = checkpoint_cb.best_model_path\n",
    "ckpt_path = '/home/kashurin/gnn_1/model_2/epoch=199-val_loss=0.342.ckpt'\n",
    "\n",
    "mpnn_predict = mpnn\n",
    "\n",
    "with torch.inference_mode():\n",
    "    trainer = pl.Trainer(\n",
    "        logger=None,\n",
    "        enable_progress_bar=True,\n",
    "        devices=[0]\n",
    "    )\n",
    "    testing_preds = trainer.predict(mpnn_predict, test_loader, ckpt_path=ckpt_path)\n",
    "\n",
    "testing_preds = np.concatenate(testing_preds, axis=0)"
   ]
  },
  {
   "cell_type": "code",
   "execution_count": 24,
   "metadata": {},
   "outputs": [],
   "source": [
    "def rmsd(pred, target):\n",
    "    mask = ~np.isnan(pred) & ~np.isnan(target)\n",
    "    return root_mean_squared_error(pred[mask], target[mask])"
   ]
  },
  {
   "cell_type": "code",
   "execution_count": 25,
   "metadata": {},
   "outputs": [
    {
     "name": "stdout",
     "output_type": "stream",
     "text": [
      "RMSD Absorption max, nm: 21.02335147483124\n",
      "RMSD Emission max, nm: 25.32811689562642\n",
      "RMSD Log quantum yield, nm: 0.9610144623119536\n"
     ]
    }
   ],
   "source": [
    "print(f\"RMSD Absorption max, nm: {rmsd(testing_preds[:, 0], test_ys[:, 0])}\")\n",
    "print(f\"RMSD Emission max, nm: {rmsd(testing_preds[:, 1], test_ys[:, 1])}\")\n",
    "print(f\"RMSD Log quantum yield, nm: {rmsd(testing_preds[:, 2], test_ys[:, 2])}\")"
   ]
  },
  {
   "cell_type": "code",
   "execution_count": 279,
   "metadata": {},
   "outputs": [
    {
     "data": {
      "image/png": "[encoded data removed]",
      "text/plain": [
       "<Figure size 640x480 with 1 Axes>"
      ]
     },
     "metadata": {},
     "output_type": "display_data"
    }
   ],
   "source": [
    "plt.scatter(testing_preds[:, 0], test_ys[:, 0])\n",
    "plt.xlabel('pred')\n",
    "plt.ylabel('target')\n",
    "plt.show()"
   ]
  },
  {
   "cell_type": "code",
   "execution_count": 26,
   "metadata": {},
   "outputs": [],
   "source": [
    "def r2(pred, target):\n",
    "    mask = ~np.isnan(pred) & ~np.isnan(target)\n",
    "    return np.corrcoef(pred[mask], target[mask])[0, 1]**2"
   ]
  },
  {
   "cell_type": "code",
   "execution_count": 27,
   "metadata": {},
   "outputs": [
    {
     "name": "stdout",
     "output_type": "stream",
     "text": [
      "R2 Absorption max: 0.9648811407909756\n",
      "R2 Emission max: 0.9380774156667805\n",
      "R2 Log quantum yield: 0.7580516759530557\n"
     ]
    }
   ],
   "source": [
    "print(f\"R2 Absorption max: {r2(testing_preds[:, 0], test_ys[:, 0])}\")\n",
    "print(f\"R2 Emission max: {r2(testing_preds[:, 1], test_ys[:, 1])}\")\n",
    "print(f\"R2 Log quantum yield: {r2(testing_preds[:, 2], test_ys[:, 2])}\")"
   ]
  },
  {
   "cell_type": "markdown",
   "metadata": {},
   "source": [
    "## CV training"
   ]
  },
  {
   "cell_type": "code",
   "execution_count": 125,
   "metadata": {},
   "outputs": [],
   "source": [
    "def cv_score_model(params, training_data, k=5, cv_dir='cv', seed=42):\n",
    "    global patience, min_delta, save_chekpoint, max_checkpoints_to_keep\n",
    "    global min_epochs, max_epochs\n",
    "\n",
    "    if save_chekpoint:\n",
    "        if not os.path.exists(cv_dir):\n",
    "            os.makedirs(cv_dir)\n",
    "    save_dir = None\n",
    "    \n",
    "    min_val_scores = []\n",
    "\n",
    "    # make cv splits\n",
    "    mols = [d.mol for d in training_data]\n",
    "    train_indices, val_indices, test_indices = data.make_split_indices(\n",
    "        mols,\n",
    "        \"cv_no_val\",\n",
    "        num_folds=k,\n",
    "        seed=seed\n",
    "    )\n",
    "    val_indices = test_indices\n",
    "    \n",
    "\n",
    "    for fold in range(k):\n",
    "        start = time.time()\n",
    "\n",
    "        if save_chekpoint:\n",
    "            save_dir = f'{cv_dir}/m{fold}'\n",
    "\n",
    "        # split data\n",
    "        train_data, val_data, test_data = data.split_data_by_indices(\n",
    "            training_data,\n",
    "            train_indices[fold], val_indices[fold], test_indices[fold]\n",
    "        )\n",
    "\n",
    "        # make datasets\n",
    "        train_dset = data.MoleculeDataset(train_data, featurizer)\n",
    "        scaler = train_dset.normalize_targets()\n",
    "        \n",
    "        val_dset = data.MoleculeDataset(val_data, featurizer)\n",
    "        val_dset.normalize_targets(scaler)\n",
    "        \n",
    "        test_dset = data.MoleculeDataset(test_data, featurizer)\n",
    "\n",
    "        # make loaders\n",
    "        train_loader = data.build_dataloader(train_dset, num_workers=num_workers,\n",
    "                                             seed=seed, batch_size=params['batch_size'])\n",
    "        val_loader = data.build_dataloader(val_dset, num_workers=num_workers,\n",
    "                                           shuffle=False, batch_size=params['batch_size'])\n",
    "        test_loader = data.build_dataloader(test_dset, num_workers=num_workers,\n",
    "                                            shuffle=False, batch_size=params['batch_size'])\n",
    "\n",
    "        # make model\n",
    "        mp = nn.BondMessagePassing(\n",
    "            d_h=params['message_hidden_dim'],\n",
    "            depth=params['depth'],\n",
    "            dropout=params['message_dropout'],\n",
    "            bias=True\n",
    "        )\n",
    "        \n",
    "        ffn = nn.RegressionFFN(\n",
    "            output_transform=nn.UnscaleTransform.from_standard_scaler(scaler),\n",
    "            input_dim=mp.output_dim,\n",
    "            hidden_dim=params['ffn_hidden_dim'],\n",
    "            n_layers=params['ffn_num_layers'],\n",
    "            dropout=params['ffn_dropout'],\n",
    "            activation=\"relu\"\n",
    "        )\n",
    "        \n",
    "        mpnn = models.MPNN(\n",
    "            mp,\n",
    "            nn.MeanAggregation(),\n",
    "            ffn,\n",
    "            batch_norm=True,\n",
    "            warmup_epochs=params['warmup_epochs'],\n",
    "            init_lr=params['init_lr'],\n",
    "            max_lr=params['max_lr'],\n",
    "            final_lr=params['final_lr'],\n",
    "            metrics=[nn.metrics.RMSEMetric()],\n",
    "        )\n",
    "        \n",
    "        # make trainer\n",
    "        checkpoint_cb = ModelCheckpoint(\n",
    "            save_top_k=max_checkpoints_to_keep,\n",
    "            monitor=\"val_loss\",\n",
    "            mode=\"min\",\n",
    "            dirpath=save_dir,\n",
    "            filename=\"{epoch:03d}-{val_loss:.3f}\",\n",
    "        )\n",
    "        \n",
    "        earlystopping_cb = EarlyStopping(\n",
    "            monitor=\"val_loss\",\n",
    "            mode=\"min\",\n",
    "            patience=patience,\n",
    "            min_delta=min_delta,\n",
    "        )\n",
    "\n",
    "        trainer = pl.Trainer(\n",
    "            logger=False,\n",
    "            enable_progress_bar=False,\n",
    "            accelerator=\"cuda\",\n",
    "            devices=[1],\n",
    "            min_epochs=min_epochs,\n",
    "            max_epochs=max_epochs,\n",
    "            callbacks=[checkpoint_cb, earlystopping_cb],\n",
    "        )\n",
    "\n",
    "        # training\n",
    "        trainer.fit(mpnn, train_loader, val_loader)\n",
    "        \n",
    "        # predicting\n",
    "        results = trainer.test(mpnn, test_loader, ckpt_path=\"best\")\n",
    "\n",
    "        min_val_score = results[0]['batch_averaged_test/rmse']\n",
    "        min_val_scores.append(min_val_score)\n",
    "        end = time.time()\n",
    "\n",
    "        print(f'Fold {fold+1}/{k}; Time {end-start:.3f};', end=' ')\n",
    "        print(f'Min val score {min_val_score:.3f}; Training epochs {mpnn.current_epoch}')\n",
    "\n",
    "    mean_min_val_score = np.mean(min_val_scores)\n",
    "    si_min_val_score = np.std(min_val_scores)\n",
    "\n",
    "    return mean_min_val_score, si_min_val_score, min_val_scores"
   ]
  },
  {
   "cell_type": "code",
   "execution_count": 126,
   "metadata": {},
   "outputs": [],
   "source": [
    "cv_dir = 'cv_v2.2'\n",
    "\n",
    "patience = 35\n",
    "min_delta = 0.0\n",
    "save_chekpoint = True\n",
    "max_checkpoints_to_keep = 1\n",
    "\n",
    "parameters = {\n",
    "    'batch_size': 128,\n",
    "    'warmup_epochs': 4,\n",
    "    'init_lr': 1e-4,\n",
    "    'max_lr': 1e-3,\n",
    "    'final_lr': 1e-4,\n",
    "    'message_hidden_dim': 2**6,\n",
    "    'depth': 6,\n",
    "    'message_dropout': 0.2,\n",
    "    'ffn_hidden_dim': 2**9,\n",
    "    'ffn_num_layers': 5,\n",
    "    'ffn_dropout': 0.2,\n",
    "}\n",
    "\n",
    "min_epochs = 50\n",
    "max_epochs = 300\n",
    "k_folds = 10\n",
    "seed=43"
   ]
  },
  {
   "cell_type": "code",
   "execution_count": 127,
   "metadata": {
    "scrolled": true
   },
   "outputs": [
    {
     "name": "stderr",
     "output_type": "stream",
     "text": [
      "/opt/calculation/anaconda3/envs/chemprop/lib/python3.11/site-packages/lightning/fabric/plugins/environments/slurm.py:204: The `srun` command is available on your system but is not used. HINT: If your intention is to run Lightning on SLURM, prepend your python command with `srun` like so: srun python /opt/calculation/anaconda3/envs/chemprop/lib/python3 ...\n"
     ]
    },
    {
     "data": {
      "text/html": [
       "<pre style=\"white-space:pre;overflow-x:auto;line-height:normal;font-family:Menlo,'DejaVu Sans Mono',consolas,'Courier New',monospace\">┏━━━━━━━━━━━━━━━━━━━━━━━━━━━┳━━━━━━━━━━━━━━━━━━━━━━━━━━━┓\n",
       "┃<span style=\"font-weight: bold\">        Test metric        </span>┃<span style=\"font-weight: bold\">       DataLoader 0        </span>┃\n",
       "┡━━━━━━━━━━━━━━━━━━━━━━━━━━━╇━━━━━━━━━━━━━━━━━━━━━━━━━━━┩\n",
       "│<span style=\"color: #008080; text-decoration-color: #008080\"> batch_averaged_test/rmse  </span>│<span style=\"color: #800080; text-decoration-color: #800080\">    24.224790573120117     </span>│\n",
       "└───────────────────────────┴───────────────────────────┘\n",
       "</pre>\n"
      ],
      "text/plain": [
       "┏━━━━━━━━━━━━━━━━━━━━━━━━━━━┳━━━━━━━━━━━━━━━━━━━━━━━━━━━┓\n",
       "┃\u001b[1m \u001b[0m\u001b[1m       Test metric       \u001b[0m\u001b[1m \u001b[0m┃\u001b[1m \u001b[0m\u001b[1m      DataLoader 0       \u001b[0m\u001b[1m \u001b[0m┃\n",
       "┡━━━━━━━━━━━━━━━━━━━━━━━━━━━╇━━━━━━━━━━━━━━━━━━━━━━━━━━━┩\n",
       "│\u001b[36m \u001b[0m\u001b[36mbatch_averaged_test/rmse \u001b[0m\u001b[36m \u001b[0m│\u001b[35m \u001b[0m\u001b[35m   24.224790573120117    \u001b[0m\u001b[35m \u001b[0m│\n",
       "└───────────────────────────┴───────────────────────────┘\n"
      ]
     },
     "metadata": {},
     "output_type": "display_data"
    },
    {
     "name": "stdout",
     "output_type": "stream",
     "text": [
      "Fold 1/10; Time 73.523; Min val score 24.225; Training epochs 126\n"
     ]
    },
    {
     "name": "stderr",
     "output_type": "stream",
     "text": [
      "/opt/calculation/anaconda3/envs/chemprop/lib/python3.11/site-packages/lightning/fabric/plugins/environments/slurm.py:204: The `srun` command is available on your system but is not used. HINT: If your intention is to run Lightning on SLURM, prepend your python command with `srun` like so: srun python /opt/calculation/anaconda3/envs/chemprop/lib/python3 ...\n"
     ]
    },
    {
     "data": {
      "text/html": [
       "<pre style=\"white-space:pre;overflow-x:auto;line-height:normal;font-family:Menlo,'DejaVu Sans Mono',consolas,'Courier New',monospace\">┏━━━━━━━━━━━━━━━━━━━━━━━━━━━┳━━━━━━━━━━━━━━━━━━━━━━━━━━━┓\n",
       "┃<span style=\"font-weight: bold\">        Test metric        </span>┃<span style=\"font-weight: bold\">       DataLoader 0        </span>┃\n",
       "┡━━━━━━━━━━━━━━━━━━━━━━━━━━━╇━━━━━━━━━━━━━━━━━━━━━━━━━━━┩\n",
       "│<span style=\"color: #008080; text-decoration-color: #008080\"> batch_averaged_test/rmse  </span>│<span style=\"color: #800080; text-decoration-color: #800080\">    25.586816787719727     </span>│\n",
       "└───────────────────────────┴───────────────────────────┘\n",
       "</pre>\n"
      ],
      "text/plain": [
       "┏━━━━━━━━━━━━━━━━━━━━━━━━━━━┳━━━━━━━━━━━━━━━━━━━━━━━━━━━┓\n",
       "┃\u001b[1m \u001b[0m\u001b[1m       Test metric       \u001b[0m\u001b[1m \u001b[0m┃\u001b[1m \u001b[0m\u001b[1m      DataLoader 0       \u001b[0m\u001b[1m \u001b[0m┃\n",
       "┡━━━━━━━━━━━━━━━━━━━━━━━━━━━╇━━━━━━━━━━━━━━━━━━━━━━━━━━━┩\n",
       "│\u001b[36m \u001b[0m\u001b[36mbatch_averaged_test/rmse \u001b[0m\u001b[36m \u001b[0m│\u001b[35m \u001b[0m\u001b[35m   25.586816787719727    \u001b[0m\u001b[35m \u001b[0m│\n",
       "└───────────────────────────┴───────────────────────────┘\n"
      ]
     },
     "metadata": {},
     "output_type": "display_data"
    },
    {
     "name": "stdout",
     "output_type": "stream",
     "text": [
      "Fold 2/10; Time 65.537; Min val score 25.587; Training epochs 110\n"
     ]
    },
    {
     "name": "stderr",
     "output_type": "stream",
     "text": [
      "/opt/calculation/anaconda3/envs/chemprop/lib/python3.11/site-packages/lightning/fabric/plugins/environments/slurm.py:204: The `srun` command is available on your system but is not used. HINT: If your intention is to run Lightning on SLURM, prepend your python command with `srun` like so: srun python /opt/calculation/anaconda3/envs/chemprop/lib/python3 ...\n"
     ]
    },
    {
     "data": {
      "text/html": [
       "<pre style=\"white-space:pre;overflow-x:auto;line-height:normal;font-family:Menlo,'DejaVu Sans Mono',consolas,'Courier New',monospace\">┏━━━━━━━━━━━━━━━━━━━━━━━━━━━┳━━━━━━━━━━━━━━━━━━━━━━━━━━━┓\n",
       "┃<span style=\"font-weight: bold\">        Test metric        </span>┃<span style=\"font-weight: bold\">       DataLoader 0        </span>┃\n",
       "┡━━━━━━━━━━━━━━━━━━━━━━━━━━━╇━━━━━━━━━━━━━━━━━━━━━━━━━━━┩\n",
       "│<span style=\"color: #008080; text-decoration-color: #008080\"> batch_averaged_test/rmse  </span>│<span style=\"color: #800080; text-decoration-color: #800080\">    21.396167755126953     </span>│\n",
       "└───────────────────────────┴───────────────────────────┘\n",
       "</pre>\n"
      ],
      "text/plain": [
       "┏━━━━━━━━━━━━━━━━━━━━━━━━━━━┳━━━━━━━━━━━━━━━━━━━━━━━━━━━┓\n",
       "┃\u001b[1m \u001b[0m\u001b[1m       Test metric       \u001b[0m\u001b[1m \u001b[0m┃\u001b[1m \u001b[0m\u001b[1m      DataLoader 0       \u001b[0m\u001b[1m \u001b[0m┃\n",
       "┡━━━━━━━━━━━━━━━━━━━━━━━━━━━╇━━━━━━━━━━━━━━━━━━━━━━━━━━━┩\n",
       "│\u001b[36m \u001b[0m\u001b[36mbatch_averaged_test/rmse \u001b[0m\u001b[36m \u001b[0m│\u001b[35m \u001b[0m\u001b[35m   21.396167755126953    \u001b[0m\u001b[35m \u001b[0m│\n",
       "└───────────────────────────┴───────────────────────────┘\n"
      ]
     },
     "metadata": {},
     "output_type": "display_data"
    },
    {
     "name": "stdout",
     "output_type": "stream",
     "text": [
      "Fold 3/10; Time 56.854; Min val score 21.396; Training epochs 97\n"
     ]
    },
    {
     "name": "stderr",
     "output_type": "stream",
     "text": [
      "/opt/calculation/anaconda3/envs/chemprop/lib/python3.11/site-packages/lightning/fabric/plugins/environments/slurm.py:204: The `srun` command is available on your system but is not used. HINT: If your intention is to run Lightning on SLURM, prepend your python command with `srun` like so: srun python /opt/calculation/anaconda3/envs/chemprop/lib/python3 ...\n"
     ]
    },
    {
     "data": {
      "text/html": [
       "<pre style=\"white-space:pre;overflow-x:auto;line-height:normal;font-family:Menlo,'DejaVu Sans Mono',consolas,'Courier New',monospace\">┏━━━━━━━━━━━━━━━━━━━━━━━━━━━┳━━━━━━━━━━━━━━━━━━━━━━━━━━━┓\n",
       "┃<span style=\"font-weight: bold\">        Test metric        </span>┃<span style=\"font-weight: bold\">       DataLoader 0        </span>┃\n",
       "┡━━━━━━━━━━━━━━━━━━━━━━━━━━━╇━━━━━━━━━━━━━━━━━━━━━━━━━━━┩\n",
       "│<span style=\"color: #008080; text-decoration-color: #008080\"> batch_averaged_test/rmse  </span>│<span style=\"color: #800080; text-decoration-color: #800080\">    24.538761138916016     </span>│\n",
       "└───────────────────────────┴───────────────────────────┘\n",
       "</pre>\n"
      ],
      "text/plain": [
       "┏━━━━━━━━━━━━━━━━━━━━━━━━━━━┳━━━━━━━━━━━━━━━━━━━━━━━━━━━┓\n",
       "┃\u001b[1m \u001b[0m\u001b[1m       Test metric       \u001b[0m\u001b[1m \u001b[0m┃\u001b[1m \u001b[0m\u001b[1m      DataLoader 0       \u001b[0m\u001b[1m \u001b[0m┃\n",
       "┡━━━━━━━━━━━━━━━━━━━━━━━━━━━╇━━━━━━━━━━━━━━━━━━━━━━━━━━━┩\n",
       "│\u001b[36m \u001b[0m\u001b[36mbatch_averaged_test/rmse \u001b[0m\u001b[36m \u001b[0m│\u001b[35m \u001b[0m\u001b[35m   24.538761138916016    \u001b[0m\u001b[35m \u001b[0m│\n",
       "└───────────────────────────┴───────────────────────────┘\n"
      ]
     },
     "metadata": {},
     "output_type": "display_data"
    },
    {
     "name": "stdout",
     "output_type": "stream",
     "text": [
      "Fold 4/10; Time 51.327; Min val score 24.539; Training epochs 97\n"
     ]
    },
    {
     "name": "stderr",
     "output_type": "stream",
     "text": [
      "/opt/calculation/anaconda3/envs/chemprop/lib/python3.11/site-packages/lightning/fabric/plugins/environments/slurm.py:204: The `srun` command is available on your system but is not used. HINT: If your intention is to run Lightning on SLURM, prepend your python command with `srun` like so: srun python /opt/calculation/anaconda3/envs/chemprop/lib/python3 ...\n"
     ]
    },
    {
     "data": {
      "text/html": [
       "<pre style=\"white-space:pre;overflow-x:auto;line-height:normal;font-family:Menlo,'DejaVu Sans Mono',consolas,'Courier New',monospace\">┏━━━━━━━━━━━━━━━━━━━━━━━━━━━┳━━━━━━━━━━━━━━━━━━━━━━━━━━━┓\n",
       "┃<span style=\"font-weight: bold\">        Test metric        </span>┃<span style=\"font-weight: bold\">       DataLoader 0        </span>┃\n",
       "┡━━━━━━━━━━━━━━━━━━━━━━━━━━━╇━━━━━━━━━━━━━━━━━━━━━━━━━━━┩\n",
       "│<span style=\"color: #008080; text-decoration-color: #008080\"> batch_averaged_test/rmse  </span>│<span style=\"color: #800080; text-decoration-color: #800080\">     26.37315559387207     </span>│\n",
       "└───────────────────────────┴───────────────────────────┘\n",
       "</pre>\n"
      ],
      "text/plain": [
       "┏━━━━━━━━━━━━━━━━━━━━━━━━━━━┳━━━━━━━━━━━━━━━━━━━━━━━━━━━┓\n",
       "┃\u001b[1m \u001b[0m\u001b[1m       Test metric       \u001b[0m\u001b[1m \u001b[0m┃\u001b[1m \u001b[0m\u001b[1m      DataLoader 0       \u001b[0m\u001b[1m \u001b[0m┃\n",
       "┡━━━━━━━━━━━━━━━━━━━━━━━━━━━╇━━━━━━━━━━━━━━━━━━━━━━━━━━━┩\n",
       "│\u001b[36m \u001b[0m\u001b[36mbatch_averaged_test/rmse \u001b[0m\u001b[36m \u001b[0m│\u001b[35m \u001b[0m\u001b[35m    26.37315559387207    \u001b[0m\u001b[35m \u001b[0m│\n",
       "└───────────────────────────┴───────────────────────────┘\n"
      ]
     },
     "metadata": {},
     "output_type": "display_data"
    },
    {
     "name": "stdout",
     "output_type": "stream",
     "text": [
      "Fold 5/10; Time 42.413; Min val score 26.373; Training epochs 78\n"
     ]
    },
    {
     "name": "stderr",
     "output_type": "stream",
     "text": [
      "/opt/calculation/anaconda3/envs/chemprop/lib/python3.11/site-packages/lightning/fabric/plugins/environments/slurm.py:204: The `srun` command is available on your system but is not used. HINT: If your intention is to run Lightning on SLURM, prepend your python command with `srun` like so: srun python /opt/calculation/anaconda3/envs/chemprop/lib/python3 ...\n"
     ]
    },
    {
     "data": {
      "text/html": [
       "<pre style=\"white-space:pre;overflow-x:auto;line-height:normal;font-family:Menlo,'DejaVu Sans Mono',consolas,'Courier New',monospace\">┏━━━━━━━━━━━━━━━━━━━━━━━━━━━┳━━━━━━━━━━━━━━━━━━━━━━━━━━━┓\n",
       "┃<span style=\"font-weight: bold\">        Test metric        </span>┃<span style=\"font-weight: bold\">       DataLoader 0        </span>┃\n",
       "┡━━━━━━━━━━━━━━━━━━━━━━━━━━━╇━━━━━━━━━━━━━━━━━━━━━━━━━━━┩\n",
       "│<span style=\"color: #008080; text-decoration-color: #008080\"> batch_averaged_test/rmse  </span>│<span style=\"color: #800080; text-decoration-color: #800080\">    25.342388153076172     </span>│\n",
       "└───────────────────────────┴───────────────────────────┘\n",
       "</pre>\n"
      ],
      "text/plain": [
       "┏━━━━━━━━━━━━━━━━━━━━━━━━━━━┳━━━━━━━━━━━━━━━━━━━━━━━━━━━┓\n",
       "┃\u001b[1m \u001b[0m\u001b[1m       Test metric       \u001b[0m\u001b[1m \u001b[0m┃\u001b[1m \u001b[0m\u001b[1m      DataLoader 0       \u001b[0m\u001b[1m \u001b[0m┃\n",
       "┡━━━━━━━━━━━━━━━━━━━━━━━━━━━╇━━━━━━━━━━━━━━━━━━━━━━━━━━━┩\n",
       "│\u001b[36m \u001b[0m\u001b[36mbatch_averaged_test/rmse \u001b[0m\u001b[36m \u001b[0m│\u001b[35m \u001b[0m\u001b[35m   25.342388153076172    \u001b[0m\u001b[35m \u001b[0m│\n",
       "└───────────────────────────┴───────────────────────────┘\n"
      ]
     },
     "metadata": {},
     "output_type": "display_data"
    },
    {
     "name": "stdout",
     "output_type": "stream",
     "text": [
      "Fold 6/10; Time 60.266; Min val score 25.342; Training epochs 103\n"
     ]
    },
    {
     "name": "stderr",
     "output_type": "stream",
     "text": [
      "/opt/calculation/anaconda3/envs/chemprop/lib/python3.11/site-packages/lightning/fabric/plugins/environments/slurm.py:204: The `srun` command is available on your system but is not used. HINT: If your intention is to run Lightning on SLURM, prepend your python command with `srun` like so: srun python /opt/calculation/anaconda3/envs/chemprop/lib/python3 ...\n"
     ]
    },
    {
     "data": {
      "text/html": [
       "<pre style=\"white-space:pre;overflow-x:auto;line-height:normal;font-family:Menlo,'DejaVu Sans Mono',consolas,'Courier New',monospace\">┏━━━━━━━━━━━━━━━━━━━━━━━━━━━┳━━━━━━━━━━━━━━━━━━━━━━━━━━━┓\n",
       "┃<span style=\"font-weight: bold\">        Test metric        </span>┃<span style=\"font-weight: bold\">       DataLoader 0        </span>┃\n",
       "┡━━━━━━━━━━━━━━━━━━━━━━━━━━━╇━━━━━━━━━━━━━━━━━━━━━━━━━━━┩\n",
       "│<span style=\"color: #008080; text-decoration-color: #008080\"> batch_averaged_test/rmse  </span>│<span style=\"color: #800080; text-decoration-color: #800080\">     21.34317398071289     </span>│\n",
       "└───────────────────────────┴───────────────────────────┘\n",
       "</pre>\n"
      ],
      "text/plain": [
       "┏━━━━━━━━━━━━━━━━━━━━━━━━━━━┳━━━━━━━━━━━━━━━━━━━━━━━━━━━┓\n",
       "┃\u001b[1m \u001b[0m\u001b[1m       Test metric       \u001b[0m\u001b[1m \u001b[0m┃\u001b[1m \u001b[0m\u001b[1m      DataLoader 0       \u001b[0m\u001b[1m \u001b[0m┃\n",
       "┡━━━━━━━━━━━━━━━━━━━━━━━━━━━╇━━━━━━━━━━━━━━━━━━━━━━━━━━━┩\n",
       "│\u001b[36m \u001b[0m\u001b[36mbatch_averaged_test/rmse \u001b[0m\u001b[36m \u001b[0m│\u001b[35m \u001b[0m\u001b[35m    21.34317398071289    \u001b[0m\u001b[35m \u001b[0m│\n",
       "└───────────────────────────┴───────────────────────────┘\n"
      ]
     },
     "metadata": {},
     "output_type": "display_data"
    },
    {
     "name": "stdout",
     "output_type": "stream",
     "text": [
      "Fold 7/10; Time 63.210; Min val score 21.343; Training epochs 107\n"
     ]
    },
    {
     "name": "stderr",
     "output_type": "stream",
     "text": [
      "/opt/calculation/anaconda3/envs/chemprop/lib/python3.11/site-packages/lightning/fabric/plugins/environments/slurm.py:204: The `srun` command is available on your system but is not used. HINT: If your intention is to run Lightning on SLURM, prepend your python command with `srun` like so: srun python /opt/calculation/anaconda3/envs/chemprop/lib/python3 ...\n"
     ]
    },
    {
     "data": {
      "text/html": [
       "<pre style=\"white-space:pre;overflow-x:auto;line-height:normal;font-family:Menlo,'DejaVu Sans Mono',consolas,'Courier New',monospace\">┏━━━━━━━━━━━━━━━━━━━━━━━━━━━┳━━━━━━━━━━━━━━━━━━━━━━━━━━━┓\n",
       "┃<span style=\"font-weight: bold\">        Test metric        </span>┃<span style=\"font-weight: bold\">       DataLoader 0        </span>┃\n",
       "┡━━━━━━━━━━━━━━━━━━━━━━━━━━━╇━━━━━━━━━━━━━━━━━━━━━━━━━━━┩\n",
       "│<span style=\"color: #008080; text-decoration-color: #008080\"> batch_averaged_test/rmse  </span>│<span style=\"color: #800080; text-decoration-color: #800080\">    19.805280685424805     </span>│\n",
       "└───────────────────────────┴───────────────────────────┘\n",
       "</pre>\n"
      ],
      "text/plain": [
       "┏━━━━━━━━━━━━━━━━━━━━━━━━━━━┳━━━━━━━━━━━━━━━━━━━━━━━━━━━┓\n",
       "┃\u001b[1m \u001b[0m\u001b[1m       Test metric       \u001b[0m\u001b[1m \u001b[0m┃\u001b[1m \u001b[0m\u001b[1m      DataLoader 0       \u001b[0m\u001b[1m \u001b[0m┃\n",
       "┡━━━━━━━━━━━━━━━━━━━━━━━━━━━╇━━━━━━━━━━━━━━━━━━━━━━━━━━━┩\n",
       "│\u001b[36m \u001b[0m\u001b[36mbatch_averaged_test/rmse \u001b[0m\u001b[36m \u001b[0m│\u001b[35m \u001b[0m\u001b[35m   19.805280685424805    \u001b[0m\u001b[35m \u001b[0m│\n",
       "└───────────────────────────┴───────────────────────────┘\n"
      ]
     },
     "metadata": {},
     "output_type": "display_data"
    },
    {
     "name": "stdout",
     "output_type": "stream",
     "text": [
      "Fold 8/10; Time 65.085; Min val score 19.805; Training epochs 120\n"
     ]
    },
    {
     "name": "stderr",
     "output_type": "stream",
     "text": [
      "/opt/calculation/anaconda3/envs/chemprop/lib/python3.11/site-packages/lightning/fabric/plugins/environments/slurm.py:204: The `srun` command is available on your system but is not used. HINT: If your intention is to run Lightning on SLURM, prepend your python command with `srun` like so: srun python /opt/calculation/anaconda3/envs/chemprop/lib/python3 ...\n"
     ]
    },
    {
     "data": {
      "text/html": [
       "<pre style=\"white-space:pre;overflow-x:auto;line-height:normal;font-family:Menlo,'DejaVu Sans Mono',consolas,'Courier New',monospace\">┏━━━━━━━━━━━━━━━━━━━━━━━━━━━┳━━━━━━━━━━━━━━━━━━━━━━━━━━━┓\n",
       "┃<span style=\"font-weight: bold\">        Test metric        </span>┃<span style=\"font-weight: bold\">       DataLoader 0        </span>┃\n",
       "┡━━━━━━━━━━━━━━━━━━━━━━━━━━━╇━━━━━━━━━━━━━━━━━━━━━━━━━━━┩\n",
       "│<span style=\"color: #008080; text-decoration-color: #008080\"> batch_averaged_test/rmse  </span>│<span style=\"color: #800080; text-decoration-color: #800080\">    22.615842819213867     </span>│\n",
       "└───────────────────────────┴───────────────────────────┘\n",
       "</pre>\n"
      ],
      "text/plain": [
       "┏━━━━━━━━━━━━━━━━━━━━━━━━━━━┳━━━━━━━━━━━━━━━━━━━━━━━━━━━┓\n",
       "┃\u001b[1m \u001b[0m\u001b[1m       Test metric       \u001b[0m\u001b[1m \u001b[0m┃\u001b[1m \u001b[0m\u001b[1m      DataLoader 0       \u001b[0m\u001b[1m \u001b[0m┃\n",
       "┡━━━━━━━━━━━━━━━━━━━━━━━━━━━╇━━━━━━━━━━━━━━━━━━━━━━━━━━━┩\n",
       "│\u001b[36m \u001b[0m\u001b[36mbatch_averaged_test/rmse \u001b[0m\u001b[36m \u001b[0m│\u001b[35m \u001b[0m\u001b[35m   22.615842819213867    \u001b[0m\u001b[35m \u001b[0m│\n",
       "└───────────────────────────┴───────────────────────────┘\n"
      ]
     },
     "metadata": {},
     "output_type": "display_data"
    },
    {
     "name": "stdout",
     "output_type": "stream",
     "text": [
      "Fold 9/10; Time 41.866; Min val score 22.616; Training epochs 76\n"
     ]
    },
    {
     "name": "stderr",
     "output_type": "stream",
     "text": [
      "/opt/calculation/anaconda3/envs/chemprop/lib/python3.11/site-packages/lightning/fabric/plugins/environments/slurm.py:204: The `srun` command is available on your system but is not used. HINT: If your intention is to run Lightning on SLURM, prepend your python command with `srun` like so: srun python /opt/calculation/anaconda3/envs/chemprop/lib/python3 ...\n"
     ]
    },
    {
     "data": {
      "text/html": [
       "<pre style=\"white-space:pre;overflow-x:auto;line-height:normal;font-family:Menlo,'DejaVu Sans Mono',consolas,'Courier New',monospace\">┏━━━━━━━━━━━━━━━━━━━━━━━━━━━┳━━━━━━━━━━━━━━━━━━━━━━━━━━━┓\n",
       "┃<span style=\"font-weight: bold\">        Test metric        </span>┃<span style=\"font-weight: bold\">       DataLoader 0        </span>┃\n",
       "┡━━━━━━━━━━━━━━━━━━━━━━━━━━━╇━━━━━━━━━━━━━━━━━━━━━━━━━━━┩\n",
       "│<span style=\"color: #008080; text-decoration-color: #008080\"> batch_averaged_test/rmse  </span>│<span style=\"color: #800080; text-decoration-color: #800080\">    24.661935806274414     </span>│\n",
       "└───────────────────────────┴───────────────────────────┘\n",
       "</pre>\n"
      ],
      "text/plain": [
       "┏━━━━━━━━━━━━━━━━━━━━━━━━━━━┳━━━━━━━━━━━━━━━━━━━━━━━━━━━┓\n",
       "┃\u001b[1m \u001b[0m\u001b[1m       Test metric       \u001b[0m\u001b[1m \u001b[0m┃\u001b[1m \u001b[0m\u001b[1m      DataLoader 0       \u001b[0m\u001b[1m \u001b[0m┃\n",
       "┡━━━━━━━━━━━━━━━━━━━━━━━━━━━╇━━━━━━━━━━━━━━━━━━━━━━━━━━━┩\n",
       "│\u001b[36m \u001b[0m\u001b[36mbatch_averaged_test/rmse \u001b[0m\u001b[36m \u001b[0m│\u001b[35m \u001b[0m\u001b[35m   24.661935806274414    \u001b[0m\u001b[35m \u001b[0m│\n",
       "└───────────────────────────┴───────────────────────────┘\n"
      ]
     },
     "metadata": {},
     "output_type": "display_data"
    },
    {
     "name": "stdout",
     "output_type": "stream",
     "text": [
      "Fold 10/10; Time 61.524; Min val score 24.662; Training epochs 115\n",
      "CPU times: user 10h 1min 55s, sys: 13min 55s, total: 10h 15min 50s\n",
      "Wall time: 9min 41s\n"
     ]
    }
   ],
   "source": [
    "%%time\n",
    "mean_min_val_score, si_min_val_score, min_val_scores = cv_score_model(\n",
    "    parameters,\n",
    "    training_data,\n",
    "    k=k_folds,\n",
    "    cv_dir = cv_dir,\n",
    ")"
   ]
  },
  {
   "cell_type": "code",
   "execution_count": 128,
   "metadata": {},
   "outputs": [
    {
     "data": {
      "text/plain": [
       "(23.5888313293457, 2.0588940150078154)"
      ]
     },
     "execution_count": 128,
     "metadata": {},
     "output_type": "execute_result"
    }
   ],
   "source": [
    "mean_min_val_score, si_min_val_score"
   ]
  },
  {
   "cell_type": "markdown",
   "metadata": {},
   "source": [
    "## Predicting"
   ]
  },
  {
   "cell_type": "code",
   "execution_count": 134,
   "metadata": {},
   "outputs": [],
   "source": [
    "mpnn_predict = models.MPNN.load_from_checkpoint(f\"{cv_dir}/m7/epoch=084-val_loss=0.544.ckpt\")"
   ]
  },
  {
   "cell_type": "code",
   "execution_count": 163,
   "metadata": {},
   "outputs": [
    {
     "data": {
      "text/plain": [
       "MPNN(\n",
       "  (message_passing): BondMessagePassing(\n",
       "    (W_i): Linear(in_features=86, out_features=64, bias=True)\n",
       "    (W_h): Linear(in_features=64, out_features=64, bias=True)\n",
       "    (W_o): Linear(in_features=136, out_features=64, bias=True)\n",
       "    (dropout): Dropout(p=0.2, inplace=False)\n",
       "    (tau): ReLU()\n",
       "    (V_d_transform): Identity()\n",
       "    (graph_transform): Identity()\n",
       "  )\n",
       "  (agg): MeanAggregation()\n",
       "  (bn): BatchNorm1d(64, eps=1e-05, momentum=0.1, affine=True, track_running_stats=True)\n",
       "  (predictor): RegressionFFN(\n",
       "    (ffn): MLP(\n",
       "      (0): Sequential(\n",
       "        (0): Linear(in_features=64, out_features=512, bias=True)\n",
       "      )\n",
       "      (1): Sequential(\n",
       "        (0): ReLU()\n",
       "        (1): Dropout(p=0.2, inplace=False)\n",
       "        (2): Linear(in_features=512, out_features=512, bias=True)\n",
       "      )\n",
       "      (2): Sequential(\n",
       "        (0): ReLU()\n",
       "        (1): Dropout(p=0.2, inplace=False)\n",
       "        (2): Linear(in_features=512, out_features=512, bias=True)\n",
       "      )\n",
       "      (3): Sequential(\n",
       "        (0): ReLU()\n",
       "        (1): Dropout(p=0.2, inplace=False)\n",
       "        (2): Linear(in_features=512, out_features=512, bias=True)\n",
       "      )\n",
       "      (4): Sequential(\n",
       "        (0): ReLU()\n",
       "        (1): Dropout(p=0.2, inplace=False)\n",
       "        (2): Linear(in_features=512, out_features=512, bias=True)\n",
       "      )\n",
       "      (5): Sequential(\n",
       "        (0): ReLU()\n",
       "        (1): Dropout(p=0.2, inplace=False)\n",
       "        (2): Linear(in_features=512, out_features=1, bias=True)\n",
       "      )\n",
       "    )\n",
       "    (criterion): MSELoss(task_weights=[[1.0]])\n",
       "    (output_transform): UnscaleTransform()\n",
       "  )\n",
       "  (X_d_transform): Identity()\n",
       ")"
      ]
     },
     "execution_count": 163,
     "metadata": {},
     "output_type": "execute_result"
    }
   ],
   "source": [
    "mpnn_predict"
   ]
  },
  {
   "cell_type": "code",
   "execution_count": 138,
   "metadata": {},
   "outputs": [],
   "source": [
    "testing_data = [data.MoleculeDatapoint.from_smi(smi, add_h=False) for smi in testing_smis]\n",
    "testing_dset = data.MoleculeDataset(testing_data, featurizer)\n",
    "testing_loader = data.build_dataloader(testing_dset, shuffle=False, batch_size=128)"
   ]
  },
  {
   "cell_type": "code",
   "execution_count": 151,
   "metadata": {},
   "outputs": [
    {
     "name": "stdout",
     "output_type": "stream",
     "text": [
      "Predicting DataLoader 0: 100%|███████████████████████████████████████████████████████████████████████| 4/4 [00:00<00:00, 21.73it/s]\n"
     ]
    }
   ],
   "source": [
    "with torch.inference_mode():\n",
    "    trainer = pl.Trainer(\n",
    "        logger=None,\n",
    "        enable_progress_bar=True,\n",
    "        devices=[1]\n",
    "    )\n",
    "    testing_preds = trainer.predict(mpnn_predict, testing_loader)\n",
    "\n",
    "testing_preds = list(np.concatenate(testing_preds, axis=0).ravel())"
   ]
  },
  {
   "cell_type": "code",
   "execution_count": 153,
   "metadata": {},
   "outputs": [],
   "source": [
    "with open('pred_13.csv', 'w', newline='') as csvfile:\n",
    "    writer = csv.writer(csvfile, delimiter=',')\n",
    "    writer.writerow(['Results'])\n",
    "    for result in testing_preds:\n",
    "        writer.writerow([result])"
   ]
  },
  {
   "cell_type": "code",
   "execution_count": 156,
   "metadata": {},
   "outputs": [],
   "source": [
    "ckpts = [\n",
    "    'epoch=090-val_loss=0.665.ckpt',\n",
    "    'epoch=074-val_loss=0.705.ckpt',\n",
    "    'epoch=061-val_loss=0.585.ckpt',\n",
    "    'epoch=061-val_loss=0.666.ckpt',\n",
    "    'epoch=042-val_loss=0.726.ckpt',\n",
    "    'epoch=067-val_loss=0.692.ckpt',\n",
    "    'epoch=071-val_loss=0.585.ckpt',\n",
    "    'epoch=084-val_loss=0.544.ckpt',\n",
    "    'epoch=040-val_loss=0.620.ckpt',\n",
    "    'epoch=079-val_loss=0.677.ckpt',\n",
    "]\n",
    "ensemble = []\n",
    "for i in range(k_folds):\n",
    "    ensemble.append(\n",
    "        models.MPNN.load_from_checkpoint(f\"{cv_dir}/m{i}/{ckpts[i]}\")\n",
    "    )"
   ]
  },
  {
   "cell_type": "code",
   "execution_count": 159,
   "metadata": {},
   "outputs": [],
   "source": [
    "with torch.inference_mode():\n",
    "    predictions = []\n",
    "    for i in range(k_folds):\n",
    "        tmp_model = ensemble[i]\n",
    "        trainer = pl.Trainer(\n",
    "            logger=None,\n",
    "            enable_progress_bar=False,\n",
    "            devices=[1]\n",
    "        )\n",
    "        preds = trainer.predict(tmp_model, testing_loader)\n",
    "        predictions.append(torch.concat(preds))\n",
    "    \n",
    "    testing_preds = list(torch.concat(predictions, axis=1).mean(axis=1).tolist())"
   ]
  },
  {
   "cell_type": "code",
   "execution_count": 162,
   "metadata": {},
   "outputs": [],
   "source": [
    "with open('pred_14.csv', 'w', newline='') as csvfile:\n",
    "    writer = csv.writer(csvfile, delimiter=',')\n",
    "    writer.writerow(['Results'])\n",
    "    for result in testing_preds:\n",
    "        writer.writerow([result])"
   ]
  },
  {
   "cell_type": "markdown",
   "metadata": {},
   "source": [
    "## HP Optimization"
   ]
  },
  {
   "cell_type": "code",
   "execution_count": 74,
   "metadata": {},
   "outputs": [],
   "source": [
    "def objective(space):\n",
    "    global patience, min_delta, save_chekpoint, max_checkpoints_to_keep\n",
    "    global min_epochs, max_epochs, cv_dir\n",
    "\n",
    "    parameters = {\n",
    "        'batch_size': space['batch_size'],\n",
    "        'warmup_epochs': space['warmup_epochs'],\n",
    "        'init_lr': space['init_lr_ratio'] * space['max_lr'],\n",
    "        'max_lr': space['max_lr'],\n",
    "        'final_lr': space['final_lr_ratio'] * space['max_lr'],\n",
    "        'message_hidden_dim': space['message_hidden_dim'],\n",
    "        'depth': space['depth'],\n",
    "        'message_dropout': space['message_dropout'],\n",
    "        'ffn_hidden_dim': space['ffn_hidden_dim'],\n",
    "        'ffn_num_layers': space['ffn_num_layers'],\n",
    "        'ffn_dropout': space['ffn_dropout'],\n",
    "    }\n",
    "\n",
    "    mean_min_val_score, si_min_val_score, min_val_scores = cv_score_model(\n",
    "        parameters,\n",
    "        training_data,\n",
    "        k=k_folds,\n",
    "        cv_dir=cv_dir,\n",
    "    )\n",
    "\n",
    "    return {\n",
    "        'loss': mean_min_val_score,\n",
    "        'status': STATUS_OK,\n",
    "        'si_loss': si_min_val_score,\n",
    "        'folds_loss': min_val_scores,\n",
    "    }"
   ]
  },
  {
   "cell_type": "code",
   "execution_count": 75,
   "metadata": {},
   "outputs": [],
   "source": [
    "search_space = {\n",
    "    'batch_size': hp.choice('batch_size', [128]),\n",
    "    'warmup_epochs': hp.choice('warmup_epochs', [4]),\n",
    "    'max_lr': 10**hp.quniform('max_lr', -4, -2, 0.4),\n",
    "    'init_lr_ratio': 10**hp.quniform('init_lr_ratio', -2, 0, 1),\n",
    "    'final_lr_ratio': 10**hp.quniform('final_lr_ratio', -2, 0, 1),\n",
    "    'message_hidden_dim': scope.int(2**hp.quniform('message_hidden_dim', 5, 9, 1)),\n",
    "    'depth': scope.int(hp.quniform('depth', 1, 6, 1)),\n",
    "    'message_dropout': hp.quniform('message_dropout', 0.0, 0.5, 0.2),\n",
    "    'ffn_hidden_dim': scope.int(2**hp.quniform('ffn_hidden_dim', 5, 9, 1)),\n",
    "    'ffn_num_layers': scope.int(hp.quniform('ffn_num_layers', 1, 6, 1)),\n",
    "    'ffn_dropout': hp.quniform('ffn_dropout', 0.0, 0.6, 0.2),\n",
    "}"
   ]
  },
  {
   "cell_type": "code",
   "execution_count": 76,
   "metadata": {},
   "outputs": [],
   "source": [
    "trials = Trials()"
   ]
  },
  {
   "cell_type": "code",
   "execution_count": 91,
   "metadata": {},
   "outputs": [],
   "source": [
    "patience = 30\n",
    "min_delta = 0.0\n",
    "save_chekpoint = True\n",
    "max_checkpoints_to_keep = 1\n",
    "\n",
    "min_epochs = 50\n",
    "max_epochs = 250\n",
    "k_folds = 5"
   ]
  },
  {
   "cell_type": "code",
   "execution_count": 92,
   "metadata": {},
   "outputs": [],
   "source": [
    "N_evals = 80\n",
    "save_dir = 'search_4/'\n",
    "cv_dir = save_dir + 'hp_cv_1'\n",
    "rseed = 42 + 12345 * 4\n",
    "\n",
    "if not os.path.exists(save_dir):\n",
    "    os.makedirs(save_dir)"
   ]
  },
  {
   "cell_type": "code",
   "execution_count": 97,
   "metadata": {
    "scrolled": true
   },
   "outputs": [
    {
     "name": "stdout",
     "output_type": "stream",
     "text": [
      "\n",
      "\n",
      " 69%|███████████████████████████████████████████████████████████▏                          | 55/80 [00:00<?, ?trial/s, best loss=?]\u001b[A\u001b[A"
     ]
    },
    {
     "name": "stderr",
     "output_type": "stream",
     "text": [
      "/opt/calculation/anaconda3/envs/chemprop/lib/python3.11/site-packages/lightning/fabric/plugins/environments/slurm.py:204: The `srun` command is available on your system but is not used. HINT: If your intention is to run Lightning on SLURM, prepend your python command with `srun` like so: srun python /opt/calculation/anaconda3/envs/chemprop/lib/python3 ...\n",
      "\n",
      "/opt/calculation/anaconda3/envs/chemprop/lib/python3.11/site-packages/lightning/pytorch/callbacks/model_checkpoint.py:652: Checkpoint directory /home/kashurin/Tox24/dmpnn_try_3/search_4/hp_cv_1/m0 exists and is not empty.\n",
      "\n"
     ]
    },
    {
     "data": {
      "text/html": [
       "<pre style=\"white-space:pre;overflow-x:auto;line-height:normal;font-family:Menlo,'DejaVu Sans Mono',consolas,'Courier New',monospace\">┏━━━━━━━━━━━━━━━━━━━━━━━━━━━┳━━━━━━━━━━━━━━━━━━━━━━━━━━━┓\n",
       "┃<span style=\"font-weight: bold\">        Test metric        </span>┃<span style=\"font-weight: bold\">       DataLoader 0        </span>┃\n",
       "┡━━━━━━━━━━━━━━━━━━━━━━━━━━━╇━━━━━━━━━━━━━━━━━━━━━━━━━━━┩\n",
       "│<span style=\"color: #008080; text-decoration-color: #008080\"> batch_averaged_test/rmse  </span>│<span style=\"color: #800080; text-decoration-color: #800080\">    26.035478591918945     </span>│\n",
       "└───────────────────────────┴───────────────────────────┘\n",
       "</pre>\n"
      ],
      "text/plain": [
       "┏━━━━━━━━━━━━━━━━━━━━━━━━━━━┳━━━━━━━━━━━━━━━━━━━━━━━━━━━┓\n",
       "┃\u001b[1m \u001b[0m\u001b[1m       Test metric       \u001b[0m\u001b[1m \u001b[0m┃\u001b[1m \u001b[0m\u001b[1m      DataLoader 0       \u001b[0m\u001b[1m \u001b[0m┃\n",
       "┡━━━━━━━━━━━━━━━━━━━━━━━━━━━╇━━━━━━━━━━━━━━━━━━━━━━━━━━━┩\n",
       "│\u001b[36m \u001b[0m\u001b[36mbatch_averaged_test/rmse \u001b[0m\u001b[36m \u001b[0m│\u001b[35m \u001b[0m\u001b[35m   26.035478591918945    \u001b[0m\u001b[35m \u001b[0m│\n",
       "└───────────────────────────┴───────────────────────────┘\n"
      ]
     },
     "metadata": {},
     "output_type": "display_data"
    },
    {
     "name": "stdout",
     "output_type": "stream",
     "text": [
      "\n",
      "                                                                                                                                   \n",
      "\n",
      "Fold 1/5; Time 61.813;                                                                                                             \n",
      "\n",
      "Epoch 6: 100%|█████████████████████████████████████████████████| 13/13 [3:50:27<00:00,  0.00it/s, train_loss=0.781, val_loss=0.767]\u001b[A\n",
      "\n",
      "Epoch 17: 100%|████████████████████████████████████████████████| 13/13 [3:42:00<00:00,  0.00it/s, train_loss=0.643, val_loss=0.661]\u001b[A\u001b[A\n",
      "                                                                                                                                   \n",
      "\n",
      "Min val score 26.035; Training epochs 125                                                                                          \n",
      "\n",
      "Epoch 6: 100%|█████████████████████████████████████████████████| 13/13 [3:50:27<00:00,  0.00it/s, train_loss=0.781, val_loss=0.767]\u001b[A\n",
      "\n",
      "Epoch 17: 100%|████████████████████████████████████████████████| 13/13 [3:42:00<00:00,  0.00it/s, train_loss=0.643, val_loss=0.661]\u001b[A\u001b[A"
     ]
    },
    {
     "name": "stderr",
     "output_type": "stream",
     "text": [
      "/opt/calculation/anaconda3/envs/chemprop/lib/python3.11/site-packages/lightning/fabric/plugins/environments/slurm.py:204: The `srun` command is available on your system but is not used. HINT: If your intention is to run Lightning on SLURM, prepend your python command with `srun` like so: srun python /opt/calculation/anaconda3/envs/chemprop/lib/python3 ...\n",
      "\n",
      "/opt/calculation/anaconda3/envs/chemprop/lib/python3.11/site-packages/lightning/pytorch/callbacks/model_checkpoint.py:652: Checkpoint directory /home/kashurin/Tox24/dmpnn_try_3/search_4/hp_cv_1/m1 exists and is not empty.\n",
      "\n"
     ]
    },
    {
     "data": {
      "text/html": [
       "<pre style=\"white-space:pre;overflow-x:auto;line-height:normal;font-family:Menlo,'DejaVu Sans Mono',consolas,'Courier New',monospace\">┏━━━━━━━━━━━━━━━━━━━━━━━━━━━┳━━━━━━━━━━━━━━━━━━━━━━━━━━━┓\n",
       "┃<span style=\"font-weight: bold\">        Test metric        </span>┃<span style=\"font-weight: bold\">       DataLoader 0        </span>┃\n",
       "┡━━━━━━━━━━━━━━━━━━━━━━━━━━━╇━━━━━━━━━━━━━━━━━━━━━━━━━━━┩\n",
       "│<span style=\"color: #008080; text-decoration-color: #008080\"> batch_averaged_test/rmse  </span>│<span style=\"color: #800080; text-decoration-color: #800080\">    25.421306610107422     </span>│\n",
       "└───────────────────────────┴───────────────────────────┘\n",
       "</pre>\n"
      ],
      "text/plain": [
       "┏━━━━━━━━━━━━━━━━━━━━━━━━━━━┳━━━━━━━━━━━━━━━━━━━━━━━━━━━┓\n",
       "┃\u001b[1m \u001b[0m\u001b[1m       Test metric       \u001b[0m\u001b[1m \u001b[0m┃\u001b[1m \u001b[0m\u001b[1m      DataLoader 0       \u001b[0m\u001b[1m \u001b[0m┃\n",
       "┡━━━━━━━━━━━━━━━━━━━━━━━━━━━╇━━━━━━━━━━━━━━━━━━━━━━━━━━━┩\n",
       "│\u001b[36m \u001b[0m\u001b[36mbatch_averaged_test/rmse \u001b[0m\u001b[36m \u001b[0m│\u001b[35m \u001b[0m\u001b[35m   25.421306610107422    \u001b[0m\u001b[35m \u001b[0m│\n",
       "└───────────────────────────┴───────────────────────────┘\n"
      ]
     },
     "metadata": {},
     "output_type": "display_data"
    },
    {
     "name": "stdout",
     "output_type": "stream",
     "text": [
      "\n",
      "                                                                                                                                   \n",
      "\n",
      "Fold 2/5; Time 72.122;                                                                                                             \n",
      "\n",
      "Epoch 6: 100%|█████████████████████████████████████████████████| 13/13 [3:51:39<00:00,  0.00it/s, train_loss=0.781, val_loss=0.767]\u001b[A\n",
      "\n",
      "Epoch 17: 100%|████████████████████████████████████████████████| 13/13 [3:43:12<00:00,  0.00it/s, train_loss=0.643, val_loss=0.661]\u001b[A\u001b[A\n",
      "                                                                                                                                   \n",
      "\n",
      "Min val score 25.421; Training epochs 130                                                                                          \n",
      "\n",
      "Epoch 6: 100%|█████████████████████████████████████████████████| 13/13 [3:51:39<00:00,  0.00it/s, train_loss=0.781, val_loss=0.767]\u001b[A\n",
      "\n",
      "Epoch 17: 100%|████████████████████████████████████████████████| 13/13 [3:43:12<00:00,  0.00it/s, train_loss=0.643, val_loss=0.661]\u001b[A\u001b[A"
     ]
    },
    {
     "name": "stderr",
     "output_type": "stream",
     "text": [
      "/opt/calculation/anaconda3/envs/chemprop/lib/python3.11/site-packages/lightning/fabric/plugins/environments/slurm.py:204: The `srun` command is available on your system but is not used. HINT: If your intention is to run Lightning on SLURM, prepend your python command with `srun` like so: srun python /opt/calculation/anaconda3/envs/chemprop/lib/python3 ...\n",
      "\n",
      "/opt/calculation/anaconda3/envs/chemprop/lib/python3.11/site-packages/lightning/pytorch/callbacks/model_checkpoint.py:652: Checkpoint directory /home/kashurin/Tox24/dmpnn_try_3/search_4/hp_cv_1/m2 exists and is not empty.\n",
      "\n"
     ]
    },
    {
     "data": {
      "text/html": [
       "<pre style=\"white-space:pre;overflow-x:auto;line-height:normal;font-family:Menlo,'DejaVu Sans Mono',consolas,'Courier New',monospace\">┏━━━━━━━━━━━━━━━━━━━━━━━━━━━┳━━━━━━━━━━━━━━━━━━━━━━━━━━━┓\n",
       "┃<span style=\"font-weight: bold\">        Test metric        </span>┃<span style=\"font-weight: bold\">       DataLoader 0        </span>┃\n",
       "┡━━━━━━━━━━━━━━━━━━━━━━━━━━━╇━━━━━━━━━━━━━━━━━━━━━━━━━━━┩\n",
       "│<span style=\"color: #008080; text-decoration-color: #008080\"> batch_averaged_test/rmse  </span>│<span style=\"color: #800080; text-decoration-color: #800080\">    24.555025100708008     </span>│\n",
       "└───────────────────────────┴───────────────────────────┘\n",
       "</pre>\n"
      ],
      "text/plain": [
       "┏━━━━━━━━━━━━━━━━━━━━━━━━━━━┳━━━━━━━━━━━━━━━━━━━━━━━━━━━┓\n",
       "┃\u001b[1m \u001b[0m\u001b[1m       Test metric       \u001b[0m\u001b[1m \u001b[0m┃\u001b[1m \u001b[0m\u001b[1m      DataLoader 0       \u001b[0m\u001b[1m \u001b[0m┃\n",
       "┡━━━━━━━━━━━━━━━━━━━━━━━━━━━╇━━━━━━━━━━━━━━━━━━━━━━━━━━━┩\n",
       "│\u001b[36m \u001b[0m\u001b[36mbatch_averaged_test/rmse \u001b[0m\u001b[36m \u001b[0m│\u001b[35m \u001b[0m\u001b[35m   24.555025100708008    \u001b[0m\u001b[35m \u001b[0m│\n",
       "└───────────────────────────┴───────────────────────────┘\n"
      ]
     },
     "metadata": {},
     "output_type": "display_data"
    },
    {
     "name": "stdout",
     "output_type": "stream",
     "text": [
      "\n",
      "                                                                                                                                   \n",
      "\n",
      "Fold 3/5; Time 59.253;                                                                                                             \n",
      "\n",
      "Epoch 6: 100%|█████████████████████████████████████████████████| 13/13 [3:52:38<00:00,  0.00it/s, train_loss=0.781, val_loss=0.767]\u001b[A\n",
      "\n",
      "Epoch 17: 100%|████████████████████████████████████████████████| 13/13 [3:44:11<00:00,  0.00it/s, train_loss=0.643, val_loss=0.661]\u001b[A\u001b[A\n",
      "                                                                                                                                   \n",
      "\n",
      "Min val score 24.555; Training epochs 95                                                                                           \n",
      "\n",
      "Epoch 6: 100%|█████████████████████████████████████████████████| 13/13 [3:52:38<00:00,  0.00it/s, train_loss=0.781, val_loss=0.767]\u001b[A\n",
      "\n",
      "Epoch 17: 100%|████████████████████████████████████████████████| 13/13 [3:44:11<00:00,  0.00it/s, train_loss=0.643, val_loss=0.661]\u001b[A\u001b[A"
     ]
    },
    {
     "name": "stderr",
     "output_type": "stream",
     "text": [
      "/opt/calculation/anaconda3/envs/chemprop/lib/python3.11/site-packages/lightning/fabric/plugins/environments/slurm.py:204: The `srun` command is available on your system but is not used. HINT: If your intention is to run Lightning on SLURM, prepend your python command with `srun` like so: srun python /opt/calculation/anaconda3/envs/chemprop/lib/python3 ...\n",
      "\n",
      "/opt/calculation/anaconda3/envs/chemprop/lib/python3.11/site-packages/lightning/pytorch/callbacks/model_checkpoint.py:652: Checkpoint directory /home/kashurin/Tox24/dmpnn_try_3/search_4/hp_cv_1/m3 exists and is not empty.\n",
      "\n"
     ]
    },
    {
     "data": {
      "text/html": [
       "<pre style=\"white-space:pre;overflow-x:auto;line-height:normal;font-family:Menlo,'DejaVu Sans Mono',consolas,'Courier New',monospace\">┏━━━━━━━━━━━━━━━━━━━━━━━━━━━┳━━━━━━━━━━━━━━━━━━━━━━━━━━━┓\n",
       "┃<span style=\"font-weight: bold\">        Test metric        </span>┃<span style=\"font-weight: bold\">       DataLoader 0        </span>┃\n",
       "┡━━━━━━━━━━━━━━━━━━━━━━━━━━━╇━━━━━━━━━━━━━━━━━━━━━━━━━━━┩\n",
       "│<span style=\"color: #008080; text-decoration-color: #008080\"> batch_averaged_test/rmse  </span>│<span style=\"color: #800080; text-decoration-color: #800080\">     24.8663272857666      </span>│\n",
       "└───────────────────────────┴───────────────────────────┘\n",
       "</pre>\n"
      ],
      "text/plain": [
       "┏━━━━━━━━━━━━━━━━━━━━━━━━━━━┳━━━━━━━━━━━━━━━━━━━━━━━━━━━┓\n",
       "┃\u001b[1m \u001b[0m\u001b[1m       Test metric       \u001b[0m\u001b[1m \u001b[0m┃\u001b[1m \u001b[0m\u001b[1m      DataLoader 0       \u001b[0m\u001b[1m \u001b[0m┃\n",
       "┡━━━━━━━━━━━━━━━━━━━━━━━━━━━╇━━━━━━━━━━━━━━━━━━━━━━━━━━━┩\n",
       "│\u001b[36m \u001b[0m\u001b[36mbatch_averaged_test/rmse \u001b[0m\u001b[36m \u001b[0m│\u001b[35m \u001b[0m\u001b[35m    24.8663272857666     \u001b[0m\u001b[35m \u001b[0m│\n",
       "└───────────────────────────┴───────────────────────────┘\n"
      ]
     },
     "metadata": {},
     "output_type": "display_data"
    },
    {
     "name": "stdout",
     "output_type": "stream",
     "text": [
      "\n",
      "                                                                                                                                   \n",
      "\n",
      "Fold 4/5; Time 103.570;                                                                                                            \n",
      "\n",
      "Epoch 6: 100%|█████████████████████████████████████████████████| 13/13 [3:54:22<00:00,  0.00it/s, train_loss=0.781, val_loss=0.767]\u001b[A\n",
      "\n",
      "Epoch 17: 100%|████████████████████████████████████████████████| 13/13 [3:45:55<00:00,  0.00it/s, train_loss=0.643, val_loss=0.661]\u001b[A\u001b[A\n",
      "                                                                                                                                   \n",
      "\n",
      "Min val score 24.866; Training epochs 208                                                                                          \n",
      "\n",
      "Epoch 6: 100%|█████████████████████████████████████████████████| 13/13 [3:54:22<00:00,  0.00it/s, train_loss=0.781, val_loss=0.767]\u001b[A\n",
      "\n",
      "Epoch 17: 100%|████████████████████████████████████████████████| 13/13 [3:45:55<00:00,  0.00it/s, train_loss=0.643, val_loss=0.661]\u001b[A\u001b[A"
     ]
    },
    {
     "name": "stderr",
     "output_type": "stream",
     "text": [
      "/opt/calculation/anaconda3/envs/chemprop/lib/python3.11/site-packages/lightning/fabric/plugins/environments/slurm.py:204: The `srun` command is available on your system but is not used. HINT: If your intention is to run Lightning on SLURM, prepend your python command with `srun` like so: srun python /opt/calculation/anaconda3/envs/chemprop/lib/python3 ...\n",
      "\n",
      "/opt/calculation/anaconda3/envs/chemprop/lib/python3.11/site-packages/lightning/pytorch/callbacks/model_checkpoint.py:652: Checkpoint directory /home/kashurin/Tox24/dmpnn_try_3/search_4/hp_cv_1/m4 exists and is not empty.\n",
      "\n"
     ]
    },
    {
     "data": {
      "text/html": [
       "<pre style=\"white-space:pre;overflow-x:auto;line-height:normal;font-family:Menlo,'DejaVu Sans Mono',consolas,'Courier New',monospace\">┏━━━━━━━━━━━━━━━━━━━━━━━━━━━┳━━━━━━━━━━━━━━━━━━━━━━━━━━━┓\n",
       "┃<span style=\"font-weight: bold\">        Test metric        </span>┃<span style=\"font-weight: bold\">       DataLoader 0        </span>┃\n",
       "┡━━━━━━━━━━━━━━━━━━━━━━━━━━━╇━━━━━━━━━━━━━━━━━━━━━━━━━━━┩\n",
       "│<span style=\"color: #008080; text-decoration-color: #008080\"> batch_averaged_test/rmse  </span>│<span style=\"color: #800080; text-decoration-color: #800080\">     27.01470184326172     </span>│\n",
       "└───────────────────────────┴───────────────────────────┘\n",
       "</pre>\n"
      ],
      "text/plain": [
       "┏━━━━━━━━━━━━━━━━━━━━━━━━━━━┳━━━━━━━━━━━━━━━━━━━━━━━━━━━┓\n",
       "┃\u001b[1m \u001b[0m\u001b[1m       Test metric       \u001b[0m\u001b[1m \u001b[0m┃\u001b[1m \u001b[0m\u001b[1m      DataLoader 0       \u001b[0m\u001b[1m \u001b[0m┃\n",
       "┡━━━━━━━━━━━━━━━━━━━━━━━━━━━╇━━━━━━━━━━━━━━━━━━━━━━━━━━━┩\n",
       "│\u001b[36m \u001b[0m\u001b[36mbatch_averaged_test/rmse \u001b[0m\u001b[36m \u001b[0m│\u001b[35m \u001b[0m\u001b[35m    27.01470184326172    \u001b[0m\u001b[35m \u001b[0m│\n",
       "└───────────────────────────┴───────────────────────────┘\n"
      ]
     },
     "metadata": {},
     "output_type": "display_data"
    },
    {
     "name": "stdout",
     "output_type": "stream",
     "text": [
      "\n",
      "                                                                                                                                   \n",
      "\n",
      "Fold 5/5; Time 95.748;                                                                                                             \n",
      "\n",
      "Epoch 6: 100%|█████████████████████████████████████████████████| 13/13 [3:55:58<00:00,  0.00it/s, train_loss=0.781, val_loss=0.767]\u001b[A\n",
      "\n",
      "Epoch 17: 100%|████████████████████████████████████████████████| 13/13 [3:47:31<00:00,  0.00it/s, train_loss=0.643, val_loss=0.661]\u001b[A\u001b[A\n",
      "                                                                                                                                   \n",
      "\n",
      "Min val score 27.015; Training epochs 184                                                                                          \n",
      "\n",
      "Epoch 6: 100%|█████████████████████████████████████████████████| 13/13 [3:55:58<00:00,  0.00it/s, train_loss=0.781, val_loss=0.767]\u001b[A\n",
      "\n",
      "Epoch 17: 100%|████████████████████████████████████████████████| 13/13 [3:47:31<00:00,  0.00it/s, train_loss=0.643, val_loss=0.661]\u001b[A\u001b[A\n",
      "\n",
      " 70%|███████████████████████████████████████▉                 | 56/80 [06:32<2:37:04, 392.67s/trial, best loss: 24.127126693725586]\u001b[A\u001b[A"
     ]
    },
    {
     "name": "stderr",
     "output_type": "stream",
     "text": [
      "/opt/calculation/anaconda3/envs/chemprop/lib/python3.11/site-packages/lightning/fabric/plugins/environments/slurm.py:204: The `srun` command is available on your system but is not used. HINT: If your intention is to run Lightning on SLURM, prepend your python command with `srun` like so: srun python /opt/calculation/anaconda3/envs/chemprop/lib/python3 ...\n",
      "\n",
      "/opt/calculation/anaconda3/envs/chemprop/lib/python3.11/site-packages/lightning/pytorch/callbacks/model_checkpoint.py:652: Checkpoint directory /home/kashurin/Tox24/dmpnn_try_3/search_4/hp_cv_1/m0 exists and is not empty.\n",
      "\n"
     ]
    },
    {
     "data": {
      "text/html": [
       "<pre style=\"white-space:pre;overflow-x:auto;line-height:normal;font-family:Menlo,'DejaVu Sans Mono',consolas,'Courier New',monospace\">┏━━━━━━━━━━━━━━━━━━━━━━━━━━━┳━━━━━━━━━━━━━━━━━━━━━━━━━━━┓\n",
       "┃<span style=\"font-weight: bold\">        Test metric        </span>┃<span style=\"font-weight: bold\">       DataLoader 0        </span>┃\n",
       "┡━━━━━━━━━━━━━━━━━━━━━━━━━━━╇━━━━━━━━━━━━━━━━━━━━━━━━━━━┩\n",
       "│<span style=\"color: #008080; text-decoration-color: #008080\"> batch_averaged_test/rmse  </span>│<span style=\"color: #800080; text-decoration-color: #800080\">    27.753690719604492     </span>│\n",
       "└───────────────────────────┴───────────────────────────┘\n",
       "</pre>\n"
      ],
      "text/plain": [
       "┏━━━━━━━━━━━━━━━━━━━━━━━━━━━┳━━━━━━━━━━━━━━━━━━━━━━━━━━━┓\n",
       "┃\u001b[1m \u001b[0m\u001b[1m       Test metric       \u001b[0m\u001b[1m \u001b[0m┃\u001b[1m \u001b[0m\u001b[1m      DataLoader 0       \u001b[0m\u001b[1m \u001b[0m┃\n",
       "┡━━━━━━━━━━━━━━━━━━━━━━━━━━━╇━━━━━━━━━━━━━━━━━━━━━━━━━━━┩\n",
       "│\u001b[36m \u001b[0m\u001b[36mbatch_averaged_test/rmse \u001b[0m\u001b[36m \u001b[0m│\u001b[35m \u001b[0m\u001b[35m   27.753690719604492    \u001b[0m\u001b[35m \u001b[0m│\n",
       "└───────────────────────────┴───────────────────────────┘\n"
      ]
     },
     "metadata": {},
     "output_type": "display_data"
    },
    {
     "name": "stdout",
     "output_type": "stream",
     "text": [
      "\n",
      "                                                                                                                                   \n",
      "\n",
      "Fold 1/5; Time 21.794;                                                                                                             \n",
      "\n",
      "Epoch 6: 100%|█████████████████████████████████████████████████| 13/13 [3:56:20<00:00,  0.00it/s, train_loss=0.781, val_loss=0.767]\u001b[A\n",
      "\n",
      "Epoch 17: 100%|████████████████████████████████████████████████| 13/13 [3:47:52<00:00,  0.00it/s, train_loss=0.643, val_loss=0.661]\u001b[A\u001b[A\n",
      "                                                                                                                                   \n",
      "\n",
      "Min val score 27.754; Training epochs 52                                                                                           \n",
      "\n",
      "Epoch 6: 100%|█████████████████████████████████████████████████| 13/13 [3:56:20<00:00,  0.00it/s, train_loss=0.781, val_loss=0.767]\u001b[A\n",
      "\n",
      "Epoch 17: 100%|████████████████████████████████████████████████| 13/13 [3:47:52<00:00,  0.00it/s, train_loss=0.643, val_loss=0.661]\u001b[A\u001b[A"
     ]
    },
    {
     "name": "stderr",
     "output_type": "stream",
     "text": [
      "/opt/calculation/anaconda3/envs/chemprop/lib/python3.11/site-packages/lightning/fabric/plugins/environments/slurm.py:204: The `srun` command is available on your system but is not used. HINT: If your intention is to run Lightning on SLURM, prepend your python command with `srun` like so: srun python /opt/calculation/anaconda3/envs/chemprop/lib/python3 ...\n",
      "\n",
      "/opt/calculation/anaconda3/envs/chemprop/lib/python3.11/site-packages/lightning/pytorch/callbacks/model_checkpoint.py:652: Checkpoint directory /home/kashurin/Tox24/dmpnn_try_3/search_4/hp_cv_1/m1 exists and is not empty.\n",
      "\n"
     ]
    },
    {
     "data": {
      "text/html": [
       "<pre style=\"white-space:pre;overflow-x:auto;line-height:normal;font-family:Menlo,'DejaVu Sans Mono',consolas,'Courier New',monospace\">┏━━━━━━━━━━━━━━━━━━━━━━━━━━━┳━━━━━━━━━━━━━━━━━━━━━━━━━━━┓\n",
       "┃<span style=\"font-weight: bold\">        Test metric        </span>┃<span style=\"font-weight: bold\">       DataLoader 0        </span>┃\n",
       "┡━━━━━━━━━━━━━━━━━━━━━━━━━━━╇━━━━━━━━━━━━━━━━━━━━━━━━━━━┩\n",
       "│<span style=\"color: #008080; text-decoration-color: #008080\"> batch_averaged_test/rmse  </span>│<span style=\"color: #800080; text-decoration-color: #800080\">    26.334373474121094     </span>│\n",
       "└───────────────────────────┴───────────────────────────┘\n",
       "</pre>\n"
      ],
      "text/plain": [
       "┏━━━━━━━━━━━━━━━━━━━━━━━━━━━┳━━━━━━━━━━━━━━━━━━━━━━━━━━━┓\n",
       "┃\u001b[1m \u001b[0m\u001b[1m       Test metric       \u001b[0m\u001b[1m \u001b[0m┃\u001b[1m \u001b[0m\u001b[1m      DataLoader 0       \u001b[0m\u001b[1m \u001b[0m┃\n",
       "┡━━━━━━━━━━━━━━━━━━━━━━━━━━━╇━━━━━━━━━━━━━━━━━━━━━━━━━━━┩\n",
       "│\u001b[36m \u001b[0m\u001b[36mbatch_averaged_test/rmse \u001b[0m\u001b[36m \u001b[0m│\u001b[35m \u001b[0m\u001b[35m   26.334373474121094    \u001b[0m\u001b[35m \u001b[0m│\n",
       "└───────────────────────────┴───────────────────────────┘\n"
      ]
     },
     "metadata": {},
     "output_type": "display_data"
    },
    {
     "name": "stdout",
     "output_type": "stream",
     "text": [
      "\n",
      "                                                                                                                                   \n",
      "\n",
      "Fold 2/5; Time 30.586;                                                                                                             \n",
      "\n",
      "Epoch 6: 100%|█████████████████████████████████████████████████| 13/13 [3:56:50<00:00,  0.00it/s, train_loss=0.781, val_loss=0.767]\u001b[A\n",
      "\n",
      "Epoch 17: 100%|████████████████████████████████████████████████| 13/13 [3:48:23<00:00,  0.00it/s, train_loss=0.643, val_loss=0.661]\u001b[A\u001b[A\n",
      "                                                                                                                                   \n",
      "\n",
      "Min val score 26.334; Training epochs 72                                                                                           \n",
      "\n",
      "Epoch 6: 100%|█████████████████████████████████████████████████| 13/13 [3:56:50<00:00,  0.00it/s, train_loss=0.781, val_loss=0.767]\u001b[A\n",
      "\n",
      "Epoch 17: 100%|████████████████████████████████████████████████| 13/13 [3:48:23<00:00,  0.00it/s, train_loss=0.643, val_loss=0.661]\u001b[A\u001b[A"
     ]
    },
    {
     "name": "stderr",
     "output_type": "stream",
     "text": [
      "/opt/calculation/anaconda3/envs/chemprop/lib/python3.11/site-packages/lightning/fabric/plugins/environments/slurm.py:204: The `srun` command is available on your system but is not used. HINT: If your intention is to run Lightning on SLURM, prepend your python command with `srun` like so: srun python /opt/calculation/anaconda3/envs/chemprop/lib/python3 ...\n",
      "\n",
      "/opt/calculation/anaconda3/envs/chemprop/lib/python3.11/site-packages/lightning/pytorch/callbacks/model_checkpoint.py:652: Checkpoint directory /home/kashurin/Tox24/dmpnn_try_3/search_4/hp_cv_1/m2 exists and is not empty.\n",
      "\n"
     ]
    },
    {
     "data": {
      "text/html": [
       "<pre style=\"white-space:pre;overflow-x:auto;line-height:normal;font-family:Menlo,'DejaVu Sans Mono',consolas,'Courier New',monospace\">┏━━━━━━━━━━━━━━━━━━━━━━━━━━━┳━━━━━━━━━━━━━━━━━━━━━━━━━━━┓\n",
       "┃<span style=\"font-weight: bold\">        Test metric        </span>┃<span style=\"font-weight: bold\">       DataLoader 0        </span>┃\n",
       "┡━━━━━━━━━━━━━━━━━━━━━━━━━━━╇━━━━━━━━━━━━━━━━━━━━━━━━━━━┩\n",
       "│<span style=\"color: #008080; text-decoration-color: #008080\"> batch_averaged_test/rmse  </span>│<span style=\"color: #800080; text-decoration-color: #800080\">    25.487384796142578     </span>│\n",
       "└───────────────────────────┴───────────────────────────┘\n",
       "</pre>\n"
      ],
      "text/plain": [
       "┏━━━━━━━━━━━━━━━━━━━━━━━━━━━┳━━━━━━━━━━━━━━━━━━━━━━━━━━━┓\n",
       "┃\u001b[1m \u001b[0m\u001b[1m       Test metric       \u001b[0m\u001b[1m \u001b[0m┃\u001b[1m \u001b[0m\u001b[1m      DataLoader 0       \u001b[0m\u001b[1m \u001b[0m┃\n",
       "┡━━━━━━━━━━━━━━━━━━━━━━━━━━━╇━━━━━━━━━━━━━━━━━━━━━━━━━━━┩\n",
       "│\u001b[36m \u001b[0m\u001b[36mbatch_averaged_test/rmse \u001b[0m\u001b[36m \u001b[0m│\u001b[35m \u001b[0m\u001b[35m   25.487384796142578    \u001b[0m\u001b[35m \u001b[0m│\n",
       "└───────────────────────────┴───────────────────────────┘\n"
      ]
     },
     "metadata": {},
     "output_type": "display_data"
    },
    {
     "name": "stdout",
     "output_type": "stream",
     "text": [
      "\n",
      "                                                                                                                                   \n",
      "\n",
      "Fold 3/5; Time 29.271;                                                                                                             \n",
      "\n",
      "Epoch 6: 100%|█████████████████████████████████████████████████| 13/13 [3:57:20<00:00,  0.00it/s, train_loss=0.781, val_loss=0.767]\u001b[A\n",
      "\n",
      "Epoch 17: 100%|████████████████████████████████████████████████| 13/13 [3:48:52<00:00,  0.00it/s, train_loss=0.643, val_loss=0.661]\u001b[A\u001b[A\n",
      "                                                                                                                                   \n",
      "\n",
      "Min val score 25.487; Training epochs 69                                                                                           \n",
      "\n",
      "Epoch 6: 100%|█████████████████████████████████████████████████| 13/13 [3:57:20<00:00,  0.00it/s, train_loss=0.781, val_loss=0.767]\u001b[A\n",
      "\n",
      "Epoch 17: 100%|████████████████████████████████████████████████| 13/13 [3:48:52<00:00,  0.00it/s, train_loss=0.643, val_loss=0.661]\u001b[A\u001b[A"
     ]
    },
    {
     "name": "stderr",
     "output_type": "stream",
     "text": [
      "/opt/calculation/anaconda3/envs/chemprop/lib/python3.11/site-packages/lightning/fabric/plugins/environments/slurm.py:204: The `srun` command is available on your system but is not used. HINT: If your intention is to run Lightning on SLURM, prepend your python command with `srun` like so: srun python /opt/calculation/anaconda3/envs/chemprop/lib/python3 ...\n",
      "\n",
      "/opt/calculation/anaconda3/envs/chemprop/lib/python3.11/site-packages/lightning/pytorch/callbacks/model_checkpoint.py:652: Checkpoint directory /home/kashurin/Tox24/dmpnn_try_3/search_4/hp_cv_1/m3 exists and is not empty.\n",
      "\n"
     ]
    },
    {
     "data": {
      "text/html": [
       "<pre style=\"white-space:pre;overflow-x:auto;line-height:normal;font-family:Menlo,'DejaVu Sans Mono',consolas,'Courier New',monospace\">┏━━━━━━━━━━━━━━━━━━━━━━━━━━━┳━━━━━━━━━━━━━━━━━━━━━━━━━━━┓\n",
       "┃<span style=\"font-weight: bold\">        Test metric        </span>┃<span style=\"font-weight: bold\">       DataLoader 0        </span>┃\n",
       "┡━━━━━━━━━━━━━━━━━━━━━━━━━━━╇━━━━━━━━━━━━━━━━━━━━━━━━━━━┩\n",
       "│<span style=\"color: #008080; text-decoration-color: #008080\"> batch_averaged_test/rmse  </span>│<span style=\"color: #800080; text-decoration-color: #800080\">     24.4941349029541      </span>│\n",
       "└───────────────────────────┴───────────────────────────┘\n",
       "</pre>\n"
      ],
      "text/plain": [
       "┏━━━━━━━━━━━━━━━━━━━━━━━━━━━┳━━━━━━━━━━━━━━━━━━━━━━━━━━━┓\n",
       "┃\u001b[1m \u001b[0m\u001b[1m       Test metric       \u001b[0m\u001b[1m \u001b[0m┃\u001b[1m \u001b[0m\u001b[1m      DataLoader 0       \u001b[0m\u001b[1m \u001b[0m┃\n",
       "┡━━━━━━━━━━━━━━━━━━━━━━━━━━━╇━━━━━━━━━━━━━━━━━━━━━━━━━━━┩\n",
       "│\u001b[36m \u001b[0m\u001b[36mbatch_averaged_test/rmse \u001b[0m\u001b[36m \u001b[0m│\u001b[35m \u001b[0m\u001b[35m    24.4941349029541     \u001b[0m\u001b[35m \u001b[0m│\n",
       "└───────────────────────────┴───────────────────────────┘\n"
      ]
     },
     "metadata": {},
     "output_type": "display_data"
    },
    {
     "name": "stdout",
     "output_type": "stream",
     "text": [
      "\n",
      "                                                                                                                                   \n",
      "\n",
      "Fold 4/5; Time 21.473;                                                                                                             \n",
      "\n",
      "Epoch 6: 100%|█████████████████████████████████████████████████| 13/13 [3:57:41<00:00,  0.00it/s, train_loss=0.781, val_loss=0.767]\u001b[A\n",
      "\n",
      "Epoch 17: 100%|████████████████████████████████████████████████| 13/13 [3:49:14<00:00,  0.00it/s, train_loss=0.643, val_loss=0.661]\u001b[A\u001b[A\n",
      "                                                                                                                                   \n",
      "\n",
      "Min val score 24.494; Training epochs 50                                                                                           \n",
      "\n",
      "Epoch 6: 100%|█████████████████████████████████████████████████| 13/13 [3:57:41<00:00,  0.00it/s, train_loss=0.781, val_loss=0.767]\u001b[A\n",
      "\n",
      "Epoch 17: 100%|████████████████████████████████████████████████| 13/13 [3:49:14<00:00,  0.00it/s, train_loss=0.643, val_loss=0.661]\u001b[A\u001b[A"
     ]
    },
    {
     "name": "stderr",
     "output_type": "stream",
     "text": [
      "/opt/calculation/anaconda3/envs/chemprop/lib/python3.11/site-packages/lightning/fabric/plugins/environments/slurm.py:204: The `srun` command is available on your system but is not used. HINT: If your intention is to run Lightning on SLURM, prepend your python command with `srun` like so: srun python /opt/calculation/anaconda3/envs/chemprop/lib/python3 ...\n",
      "\n",
      "/opt/calculation/anaconda3/envs/chemprop/lib/python3.11/site-packages/lightning/pytorch/callbacks/model_checkpoint.py:652: Checkpoint directory /home/kashurin/Tox24/dmpnn_try_3/search_4/hp_cv_1/m4 exists and is not empty.\n",
      "\n"
     ]
    },
    {
     "data": {
      "text/html": [
       "<pre style=\"white-space:pre;overflow-x:auto;line-height:normal;font-family:Menlo,'DejaVu Sans Mono',consolas,'Courier New',monospace\">┏━━━━━━━━━━━━━━━━━━━━━━━━━━━┳━━━━━━━━━━━━━━━━━━━━━━━━━━━┓\n",
       "┃<span style=\"font-weight: bold\">        Test metric        </span>┃<span style=\"font-weight: bold\">       DataLoader 0        </span>┃\n",
       "┡━━━━━━━━━━━━━━━━━━━━━━━━━━━╇━━━━━━━━━━━━━━━━━━━━━━━━━━━┩\n",
       "│<span style=\"color: #008080; text-decoration-color: #008080\"> batch_averaged_test/rmse  </span>│<span style=\"color: #800080; text-decoration-color: #800080\">    27.710407257080078     </span>│\n",
       "└───────────────────────────┴───────────────────────────┘\n",
       "</pre>\n"
      ],
      "text/plain": [
       "┏━━━━━━━━━━━━━━━━━━━━━━━━━━━┳━━━━━━━━━━━━━━━━━━━━━━━━━━━┓\n",
       "┃\u001b[1m \u001b[0m\u001b[1m       Test metric       \u001b[0m\u001b[1m \u001b[0m┃\u001b[1m \u001b[0m\u001b[1m      DataLoader 0       \u001b[0m\u001b[1m \u001b[0m┃\n",
       "┡━━━━━━━━━━━━━━━━━━━━━━━━━━━╇━━━━━━━━━━━━━━━━━━━━━━━━━━━┩\n",
       "│\u001b[36m \u001b[0m\u001b[36mbatch_averaged_test/rmse \u001b[0m\u001b[36m \u001b[0m│\u001b[35m \u001b[0m\u001b[35m   27.710407257080078    \u001b[0m\u001b[35m \u001b[0m│\n",
       "└───────────────────────────┴───────────────────────────┘\n"
      ]
     },
     "metadata": {},
     "output_type": "display_data"
    },
    {
     "name": "stdout",
     "output_type": "stream",
     "text": [
      "\n",
      "                                                                                                                                   \n",
      "\n",
      "Fold 5/5; Time 21.174;                                                                                                             \n",
      "\n",
      "Epoch 6: 100%|█████████████████████████████████████████████████| 13/13 [3:58:02<00:00,  0.00it/s, train_loss=0.781, val_loss=0.767]\u001b[A\n",
      "\n",
      "Epoch 17: 100%|████████████████████████████████████████████████| 13/13 [3:49:35<00:00,  0.00it/s, train_loss=0.643, val_loss=0.661]\u001b[A\u001b[A\n",
      "                                                                                                                                   \n",
      "\n",
      "Min val score 27.710; Training epochs 50                                                                                           \n",
      "\n",
      "Epoch 6: 100%|█████████████████████████████████████████████████| 13/13 [3:58:02<00:00,  0.00it/s, train_loss=0.781, val_loss=0.767]\u001b[A\n",
      "\n",
      "Epoch 17: 100%|████████████████████████████████████████████████| 13/13 [3:49:35<00:00,  0.00it/s, train_loss=0.643, val_loss=0.661]\u001b[A\u001b[A\n",
      "\n",
      " 71%|████████████████████████████████████████▌                | 57/80 [08:37<1:30:02, 234.91s/trial, best loss: 24.127126693725586]\u001b[A\u001b[A"
     ]
    },
    {
     "name": "stderr",
     "output_type": "stream",
     "text": [
      "/opt/calculation/anaconda3/envs/chemprop/lib/python3.11/site-packages/lightning/fabric/plugins/environments/slurm.py:204: The `srun` command is available on your system but is not used. HINT: If your intention is to run Lightning on SLURM, prepend your python command with `srun` like so: srun python /opt/calculation/anaconda3/envs/chemprop/lib/python3 ...\n",
      "\n",
      "/opt/calculation/anaconda3/envs/chemprop/lib/python3.11/site-packages/lightning/pytorch/callbacks/model_checkpoint.py:652: Checkpoint directory /home/kashurin/Tox24/dmpnn_try_3/search_4/hp_cv_1/m0 exists and is not empty.\n",
      "\n"
     ]
    },
    {
     "data": {
      "text/html": [
       "<pre style=\"white-space:pre;overflow-x:auto;line-height:normal;font-family:Menlo,'DejaVu Sans Mono',consolas,'Courier New',monospace\">┏━━━━━━━━━━━━━━━━━━━━━━━━━━━┳━━━━━━━━━━━━━━━━━━━━━━━━━━━┓\n",
       "┃<span style=\"font-weight: bold\">        Test metric        </span>┃<span style=\"font-weight: bold\">       DataLoader 0        </span>┃\n",
       "┡━━━━━━━━━━━━━━━━━━━━━━━━━━━╇━━━━━━━━━━━━━━━━━━━━━━━━━━━┩\n",
       "│<span style=\"color: #008080; text-decoration-color: #008080\"> batch_averaged_test/rmse  </span>│<span style=\"color: #800080; text-decoration-color: #800080\">    25.927513122558594     </span>│\n",
       "└───────────────────────────┴───────────────────────────┘\n",
       "</pre>\n"
      ],
      "text/plain": [
       "┏━━━━━━━━━━━━━━━━━━━━━━━━━━━┳━━━━━━━━━━━━━━━━━━━━━━━━━━━┓\n",
       "┃\u001b[1m \u001b[0m\u001b[1m       Test metric       \u001b[0m\u001b[1m \u001b[0m┃\u001b[1m \u001b[0m\u001b[1m      DataLoader 0       \u001b[0m\u001b[1m \u001b[0m┃\n",
       "┡━━━━━━━━━━━━━━━━━━━━━━━━━━━╇━━━━━━━━━━━━━━━━━━━━━━━━━━━┩\n",
       "│\u001b[36m \u001b[0m\u001b[36mbatch_averaged_test/rmse \u001b[0m\u001b[36m \u001b[0m│\u001b[35m \u001b[0m\u001b[35m   25.927513122558594    \u001b[0m\u001b[35m \u001b[0m│\n",
       "└───────────────────────────┴───────────────────────────┘\n"
      ]
     },
     "metadata": {},
     "output_type": "display_data"
    },
    {
     "name": "stdout",
     "output_type": "stream",
     "text": [
      "\n",
      "                                                                                                                                   \n",
      "\n",
      "Fold 1/5; Time 37.069;                                                                                                             \n",
      "\n",
      "Epoch 6: 100%|█████████████████████████████████████████████████| 13/13 [3:58:39<00:00,  0.00it/s, train_loss=0.781, val_loss=0.767]\u001b[A\n",
      "\n",
      "Epoch 17: 100%|████████████████████████████████████████████████| 13/13 [3:50:12<00:00,  0.00it/s, train_loss=0.643, val_loss=0.661]\u001b[A\u001b[A\n",
      "                                                                                                                                   \n",
      "\n",
      "Min val score 25.928; Training epochs 80                                                                                           \n",
      "\n",
      "Epoch 6: 100%|█████████████████████████████████████████████████| 13/13 [3:58:39<00:00,  0.00it/s, train_loss=0.781, val_loss=0.767]\u001b[A\n",
      "\n",
      "Epoch 17: 100%|████████████████████████████████████████████████| 13/13 [3:50:12<00:00,  0.00it/s, train_loss=0.643, val_loss=0.661]\u001b[A\u001b[A"
     ]
    },
    {
     "name": "stderr",
     "output_type": "stream",
     "text": [
      "/opt/calculation/anaconda3/envs/chemprop/lib/python3.11/site-packages/lightning/fabric/plugins/environments/slurm.py:204: The `srun` command is available on your system but is not used. HINT: If your intention is to run Lightning on SLURM, prepend your python command with `srun` like so: srun python /opt/calculation/anaconda3/envs/chemprop/lib/python3 ...\n",
      "\n",
      "/opt/calculation/anaconda3/envs/chemprop/lib/python3.11/site-packages/lightning/pytorch/callbacks/model_checkpoint.py:652: Checkpoint directory /home/kashurin/Tox24/dmpnn_try_3/search_4/hp_cv_1/m1 exists and is not empty.\n",
      "\n"
     ]
    },
    {
     "data": {
      "text/html": [
       "<pre style=\"white-space:pre;overflow-x:auto;line-height:normal;font-family:Menlo,'DejaVu Sans Mono',consolas,'Courier New',monospace\">┏━━━━━━━━━━━━━━━━━━━━━━━━━━━┳━━━━━━━━━━━━━━━━━━━━━━━━━━━┓\n",
       "┃<span style=\"font-weight: bold\">        Test metric        </span>┃<span style=\"font-weight: bold\">       DataLoader 0        </span>┃\n",
       "┡━━━━━━━━━━━━━━━━━━━━━━━━━━━╇━━━━━━━━━━━━━━━━━━━━━━━━━━━┩\n",
       "│<span style=\"color: #008080; text-decoration-color: #008080\"> batch_averaged_test/rmse  </span>│<span style=\"color: #800080; text-decoration-color: #800080\">    24.577510833740234     </span>│\n",
       "└───────────────────────────┴───────────────────────────┘\n",
       "</pre>\n"
      ],
      "text/plain": [
       "┏━━━━━━━━━━━━━━━━━━━━━━━━━━━┳━━━━━━━━━━━━━━━━━━━━━━━━━━━┓\n",
       "┃\u001b[1m \u001b[0m\u001b[1m       Test metric       \u001b[0m\u001b[1m \u001b[0m┃\u001b[1m \u001b[0m\u001b[1m      DataLoader 0       \u001b[0m\u001b[1m \u001b[0m┃\n",
       "┡━━━━━━━━━━━━━━━━━━━━━━━━━━━╇━━━━━━━━━━━━━━━━━━━━━━━━━━━┩\n",
       "│\u001b[36m \u001b[0m\u001b[36mbatch_averaged_test/rmse \u001b[0m\u001b[36m \u001b[0m│\u001b[35m \u001b[0m\u001b[35m   24.577510833740234    \u001b[0m\u001b[35m \u001b[0m│\n",
       "└───────────────────────────┴───────────────────────────┘\n"
      ]
     },
     "metadata": {},
     "output_type": "display_data"
    },
    {
     "name": "stdout",
     "output_type": "stream",
     "text": [
      "\n",
      "                                                                                                                                   \n",
      "\n",
      "Fold 2/5; Time 50.001;                                                                                                             \n",
      "\n",
      "Epoch 6: 100%|█████████████████████████████████████████████████| 13/13 [3:59:29<00:00,  0.00it/s, train_loss=0.781, val_loss=0.767]\u001b[A\n",
      "\n",
      "Epoch 17: 100%|████████████████████████████████████████████████| 13/13 [3:51:02<00:00,  0.00it/s, train_loss=0.643, val_loss=0.661]\u001b[A\u001b[A\n",
      "                                                                                                                                   \n",
      "\n",
      "Min val score 24.578; Training epochs 108                                                                                          \n",
      "\n",
      "Epoch 6: 100%|█████████████████████████████████████████████████| 13/13 [3:59:29<00:00,  0.00it/s, train_loss=0.781, val_loss=0.767]\u001b[A\n",
      "\n",
      "Epoch 17: 100%|████████████████████████████████████████████████| 13/13 [3:51:02<00:00,  0.00it/s, train_loss=0.643, val_loss=0.661]\u001b[A\u001b[A"
     ]
    },
    {
     "name": "stderr",
     "output_type": "stream",
     "text": [
      "/opt/calculation/anaconda3/envs/chemprop/lib/python3.11/site-packages/lightning/fabric/plugins/environments/slurm.py:204: The `srun` command is available on your system but is not used. HINT: If your intention is to run Lightning on SLURM, prepend your python command with `srun` like so: srun python /opt/calculation/anaconda3/envs/chemprop/lib/python3 ...\n",
      "\n",
      "/opt/calculation/anaconda3/envs/chemprop/lib/python3.11/site-packages/lightning/pytorch/callbacks/model_checkpoint.py:652: Checkpoint directory /home/kashurin/Tox24/dmpnn_try_3/search_4/hp_cv_1/m2 exists and is not empty.\n",
      "\n"
     ]
    },
    {
     "data": {
      "text/html": [
       "<pre style=\"white-space:pre;overflow-x:auto;line-height:normal;font-family:Menlo,'DejaVu Sans Mono',consolas,'Courier New',monospace\">┏━━━━━━━━━━━━━━━━━━━━━━━━━━━┳━━━━━━━━━━━━━━━━━━━━━━━━━━━┓\n",
       "┃<span style=\"font-weight: bold\">        Test metric        </span>┃<span style=\"font-weight: bold\">       DataLoader 0        </span>┃\n",
       "┡━━━━━━━━━━━━━━━━━━━━━━━━━━━╇━━━━━━━━━━━━━━━━━━━━━━━━━━━┩\n",
       "│<span style=\"color: #008080; text-decoration-color: #008080\"> batch_averaged_test/rmse  </span>│<span style=\"color: #800080; text-decoration-color: #800080\">    23.537986755371094     </span>│\n",
       "└───────────────────────────┴───────────────────────────┘\n",
       "</pre>\n"
      ],
      "text/plain": [
       "┏━━━━━━━━━━━━━━━━━━━━━━━━━━━┳━━━━━━━━━━━━━━━━━━━━━━━━━━━┓\n",
       "┃\u001b[1m \u001b[0m\u001b[1m       Test metric       \u001b[0m\u001b[1m \u001b[0m┃\u001b[1m \u001b[0m\u001b[1m      DataLoader 0       \u001b[0m\u001b[1m \u001b[0m┃\n",
       "┡━━━━━━━━━━━━━━━━━━━━━━━━━━━╇━━━━━━━━━━━━━━━━━━━━━━━━━━━┩\n",
       "│\u001b[36m \u001b[0m\u001b[36mbatch_averaged_test/rmse \u001b[0m\u001b[36m \u001b[0m│\u001b[35m \u001b[0m\u001b[35m   23.537986755371094    \u001b[0m\u001b[35m \u001b[0m│\n",
       "└───────────────────────────┴───────────────────────────┘\n"
      ]
     },
     "metadata": {},
     "output_type": "display_data"
    },
    {
     "name": "stdout",
     "output_type": "stream",
     "text": [
      "\n",
      "                                                                                                                                   \n",
      "\n",
      "Fold 3/5; Time 77.089;                                                                                                             \n",
      "\n",
      "Epoch 6: 100%|█████████████████████████████████████████████████| 13/13 [4:00:46<00:00,  0.00it/s, train_loss=0.781, val_loss=0.767]\u001b[A\n",
      "\n",
      "Epoch 17: 100%|████████████████████████████████████████████████| 13/13 [3:52:19<00:00,  0.00it/s, train_loss=0.643, val_loss=0.661]\u001b[A\u001b[A\n",
      "                                                                                                                                   \n",
      "\n",
      "Min val score 23.538; Training epochs 168                                                                                          \n",
      "\n",
      "Epoch 6: 100%|█████████████████████████████████████████████████| 13/13 [4:00:47<00:00,  0.00it/s, train_loss=0.781, val_loss=0.767]\u001b[A\n",
      "\n",
      "Epoch 17: 100%|████████████████████████████████████████████████| 13/13 [3:52:19<00:00,  0.00it/s, train_loss=0.643, val_loss=0.661]\u001b[A\u001b[A"
     ]
    },
    {
     "name": "stderr",
     "output_type": "stream",
     "text": [
      "/opt/calculation/anaconda3/envs/chemprop/lib/python3.11/site-packages/lightning/fabric/plugins/environments/slurm.py:204: The `srun` command is available on your system but is not used. HINT: If your intention is to run Lightning on SLURM, prepend your python command with `srun` like so: srun python /opt/calculation/anaconda3/envs/chemprop/lib/python3 ...\n",
      "\n",
      "/opt/calculation/anaconda3/envs/chemprop/lib/python3.11/site-packages/lightning/pytorch/callbacks/model_checkpoint.py:652: Checkpoint directory /home/kashurin/Tox24/dmpnn_try_3/search_4/hp_cv_1/m3 exists and is not empty.\n",
      "\n"
     ]
    },
    {
     "data": {
      "text/html": [
       "<pre style=\"white-space:pre;overflow-x:auto;line-height:normal;font-family:Menlo,'DejaVu Sans Mono',consolas,'Courier New',monospace\">┏━━━━━━━━━━━━━━━━━━━━━━━━━━━┳━━━━━━━━━━━━━━━━━━━━━━━━━━━┓\n",
       "┃<span style=\"font-weight: bold\">        Test metric        </span>┃<span style=\"font-weight: bold\">       DataLoader 0        </span>┃\n",
       "┡━━━━━━━━━━━━━━━━━━━━━━━━━━━╇━━━━━━━━━━━━━━━━━━━━━━━━━━━┩\n",
       "│<span style=\"color: #008080; text-decoration-color: #008080\"> batch_averaged_test/rmse  </span>│<span style=\"color: #800080; text-decoration-color: #800080\">     24.13665199279785     </span>│\n",
       "└───────────────────────────┴───────────────────────────┘\n",
       "</pre>\n"
      ],
      "text/plain": [
       "┏━━━━━━━━━━━━━━━━━━━━━━━━━━━┳━━━━━━━━━━━━━━━━━━━━━━━━━━━┓\n",
       "┃\u001b[1m \u001b[0m\u001b[1m       Test metric       \u001b[0m\u001b[1m \u001b[0m┃\u001b[1m \u001b[0m\u001b[1m      DataLoader 0       \u001b[0m\u001b[1m \u001b[0m┃\n",
       "┡━━━━━━━━━━━━━━━━━━━━━━━━━━━╇━━━━━━━━━━━━━━━━━━━━━━━━━━━┩\n",
       "│\u001b[36m \u001b[0m\u001b[36mbatch_averaged_test/rmse \u001b[0m\u001b[36m \u001b[0m│\u001b[35m \u001b[0m\u001b[35m    24.13665199279785    \u001b[0m\u001b[35m \u001b[0m│\n",
       "└───────────────────────────┴───────────────────────────┘\n"
      ]
     },
     "metadata": {},
     "output_type": "display_data"
    },
    {
     "name": "stdout",
     "output_type": "stream",
     "text": [
      "\n",
      "                                                                                                                                   \n",
      "\n",
      "Fold 4/5; Time 62.189;                                                                                                             \n",
      "\n",
      "Epoch 6: 100%|█████████████████████████████████████████████████| 13/13 [4:01:49<00:00,  0.00it/s, train_loss=0.781, val_loss=0.767]\u001b[A\n",
      "\n",
      "Epoch 17: 100%|████████████████████████████████████████████████| 13/13 [3:53:22<00:00,  0.00it/s, train_loss=0.643, val_loss=0.661]\u001b[A\u001b[A\n",
      "                                                                                                                                   \n",
      "\n",
      "Min val score 24.137; Training epochs 128                                                                                          \n",
      "\n",
      "Epoch 6: 100%|█████████████████████████████████████████████████| 13/13 [4:01:49<00:00,  0.00it/s, train_loss=0.781, val_loss=0.767]\u001b[A\n",
      "\n",
      "Epoch 17: 100%|████████████████████████████████████████████████| 13/13 [3:53:22<00:00,  0.00it/s, train_loss=0.643, val_loss=0.661]\u001b[A\u001b[A"
     ]
    },
    {
     "name": "stderr",
     "output_type": "stream",
     "text": [
      "/opt/calculation/anaconda3/envs/chemprop/lib/python3.11/site-packages/lightning/fabric/plugins/environments/slurm.py:204: The `srun` command is available on your system but is not used. HINT: If your intention is to run Lightning on SLURM, prepend your python command with `srun` like so: srun python /opt/calculation/anaconda3/envs/chemprop/lib/python3 ...\n",
      "\n",
      "/opt/calculation/anaconda3/envs/chemprop/lib/python3.11/site-packages/lightning/pytorch/callbacks/model_checkpoint.py:652: Checkpoint directory /home/kashurin/Tox24/dmpnn_try_3/search_4/hp_cv_1/m4 exists and is not empty.\n",
      "\n"
     ]
    },
    {
     "data": {
      "text/html": [
       "<pre style=\"white-space:pre;overflow-x:auto;line-height:normal;font-family:Menlo,'DejaVu Sans Mono',consolas,'Courier New',monospace\">┏━━━━━━━━━━━━━━━━━━━━━━━━━━━┳━━━━━━━━━━━━━━━━━━━━━━━━━━━┓\n",
       "┃<span style=\"font-weight: bold\">        Test metric        </span>┃<span style=\"font-weight: bold\">       DataLoader 0        </span>┃\n",
       "┡━━━━━━━━━━━━━━━━━━━━━━━━━━━╇━━━━━━━━━━━━━━━━━━━━━━━━━━━┩\n",
       "│<span style=\"color: #008080; text-decoration-color: #008080\"> batch_averaged_test/rmse  </span>│<span style=\"color: #800080; text-decoration-color: #800080\">     26.51967430114746     </span>│\n",
       "└───────────────────────────┴───────────────────────────┘\n",
       "</pre>\n"
      ],
      "text/plain": [
       "┏━━━━━━━━━━━━━━━━━━━━━━━━━━━┳━━━━━━━━━━━━━━━━━━━━━━━━━━━┓\n",
       "┃\u001b[1m \u001b[0m\u001b[1m       Test metric       \u001b[0m\u001b[1m \u001b[0m┃\u001b[1m \u001b[0m\u001b[1m      DataLoader 0       \u001b[0m\u001b[1m \u001b[0m┃\n",
       "┡━━━━━━━━━━━━━━━━━━━━━━━━━━━╇━━━━━━━━━━━━━━━━━━━━━━━━━━━┩\n",
       "│\u001b[36m \u001b[0m\u001b[36mbatch_averaged_test/rmse \u001b[0m\u001b[36m \u001b[0m│\u001b[35m \u001b[0m\u001b[35m    26.51967430114746    \u001b[0m\u001b[35m \u001b[0m│\n",
       "└───────────────────────────┴───────────────────────────┘\n"
      ]
     },
     "metadata": {},
     "output_type": "display_data"
    },
    {
     "name": "stdout",
     "output_type": "stream",
     "text": [
      "\n",
      "                                                                                                                                   \n",
      "\n",
      "Fold 5/5; Time 49.186;                                                                                                             \n",
      "\n",
      "Epoch 6: 100%|█████████████████████████████████████████████████| 13/13 [4:02:38<00:00,  0.00it/s, train_loss=0.781, val_loss=0.767]\u001b[A\n",
      "\n",
      "Epoch 17: 100%|████████████████████████████████████████████████| 13/13 [3:54:11<00:00,  0.00it/s, train_loss=0.643, val_loss=0.661]\u001b[A\u001b[A\n",
      "                                                                                                                                   \n",
      "\n",
      "Min val score 26.520; Training epochs 89                                                                                           \n",
      "\n",
      "Epoch 6: 100%|█████████████████████████████████████████████████| 13/13 [4:02:38<00:00,  0.00it/s, train_loss=0.781, val_loss=0.767]\u001b[A\n",
      "\n",
      "Epoch 17: 100%|████████████████████████████████████████████████| 13/13 [3:54:11<00:00,  0.00it/s, train_loss=0.643, val_loss=0.661]\u001b[A\u001b[A\n",
      "\n",
      " 72%|█████████████████████████████████████████▎               | 58/80 [13:12<1:32:57, 253.52s/trial, best loss: 24.127126693725586]\u001b[A\u001b[A"
     ]
    },
    {
     "name": "stderr",
     "output_type": "stream",
     "text": [
      "/opt/calculation/anaconda3/envs/chemprop/lib/python3.11/site-packages/lightning/fabric/plugins/environments/slurm.py:204: The `srun` command is available on your system but is not used. HINT: If your intention is to run Lightning on SLURM, prepend your python command with `srun` like so: srun python /opt/calculation/anaconda3/envs/chemprop/lib/python3 ...\n",
      "\n",
      "/opt/calculation/anaconda3/envs/chemprop/lib/python3.11/site-packages/lightning/pytorch/callbacks/model_checkpoint.py:652: Checkpoint directory /home/kashurin/Tox24/dmpnn_try_3/search_4/hp_cv_1/m0 exists and is not empty.\n",
      "\n"
     ]
    },
    {
     "data": {
      "text/html": [
       "<pre style=\"white-space:pre;overflow-x:auto;line-height:normal;font-family:Menlo,'DejaVu Sans Mono',consolas,'Courier New',monospace\">┏━━━━━━━━━━━━━━━━━━━━━━━━━━━┳━━━━━━━━━━━━━━━━━━━━━━━━━━━┓\n",
       "┃<span style=\"font-weight: bold\">        Test metric        </span>┃<span style=\"font-weight: bold\">       DataLoader 0        </span>┃\n",
       "┡━━━━━━━━━━━━━━━━━━━━━━━━━━━╇━━━━━━━━━━━━━━━━━━━━━━━━━━━┩\n",
       "│<span style=\"color: #008080; text-decoration-color: #008080\"> batch_averaged_test/rmse  </span>│<span style=\"color: #800080; text-decoration-color: #800080\">    24.567380905151367     </span>│\n",
       "└───────────────────────────┴───────────────────────────┘\n",
       "</pre>\n"
      ],
      "text/plain": [
       "┏━━━━━━━━━━━━━━━━━━━━━━━━━━━┳━━━━━━━━━━━━━━━━━━━━━━━━━━━┓\n",
       "┃\u001b[1m \u001b[0m\u001b[1m       Test metric       \u001b[0m\u001b[1m \u001b[0m┃\u001b[1m \u001b[0m\u001b[1m      DataLoader 0       \u001b[0m\u001b[1m \u001b[0m┃\n",
       "┡━━━━━━━━━━━━━━━━━━━━━━━━━━━╇━━━━━━━━━━━━━━━━━━━━━━━━━━━┩\n",
       "│\u001b[36m \u001b[0m\u001b[36mbatch_averaged_test/rmse \u001b[0m\u001b[36m \u001b[0m│\u001b[35m \u001b[0m\u001b[35m   24.567380905151367    \u001b[0m\u001b[35m \u001b[0m│\n",
       "└───────────────────────────┴───────────────────────────┘\n"
      ]
     },
     "metadata": {},
     "output_type": "display_data"
    },
    {
     "name": "stdout",
     "output_type": "stream",
     "text": [
      "\n",
      "                                                                                                                                   \n",
      "\n",
      "Fold 1/5; Time 59.021;                                                                                                             \n",
      "\n",
      "Epoch 6: 100%|█████████████████████████████████████████████████| 13/13 [4:03:37<00:00,  0.00it/s, train_loss=0.781, val_loss=0.767]\u001b[A\n",
      "\n",
      "Epoch 17: 100%|████████████████████████████████████████████████| 13/13 [3:55:10<00:00,  0.00it/s, train_loss=0.643, val_loss=0.661]\u001b[A\u001b[A\n",
      "                                                                                                                                   \n",
      "\n",
      "Min val score 24.567; Training epochs 119                                                                                          \n",
      "\n",
      "Epoch 6: 100%|█████████████████████████████████████████████████| 13/13 [4:03:37<00:00,  0.00it/s, train_loss=0.781, val_loss=0.767]\u001b[A\n",
      "\n",
      "Epoch 17: 100%|████████████████████████████████████████████████| 13/13 [3:55:10<00:00,  0.00it/s, train_loss=0.643, val_loss=0.661]\u001b[A\u001b[A"
     ]
    },
    {
     "name": "stderr",
     "output_type": "stream",
     "text": [
      "/opt/calculation/anaconda3/envs/chemprop/lib/python3.11/site-packages/lightning/fabric/plugins/environments/slurm.py:204: The `srun` command is available on your system but is not used. HINT: If your intention is to run Lightning on SLURM, prepend your python command with `srun` like so: srun python /opt/calculation/anaconda3/envs/chemprop/lib/python3 ...\n",
      "\n",
      "/opt/calculation/anaconda3/envs/chemprop/lib/python3.11/site-packages/lightning/pytorch/callbacks/model_checkpoint.py:652: Checkpoint directory /home/kashurin/Tox24/dmpnn_try_3/search_4/hp_cv_1/m1 exists and is not empty.\n",
      "\n"
     ]
    },
    {
     "data": {
      "text/html": [
       "<pre style=\"white-space:pre;overflow-x:auto;line-height:normal;font-family:Menlo,'DejaVu Sans Mono',consolas,'Courier New',monospace\">┏━━━━━━━━━━━━━━━━━━━━━━━━━━━┳━━━━━━━━━━━━━━━━━━━━━━━━━━━┓\n",
       "┃<span style=\"font-weight: bold\">        Test metric        </span>┃<span style=\"font-weight: bold\">       DataLoader 0        </span>┃\n",
       "┡━━━━━━━━━━━━━━━━━━━━━━━━━━━╇━━━━━━━━━━━━━━━━━━━━━━━━━━━┩\n",
       "│<span style=\"color: #008080; text-decoration-color: #008080\"> batch_averaged_test/rmse  </span>│<span style=\"color: #800080; text-decoration-color: #800080\">    24.914691925048828     </span>│\n",
       "└───────────────────────────┴───────────────────────────┘\n",
       "</pre>\n"
      ],
      "text/plain": [
       "┏━━━━━━━━━━━━━━━━━━━━━━━━━━━┳━━━━━━━━━━━━━━━━━━━━━━━━━━━┓\n",
       "┃\u001b[1m \u001b[0m\u001b[1m       Test metric       \u001b[0m\u001b[1m \u001b[0m┃\u001b[1m \u001b[0m\u001b[1m      DataLoader 0       \u001b[0m\u001b[1m \u001b[0m┃\n",
       "┡━━━━━━━━━━━━━━━━━━━━━━━━━━━╇━━━━━━━━━━━━━━━━━━━━━━━━━━━┩\n",
       "│\u001b[36m \u001b[0m\u001b[36mbatch_averaged_test/rmse \u001b[0m\u001b[36m \u001b[0m│\u001b[35m \u001b[0m\u001b[35m   24.914691925048828    \u001b[0m\u001b[35m \u001b[0m│\n",
       "└───────────────────────────┴───────────────────────────┘\n"
      ]
     },
     "metadata": {},
     "output_type": "display_data"
    },
    {
     "name": "stdout",
     "output_type": "stream",
     "text": [
      "\n",
      "                                                                                                                                   \n",
      "\n",
      "Fold 2/5; Time 39.588;                                                                                                             \n",
      "\n",
      "Epoch 6: 100%|█████████████████████████████████████████████████| 13/13 [4:04:17<00:00,  0.00it/s, train_loss=0.781, val_loss=0.767]\u001b[A\n",
      "\n",
      "Epoch 17: 100%|████████████████████████████████████████████████| 13/13 [3:55:49<00:00,  0.00it/s, train_loss=0.643, val_loss=0.661]\u001b[A\u001b[A\n",
      "                                                                                                                                   \n",
      "\n",
      "Min val score 24.915; Training epochs 85                                                                                           \n",
      "\n",
      "Epoch 6: 100%|█████████████████████████████████████████████████| 13/13 [4:04:17<00:00,  0.00it/s, train_loss=0.781, val_loss=0.767]\u001b[A\n",
      "\n",
      "Epoch 17: 100%|████████████████████████████████████████████████| 13/13 [3:55:49<00:00,  0.00it/s, train_loss=0.643, val_loss=0.661]\u001b[A\u001b[A"
     ]
    },
    {
     "name": "stderr",
     "output_type": "stream",
     "text": [
      "/opt/calculation/anaconda3/envs/chemprop/lib/python3.11/site-packages/lightning/fabric/plugins/environments/slurm.py:204: The `srun` command is available on your system but is not used. HINT: If your intention is to run Lightning on SLURM, prepend your python command with `srun` like so: srun python /opt/calculation/anaconda3/envs/chemprop/lib/python3 ...\n",
      "\n",
      "/opt/calculation/anaconda3/envs/chemprop/lib/python3.11/site-packages/lightning/pytorch/callbacks/model_checkpoint.py:652: Checkpoint directory /home/kashurin/Tox24/dmpnn_try_3/search_4/hp_cv_1/m2 exists and is not empty.\n",
      "\n"
     ]
    },
    {
     "data": {
      "text/html": [
       "<pre style=\"white-space:pre;overflow-x:auto;line-height:normal;font-family:Menlo,'DejaVu Sans Mono',consolas,'Courier New',monospace\">┏━━━━━━━━━━━━━━━━━━━━━━━━━━━┳━━━━━━━━━━━━━━━━━━━━━━━━━━━┓\n",
       "┃<span style=\"font-weight: bold\">        Test metric        </span>┃<span style=\"font-weight: bold\">       DataLoader 0        </span>┃\n",
       "┡━━━━━━━━━━━━━━━━━━━━━━━━━━━╇━━━━━━━━━━━━━━━━━━━━━━━━━━━┩\n",
       "│<span style=\"color: #008080; text-decoration-color: #008080\"> batch_averaged_test/rmse  </span>│<span style=\"color: #800080; text-decoration-color: #800080\">    23.848812103271484     </span>│\n",
       "└───────────────────────────┴───────────────────────────┘\n",
       "</pre>\n"
      ],
      "text/plain": [
       "┏━━━━━━━━━━━━━━━━━━━━━━━━━━━┳━━━━━━━━━━━━━━━━━━━━━━━━━━━┓\n",
       "┃\u001b[1m \u001b[0m\u001b[1m       Test metric       \u001b[0m\u001b[1m \u001b[0m┃\u001b[1m \u001b[0m\u001b[1m      DataLoader 0       \u001b[0m\u001b[1m \u001b[0m┃\n",
       "┡━━━━━━━━━━━━━━━━━━━━━━━━━━━╇━━━━━━━━━━━━━━━━━━━━━━━━━━━┩\n",
       "│\u001b[36m \u001b[0m\u001b[36mbatch_averaged_test/rmse \u001b[0m\u001b[36m \u001b[0m│\u001b[35m \u001b[0m\u001b[35m   23.848812103271484    \u001b[0m\u001b[35m \u001b[0m│\n",
       "└───────────────────────────┴───────────────────────────┘\n"
      ]
     },
     "metadata": {},
     "output_type": "display_data"
    },
    {
     "name": "stdout",
     "output_type": "stream",
     "text": [
      "\n",
      "                                                                                                                                   \n",
      "\n",
      "Fold 3/5; Time 43.178;                                                                                                             \n",
      "\n",
      "Epoch 6: 100%|█████████████████████████████████████████████████| 13/13 [4:05:00<00:00,  0.00it/s, train_loss=0.781, val_loss=0.767]\u001b[A\n",
      "\n",
      "Epoch 17: 100%|████████████████████████████████████████████████| 13/13 [3:56:33<00:00,  0.00it/s, train_loss=0.643, val_loss=0.661]\u001b[A\u001b[A\n",
      "                                                                                                                                   \n",
      "\n",
      "Min val score 23.849; Training epochs 94                                                                                           \n",
      "\n",
      "Epoch 6: 100%|█████████████████████████████████████████████████| 13/13 [4:05:00<00:00,  0.00it/s, train_loss=0.781, val_loss=0.767]\u001b[A\n",
      "\n",
      "Epoch 17: 100%|████████████████████████████████████████████████| 13/13 [3:56:33<00:00,  0.00it/s, train_loss=0.643, val_loss=0.661]\u001b[A\u001b[A"
     ]
    },
    {
     "name": "stderr",
     "output_type": "stream",
     "text": [
      "/opt/calculation/anaconda3/envs/chemprop/lib/python3.11/site-packages/lightning/fabric/plugins/environments/slurm.py:204: The `srun` command is available on your system but is not used. HINT: If your intention is to run Lightning on SLURM, prepend your python command with `srun` like so: srun python /opt/calculation/anaconda3/envs/chemprop/lib/python3 ...\n",
      "\n",
      "/opt/calculation/anaconda3/envs/chemprop/lib/python3.11/site-packages/lightning/pytorch/callbacks/model_checkpoint.py:652: Checkpoint directory /home/kashurin/Tox24/dmpnn_try_3/search_4/hp_cv_1/m3 exists and is not empty.\n",
      "\n"
     ]
    },
    {
     "data": {
      "text/html": [
       "<pre style=\"white-space:pre;overflow-x:auto;line-height:normal;font-family:Menlo,'DejaVu Sans Mono',consolas,'Courier New',monospace\">┏━━━━━━━━━━━━━━━━━━━━━━━━━━━┳━━━━━━━━━━━━━━━━━━━━━━━━━━━┓\n",
       "┃<span style=\"font-weight: bold\">        Test metric        </span>┃<span style=\"font-weight: bold\">       DataLoader 0        </span>┃\n",
       "┡━━━━━━━━━━━━━━━━━━━━━━━━━━━╇━━━━━━━━━━━━━━━━━━━━━━━━━━━┩\n",
       "│<span style=\"color: #008080; text-decoration-color: #008080\"> batch_averaged_test/rmse  </span>│<span style=\"color: #800080; text-decoration-color: #800080\">     23.28886604309082     </span>│\n",
       "└───────────────────────────┴───────────────────────────┘\n",
       "</pre>\n"
      ],
      "text/plain": [
       "┏━━━━━━━━━━━━━━━━━━━━━━━━━━━┳━━━━━━━━━━━━━━━━━━━━━━━━━━━┓\n",
       "┃\u001b[1m \u001b[0m\u001b[1m       Test metric       \u001b[0m\u001b[1m \u001b[0m┃\u001b[1m \u001b[0m\u001b[1m      DataLoader 0       \u001b[0m\u001b[1m \u001b[0m┃\n",
       "┡━━━━━━━━━━━━━━━━━━━━━━━━━━━╇━━━━━━━━━━━━━━━━━━━━━━━━━━━┩\n",
       "│\u001b[36m \u001b[0m\u001b[36mbatch_averaged_test/rmse \u001b[0m\u001b[36m \u001b[0m│\u001b[35m \u001b[0m\u001b[35m    23.28886604309082    \u001b[0m\u001b[35m \u001b[0m│\n",
       "└───────────────────────────┴───────────────────────────┘\n"
      ]
     },
     "metadata": {},
     "output_type": "display_data"
    },
    {
     "name": "stdout",
     "output_type": "stream",
     "text": [
      "\n",
      "                                                                                                                                   \n",
      "\n",
      "Fold 4/5; Time 41.422;                                                                                                             \n",
      "\n",
      "Epoch 6: 100%|█████████████████████████████████████████████████| 13/13 [4:05:41<00:00,  0.00it/s, train_loss=0.781, val_loss=0.767]\u001b[A\n",
      "\n",
      "Epoch 17: 100%|████████████████████████████████████████████████| 13/13 [3:57:14<00:00,  0.00it/s, train_loss=0.643, val_loss=0.661]\u001b[A\u001b[A\n",
      "                                                                                                                                   \n",
      "\n",
      "Min val score 23.289; Training epochs 90                                                                                           \n",
      "\n",
      "Epoch 6: 100%|█████████████████████████████████████████████████| 13/13 [4:05:41<00:00,  0.00it/s, train_loss=0.781, val_loss=0.767]\u001b[A\n",
      "\n",
      "Epoch 17: 100%|████████████████████████████████████████████████| 13/13 [3:57:14<00:00,  0.00it/s, train_loss=0.643, val_loss=0.661]\u001b[A\u001b[A"
     ]
    },
    {
     "name": "stderr",
     "output_type": "stream",
     "text": [
      "/opt/calculation/anaconda3/envs/chemprop/lib/python3.11/site-packages/lightning/fabric/plugins/environments/slurm.py:204: The `srun` command is available on your system but is not used. HINT: If your intention is to run Lightning on SLURM, prepend your python command with `srun` like so: srun python /opt/calculation/anaconda3/envs/chemprop/lib/python3 ...\n",
      "\n",
      "/opt/calculation/anaconda3/envs/chemprop/lib/python3.11/site-packages/lightning/pytorch/callbacks/model_checkpoint.py:652: Checkpoint directory /home/kashurin/Tox24/dmpnn_try_3/search_4/hp_cv_1/m4 exists and is not empty.\n",
      "\n"
     ]
    },
    {
     "data": {
      "text/html": [
       "<pre style=\"white-space:pre;overflow-x:auto;line-height:normal;font-family:Menlo,'DejaVu Sans Mono',consolas,'Courier New',monospace\">┏━━━━━━━━━━━━━━━━━━━━━━━━━━━┳━━━━━━━━━━━━━━━━━━━━━━━━━━━┓\n",
       "┃<span style=\"font-weight: bold\">        Test metric        </span>┃<span style=\"font-weight: bold\">       DataLoader 0        </span>┃\n",
       "┡━━━━━━━━━━━━━━━━━━━━━━━━━━━╇━━━━━━━━━━━━━━━━━━━━━━━━━━━┩\n",
       "│<span style=\"color: #008080; text-decoration-color: #008080\"> batch_averaged_test/rmse  </span>│<span style=\"color: #800080; text-decoration-color: #800080\">     27.14264488220215     </span>│\n",
       "└───────────────────────────┴───────────────────────────┘\n",
       "</pre>\n"
      ],
      "text/plain": [
       "┏━━━━━━━━━━━━━━━━━━━━━━━━━━━┳━━━━━━━━━━━━━━━━━━━━━━━━━━━┓\n",
       "┃\u001b[1m \u001b[0m\u001b[1m       Test metric       \u001b[0m\u001b[1m \u001b[0m┃\u001b[1m \u001b[0m\u001b[1m      DataLoader 0       \u001b[0m\u001b[1m \u001b[0m┃\n",
       "┡━━━━━━━━━━━━━━━━━━━━━━━━━━━╇━━━━━━━━━━━━━━━━━━━━━━━━━━━┩\n",
       "│\u001b[36m \u001b[0m\u001b[36mbatch_averaged_test/rmse \u001b[0m\u001b[36m \u001b[0m│\u001b[35m \u001b[0m\u001b[35m    27.14264488220215    \u001b[0m\u001b[35m \u001b[0m│\n",
       "└───────────────────────────┴───────────────────────────┘\n"
      ]
     },
     "metadata": {},
     "output_type": "display_data"
    },
    {
     "name": "stdout",
     "output_type": "stream",
     "text": [
      "\n",
      "                                                                                                                                   \n",
      "\n",
      "Fold 5/5; Time 33.464;                                                                                                             \n",
      "\n",
      "Epoch 6: 100%|█████████████████████████████████████████████████| 13/13 [4:06:15<00:00,  0.00it/s, train_loss=0.781, val_loss=0.767]\u001b[A\n",
      "\n",
      "Epoch 17: 100%|████████████████████████████████████████████████| 13/13 [3:57:48<00:00,  0.00it/s, train_loss=0.643, val_loss=0.661]\u001b[A\u001b[A\n",
      "                                                                                                                                   \n",
      "\n",
      "Min val score 27.143; Training epochs 73                                                                                           \n",
      "\n",
      "Epoch 6: 100%|█████████████████████████████████████████████████| 13/13 [4:06:15<00:00,  0.00it/s, train_loss=0.781, val_loss=0.767]\u001b[A\n",
      "\n",
      "Epoch 17: 100%|████████████████████████████████████████████████| 13/13 [3:57:48<00:00,  0.00it/s, train_loss=0.643, val_loss=0.661]\u001b[A\u001b[A\n",
      "\n",
      " 74%|██████████████████████████████████████████               | 59/80 [16:49<1:23:39, 239.03s/trial, best loss: 24.127126693725586]\u001b[A\u001b[A"
     ]
    },
    {
     "name": "stderr",
     "output_type": "stream",
     "text": [
      "/opt/calculation/anaconda3/envs/chemprop/lib/python3.11/site-packages/lightning/fabric/plugins/environments/slurm.py:204: The `srun` command is available on your system but is not used. HINT: If your intention is to run Lightning on SLURM, prepend your python command with `srun` like so: srun python /opt/calculation/anaconda3/envs/chemprop/lib/python3 ...\n",
      "\n",
      "/opt/calculation/anaconda3/envs/chemprop/lib/python3.11/site-packages/lightning/pytorch/callbacks/model_checkpoint.py:652: Checkpoint directory /home/kashurin/Tox24/dmpnn_try_3/search_4/hp_cv_1/m0 exists and is not empty.\n",
      "\n"
     ]
    },
    {
     "data": {
      "text/html": [
       "<pre style=\"white-space:pre;overflow-x:auto;line-height:normal;font-family:Menlo,'DejaVu Sans Mono',consolas,'Courier New',monospace\">┏━━━━━━━━━━━━━━━━━━━━━━━━━━━┳━━━━━━━━━━━━━━━━━━━━━━━━━━━┓\n",
       "┃<span style=\"font-weight: bold\">        Test metric        </span>┃<span style=\"font-weight: bold\">       DataLoader 0        </span>┃\n",
       "┡━━━━━━━━━━━━━━━━━━━━━━━━━━━╇━━━━━━━━━━━━━━━━━━━━━━━━━━━┩\n",
       "│<span style=\"color: #008080; text-decoration-color: #008080\"> batch_averaged_test/rmse  </span>│<span style=\"color: #800080; text-decoration-color: #800080\">     25.10413360595703     </span>│\n",
       "└───────────────────────────┴───────────────────────────┘\n",
       "</pre>\n"
      ],
      "text/plain": [
       "┏━━━━━━━━━━━━━━━━━━━━━━━━━━━┳━━━━━━━━━━━━━━━━━━━━━━━━━━━┓\n",
       "┃\u001b[1m \u001b[0m\u001b[1m       Test metric       \u001b[0m\u001b[1m \u001b[0m┃\u001b[1m \u001b[0m\u001b[1m      DataLoader 0       \u001b[0m\u001b[1m \u001b[0m┃\n",
       "┡━━━━━━━━━━━━━━━━━━━━━━━━━━━╇━━━━━━━━━━━━━━━━━━━━━━━━━━━┩\n",
       "│\u001b[36m \u001b[0m\u001b[36mbatch_averaged_test/rmse \u001b[0m\u001b[36m \u001b[0m│\u001b[35m \u001b[0m\u001b[35m    25.10413360595703    \u001b[0m\u001b[35m \u001b[0m│\n",
       "└───────────────────────────┴───────────────────────────┘\n"
      ]
     },
     "metadata": {},
     "output_type": "display_data"
    },
    {
     "name": "stdout",
     "output_type": "stream",
     "text": [
      "\n",
      "                                                                                                                                   \n",
      "\n",
      "Fold 1/5; Time 43.327;                                                                                                             \n",
      "\n",
      "Epoch 6: 100%|█████████████████████████████████████████████████| 13/13 [4:06:58<00:00,  0.00it/s, train_loss=0.781, val_loss=0.767]\u001b[A\n",
      "\n",
      "Epoch 17: 100%|████████████████████████████████████████████████| 13/13 [3:58:31<00:00,  0.00it/s, train_loss=0.643, val_loss=0.661]\u001b[A\u001b[A\n",
      "                                                                                                                                   \n",
      "\n",
      "Min val score 25.104; Training epochs 96                                                                                           \n",
      "\n",
      "Epoch 6: 100%|█████████████████████████████████████████████████| 13/13 [4:06:58<00:00,  0.00it/s, train_loss=0.781, val_loss=0.767]\u001b[A\n",
      "\n",
      "Epoch 17: 100%|████████████████████████████████████████████████| 13/13 [3:58:31<00:00,  0.00it/s, train_loss=0.643, val_loss=0.661]\u001b[A\u001b[A"
     ]
    },
    {
     "name": "stderr",
     "output_type": "stream",
     "text": [
      "/opt/calculation/anaconda3/envs/chemprop/lib/python3.11/site-packages/lightning/fabric/plugins/environments/slurm.py:204: The `srun` command is available on your system but is not used. HINT: If your intention is to run Lightning on SLURM, prepend your python command with `srun` like so: srun python /opt/calculation/anaconda3/envs/chemprop/lib/python3 ...\n",
      "\n",
      "/opt/calculation/anaconda3/envs/chemprop/lib/python3.11/site-packages/lightning/pytorch/callbacks/model_checkpoint.py:652: Checkpoint directory /home/kashurin/Tox24/dmpnn_try_3/search_4/hp_cv_1/m1 exists and is not empty.\n",
      "\n"
     ]
    },
    {
     "data": {
      "text/html": [
       "<pre style=\"white-space:pre;overflow-x:auto;line-height:normal;font-family:Menlo,'DejaVu Sans Mono',consolas,'Courier New',monospace\">┏━━━━━━━━━━━━━━━━━━━━━━━━━━━┳━━━━━━━━━━━━━━━━━━━━━━━━━━━┓\n",
       "┃<span style=\"font-weight: bold\">        Test metric        </span>┃<span style=\"font-weight: bold\">       DataLoader 0        </span>┃\n",
       "┡━━━━━━━━━━━━━━━━━━━━━━━━━━━╇━━━━━━━━━━━━━━━━━━━━━━━━━━━┩\n",
       "│<span style=\"color: #008080; text-decoration-color: #008080\"> batch_averaged_test/rmse  </span>│<span style=\"color: #800080; text-decoration-color: #800080\">    24.533939361572266     </span>│\n",
       "└───────────────────────────┴───────────────────────────┘\n",
       "</pre>\n"
      ],
      "text/plain": [
       "┏━━━━━━━━━━━━━━━━━━━━━━━━━━━┳━━━━━━━━━━━━━━━━━━━━━━━━━━━┓\n",
       "┃\u001b[1m \u001b[0m\u001b[1m       Test metric       \u001b[0m\u001b[1m \u001b[0m┃\u001b[1m \u001b[0m\u001b[1m      DataLoader 0       \u001b[0m\u001b[1m \u001b[0m┃\n",
       "┡━━━━━━━━━━━━━━━━━━━━━━━━━━━╇━━━━━━━━━━━━━━━━━━━━━━━━━━━┩\n",
       "│\u001b[36m \u001b[0m\u001b[36mbatch_averaged_test/rmse \u001b[0m\u001b[36m \u001b[0m│\u001b[35m \u001b[0m\u001b[35m   24.533939361572266    \u001b[0m\u001b[35m \u001b[0m│\n",
       "└───────────────────────────┴───────────────────────────┘\n"
      ]
     },
     "metadata": {},
     "output_type": "display_data"
    },
    {
     "name": "stdout",
     "output_type": "stream",
     "text": [
      "\n",
      "                                                                                                                                   \n",
      "\n",
      "Fold 2/5; Time 50.658;                                                                                                             \n",
      "\n",
      "Epoch 6: 100%|█████████████████████████████████████████████████| 13/13 [4:07:49<00:00,  0.00it/s, train_loss=0.781, val_loss=0.767]\u001b[A\n",
      "\n",
      "Epoch 17: 100%|████████████████████████████████████████████████| 13/13 [3:59:22<00:00,  0.00it/s, train_loss=0.643, val_loss=0.661]\u001b[A\u001b[A\n",
      "                                                                                                                                   \n",
      "\n",
      "Min val score 24.534; Training epochs 90                                                                                           \n",
      "\n",
      "Epoch 6: 100%|█████████████████████████████████████████████████| 13/13 [4:07:49<00:00,  0.00it/s, train_loss=0.781, val_loss=0.767]\u001b[A\n",
      "\n",
      "Epoch 17: 100%|████████████████████████████████████████████████| 13/13 [3:59:22<00:00,  0.00it/s, train_loss=0.643, val_loss=0.661]\u001b[A\u001b[A"
     ]
    },
    {
     "name": "stderr",
     "output_type": "stream",
     "text": [
      "/opt/calculation/anaconda3/envs/chemprop/lib/python3.11/site-packages/lightning/fabric/plugins/environments/slurm.py:204: The `srun` command is available on your system but is not used. HINT: If your intention is to run Lightning on SLURM, prepend your python command with `srun` like so: srun python /opt/calculation/anaconda3/envs/chemprop/lib/python3 ...\n",
      "\n",
      "/opt/calculation/anaconda3/envs/chemprop/lib/python3.11/site-packages/lightning/pytorch/callbacks/model_checkpoint.py:652: Checkpoint directory /home/kashurin/Tox24/dmpnn_try_3/search_4/hp_cv_1/m2 exists and is not empty.\n",
      "\n"
     ]
    },
    {
     "data": {
      "text/html": [
       "<pre style=\"white-space:pre;overflow-x:auto;line-height:normal;font-family:Menlo,'DejaVu Sans Mono',consolas,'Courier New',monospace\">┏━━━━━━━━━━━━━━━━━━━━━━━━━━━┳━━━━━━━━━━━━━━━━━━━━━━━━━━━┓\n",
       "┃<span style=\"font-weight: bold\">        Test metric        </span>┃<span style=\"font-weight: bold\">       DataLoader 0        </span>┃\n",
       "┡━━━━━━━━━━━━━━━━━━━━━━━━━━━╇━━━━━━━━━━━━━━━━━━━━━━━━━━━┩\n",
       "│<span style=\"color: #008080; text-decoration-color: #008080\"> batch_averaged_test/rmse  </span>│<span style=\"color: #800080; text-decoration-color: #800080\">     23.51398277282715     </span>│\n",
       "└───────────────────────────┴───────────────────────────┘\n",
       "</pre>\n"
      ],
      "text/plain": [
       "┏━━━━━━━━━━━━━━━━━━━━━━━━━━━┳━━━━━━━━━━━━━━━━━━━━━━━━━━━┓\n",
       "┃\u001b[1m \u001b[0m\u001b[1m       Test metric       \u001b[0m\u001b[1m \u001b[0m┃\u001b[1m \u001b[0m\u001b[1m      DataLoader 0       \u001b[0m\u001b[1m \u001b[0m┃\n",
       "┡━━━━━━━━━━━━━━━━━━━━━━━━━━━╇━━━━━━━━━━━━━━━━━━━━━━━━━━━┩\n",
       "│\u001b[36m \u001b[0m\u001b[36mbatch_averaged_test/rmse \u001b[0m\u001b[36m \u001b[0m│\u001b[35m \u001b[0m\u001b[35m    23.51398277282715    \u001b[0m\u001b[35m \u001b[0m│\n",
       "└───────────────────────────┴───────────────────────────┘\n"
      ]
     },
     "metadata": {},
     "output_type": "display_data"
    },
    {
     "name": "stdout",
     "output_type": "stream",
     "text": [
      "\n",
      "                                                                                                                                   \n",
      "\n",
      "Fold 3/5; Time 50.485;                                                                                                             \n",
      "\n",
      "Epoch 6: 100%|█████████████████████████████████████████████████| 13/13 [4:08:39<00:00,  0.00it/s, train_loss=0.781, val_loss=0.767]\u001b[A\n",
      "\n",
      "Epoch 17: 100%|████████████████████████████████████████████████| 13/13 [4:00:12<00:00,  0.00it/s, train_loss=0.643, val_loss=0.661]\u001b[A\u001b[A\n",
      "                                                                                                                                   \n",
      "\n",
      "Min val score 23.514; Training epochs 103                                                                                          \n",
      "\n",
      "Epoch 6: 100%|█████████████████████████████████████████████████| 13/13 [4:08:39<00:00,  0.00it/s, train_loss=0.781, val_loss=0.767]\u001b[A\n",
      "\n",
      "Epoch 17: 100%|████████████████████████████████████████████████| 13/13 [4:00:12<00:00,  0.00it/s, train_loss=0.643, val_loss=0.661]\u001b[A\u001b[A"
     ]
    },
    {
     "name": "stderr",
     "output_type": "stream",
     "text": [
      "/opt/calculation/anaconda3/envs/chemprop/lib/python3.11/site-packages/lightning/fabric/plugins/environments/slurm.py:204: The `srun` command is available on your system but is not used. HINT: If your intention is to run Lightning on SLURM, prepend your python command with `srun` like so: srun python /opt/calculation/anaconda3/envs/chemprop/lib/python3 ...\n",
      "\n",
      "/opt/calculation/anaconda3/envs/chemprop/lib/python3.11/site-packages/lightning/pytorch/callbacks/model_checkpoint.py:652: Checkpoint directory /home/kashurin/Tox24/dmpnn_try_3/search_4/hp_cv_1/m3 exists and is not empty.\n",
      "\n"
     ]
    },
    {
     "data": {
      "text/html": [
       "<pre style=\"white-space:pre;overflow-x:auto;line-height:normal;font-family:Menlo,'DejaVu Sans Mono',consolas,'Courier New',monospace\">┏━━━━━━━━━━━━━━━━━━━━━━━━━━━┳━━━━━━━━━━━━━━━━━━━━━━━━━━━┓\n",
       "┃<span style=\"font-weight: bold\">        Test metric        </span>┃<span style=\"font-weight: bold\">       DataLoader 0        </span>┃\n",
       "┡━━━━━━━━━━━━━━━━━━━━━━━━━━━╇━━━━━━━━━━━━━━━━━━━━━━━━━━━┩\n",
       "│<span style=\"color: #008080; text-decoration-color: #008080\"> batch_averaged_test/rmse  </span>│<span style=\"color: #800080; text-decoration-color: #800080\">    25.180828094482422     </span>│\n",
       "└───────────────────────────┴───────────────────────────┘\n",
       "</pre>\n"
      ],
      "text/plain": [
       "┏━━━━━━━━━━━━━━━━━━━━━━━━━━━┳━━━━━━━━━━━━━━━━━━━━━━━━━━━┓\n",
       "┃\u001b[1m \u001b[0m\u001b[1m       Test metric       \u001b[0m\u001b[1m \u001b[0m┃\u001b[1m \u001b[0m\u001b[1m      DataLoader 0       \u001b[0m\u001b[1m \u001b[0m┃\n",
       "┡━━━━━━━━━━━━━━━━━━━━━━━━━━━╇━━━━━━━━━━━━━━━━━━━━━━━━━━━┩\n",
       "│\u001b[36m \u001b[0m\u001b[36mbatch_averaged_test/rmse \u001b[0m\u001b[36m \u001b[0m│\u001b[35m \u001b[0m\u001b[35m   25.180828094482422    \u001b[0m\u001b[35m \u001b[0m│\n",
       "└───────────────────────────┴───────────────────────────┘\n"
      ]
     },
     "metadata": {},
     "output_type": "display_data"
    },
    {
     "name": "stdout",
     "output_type": "stream",
     "text": [
      "\n",
      "                                                                                                                                   \n",
      "\n",
      "Fold 4/5; Time 23.882;                                                                                                             \n",
      "\n",
      "Epoch 6: 100%|█████████████████████████████████████████████████| 13/13 [4:09:03<00:00,  0.00it/s, train_loss=0.781, val_loss=0.767]\u001b[A\n",
      "\n",
      "Epoch 17: 100%|████████████████████████████████████████████████| 13/13 [4:00:36<00:00,  0.00it/s, train_loss=0.643, val_loss=0.661]\u001b[A\u001b[A\n",
      "                                                                                                                                   \n",
      "\n",
      "Min val score 25.181; Training epochs 50                                                                                           \n",
      "\n",
      "Epoch 6: 100%|█████████████████████████████████████████████████| 13/13 [4:09:03<00:00,  0.00it/s, train_loss=0.781, val_loss=0.767]\u001b[A\n",
      "\n",
      "Epoch 17: 100%|████████████████████████████████████████████████| 13/13 [4:00:36<00:00,  0.00it/s, train_loss=0.643, val_loss=0.661]\u001b[A\u001b[A"
     ]
    },
    {
     "name": "stderr",
     "output_type": "stream",
     "text": [
      "/opt/calculation/anaconda3/envs/chemprop/lib/python3.11/site-packages/lightning/fabric/plugins/environments/slurm.py:204: The `srun` command is available on your system but is not used. HINT: If your intention is to run Lightning on SLURM, prepend your python command with `srun` like so: srun python /opt/calculation/anaconda3/envs/chemprop/lib/python3 ...\n",
      "\n",
      "/opt/calculation/anaconda3/envs/chemprop/lib/python3.11/site-packages/lightning/pytorch/callbacks/model_checkpoint.py:652: Checkpoint directory /home/kashurin/Tox24/dmpnn_try_3/search_4/hp_cv_1/m4 exists and is not empty.\n",
      "\n"
     ]
    },
    {
     "data": {
      "text/html": [
       "<pre style=\"white-space:pre;overflow-x:auto;line-height:normal;font-family:Menlo,'DejaVu Sans Mono',consolas,'Courier New',monospace\">┏━━━━━━━━━━━━━━━━━━━━━━━━━━━┳━━━━━━━━━━━━━━━━━━━━━━━━━━━┓\n",
       "┃<span style=\"font-weight: bold\">        Test metric        </span>┃<span style=\"font-weight: bold\">       DataLoader 0        </span>┃\n",
       "┡━━━━━━━━━━━━━━━━━━━━━━━━━━━╇━━━━━━━━━━━━━━━━━━━━━━━━━━━┩\n",
       "│<span style=\"color: #008080; text-decoration-color: #008080\"> batch_averaged_test/rmse  </span>│<span style=\"color: #800080; text-decoration-color: #800080\">    26.407278060913086     </span>│\n",
       "└───────────────────────────┴───────────────────────────┘\n",
       "</pre>\n"
      ],
      "text/plain": [
       "┏━━━━━━━━━━━━━━━━━━━━━━━━━━━┳━━━━━━━━━━━━━━━━━━━━━━━━━━━┓\n",
       "┃\u001b[1m \u001b[0m\u001b[1m       Test metric       \u001b[0m\u001b[1m \u001b[0m┃\u001b[1m \u001b[0m\u001b[1m      DataLoader 0       \u001b[0m\u001b[1m \u001b[0m┃\n",
       "┡━━━━━━━━━━━━━━━━━━━━━━━━━━━╇━━━━━━━━━━━━━━━━━━━━━━━━━━━┩\n",
       "│\u001b[36m \u001b[0m\u001b[36mbatch_averaged_test/rmse \u001b[0m\u001b[36m \u001b[0m│\u001b[35m \u001b[0m\u001b[35m   26.407278060913086    \u001b[0m\u001b[35m \u001b[0m│\n",
       "└───────────────────────────┴───────────────────────────┘\n"
      ]
     },
     "metadata": {},
     "output_type": "display_data"
    },
    {
     "name": "stdout",
     "output_type": "stream",
     "text": [
      "\n",
      "                                                                                                                                   \n",
      "\n",
      "Fold 5/5; Time 44.103;                                                                                                             \n",
      "\n",
      "Epoch 6: 100%|█████████████████████████████████████████████████| 13/13 [4:09:47<00:00,  0.00it/s, train_loss=0.781, val_loss=0.767]\u001b[A\n",
      "\n",
      "Epoch 17: 100%|████████████████████████████████████████████████| 13/13 [4:01:20<00:00,  0.00it/s, train_loss=0.643, val_loss=0.661]\u001b[A\u001b[A\n",
      "                                                                                                                                   \n",
      "\n",
      "Min val score 26.407; Training epochs 94                                                                                           \n",
      "\n",
      "Epoch 6: 100%|█████████████████████████████████████████████████| 13/13 [4:09:47<00:00,  0.00it/s, train_loss=0.781, val_loss=0.767]\u001b[A\n",
      "\n",
      "Epoch 17: 100%|████████████████████████████████████████████████| 13/13 [4:01:20<00:00,  0.00it/s, train_loss=0.643, val_loss=0.661]\u001b[A\u001b[A\n",
      "\n",
      " 75%|██████████████████████████████████████████▊              | 60/80 [20:22<1:16:29, 229.50s/trial, best loss: 24.127126693725586]\u001b[A\u001b[A"
     ]
    },
    {
     "name": "stderr",
     "output_type": "stream",
     "text": [
      "/opt/calculation/anaconda3/envs/chemprop/lib/python3.11/site-packages/lightning/fabric/plugins/environments/slurm.py:204: The `srun` command is available on your system but is not used. HINT: If your intention is to run Lightning on SLURM, prepend your python command with `srun` like so: srun python /opt/calculation/anaconda3/envs/chemprop/lib/python3 ...\n",
      "\n",
      "/opt/calculation/anaconda3/envs/chemprop/lib/python3.11/site-packages/lightning/pytorch/callbacks/model_checkpoint.py:652: Checkpoint directory /home/kashurin/Tox24/dmpnn_try_3/search_4/hp_cv_1/m0 exists and is not empty.\n",
      "\n"
     ]
    },
    {
     "data": {
      "text/html": [
       "<pre style=\"white-space:pre;overflow-x:auto;line-height:normal;font-family:Menlo,'DejaVu Sans Mono',consolas,'Courier New',monospace\">┏━━━━━━━━━━━━━━━━━━━━━━━━━━━┳━━━━━━━━━━━━━━━━━━━━━━━━━━━┓\n",
       "┃<span style=\"font-weight: bold\">        Test metric        </span>┃<span style=\"font-weight: bold\">       DataLoader 0        </span>┃\n",
       "┡━━━━━━━━━━━━━━━━━━━━━━━━━━━╇━━━━━━━━━━━━━━━━━━━━━━━━━━━┩\n",
       "│<span style=\"color: #008080; text-decoration-color: #008080\"> batch_averaged_test/rmse  </span>│<span style=\"color: #800080; text-decoration-color: #800080\">     25.29804801940918     </span>│\n",
       "└───────────────────────────┴───────────────────────────┘\n",
       "</pre>\n"
      ],
      "text/plain": [
       "┏━━━━━━━━━━━━━━━━━━━━━━━━━━━┳━━━━━━━━━━━━━━━━━━━━━━━━━━━┓\n",
       "┃\u001b[1m \u001b[0m\u001b[1m       Test metric       \u001b[0m\u001b[1m \u001b[0m┃\u001b[1m \u001b[0m\u001b[1m      DataLoader 0       \u001b[0m\u001b[1m \u001b[0m┃\n",
       "┡━━━━━━━━━━━━━━━━━━━━━━━━━━━╇━━━━━━━━━━━━━━━━━━━━━━━━━━━┩\n",
       "│\u001b[36m \u001b[0m\u001b[36mbatch_averaged_test/rmse \u001b[0m\u001b[36m \u001b[0m│\u001b[35m \u001b[0m\u001b[35m    25.29804801940918    \u001b[0m\u001b[35m \u001b[0m│\n",
       "└───────────────────────────┴───────────────────────────┘\n"
      ]
     },
     "metadata": {},
     "output_type": "display_data"
    },
    {
     "name": "stdout",
     "output_type": "stream",
     "text": [
      "\n",
      "                                                                                                                                   \n",
      "\n",
      "Fold 1/5; Time 47.098;                                                                                                             \n",
      "\n",
      "Epoch 6: 100%|█████████████████████████████████████████████████| 13/13 [4:10:34<00:00,  0.00it/s, train_loss=0.781, val_loss=0.767]\u001b[A\n",
      "\n",
      "Epoch 17: 100%|████████████████████████████████████████████████| 13/13 [4:02:07<00:00,  0.00it/s, train_loss=0.643, val_loss=0.661]\u001b[A\u001b[A\n",
      "                                                                                                                                   \n",
      "\n",
      "Min val score 25.298; Training epochs 94                                                                                           \n",
      "\n",
      "Epoch 6: 100%|█████████████████████████████████████████████████| 13/13 [4:10:34<00:00,  0.00it/s, train_loss=0.781, val_loss=0.767]\u001b[A\n",
      "\n",
      "Epoch 17: 100%|████████████████████████████████████████████████| 13/13 [4:02:07<00:00,  0.00it/s, train_loss=0.643, val_loss=0.661]\u001b[A\u001b[A"
     ]
    },
    {
     "name": "stderr",
     "output_type": "stream",
     "text": [
      "/opt/calculation/anaconda3/envs/chemprop/lib/python3.11/site-packages/lightning/fabric/plugins/environments/slurm.py:204: The `srun` command is available on your system but is not used. HINT: If your intention is to run Lightning on SLURM, prepend your python command with `srun` like so: srun python /opt/calculation/anaconda3/envs/chemprop/lib/python3 ...\n",
      "\n",
      "/opt/calculation/anaconda3/envs/chemprop/lib/python3.11/site-packages/lightning/pytorch/callbacks/model_checkpoint.py:652: Checkpoint directory /home/kashurin/Tox24/dmpnn_try_3/search_4/hp_cv_1/m1 exists and is not empty.\n",
      "\n"
     ]
    },
    {
     "data": {
      "text/html": [
       "<pre style=\"white-space:pre;overflow-x:auto;line-height:normal;font-family:Menlo,'DejaVu Sans Mono',consolas,'Courier New',monospace\">┏━━━━━━━━━━━━━━━━━━━━━━━━━━━┳━━━━━━━━━━━━━━━━━━━━━━━━━━━┓\n",
       "┃<span style=\"font-weight: bold\">        Test metric        </span>┃<span style=\"font-weight: bold\">       DataLoader 0        </span>┃\n",
       "┡━━━━━━━━━━━━━━━━━━━━━━━━━━━╇━━━━━━━━━━━━━━━━━━━━━━━━━━━┩\n",
       "│<span style=\"color: #008080; text-decoration-color: #008080\"> batch_averaged_test/rmse  </span>│<span style=\"color: #800080; text-decoration-color: #800080\">     23.74696159362793     </span>│\n",
       "└───────────────────────────┴───────────────────────────┘\n",
       "</pre>\n"
      ],
      "text/plain": [
       "┏━━━━━━━━━━━━━━━━━━━━━━━━━━━┳━━━━━━━━━━━━━━━━━━━━━━━━━━━┓\n",
       "┃\u001b[1m \u001b[0m\u001b[1m       Test metric       \u001b[0m\u001b[1m \u001b[0m┃\u001b[1m \u001b[0m\u001b[1m      DataLoader 0       \u001b[0m\u001b[1m \u001b[0m┃\n",
       "┡━━━━━━━━━━━━━━━━━━━━━━━━━━━╇━━━━━━━━━━━━━━━━━━━━━━━━━━━┩\n",
       "│\u001b[36m \u001b[0m\u001b[36mbatch_averaged_test/rmse \u001b[0m\u001b[36m \u001b[0m│\u001b[35m \u001b[0m\u001b[35m    23.74696159362793    \u001b[0m\u001b[35m \u001b[0m│\n",
       "└───────────────────────────┴───────────────────────────┘\n"
      ]
     },
     "metadata": {},
     "output_type": "display_data"
    },
    {
     "name": "stdout",
     "output_type": "stream",
     "text": [
      "\n",
      "                                                                                                                                   \n",
      "\n",
      "Fold 2/5; Time 39.972;                                                                                                             \n",
      "\n",
      "Epoch 6: 100%|█████████████████████████████████████████████████| 13/13 [4:11:14<00:00,  0.00it/s, train_loss=0.781, val_loss=0.767]\u001b[A\n",
      "\n",
      "Epoch 17: 100%|████████████████████████████████████████████████| 13/13 [4:02:47<00:00,  0.00it/s, train_loss=0.643, val_loss=0.661]\u001b[A\u001b[A\n",
      "                                                                                                                                   \n",
      "\n",
      "Min val score 23.747; Training epochs 69                                                                                           \n",
      "\n",
      "Epoch 6: 100%|█████████████████████████████████████████████████| 13/13 [4:11:14<00:00,  0.00it/s, train_loss=0.781, val_loss=0.767]\u001b[A\n",
      "\n",
      "Epoch 17: 100%|████████████████████████████████████████████████| 13/13 [4:02:47<00:00,  0.00it/s, train_loss=0.643, val_loss=0.661]\u001b[A\u001b[A"
     ]
    },
    {
     "name": "stderr",
     "output_type": "stream",
     "text": [
      "/opt/calculation/anaconda3/envs/chemprop/lib/python3.11/site-packages/lightning/fabric/plugins/environments/slurm.py:204: The `srun` command is available on your system but is not used. HINT: If your intention is to run Lightning on SLURM, prepend your python command with `srun` like so: srun python /opt/calculation/anaconda3/envs/chemprop/lib/python3 ...\n",
      "\n",
      "/opt/calculation/anaconda3/envs/chemprop/lib/python3.11/site-packages/lightning/pytorch/callbacks/model_checkpoint.py:652: Checkpoint directory /home/kashurin/Tox24/dmpnn_try_3/search_4/hp_cv_1/m2 exists and is not empty.\n",
      "\n"
     ]
    },
    {
     "data": {
      "text/html": [
       "<pre style=\"white-space:pre;overflow-x:auto;line-height:normal;font-family:Menlo,'DejaVu Sans Mono',consolas,'Courier New',monospace\">┏━━━━━━━━━━━━━━━━━━━━━━━━━━━┳━━━━━━━━━━━━━━━━━━━━━━━━━━━┓\n",
       "┃<span style=\"font-weight: bold\">        Test metric        </span>┃<span style=\"font-weight: bold\">       DataLoader 0        </span>┃\n",
       "┡━━━━━━━━━━━━━━━━━━━━━━━━━━━╇━━━━━━━━━━━━━━━━━━━━━━━━━━━┩\n",
       "│<span style=\"color: #008080; text-decoration-color: #008080\"> batch_averaged_test/rmse  </span>│<span style=\"color: #800080; text-decoration-color: #800080\">    22.569185256958008     </span>│\n",
       "└───────────────────────────┴───────────────────────────┘\n",
       "</pre>\n"
      ],
      "text/plain": [
       "┏━━━━━━━━━━━━━━━━━━━━━━━━━━━┳━━━━━━━━━━━━━━━━━━━━━━━━━━━┓\n",
       "┃\u001b[1m \u001b[0m\u001b[1m       Test metric       \u001b[0m\u001b[1m \u001b[0m┃\u001b[1m \u001b[0m\u001b[1m      DataLoader 0       \u001b[0m\u001b[1m \u001b[0m┃\n",
       "┡━━━━━━━━━━━━━━━━━━━━━━━━━━━╇━━━━━━━━━━━━━━━━━━━━━━━━━━━┩\n",
       "│\u001b[36m \u001b[0m\u001b[36mbatch_averaged_test/rmse \u001b[0m\u001b[36m \u001b[0m│\u001b[35m \u001b[0m\u001b[35m   22.569185256958008    \u001b[0m\u001b[35m \u001b[0m│\n",
       "└───────────────────────────┴───────────────────────────┘\n"
      ]
     },
     "metadata": {},
     "output_type": "display_data"
    },
    {
     "name": "stdout",
     "output_type": "stream",
     "text": [
      "\n",
      "                                                                                                                                   \n",
      "\n",
      "Fold 3/5; Time 57.398;                                                                                                             \n",
      "\n",
      "Epoch 6: 100%|█████████████████████████████████████████████████| 13/13 [4:12:12<00:00,  0.00it/s, train_loss=0.781, val_loss=0.767]\u001b[A\n",
      "\n",
      "Epoch 17: 100%|████████████████████████████████████████████████| 13/13 [4:03:45<00:00,  0.00it/s, train_loss=0.643, val_loss=0.661]\u001b[A\u001b[A\n",
      "                                                                                                                                   \n",
      "\n",
      "Min val score 22.569; Training epochs 98                                                                                           \n",
      "\n",
      "Epoch 6: 100%|█████████████████████████████████████████████████| 13/13 [4:12:12<00:00,  0.00it/s, train_loss=0.781, val_loss=0.767]\u001b[A\n",
      "\n",
      "Epoch 17: 100%|████████████████████████████████████████████████| 13/13 [4:03:45<00:00,  0.00it/s, train_loss=0.643, val_loss=0.661]\u001b[A\u001b[A"
     ]
    },
    {
     "name": "stderr",
     "output_type": "stream",
     "text": [
      "/opt/calculation/anaconda3/envs/chemprop/lib/python3.11/site-packages/lightning/fabric/plugins/environments/slurm.py:204: The `srun` command is available on your system but is not used. HINT: If your intention is to run Lightning on SLURM, prepend your python command with `srun` like so: srun python /opt/calculation/anaconda3/envs/chemprop/lib/python3 ...\n",
      "\n",
      "/opt/calculation/anaconda3/envs/chemprop/lib/python3.11/site-packages/lightning/pytorch/callbacks/model_checkpoint.py:652: Checkpoint directory /home/kashurin/Tox24/dmpnn_try_3/search_4/hp_cv_1/m3 exists and is not empty.\n",
      "\n"
     ]
    },
    {
     "data": {
      "text/html": [
       "<pre style=\"white-space:pre;overflow-x:auto;line-height:normal;font-family:Menlo,'DejaVu Sans Mono',consolas,'Courier New',monospace\">┏━━━━━━━━━━━━━━━━━━━━━━━━━━━┳━━━━━━━━━━━━━━━━━━━━━━━━━━━┓\n",
       "┃<span style=\"font-weight: bold\">        Test metric        </span>┃<span style=\"font-weight: bold\">       DataLoader 0        </span>┃\n",
       "┡━━━━━━━━━━━━━━━━━━━━━━━━━━━╇━━━━━━━━━━━━━━━━━━━━━━━━━━━┩\n",
       "│<span style=\"color: #008080; text-decoration-color: #008080\"> batch_averaged_test/rmse  </span>│<span style=\"color: #800080; text-decoration-color: #800080\">    24.126880645751953     </span>│\n",
       "└───────────────────────────┴───────────────────────────┘\n",
       "</pre>\n"
      ],
      "text/plain": [
       "┏━━━━━━━━━━━━━━━━━━━━━━━━━━━┳━━━━━━━━━━━━━━━━━━━━━━━━━━━┓\n",
       "┃\u001b[1m \u001b[0m\u001b[1m       Test metric       \u001b[0m\u001b[1m \u001b[0m┃\u001b[1m \u001b[0m\u001b[1m      DataLoader 0       \u001b[0m\u001b[1m \u001b[0m┃\n",
       "┡━━━━━━━━━━━━━━━━━━━━━━━━━━━╇━━━━━━━━━━━━━━━━━━━━━━━━━━━┩\n",
       "│\u001b[36m \u001b[0m\u001b[36mbatch_averaged_test/rmse \u001b[0m\u001b[36m \u001b[0m│\u001b[35m \u001b[0m\u001b[35m   24.126880645751953    \u001b[0m\u001b[35m \u001b[0m│\n",
       "└───────────────────────────┴───────────────────────────┘\n"
      ]
     },
     "metadata": {},
     "output_type": "display_data"
    },
    {
     "name": "stdout",
     "output_type": "stream",
     "text": [
      "\n",
      "                                                                                                                                   \n",
      "\n",
      "Fold 4/5; Time 62.749;                                                                                                             \n",
      "\n",
      "Epoch 6: 100%|█████████████████████████████████████████████████| 13/13 [4:13:15<00:00,  0.00it/s, train_loss=0.781, val_loss=0.767]\u001b[A\n",
      "\n",
      "Epoch 17: 100%|████████████████████████████████████████████████| 13/13 [4:04:48<00:00,  0.00it/s, train_loss=0.643, val_loss=0.661]\u001b[A\u001b[A\n",
      "                                                                                                                                   \n",
      "\n",
      "Min val score 24.127; Training epochs 107                                                                                          \n",
      "\n",
      "Epoch 6: 100%|█████████████████████████████████████████████████| 13/13 [4:13:15<00:00,  0.00it/s, train_loss=0.781, val_loss=0.767]\u001b[A\n",
      "\n",
      "Epoch 17: 100%|████████████████████████████████████████████████| 13/13 [4:04:48<00:00,  0.00it/s, train_loss=0.643, val_loss=0.661]\u001b[A\u001b[A"
     ]
    },
    {
     "name": "stderr",
     "output_type": "stream",
     "text": [
      "/opt/calculation/anaconda3/envs/chemprop/lib/python3.11/site-packages/lightning/fabric/plugins/environments/slurm.py:204: The `srun` command is available on your system but is not used. HINT: If your intention is to run Lightning on SLURM, prepend your python command with `srun` like so: srun python /opt/calculation/anaconda3/envs/chemprop/lib/python3 ...\n",
      "\n",
      "/opt/calculation/anaconda3/envs/chemprop/lib/python3.11/site-packages/lightning/pytorch/callbacks/model_checkpoint.py:652: Checkpoint directory /home/kashurin/Tox24/dmpnn_try_3/search_4/hp_cv_1/m4 exists and is not empty.\n",
      "\n"
     ]
    },
    {
     "data": {
      "text/html": [
       "<pre style=\"white-space:pre;overflow-x:auto;line-height:normal;font-family:Menlo,'DejaVu Sans Mono',consolas,'Courier New',monospace\">┏━━━━━━━━━━━━━━━━━━━━━━━━━━━┳━━━━━━━━━━━━━━━━━━━━━━━━━━━┓\n",
       "┃<span style=\"font-weight: bold\">        Test metric        </span>┃<span style=\"font-weight: bold\">       DataLoader 0        </span>┃\n",
       "┡━━━━━━━━━━━━━━━━━━━━━━━━━━━╇━━━━━━━━━━━━━━━━━━━━━━━━━━━┩\n",
       "│<span style=\"color: #008080; text-decoration-color: #008080\"> batch_averaged_test/rmse  </span>│<span style=\"color: #800080; text-decoration-color: #800080\">    27.372177124023438     </span>│\n",
       "└───────────────────────────┴───────────────────────────┘\n",
       "</pre>\n"
      ],
      "text/plain": [
       "┏━━━━━━━━━━━━━━━━━━━━━━━━━━━┳━━━━━━━━━━━━━━━━━━━━━━━━━━━┓\n",
       "┃\u001b[1m \u001b[0m\u001b[1m       Test metric       \u001b[0m\u001b[1m \u001b[0m┃\u001b[1m \u001b[0m\u001b[1m      DataLoader 0       \u001b[0m\u001b[1m \u001b[0m┃\n",
       "┡━━━━━━━━━━━━━━━━━━━━━━━━━━━╇━━━━━━━━━━━━━━━━━━━━━━━━━━━┩\n",
       "│\u001b[36m \u001b[0m\u001b[36mbatch_averaged_test/rmse \u001b[0m\u001b[36m \u001b[0m│\u001b[35m \u001b[0m\u001b[35m   27.372177124023438    \u001b[0m\u001b[35m \u001b[0m│\n",
       "└───────────────────────────┴───────────────────────────┘\n"
      ]
     },
     "metadata": {},
     "output_type": "display_data"
    },
    {
     "name": "stdout",
     "output_type": "stream",
     "text": [
      "\n",
      "                                                                                                                                   \n",
      "\n",
      "Fold 5/5; Time 32.026;                                                                                                             \n",
      "\n",
      "Epoch 6: 100%|█████████████████████████████████████████████████| 13/13 [4:13:47<00:00,  0.00it/s, train_loss=0.781, val_loss=0.767]\u001b[A\n",
      "\n",
      "Epoch 17: 100%|████████████████████████████████████████████████| 13/13 [4:05:20<00:00,  0.00it/s, train_loss=0.643, val_loss=0.661]\u001b[A\u001b[A\n",
      "                                                                                                                                   \n",
      "\n",
      "Min val score 27.372; Training epochs 54                                                                                           \n",
      "\n",
      "Epoch 6: 100%|█████████████████████████████████████████████████| 13/13 [4:13:47<00:00,  0.00it/s, train_loss=0.781, val_loss=0.767]\u001b[A\n",
      "\n",
      "Epoch 17: 100%|████████████████████████████████████████████████| 13/13 [4:05:20<00:00,  0.00it/s, train_loss=0.643, val_loss=0.661]\u001b[A\u001b[A\n",
      "\n",
      " 76%|███████████████████████████████████████████▍             | 61/80 [24:21<1:13:44, 232.86s/trial, best loss: 24.127126693725586]\u001b[A\u001b[A"
     ]
    },
    {
     "name": "stderr",
     "output_type": "stream",
     "text": [
      "/opt/calculation/anaconda3/envs/chemprop/lib/python3.11/site-packages/lightning/fabric/plugins/environments/slurm.py:204: The `srun` command is available on your system but is not used. HINT: If your intention is to run Lightning on SLURM, prepend your python command with `srun` like so: srun python /opt/calculation/anaconda3/envs/chemprop/lib/python3 ...\n",
      "\n",
      "/opt/calculation/anaconda3/envs/chemprop/lib/python3.11/site-packages/lightning/pytorch/callbacks/model_checkpoint.py:652: Checkpoint directory /home/kashurin/Tox24/dmpnn_try_3/search_4/hp_cv_1/m0 exists and is not empty.\n",
      "\n"
     ]
    },
    {
     "data": {
      "text/html": [
       "<pre style=\"white-space:pre;overflow-x:auto;line-height:normal;font-family:Menlo,'DejaVu Sans Mono',consolas,'Courier New',monospace\">┏━━━━━━━━━━━━━━━━━━━━━━━━━━━┳━━━━━━━━━━━━━━━━━━━━━━━━━━━┓\n",
       "┃<span style=\"font-weight: bold\">        Test metric        </span>┃<span style=\"font-weight: bold\">       DataLoader 0        </span>┃\n",
       "┡━━━━━━━━━━━━━━━━━━━━━━━━━━━╇━━━━━━━━━━━━━━━━━━━━━━━━━━━┩\n",
       "│<span style=\"color: #008080; text-decoration-color: #008080\"> batch_averaged_test/rmse  </span>│<span style=\"color: #800080; text-decoration-color: #800080\">    25.210176467895508     </span>│\n",
       "└───────────────────────────┴───────────────────────────┘\n",
       "</pre>\n"
      ],
      "text/plain": [
       "┏━━━━━━━━━━━━━━━━━━━━━━━━━━━┳━━━━━━━━━━━━━━━━━━━━━━━━━━━┓\n",
       "┃\u001b[1m \u001b[0m\u001b[1m       Test metric       \u001b[0m\u001b[1m \u001b[0m┃\u001b[1m \u001b[0m\u001b[1m      DataLoader 0       \u001b[0m\u001b[1m \u001b[0m┃\n",
       "┡━━━━━━━━━━━━━━━━━━━━━━━━━━━╇━━━━━━━━━━━━━━━━━━━━━━━━━━━┩\n",
       "│\u001b[36m \u001b[0m\u001b[36mbatch_averaged_test/rmse \u001b[0m\u001b[36m \u001b[0m│\u001b[35m \u001b[0m\u001b[35m   25.210176467895508    \u001b[0m\u001b[35m \u001b[0m│\n",
       "└───────────────────────────┴───────────────────────────┘\n"
      ]
     },
     "metadata": {},
     "output_type": "display_data"
    },
    {
     "name": "stdout",
     "output_type": "stream",
     "text": [
      "\n",
      "                                                                                                                                   \n",
      "\n",
      "Fold 1/5; Time 26.328;                                                                                                             \n",
      "\n",
      "Epoch 6: 100%|█████████████████████████████████████████████████| 13/13 [4:14:13<00:00,  0.00it/s, train_loss=0.781, val_loss=0.767]\u001b[A\n",
      "\n",
      "Epoch 17: 100%|████████████████████████████████████████████████| 13/13 [4:05:46<00:00,  0.00it/s, train_loss=0.643, val_loss=0.661]\u001b[A\u001b[A\n",
      "                                                                                                                                   \n",
      "\n",
      "Min val score 25.210; Training epochs 51                                                                                           \n",
      "\n",
      "Epoch 6: 100%|█████████████████████████████████████████████████| 13/13 [4:14:13<00:00,  0.00it/s, train_loss=0.781, val_loss=0.767]\u001b[A\n",
      "\n",
      "Epoch 17: 100%|████████████████████████████████████████████████| 13/13 [4:05:46<00:00,  0.00it/s, train_loss=0.643, val_loss=0.661]\u001b[A\u001b[A"
     ]
    },
    {
     "name": "stderr",
     "output_type": "stream",
     "text": [
      "/opt/calculation/anaconda3/envs/chemprop/lib/python3.11/site-packages/lightning/fabric/plugins/environments/slurm.py:204: The `srun` command is available on your system but is not used. HINT: If your intention is to run Lightning on SLURM, prepend your python command with `srun` like so: srun python /opt/calculation/anaconda3/envs/chemprop/lib/python3 ...\n",
      "\n",
      "/opt/calculation/anaconda3/envs/chemprop/lib/python3.11/site-packages/lightning/pytorch/callbacks/model_checkpoint.py:652: Checkpoint directory /home/kashurin/Tox24/dmpnn_try_3/search_4/hp_cv_1/m1 exists and is not empty.\n",
      "\n"
     ]
    },
    {
     "data": {
      "text/html": [
       "<pre style=\"white-space:pre;overflow-x:auto;line-height:normal;font-family:Menlo,'DejaVu Sans Mono',consolas,'Courier New',monospace\">┏━━━━━━━━━━━━━━━━━━━━━━━━━━━┳━━━━━━━━━━━━━━━━━━━━━━━━━━━┓\n",
       "┃<span style=\"font-weight: bold\">        Test metric        </span>┃<span style=\"font-weight: bold\">       DataLoader 0        </span>┃\n",
       "┡━━━━━━━━━━━━━━━━━━━━━━━━━━━╇━━━━━━━━━━━━━━━━━━━━━━━━━━━┩\n",
       "│<span style=\"color: #008080; text-decoration-color: #008080\"> batch_averaged_test/rmse  </span>│<span style=\"color: #800080; text-decoration-color: #800080\">    24.033058166503906     </span>│\n",
       "└───────────────────────────┴───────────────────────────┘\n",
       "</pre>\n"
      ],
      "text/plain": [
       "┏━━━━━━━━━━━━━━━━━━━━━━━━━━━┳━━━━━━━━━━━━━━━━━━━━━━━━━━━┓\n",
       "┃\u001b[1m \u001b[0m\u001b[1m       Test metric       \u001b[0m\u001b[1m \u001b[0m┃\u001b[1m \u001b[0m\u001b[1m      DataLoader 0       \u001b[0m\u001b[1m \u001b[0m┃\n",
       "┡━━━━━━━━━━━━━━━━━━━━━━━━━━━╇━━━━━━━━━━━━━━━━━━━━━━━━━━━┩\n",
       "│\u001b[36m \u001b[0m\u001b[36mbatch_averaged_test/rmse \u001b[0m\u001b[36m \u001b[0m│\u001b[35m \u001b[0m\u001b[35m   24.033058166503906    \u001b[0m\u001b[35m \u001b[0m│\n",
       "└───────────────────────────┴───────────────────────────┘\n"
      ]
     },
     "metadata": {},
     "output_type": "display_data"
    },
    {
     "name": "stdout",
     "output_type": "stream",
     "text": [
      "\n",
      "                                                                                                                                   \n",
      "\n",
      "Fold 2/5; Time 36.969;                                                                                                             \n",
      "\n",
      "Epoch 6: 100%|█████████████████████████████████████████████████| 13/13 [4:14:50<00:00,  0.00it/s, train_loss=0.781, val_loss=0.767]\u001b[A\n",
      "\n",
      "Epoch 17: 100%|████████████████████████████████████████████████| 13/13 [4:06:23<00:00,  0.00it/s, train_loss=0.643, val_loss=0.661]\u001b[A\u001b[A\n",
      "                                                                                                                                   \n",
      "\n",
      "Min val score 24.033; Training epochs 63                                                                                           \n",
      "\n",
      "Epoch 6: 100%|█████████████████████████████████████████████████| 13/13 [4:14:50<00:00,  0.00it/s, train_loss=0.781, val_loss=0.767]\u001b[A\n",
      "\n",
      "Epoch 17: 100%|████████████████████████████████████████████████| 13/13 [4:06:23<00:00,  0.00it/s, train_loss=0.643, val_loss=0.661]\u001b[A\u001b[A"
     ]
    },
    {
     "name": "stderr",
     "output_type": "stream",
     "text": [
      "/opt/calculation/anaconda3/envs/chemprop/lib/python3.11/site-packages/lightning/fabric/plugins/environments/slurm.py:204: The `srun` command is available on your system but is not used. HINT: If your intention is to run Lightning on SLURM, prepend your python command with `srun` like so: srun python /opt/calculation/anaconda3/envs/chemprop/lib/python3 ...\n",
      "\n",
      "/opt/calculation/anaconda3/envs/chemprop/lib/python3.11/site-packages/lightning/pytorch/callbacks/model_checkpoint.py:652: Checkpoint directory /home/kashurin/Tox24/dmpnn_try_3/search_4/hp_cv_1/m2 exists and is not empty.\n",
      "\n"
     ]
    },
    {
     "data": {
      "text/html": [
       "<pre style=\"white-space:pre;overflow-x:auto;line-height:normal;font-family:Menlo,'DejaVu Sans Mono',consolas,'Courier New',monospace\">┏━━━━━━━━━━━━━━━━━━━━━━━━━━━┳━━━━━━━━━━━━━━━━━━━━━━━━━━━┓\n",
       "┃<span style=\"font-weight: bold\">        Test metric        </span>┃<span style=\"font-weight: bold\">       DataLoader 0        </span>┃\n",
       "┡━━━━━━━━━━━━━━━━━━━━━━━━━━━╇━━━━━━━━━━━━━━━━━━━━━━━━━━━┩\n",
       "│<span style=\"color: #008080; text-decoration-color: #008080\"> batch_averaged_test/rmse  </span>│<span style=\"color: #800080; text-decoration-color: #800080\">     22.19861602783203     </span>│\n",
       "└───────────────────────────┴───────────────────────────┘\n",
       "</pre>\n"
      ],
      "text/plain": [
       "┏━━━━━━━━━━━━━━━━━━━━━━━━━━━┳━━━━━━━━━━━━━━━━━━━━━━━━━━━┓\n",
       "┃\u001b[1m \u001b[0m\u001b[1m       Test metric       \u001b[0m\u001b[1m \u001b[0m┃\u001b[1m \u001b[0m\u001b[1m      DataLoader 0       \u001b[0m\u001b[1m \u001b[0m┃\n",
       "┡━━━━━━━━━━━━━━━━━━━━━━━━━━━╇━━━━━━━━━━━━━━━━━━━━━━━━━━━┩\n",
       "│\u001b[36m \u001b[0m\u001b[36mbatch_averaged_test/rmse \u001b[0m\u001b[36m \u001b[0m│\u001b[35m \u001b[0m\u001b[35m    22.19861602783203    \u001b[0m\u001b[35m \u001b[0m│\n",
       "└───────────────────────────┴───────────────────────────┘\n"
      ]
     },
     "metadata": {},
     "output_type": "display_data"
    },
    {
     "name": "stdout",
     "output_type": "stream",
     "text": [
      "\n",
      "                                                                                                                                   \n",
      "\n",
      "Fold 3/5; Time 63.022;                                                                                                             \n",
      "\n",
      "Epoch 6: 100%|█████████████████████████████████████████████████| 13/13 [4:15:53<00:00,  0.00it/s, train_loss=0.781, val_loss=0.767]\u001b[A\n",
      "\n",
      "Epoch 17: 100%|████████████████████████████████████████████████| 13/13 [4:07:26<00:00,  0.00it/s, train_loss=0.643, val_loss=0.661]\u001b[A\u001b[A\n",
      "                                                                                                                                   \n",
      "\n",
      "Min val score 22.199; Training epochs 122                                                                                          \n",
      "\n",
      "Epoch 6: 100%|█████████████████████████████████████████████████| 13/13 [4:15:53<00:00,  0.00it/s, train_loss=0.781, val_loss=0.767]\u001b[A\n",
      "\n",
      "Epoch 17: 100%|████████████████████████████████████████████████| 13/13 [4:07:26<00:00,  0.00it/s, train_loss=0.643, val_loss=0.661]\u001b[A\u001b[A"
     ]
    },
    {
     "name": "stderr",
     "output_type": "stream",
     "text": [
      "/opt/calculation/anaconda3/envs/chemprop/lib/python3.11/site-packages/lightning/fabric/plugins/environments/slurm.py:204: The `srun` command is available on your system but is not used. HINT: If your intention is to run Lightning on SLURM, prepend your python command with `srun` like so: srun python /opt/calculation/anaconda3/envs/chemprop/lib/python3 ...\n",
      "\n",
      "/opt/calculation/anaconda3/envs/chemprop/lib/python3.11/site-packages/lightning/pytorch/callbacks/model_checkpoint.py:652: Checkpoint directory /home/kashurin/Tox24/dmpnn_try_3/search_4/hp_cv_1/m3 exists and is not empty.\n",
      "\n"
     ]
    },
    {
     "data": {
      "text/html": [
       "<pre style=\"white-space:pre;overflow-x:auto;line-height:normal;font-family:Menlo,'DejaVu Sans Mono',consolas,'Courier New',monospace\">┏━━━━━━━━━━━━━━━━━━━━━━━━━━━┳━━━━━━━━━━━━━━━━━━━━━━━━━━━┓\n",
       "┃<span style=\"font-weight: bold\">        Test metric        </span>┃<span style=\"font-weight: bold\">       DataLoader 0        </span>┃\n",
       "┡━━━━━━━━━━━━━━━━━━━━━━━━━━━╇━━━━━━━━━━━━━━━━━━━━━━━━━━━┩\n",
       "│<span style=\"color: #008080; text-decoration-color: #008080\"> batch_averaged_test/rmse  </span>│<span style=\"color: #800080; text-decoration-color: #800080\">    23.815784454345703     </span>│\n",
       "└───────────────────────────┴───────────────────────────┘\n",
       "</pre>\n"
      ],
      "text/plain": [
       "┏━━━━━━━━━━━━━━━━━━━━━━━━━━━┳━━━━━━━━━━━━━━━━━━━━━━━━━━━┓\n",
       "┃\u001b[1m \u001b[0m\u001b[1m       Test metric       \u001b[0m\u001b[1m \u001b[0m┃\u001b[1m \u001b[0m\u001b[1m      DataLoader 0       \u001b[0m\u001b[1m \u001b[0m┃\n",
       "┡━━━━━━━━━━━━━━━━━━━━━━━━━━━╇━━━━━━━━━━━━━━━━━━━━━━━━━━━┩\n",
       "│\u001b[36m \u001b[0m\u001b[36mbatch_averaged_test/rmse \u001b[0m\u001b[36m \u001b[0m│\u001b[35m \u001b[0m\u001b[35m   23.815784454345703    \u001b[0m\u001b[35m \u001b[0m│\n",
       "└───────────────────────────┴───────────────────────────┘\n"
      ]
     },
     "metadata": {},
     "output_type": "display_data"
    },
    {
     "name": "stdout",
     "output_type": "stream",
     "text": [
      "\n",
      "                                                                                                                                   \n",
      "\n",
      "Fold 4/5; Time 48.370;                                                                                                             \n",
      "\n",
      "Epoch 6: 100%|█████████████████████████████████████████████████| 13/13 [4:16:42<00:00,  0.00it/s, train_loss=0.781, val_loss=0.767]\u001b[A\n",
      "\n",
      "Epoch 17: 100%|████████████████████████████████████████████████| 13/13 [4:08:14<00:00,  0.00it/s, train_loss=0.643, val_loss=0.661]\u001b[A\u001b[A\n",
      "                                                                                                                                   \n",
      "\n",
      "Min val score 23.816; Training epochs 94                                                                                           \n",
      "\n",
      "Epoch 6: 100%|█████████████████████████████████████████████████| 13/13 [4:16:42<00:00,  0.00it/s, train_loss=0.781, val_loss=0.767]\u001b[A\n",
      "\n",
      "Epoch 17: 100%|████████████████████████████████████████████████| 13/13 [4:08:14<00:00,  0.00it/s, train_loss=0.643, val_loss=0.661]\u001b[A\u001b[A"
     ]
    },
    {
     "name": "stderr",
     "output_type": "stream",
     "text": [
      "/opt/calculation/anaconda3/envs/chemprop/lib/python3.11/site-packages/lightning/fabric/plugins/environments/slurm.py:204: The `srun` command is available on your system but is not used. HINT: If your intention is to run Lightning on SLURM, prepend your python command with `srun` like so: srun python /opt/calculation/anaconda3/envs/chemprop/lib/python3 ...\n",
      "\n",
      "/opt/calculation/anaconda3/envs/chemprop/lib/python3.11/site-packages/lightning/pytorch/callbacks/model_checkpoint.py:652: Checkpoint directory /home/kashurin/Tox24/dmpnn_try_3/search_4/hp_cv_1/m4 exists and is not empty.\n",
      "\n"
     ]
    },
    {
     "data": {
      "text/html": [
       "<pre style=\"white-space:pre;overflow-x:auto;line-height:normal;font-family:Menlo,'DejaVu Sans Mono',consolas,'Courier New',monospace\">┏━━━━━━━━━━━━━━━━━━━━━━━━━━━┳━━━━━━━━━━━━━━━━━━━━━━━━━━━┓\n",
       "┃<span style=\"font-weight: bold\">        Test metric        </span>┃<span style=\"font-weight: bold\">       DataLoader 0        </span>┃\n",
       "┡━━━━━━━━━━━━━━━━━━━━━━━━━━━╇━━━━━━━━━━━━━━━━━━━━━━━━━━━┩\n",
       "│<span style=\"color: #008080; text-decoration-color: #008080\"> batch_averaged_test/rmse  </span>│<span style=\"color: #800080; text-decoration-color: #800080\">     25.6927433013916      </span>│\n",
       "└───────────────────────────┴───────────────────────────┘\n",
       "</pre>\n"
      ],
      "text/plain": [
       "┏━━━━━━━━━━━━━━━━━━━━━━━━━━━┳━━━━━━━━━━━━━━━━━━━━━━━━━━━┓\n",
       "┃\u001b[1m \u001b[0m\u001b[1m       Test metric       \u001b[0m\u001b[1m \u001b[0m┃\u001b[1m \u001b[0m\u001b[1m      DataLoader 0       \u001b[0m\u001b[1m \u001b[0m┃\n",
       "┡━━━━━━━━━━━━━━━━━━━━━━━━━━━╇━━━━━━━━━━━━━━━━━━━━━━━━━━━┩\n",
       "│\u001b[36m \u001b[0m\u001b[36mbatch_averaged_test/rmse \u001b[0m\u001b[36m \u001b[0m│\u001b[35m \u001b[0m\u001b[35m    25.6927433013916     \u001b[0m\u001b[35m \u001b[0m│\n",
       "└───────────────────────────┴───────────────────────────┘\n"
      ]
     },
     "metadata": {},
     "output_type": "display_data"
    },
    {
     "name": "stdout",
     "output_type": "stream",
     "text": [
      "\n",
      "                                                                                                                                   \n",
      "\n",
      "Fold 5/5; Time 33.920;                                                                                                             \n",
      "\n",
      "Epoch 6: 100%|█████████████████████████████████████████████████| 13/13 [4:17:15<00:00,  0.00it/s, train_loss=0.781, val_loss=0.767]\u001b[A\n",
      "\n",
      "Epoch 17: 100%|████████████████████████████████████████████████| 13/13 [4:08:48<00:00,  0.00it/s, train_loss=0.643, val_loss=0.661]\u001b[A\u001b[A\n",
      "                                                                                                                                   \n",
      "\n",
      "Min val score 25.693; Training epochs 59                                                                                           \n",
      "\n",
      "Epoch 6: 100%|█████████████████████████████████████████████████| 13/13 [4:17:15<00:00,  0.00it/s, train_loss=0.781, val_loss=0.767]\u001b[A\n",
      "\n",
      "Epoch 17: 100%|████████████████████████████████████████████████| 13/13 [4:08:48<00:00,  0.00it/s, train_loss=0.643, val_loss=0.661]\u001b[A\u001b[A\n",
      "\n",
      " 78%|████████████████████████████████████████████▏            | 62/80 [27:50<1:07:29, 224.98s/trial, best loss: 24.127126693725586]\u001b[A\u001b[A"
     ]
    },
    {
     "name": "stderr",
     "output_type": "stream",
     "text": [
      "/opt/calculation/anaconda3/envs/chemprop/lib/python3.11/site-packages/lightning/fabric/plugins/environments/slurm.py:204: The `srun` command is available on your system but is not used. HINT: If your intention is to run Lightning on SLURM, prepend your python command with `srun` like so: srun python /opt/calculation/anaconda3/envs/chemprop/lib/python3 ...\n",
      "\n",
      "/opt/calculation/anaconda3/envs/chemprop/lib/python3.11/site-packages/lightning/pytorch/callbacks/model_checkpoint.py:652: Checkpoint directory /home/kashurin/Tox24/dmpnn_try_3/search_4/hp_cv_1/m0 exists and is not empty.\n",
      "\n"
     ]
    },
    {
     "data": {
      "text/html": [
       "<pre style=\"white-space:pre;overflow-x:auto;line-height:normal;font-family:Menlo,'DejaVu Sans Mono',consolas,'Courier New',monospace\">┏━━━━━━━━━━━━━━━━━━━━━━━━━━━┳━━━━━━━━━━━━━━━━━━━━━━━━━━━┓\n",
       "┃<span style=\"font-weight: bold\">        Test metric        </span>┃<span style=\"font-weight: bold\">       DataLoader 0        </span>┃\n",
       "┡━━━━━━━━━━━━━━━━━━━━━━━━━━━╇━━━━━━━━━━━━━━━━━━━━━━━━━━━┩\n",
       "│<span style=\"color: #008080; text-decoration-color: #008080\"> batch_averaged_test/rmse  </span>│<span style=\"color: #800080; text-decoration-color: #800080\">     23.81139373779297     </span>│\n",
       "└───────────────────────────┴───────────────────────────┘\n",
       "</pre>\n"
      ],
      "text/plain": [
       "┏━━━━━━━━━━━━━━━━━━━━━━━━━━━┳━━━━━━━━━━━━━━━━━━━━━━━━━━━┓\n",
       "┃\u001b[1m \u001b[0m\u001b[1m       Test metric       \u001b[0m\u001b[1m \u001b[0m┃\u001b[1m \u001b[0m\u001b[1m      DataLoader 0       \u001b[0m\u001b[1m \u001b[0m┃\n",
       "┡━━━━━━━━━━━━━━━━━━━━━━━━━━━╇━━━━━━━━━━━━━━━━━━━━━━━━━━━┩\n",
       "│\u001b[36m \u001b[0m\u001b[36mbatch_averaged_test/rmse \u001b[0m\u001b[36m \u001b[0m│\u001b[35m \u001b[0m\u001b[35m    23.81139373779297    \u001b[0m\u001b[35m \u001b[0m│\n",
       "└───────────────────────────┴───────────────────────────┘\n"
      ]
     },
     "metadata": {},
     "output_type": "display_data"
    },
    {
     "name": "stdout",
     "output_type": "stream",
     "text": [
      "\n",
      "                                                                                                                                   \n",
      "\n",
      "Fold 1/5; Time 59.336;                                                                                                             \n",
      "\n",
      "Epoch 6: 100%|█████████████████████████████████████████████████| 13/13 [4:18:15<00:00,  0.00it/s, train_loss=0.781, val_loss=0.767]\u001b[A\n",
      "\n",
      "Epoch 17: 100%|████████████████████████████████████████████████| 13/13 [4:09:48<00:00,  0.00it/s, train_loss=0.643, val_loss=0.661]\u001b[A\u001b[A\n",
      "                                                                                                                                   \n",
      "\n",
      "Min val score 23.811; Training epochs 127                                                                                          \n",
      "\n",
      "Epoch 6: 100%|█████████████████████████████████████████████████| 13/13 [4:18:15<00:00,  0.00it/s, train_loss=0.781, val_loss=0.767]\u001b[A\n",
      "\n",
      "Epoch 17: 100%|████████████████████████████████████████████████| 13/13 [4:09:48<00:00,  0.00it/s, train_loss=0.643, val_loss=0.661]\u001b[A\u001b[A"
     ]
    },
    {
     "name": "stderr",
     "output_type": "stream",
     "text": [
      "/opt/calculation/anaconda3/envs/chemprop/lib/python3.11/site-packages/lightning/fabric/plugins/environments/slurm.py:204: The `srun` command is available on your system but is not used. HINT: If your intention is to run Lightning on SLURM, prepend your python command with `srun` like so: srun python /opt/calculation/anaconda3/envs/chemprop/lib/python3 ...\n",
      "\n",
      "/opt/calculation/anaconda3/envs/chemprop/lib/python3.11/site-packages/lightning/pytorch/callbacks/model_checkpoint.py:652: Checkpoint directory /home/kashurin/Tox24/dmpnn_try_3/search_4/hp_cv_1/m1 exists and is not empty.\n",
      "\n"
     ]
    },
    {
     "data": {
      "text/html": [
       "<pre style=\"white-space:pre;overflow-x:auto;line-height:normal;font-family:Menlo,'DejaVu Sans Mono',consolas,'Courier New',monospace\">┏━━━━━━━━━━━━━━━━━━━━━━━━━━━┳━━━━━━━━━━━━━━━━━━━━━━━━━━━┓\n",
       "┃<span style=\"font-weight: bold\">        Test metric        </span>┃<span style=\"font-weight: bold\">       DataLoader 0        </span>┃\n",
       "┡━━━━━━━━━━━━━━━━━━━━━━━━━━━╇━━━━━━━━━━━━━━━━━━━━━━━━━━━┩\n",
       "│<span style=\"color: #008080; text-decoration-color: #008080\"> batch_averaged_test/rmse  </span>│<span style=\"color: #800080; text-decoration-color: #800080\">    23.427188873291016     </span>│\n",
       "└───────────────────────────┴───────────────────────────┘\n",
       "</pre>\n"
      ],
      "text/plain": [
       "┏━━━━━━━━━━━━━━━━━━━━━━━━━━━┳━━━━━━━━━━━━━━━━━━━━━━━━━━━┓\n",
       "┃\u001b[1m \u001b[0m\u001b[1m       Test metric       \u001b[0m\u001b[1m \u001b[0m┃\u001b[1m \u001b[0m\u001b[1m      DataLoader 0       \u001b[0m\u001b[1m \u001b[0m┃\n",
       "┡━━━━━━━━━━━━━━━━━━━━━━━━━━━╇━━━━━━━━━━━━━━━━━━━━━━━━━━━┩\n",
       "│\u001b[36m \u001b[0m\u001b[36mbatch_averaged_test/rmse \u001b[0m\u001b[36m \u001b[0m│\u001b[35m \u001b[0m\u001b[35m   23.427188873291016    \u001b[0m\u001b[35m \u001b[0m│\n",
       "└───────────────────────────┴───────────────────────────┘\n"
      ]
     },
     "metadata": {},
     "output_type": "display_data"
    },
    {
     "name": "stdout",
     "output_type": "stream",
     "text": [
      "\n",
      "                                                                                                                                   \n",
      "\n",
      "Fold 2/5; Time 59.300;                                                                                                             \n",
      "\n",
      "Epoch 6: 100%|█████████████████████████████████████████████████| 13/13 [4:19:14<00:00,  0.00it/s, train_loss=0.781, val_loss=0.767]\u001b[A\n",
      "\n",
      "Epoch 17: 100%|████████████████████████████████████████████████| 13/13 [4:10:47<00:00,  0.00it/s, train_loss=0.643, val_loss=0.661]\u001b[A\u001b[A\n",
      "                                                                                                                                   \n",
      "\n",
      "Min val score 23.427; Training epochs 127                                                                                          \n",
      "\n",
      "Epoch 6: 100%|█████████████████████████████████████████████████| 13/13 [4:19:14<00:00,  0.00it/s, train_loss=0.781, val_loss=0.767]\u001b[A\n",
      "\n",
      "Epoch 17: 100%|████████████████████████████████████████████████| 13/13 [4:10:47<00:00,  0.00it/s, train_loss=0.643, val_loss=0.661]\u001b[A\u001b[A"
     ]
    },
    {
     "name": "stderr",
     "output_type": "stream",
     "text": [
      "/opt/calculation/anaconda3/envs/chemprop/lib/python3.11/site-packages/lightning/fabric/plugins/environments/slurm.py:204: The `srun` command is available on your system but is not used. HINT: If your intention is to run Lightning on SLURM, prepend your python command with `srun` like so: srun python /opt/calculation/anaconda3/envs/chemprop/lib/python3 ...\n",
      "\n",
      "/opt/calculation/anaconda3/envs/chemprop/lib/python3.11/site-packages/lightning/pytorch/callbacks/model_checkpoint.py:652: Checkpoint directory /home/kashurin/Tox24/dmpnn_try_3/search_4/hp_cv_1/m2 exists and is not empty.\n",
      "\n"
     ]
    },
    {
     "data": {
      "text/html": [
       "<pre style=\"white-space:pre;overflow-x:auto;line-height:normal;font-family:Menlo,'DejaVu Sans Mono',consolas,'Courier New',monospace\">┏━━━━━━━━━━━━━━━━━━━━━━━━━━━┳━━━━━━━━━━━━━━━━━━━━━━━━━━━┓\n",
       "┃<span style=\"font-weight: bold\">        Test metric        </span>┃<span style=\"font-weight: bold\">       DataLoader 0        </span>┃\n",
       "┡━━━━━━━━━━━━━━━━━━━━━━━━━━━╇━━━━━━━━━━━━━━━━━━━━━━━━━━━┩\n",
       "│<span style=\"color: #008080; text-decoration-color: #008080\"> batch_averaged_test/rmse  </span>│<span style=\"color: #800080; text-decoration-color: #800080\">    22.518388748168945     </span>│\n",
       "└───────────────────────────┴───────────────────────────┘\n",
       "</pre>\n"
      ],
      "text/plain": [
       "┏━━━━━━━━━━━━━━━━━━━━━━━━━━━┳━━━━━━━━━━━━━━━━━━━━━━━━━━━┓\n",
       "┃\u001b[1m \u001b[0m\u001b[1m       Test metric       \u001b[0m\u001b[1m \u001b[0m┃\u001b[1m \u001b[0m\u001b[1m      DataLoader 0       \u001b[0m\u001b[1m \u001b[0m┃\n",
       "┡━━━━━━━━━━━━━━━━━━━━━━━━━━━╇━━━━━━━━━━━━━━━━━━━━━━━━━━━┩\n",
       "│\u001b[36m \u001b[0m\u001b[36mbatch_averaged_test/rmse \u001b[0m\u001b[36m \u001b[0m│\u001b[35m \u001b[0m\u001b[35m   22.518388748168945    \u001b[0m\u001b[35m \u001b[0m│\n",
       "└───────────────────────────┴───────────────────────────┘\n"
      ]
     },
     "metadata": {},
     "output_type": "display_data"
    },
    {
     "name": "stdout",
     "output_type": "stream",
     "text": [
      "\n",
      "                                                                                                                                   \n",
      "\n",
      "Fold 3/5; Time 63.877;                                                                                                             \n",
      "\n",
      "Epoch 6: 100%|█████████████████████████████████████████████████| 13/13 [4:20:18<00:00,  0.00it/s, train_loss=0.781, val_loss=0.767]\u001b[A\n",
      "\n",
      "Epoch 17: 100%|████████████████████████████████████████████████| 13/13 [4:11:51<00:00,  0.00it/s, train_loss=0.643, val_loss=0.661]\u001b[A\u001b[A\n",
      "                                                                                                                                   \n",
      "\n",
      "Min val score 22.518; Training epochs 136                                                                                          \n",
      "\n",
      "Epoch 6: 100%|█████████████████████████████████████████████████| 13/13 [4:20:18<00:00,  0.00it/s, train_loss=0.781, val_loss=0.767]\u001b[A\n",
      "\n",
      "Epoch 17: 100%|████████████████████████████████████████████████| 13/13 [4:11:51<00:00,  0.00it/s, train_loss=0.643, val_loss=0.661]\u001b[A\u001b[A"
     ]
    },
    {
     "name": "stderr",
     "output_type": "stream",
     "text": [
      "/opt/calculation/anaconda3/envs/chemprop/lib/python3.11/site-packages/lightning/fabric/plugins/environments/slurm.py:204: The `srun` command is available on your system but is not used. HINT: If your intention is to run Lightning on SLURM, prepend your python command with `srun` like so: srun python /opt/calculation/anaconda3/envs/chemprop/lib/python3 ...\n",
      "\n",
      "/opt/calculation/anaconda3/envs/chemprop/lib/python3.11/site-packages/lightning/pytorch/callbacks/model_checkpoint.py:652: Checkpoint directory /home/kashurin/Tox24/dmpnn_try_3/search_4/hp_cv_1/m3 exists and is not empty.\n",
      "\n"
     ]
    },
    {
     "data": {
      "text/html": [
       "<pre style=\"white-space:pre;overflow-x:auto;line-height:normal;font-family:Menlo,'DejaVu Sans Mono',consolas,'Courier New',monospace\">┏━━━━━━━━━━━━━━━━━━━━━━━━━━━┳━━━━━━━━━━━━━━━━━━━━━━━━━━━┓\n",
       "┃<span style=\"font-weight: bold\">        Test metric        </span>┃<span style=\"font-weight: bold\">       DataLoader 0        </span>┃\n",
       "┡━━━━━━━━━━━━━━━━━━━━━━━━━━━╇━━━━━━━━━━━━━━━━━━━━━━━━━━━┩\n",
       "│<span style=\"color: #008080; text-decoration-color: #008080\"> batch_averaged_test/rmse  </span>│<span style=\"color: #800080; text-decoration-color: #800080\">    23.125417709350586     </span>│\n",
       "└───────────────────────────┴───────────────────────────┘\n",
       "</pre>\n"
      ],
      "text/plain": [
       "┏━━━━━━━━━━━━━━━━━━━━━━━━━━━┳━━━━━━━━━━━━━━━━━━━━━━━━━━━┓\n",
       "┃\u001b[1m \u001b[0m\u001b[1m       Test metric       \u001b[0m\u001b[1m \u001b[0m┃\u001b[1m \u001b[0m\u001b[1m      DataLoader 0       \u001b[0m\u001b[1m \u001b[0m┃\n",
       "┡━━━━━━━━━━━━━━━━━━━━━━━━━━━╇━━━━━━━━━━━━━━━━━━━━━━━━━━━┩\n",
       "│\u001b[36m \u001b[0m\u001b[36mbatch_averaged_test/rmse \u001b[0m\u001b[36m \u001b[0m│\u001b[35m \u001b[0m\u001b[35m   23.125417709350586    \u001b[0m\u001b[35m \u001b[0m│\n",
       "└───────────────────────────┴───────────────────────────┘\n"
      ]
     },
     "metadata": {},
     "output_type": "display_data"
    },
    {
     "name": "stdout",
     "output_type": "stream",
     "text": [
      "\n",
      "                                                                                                                                   \n",
      "\n",
      "Fold 4/5; Time 40.136;                                                                                                             \n",
      "\n",
      "Epoch 6: 100%|█████████████████████████████████████████████████| 13/13 [4:20:58<00:00,  0.00it/s, train_loss=0.781, val_loss=0.767]\u001b[A\n",
      "\n",
      "Epoch 17: 100%|████████████████████████████████████████████████| 13/13 [4:12:31<00:00,  0.00it/s, train_loss=0.643, val_loss=0.661]\u001b[A\u001b[A\n",
      "                                                                                                                                   \n",
      "\n",
      "Min val score 23.125; Training epochs 86                                                                                           \n",
      "\n",
      "Epoch 6: 100%|█████████████████████████████████████████████████| 13/13 [4:20:58<00:00,  0.00it/s, train_loss=0.781, val_loss=0.767]\u001b[A\n",
      "\n",
      "Epoch 17: 100%|████████████████████████████████████████████████| 13/13 [4:12:31<00:00,  0.00it/s, train_loss=0.643, val_loss=0.661]\u001b[A\u001b[A"
     ]
    },
    {
     "name": "stderr",
     "output_type": "stream",
     "text": [
      "/opt/calculation/anaconda3/envs/chemprop/lib/python3.11/site-packages/lightning/fabric/plugins/environments/slurm.py:204: The `srun` command is available on your system but is not used. HINT: If your intention is to run Lightning on SLURM, prepend your python command with `srun` like so: srun python /opt/calculation/anaconda3/envs/chemprop/lib/python3 ...\n",
      "\n",
      "/opt/calculation/anaconda3/envs/chemprop/lib/python3.11/site-packages/lightning/pytorch/callbacks/model_checkpoint.py:652: Checkpoint directory /home/kashurin/Tox24/dmpnn_try_3/search_4/hp_cv_1/m4 exists and is not empty.\n",
      "\n"
     ]
    },
    {
     "data": {
      "text/html": [
       "<pre style=\"white-space:pre;overflow-x:auto;line-height:normal;font-family:Menlo,'DejaVu Sans Mono',consolas,'Courier New',monospace\">┏━━━━━━━━━━━━━━━━━━━━━━━━━━━┳━━━━━━━━━━━━━━━━━━━━━━━━━━━┓\n",
       "┃<span style=\"font-weight: bold\">        Test metric        </span>┃<span style=\"font-weight: bold\">       DataLoader 0        </span>┃\n",
       "┡━━━━━━━━━━━━━━━━━━━━━━━━━━━╇━━━━━━━━━━━━━━━━━━━━━━━━━━━┩\n",
       "│<span style=\"color: #008080; text-decoration-color: #008080\"> batch_averaged_test/rmse  </span>│<span style=\"color: #800080; text-decoration-color: #800080\">    25.492692947387695     </span>│\n",
       "└───────────────────────────┴───────────────────────────┘\n",
       "</pre>\n"
      ],
      "text/plain": [
       "┏━━━━━━━━━━━━━━━━━━━━━━━━━━━┳━━━━━━━━━━━━━━━━━━━━━━━━━━━┓\n",
       "┃\u001b[1m \u001b[0m\u001b[1m       Test metric       \u001b[0m\u001b[1m \u001b[0m┃\u001b[1m \u001b[0m\u001b[1m      DataLoader 0       \u001b[0m\u001b[1m \u001b[0m┃\n",
       "┡━━━━━━━━━━━━━━━━━━━━━━━━━━━╇━━━━━━━━━━━━━━━━━━━━━━━━━━━┩\n",
       "│\u001b[36m \u001b[0m\u001b[36mbatch_averaged_test/rmse \u001b[0m\u001b[36m \u001b[0m│\u001b[35m \u001b[0m\u001b[35m   25.492692947387695    \u001b[0m\u001b[35m \u001b[0m│\n",
       "└───────────────────────────┴───────────────────────────┘\n"
      ]
     },
     "metadata": {},
     "output_type": "display_data"
    },
    {
     "name": "stdout",
     "output_type": "stream",
     "text": [
      "\n",
      "                                                                                                                                   \n",
      "\n",
      "Fold 5/5; Time 49.421;                                                                                                             \n",
      "\n",
      "Epoch 6: 100%|█████████████████████████████████████████████████| 13/13 [4:21:48<00:00,  0.00it/s, train_loss=0.781, val_loss=0.767]\u001b[A\n",
      "\n",
      "Epoch 17: 100%|████████████████████████████████████████████████| 13/13 [4:13:21<00:00,  0.00it/s, train_loss=0.643, val_loss=0.661]\u001b[A\u001b[A\n",
      "                                                                                                                                   \n",
      "\n",
      "Min val score 25.493; Training epochs 92                                                                                           \n",
      "\n",
      "Epoch 6: 100%|█████████████████████████████████████████████████| 13/13 [4:21:48<00:00,  0.00it/s, train_loss=0.781, val_loss=0.767]\u001b[A\n",
      "\n",
      "Epoch 17: 100%|████████████████████████████████████████████████| 13/13 [4:13:21<00:00,  0.00it/s, train_loss=0.643, val_loss=0.661]\u001b[A\u001b[A\n",
      "\n",
      " 79%|████████████████████████████████████████████▉            | 63/80 [32:22<1:08:00, 240.01s/trial, best loss: 23.675016403198242]\u001b[A\u001b[A"
     ]
    },
    {
     "name": "stderr",
     "output_type": "stream",
     "text": [
      "/opt/calculation/anaconda3/envs/chemprop/lib/python3.11/site-packages/lightning/fabric/plugins/environments/slurm.py:204: The `srun` command is available on your system but is not used. HINT: If your intention is to run Lightning on SLURM, prepend your python command with `srun` like so: srun python /opt/calculation/anaconda3/envs/chemprop/lib/python3 ...\n",
      "\n",
      "/opt/calculation/anaconda3/envs/chemprop/lib/python3.11/site-packages/lightning/pytorch/callbacks/model_checkpoint.py:652: Checkpoint directory /home/kashurin/Tox24/dmpnn_try_3/search_4/hp_cv_1/m0 exists and is not empty.\n",
      "\n"
     ]
    },
    {
     "data": {
      "text/html": [
       "<pre style=\"white-space:pre;overflow-x:auto;line-height:normal;font-family:Menlo,'DejaVu Sans Mono',consolas,'Courier New',monospace\">┏━━━━━━━━━━━━━━━━━━━━━━━━━━━┳━━━━━━━━━━━━━━━━━━━━━━━━━━━┓\n",
       "┃<span style=\"font-weight: bold\">        Test metric        </span>┃<span style=\"font-weight: bold\">       DataLoader 0        </span>┃\n",
       "┡━━━━━━━━━━━━━━━━━━━━━━━━━━━╇━━━━━━━━━━━━━━━━━━━━━━━━━━━┩\n",
       "│<span style=\"color: #008080; text-decoration-color: #008080\"> batch_averaged_test/rmse  </span>│<span style=\"color: #800080; text-decoration-color: #800080\">     25.64925765991211     </span>│\n",
       "└───────────────────────────┴───────────────────────────┘\n",
       "</pre>\n"
      ],
      "text/plain": [
       "┏━━━━━━━━━━━━━━━━━━━━━━━━━━━┳━━━━━━━━━━━━━━━━━━━━━━━━━━━┓\n",
       "┃\u001b[1m \u001b[0m\u001b[1m       Test metric       \u001b[0m\u001b[1m \u001b[0m┃\u001b[1m \u001b[0m\u001b[1m      DataLoader 0       \u001b[0m\u001b[1m \u001b[0m┃\n",
       "┡━━━━━━━━━━━━━━━━━━━━━━━━━━━╇━━━━━━━━━━━━━━━━━━━━━━━━━━━┩\n",
       "│\u001b[36m \u001b[0m\u001b[36mbatch_averaged_test/rmse \u001b[0m\u001b[36m \u001b[0m│\u001b[35m \u001b[0m\u001b[35m    25.64925765991211    \u001b[0m\u001b[35m \u001b[0m│\n",
       "└───────────────────────────┴───────────────────────────┘\n"
      ]
     },
     "metadata": {},
     "output_type": "display_data"
    },
    {
     "name": "stdout",
     "output_type": "stream",
     "text": [
      "\n",
      "                                                                                                                                   \n",
      "\n",
      "Fold 1/5; Time 30.494;                                                                                                             \n",
      "\n",
      "Epoch 6: 100%|█████████████████████████████████████████████████| 13/13 [4:22:18<00:00,  0.00it/s, train_loss=0.781, val_loss=0.767]\u001b[A\n",
      "\n",
      "Epoch 17: 100%|████████████████████████████████████████████████| 13/13 [4:13:51<00:00,  0.00it/s, train_loss=0.643, val_loss=0.661]\u001b[A\u001b[A\n",
      "                                                                                                                                   \n",
      "\n",
      "Min val score 25.649; Training epochs 64                                                                                           \n",
      "\n",
      "Epoch 6: 100%|█████████████████████████████████████████████████| 13/13 [4:22:18<00:00,  0.00it/s, train_loss=0.781, val_loss=0.767]\u001b[A\n",
      "\n",
      "Epoch 17: 100%|████████████████████████████████████████████████| 13/13 [4:13:51<00:00,  0.00it/s, train_loss=0.643, val_loss=0.661]\u001b[A\u001b[A"
     ]
    },
    {
     "name": "stderr",
     "output_type": "stream",
     "text": [
      "/opt/calculation/anaconda3/envs/chemprop/lib/python3.11/site-packages/lightning/fabric/plugins/environments/slurm.py:204: The `srun` command is available on your system but is not used. HINT: If your intention is to run Lightning on SLURM, prepend your python command with `srun` like so: srun python /opt/calculation/anaconda3/envs/chemprop/lib/python3 ...\n",
      "\n",
      "/opt/calculation/anaconda3/envs/chemprop/lib/python3.11/site-packages/lightning/pytorch/callbacks/model_checkpoint.py:652: Checkpoint directory /home/kashurin/Tox24/dmpnn_try_3/search_4/hp_cv_1/m1 exists and is not empty.\n",
      "\n"
     ]
    },
    {
     "data": {
      "text/html": [
       "<pre style=\"white-space:pre;overflow-x:auto;line-height:normal;font-family:Menlo,'DejaVu Sans Mono',consolas,'Courier New',monospace\">┏━━━━━━━━━━━━━━━━━━━━━━━━━━━┳━━━━━━━━━━━━━━━━━━━━━━━━━━━┓\n",
       "┃<span style=\"font-weight: bold\">        Test metric        </span>┃<span style=\"font-weight: bold\">       DataLoader 0        </span>┃\n",
       "┡━━━━━━━━━━━━━━━━━━━━━━━━━━━╇━━━━━━━━━━━━━━━━━━━━━━━━━━━┩\n",
       "│<span style=\"color: #008080; text-decoration-color: #008080\"> batch_averaged_test/rmse  </span>│<span style=\"color: #800080; text-decoration-color: #800080\">    24.235370635986328     </span>│\n",
       "└───────────────────────────┴───────────────────────────┘\n",
       "</pre>\n"
      ],
      "text/plain": [
       "┏━━━━━━━━━━━━━━━━━━━━━━━━━━━┳━━━━━━━━━━━━━━━━━━━━━━━━━━━┓\n",
       "┃\u001b[1m \u001b[0m\u001b[1m       Test metric       \u001b[0m\u001b[1m \u001b[0m┃\u001b[1m \u001b[0m\u001b[1m      DataLoader 0       \u001b[0m\u001b[1m \u001b[0m┃\n",
       "┡━━━━━━━━━━━━━━━━━━━━━━━━━━━╇━━━━━━━━━━━━━━━━━━━━━━━━━━━┩\n",
       "│\u001b[36m \u001b[0m\u001b[36mbatch_averaged_test/rmse \u001b[0m\u001b[36m \u001b[0m│\u001b[35m \u001b[0m\u001b[35m   24.235370635986328    \u001b[0m\u001b[35m \u001b[0m│\n",
       "└───────────────────────────┴───────────────────────────┘\n"
      ]
     },
     "metadata": {},
     "output_type": "display_data"
    },
    {
     "name": "stdout",
     "output_type": "stream",
     "text": [
      "\n",
      "                                                                                                                                   \n",
      "\n",
      "Fold 2/5; Time 43.294;                                                                                                             \n",
      "\n",
      "Epoch 6: 100%|█████████████████████████████████████████████████| 13/13 [4:23:02<00:00,  0.00it/s, train_loss=0.781, val_loss=0.767]\u001b[A\n",
      "\n",
      "Epoch 17: 100%|████████████████████████████████████████████████| 13/13 [4:14:34<00:00,  0.00it/s, train_loss=0.643, val_loss=0.661]\u001b[A\u001b[A\n",
      "                                                                                                                                   \n",
      "\n",
      "Min val score 24.235; Training epochs 92                                                                                           \n",
      "\n",
      "Epoch 6: 100%|█████████████████████████████████████████████████| 13/13 [4:23:02<00:00,  0.00it/s, train_loss=0.781, val_loss=0.767]\u001b[A\n",
      "\n",
      "Epoch 17: 100%|████████████████████████████████████████████████| 13/13 [4:14:34<00:00,  0.00it/s, train_loss=0.643, val_loss=0.661]\u001b[A\u001b[A"
     ]
    },
    {
     "name": "stderr",
     "output_type": "stream",
     "text": [
      "/opt/calculation/anaconda3/envs/chemprop/lib/python3.11/site-packages/lightning/fabric/plugins/environments/slurm.py:204: The `srun` command is available on your system but is not used. HINT: If your intention is to run Lightning on SLURM, prepend your python command with `srun` like so: srun python /opt/calculation/anaconda3/envs/chemprop/lib/python3 ...\n",
      "\n",
      "/opt/calculation/anaconda3/envs/chemprop/lib/python3.11/site-packages/lightning/pytorch/callbacks/model_checkpoint.py:652: Checkpoint directory /home/kashurin/Tox24/dmpnn_try_3/search_4/hp_cv_1/m2 exists and is not empty.\n",
      "\n"
     ]
    },
    {
     "data": {
      "text/html": [
       "<pre style=\"white-space:pre;overflow-x:auto;line-height:normal;font-family:Menlo,'DejaVu Sans Mono',consolas,'Courier New',monospace\">┏━━━━━━━━━━━━━━━━━━━━━━━━━━━┳━━━━━━━━━━━━━━━━━━━━━━━━━━━┓\n",
       "┃<span style=\"font-weight: bold\">        Test metric        </span>┃<span style=\"font-weight: bold\">       DataLoader 0        </span>┃\n",
       "┡━━━━━━━━━━━━━━━━━━━━━━━━━━━╇━━━━━━━━━━━━━━━━━━━━━━━━━━━┩\n",
       "│<span style=\"color: #008080; text-decoration-color: #008080\"> batch_averaged_test/rmse  </span>│<span style=\"color: #800080; text-decoration-color: #800080\">    24.437028884887695     </span>│\n",
       "└───────────────────────────┴───────────────────────────┘\n",
       "</pre>\n"
      ],
      "text/plain": [
       "┏━━━━━━━━━━━━━━━━━━━━━━━━━━━┳━━━━━━━━━━━━━━━━━━━━━━━━━━━┓\n",
       "┃\u001b[1m \u001b[0m\u001b[1m       Test metric       \u001b[0m\u001b[1m \u001b[0m┃\u001b[1m \u001b[0m\u001b[1m      DataLoader 0       \u001b[0m\u001b[1m \u001b[0m┃\n",
       "┡━━━━━━━━━━━━━━━━━━━━━━━━━━━╇━━━━━━━━━━━━━━━━━━━━━━━━━━━┩\n",
       "│\u001b[36m \u001b[0m\u001b[36mbatch_averaged_test/rmse \u001b[0m\u001b[36m \u001b[0m│\u001b[35m \u001b[0m\u001b[35m   24.437028884887695    \u001b[0m\u001b[35m \u001b[0m│\n",
       "└───────────────────────────┴───────────────────────────┘\n"
      ]
     },
     "metadata": {},
     "output_type": "display_data"
    },
    {
     "name": "stdout",
     "output_type": "stream",
     "text": [
      "\n",
      "                                                                                                                                   \n",
      "\n",
      "Fold 3/5; Time 43.103;                                                                                                             \n",
      "\n",
      "Epoch 6: 100%|█████████████████████████████████████████████████| 13/13 [4:23:45<00:00,  0.00it/s, train_loss=0.781, val_loss=0.767]\u001b[A\n",
      "\n",
      "Epoch 17: 100%|████████████████████████████████████████████████| 13/13 [4:15:18<00:00,  0.00it/s, train_loss=0.643, val_loss=0.661]\u001b[A\u001b[A\n",
      "                                                                                                                                   \n",
      "\n",
      "Min val score 24.437; Training epochs 93                                                                                           \n",
      "\n",
      "Epoch 6: 100%|█████████████████████████████████████████████████| 13/13 [4:23:45<00:00,  0.00it/s, train_loss=0.781, val_loss=0.767]\u001b[A\n",
      "\n",
      "Epoch 17: 100%|████████████████████████████████████████████████| 13/13 [4:15:18<00:00,  0.00it/s, train_loss=0.643, val_loss=0.661]\u001b[A\u001b[A"
     ]
    },
    {
     "name": "stderr",
     "output_type": "stream",
     "text": [
      "/opt/calculation/anaconda3/envs/chemprop/lib/python3.11/site-packages/lightning/fabric/plugins/environments/slurm.py:204: The `srun` command is available on your system but is not used. HINT: If your intention is to run Lightning on SLURM, prepend your python command with `srun` like so: srun python /opt/calculation/anaconda3/envs/chemprop/lib/python3 ...\n",
      "\n",
      "/opt/calculation/anaconda3/envs/chemprop/lib/python3.11/site-packages/lightning/pytorch/callbacks/model_checkpoint.py:652: Checkpoint directory /home/kashurin/Tox24/dmpnn_try_3/search_4/hp_cv_1/m3 exists and is not empty.\n",
      "\n"
     ]
    },
    {
     "data": {
      "text/html": [
       "<pre style=\"white-space:pre;overflow-x:auto;line-height:normal;font-family:Menlo,'DejaVu Sans Mono',consolas,'Courier New',monospace\">┏━━━━━━━━━━━━━━━━━━━━━━━━━━━┳━━━━━━━━━━━━━━━━━━━━━━━━━━━┓\n",
       "┃<span style=\"font-weight: bold\">        Test metric        </span>┃<span style=\"font-weight: bold\">       DataLoader 0        </span>┃\n",
       "┡━━━━━━━━━━━━━━━━━━━━━━━━━━━╇━━━━━━━━━━━━━━━━━━━━━━━━━━━┩\n",
       "│<span style=\"color: #008080; text-decoration-color: #008080\"> batch_averaged_test/rmse  </span>│<span style=\"color: #800080; text-decoration-color: #800080\">     23.23024559020996     </span>│\n",
       "└───────────────────────────┴───────────────────────────┘\n",
       "</pre>\n"
      ],
      "text/plain": [
       "┏━━━━━━━━━━━━━━━━━━━━━━━━━━━┳━━━━━━━━━━━━━━━━━━━━━━━━━━━┓\n",
       "┃\u001b[1m \u001b[0m\u001b[1m       Test metric       \u001b[0m\u001b[1m \u001b[0m┃\u001b[1m \u001b[0m\u001b[1m      DataLoader 0       \u001b[0m\u001b[1m \u001b[0m┃\n",
       "┡━━━━━━━━━━━━━━━━━━━━━━━━━━━╇━━━━━━━━━━━━━━━━━━━━━━━━━━━┩\n",
       "│\u001b[36m \u001b[0m\u001b[36mbatch_averaged_test/rmse \u001b[0m\u001b[36m \u001b[0m│\u001b[35m \u001b[0m\u001b[35m    23.23024559020996    \u001b[0m\u001b[35m \u001b[0m│\n",
       "└───────────────────────────┴───────────────────────────┘\n"
      ]
     },
     "metadata": {},
     "output_type": "display_data"
    },
    {
     "name": "stdout",
     "output_type": "stream",
     "text": [
      "\n",
      "                                                                                                                                   \n",
      "\n",
      "Fold 4/5; Time 49.509;                                                                                                             \n",
      "\n",
      "Epoch 6: 100%|█████████████████████████████████████████████████| 13/13 [4:24:34<00:00,  0.00it/s, train_loss=0.781, val_loss=0.767]\u001b[A\n",
      "\n",
      "Epoch 17: 100%|████████████████████████████████████████████████| 13/13 [4:16:07<00:00,  0.00it/s, train_loss=0.643, val_loss=0.661]\u001b[A\u001b[A\n",
      "                                                                                                                                   \n",
      "\n",
      "Min val score 23.230; Training epochs 105                                                                                          \n",
      "\n",
      "Epoch 6: 100%|█████████████████████████████████████████████████| 13/13 [4:24:34<00:00,  0.00it/s, train_loss=0.781, val_loss=0.767]\u001b[A\n",
      "\n",
      "Epoch 17: 100%|████████████████████████████████████████████████| 13/13 [4:16:07<00:00,  0.00it/s, train_loss=0.643, val_loss=0.661]\u001b[A\u001b[A"
     ]
    },
    {
     "name": "stderr",
     "output_type": "stream",
     "text": [
      "/opt/calculation/anaconda3/envs/chemprop/lib/python3.11/site-packages/lightning/fabric/plugins/environments/slurm.py:204: The `srun` command is available on your system but is not used. HINT: If your intention is to run Lightning on SLURM, prepend your python command with `srun` like so: srun python /opt/calculation/anaconda3/envs/chemprop/lib/python3 ...\n",
      "\n",
      "/opt/calculation/anaconda3/envs/chemprop/lib/python3.11/site-packages/lightning/pytorch/callbacks/model_checkpoint.py:652: Checkpoint directory /home/kashurin/Tox24/dmpnn_try_3/search_4/hp_cv_1/m4 exists and is not empty.\n",
      "\n"
     ]
    },
    {
     "data": {
      "text/html": [
       "<pre style=\"white-space:pre;overflow-x:auto;line-height:normal;font-family:Menlo,'DejaVu Sans Mono',consolas,'Courier New',monospace\">┏━━━━━━━━━━━━━━━━━━━━━━━━━━━┳━━━━━━━━━━━━━━━━━━━━━━━━━━━┓\n",
       "┃<span style=\"font-weight: bold\">        Test metric        </span>┃<span style=\"font-weight: bold\">       DataLoader 0        </span>┃\n",
       "┡━━━━━━━━━━━━━━━━━━━━━━━━━━━╇━━━━━━━━━━━━━━━━━━━━━━━━━━━┩\n",
       "│<span style=\"color: #008080; text-decoration-color: #008080\"> batch_averaged_test/rmse  </span>│<span style=\"color: #800080; text-decoration-color: #800080\">     27.56451988220215     </span>│\n",
       "└───────────────────────────┴───────────────────────────┘\n",
       "</pre>\n"
      ],
      "text/plain": [
       "┏━━━━━━━━━━━━━━━━━━━━━━━━━━━┳━━━━━━━━━━━━━━━━━━━━━━━━━━━┓\n",
       "┃\u001b[1m \u001b[0m\u001b[1m       Test metric       \u001b[0m\u001b[1m \u001b[0m┃\u001b[1m \u001b[0m\u001b[1m      DataLoader 0       \u001b[0m\u001b[1m \u001b[0m┃\n",
       "┡━━━━━━━━━━━━━━━━━━━━━━━━━━━╇━━━━━━━━━━━━━━━━━━━━━━━━━━━┩\n",
       "│\u001b[36m \u001b[0m\u001b[36mbatch_averaged_test/rmse \u001b[0m\u001b[36m \u001b[0m│\u001b[35m \u001b[0m\u001b[35m    27.56451988220215    \u001b[0m\u001b[35m \u001b[0m│\n",
       "└───────────────────────────┴───────────────────────────┘\n"
      ]
     },
     "metadata": {},
     "output_type": "display_data"
    },
    {
     "name": "stdout",
     "output_type": "stream",
     "text": [
      "\n",
      "                                                                                                                                   \n",
      "\n",
      "Fold 5/5; Time 43.983;                                                                                                             \n",
      "\n",
      "Epoch 6: 100%|█████████████████████████████████████████████████| 13/13 [4:25:18<00:00,  0.00it/s, train_loss=0.781, val_loss=0.767]\u001b[A\n",
      "\n",
      "Epoch 17: 100%|████████████████████████████████████████████████| 13/13 [4:16:51<00:00,  0.00it/s, train_loss=0.643, val_loss=0.661]\u001b[A\u001b[A\n",
      "                                                                                                                                   \n",
      "\n",
      "Min val score 27.565; Training epochs 97                                                                                           \n",
      "\n",
      "Epoch 6: 100%|█████████████████████████████████████████████████| 13/13 [4:25:18<00:00,  0.00it/s, train_loss=0.781, val_loss=0.767]\u001b[A\n",
      "\n",
      "Epoch 17: 100%|████████████████████████████████████████████████| 13/13 [4:16:51<00:00,  0.00it/s, train_loss=0.643, val_loss=0.661]\u001b[A\u001b[A\n",
      "\n",
      " 80%|█████████████████████████████████████████████▌           | 64/80 [35:53<1:01:32, 230.80s/trial, best loss: 23.675016403198242]\u001b[A\u001b[A"
     ]
    },
    {
     "name": "stderr",
     "output_type": "stream",
     "text": [
      "/opt/calculation/anaconda3/envs/chemprop/lib/python3.11/site-packages/lightning/fabric/plugins/environments/slurm.py:204: The `srun` command is available on your system but is not used. HINT: If your intention is to run Lightning on SLURM, prepend your python command with `srun` like so: srun python /opt/calculation/anaconda3/envs/chemprop/lib/python3 ...\n",
      "\n",
      "/opt/calculation/anaconda3/envs/chemprop/lib/python3.11/site-packages/lightning/pytorch/callbacks/model_checkpoint.py:652: Checkpoint directory /home/kashurin/Tox24/dmpnn_try_3/search_4/hp_cv_1/m0 exists and is not empty.\n",
      "\n"
     ]
    },
    {
     "data": {
      "text/html": [
       "<pre style=\"white-space:pre;overflow-x:auto;line-height:normal;font-family:Menlo,'DejaVu Sans Mono',consolas,'Courier New',monospace\">┏━━━━━━━━━━━━━━━━━━━━━━━━━━━┳━━━━━━━━━━━━━━━━━━━━━━━━━━━┓\n",
       "┃<span style=\"font-weight: bold\">        Test metric        </span>┃<span style=\"font-weight: bold\">       DataLoader 0        </span>┃\n",
       "┡━━━━━━━━━━━━━━━━━━━━━━━━━━━╇━━━━━━━━━━━━━━━━━━━━━━━━━━━┩\n",
       "│<span style=\"color: #008080; text-decoration-color: #008080\"> batch_averaged_test/rmse  </span>│<span style=\"color: #800080; text-decoration-color: #800080\">    26.648136138916016     </span>│\n",
       "└───────────────────────────┴───────────────────────────┘\n",
       "</pre>\n"
      ],
      "text/plain": [
       "┏━━━━━━━━━━━━━━━━━━━━━━━━━━━┳━━━━━━━━━━━━━━━━━━━━━━━━━━━┓\n",
       "┃\u001b[1m \u001b[0m\u001b[1m       Test metric       \u001b[0m\u001b[1m \u001b[0m┃\u001b[1m \u001b[0m\u001b[1m      DataLoader 0       \u001b[0m\u001b[1m \u001b[0m┃\n",
       "┡━━━━━━━━━━━━━━━━━━━━━━━━━━━╇━━━━━━━━━━━━━━━━━━━━━━━━━━━┩\n",
       "│\u001b[36m \u001b[0m\u001b[36mbatch_averaged_test/rmse \u001b[0m\u001b[36m \u001b[0m│\u001b[35m \u001b[0m\u001b[35m   26.648136138916016    \u001b[0m\u001b[35m \u001b[0m│\n",
       "└───────────────────────────┴───────────────────────────┘\n"
      ]
     },
     "metadata": {},
     "output_type": "display_data"
    },
    {
     "name": "stdout",
     "output_type": "stream",
     "text": [
      "\n",
      "                                                                                                                                   \n",
      "\n",
      "Fold 1/5; Time 50.193;                                                                                                             \n",
      "\n",
      "Epoch 6: 100%|█████████████████████████████████████████████████| 13/13 [4:26:08<00:00,  0.00it/s, train_loss=0.781, val_loss=0.767]\u001b[A\n",
      "\n",
      "Epoch 17: 100%|████████████████████████████████████████████████| 13/13 [4:17:41<00:00,  0.00it/s, train_loss=0.643, val_loss=0.661]\u001b[A\u001b[A\n",
      "                                                                                                                                   \n",
      "\n",
      "Min val score 26.648; Training epochs 110                                                                                          \n",
      "\n",
      "Epoch 6: 100%|█████████████████████████████████████████████████| 13/13 [4:26:08<00:00,  0.00it/s, train_loss=0.781, val_loss=0.767]\u001b[A\n",
      "\n",
      "Epoch 17: 100%|████████████████████████████████████████████████| 13/13 [4:17:41<00:00,  0.00it/s, train_loss=0.643, val_loss=0.661]\u001b[A\u001b[A"
     ]
    },
    {
     "name": "stderr",
     "output_type": "stream",
     "text": [
      "/opt/calculation/anaconda3/envs/chemprop/lib/python3.11/site-packages/lightning/fabric/plugins/environments/slurm.py:204: The `srun` command is available on your system but is not used. HINT: If your intention is to run Lightning on SLURM, prepend your python command with `srun` like so: srun python /opt/calculation/anaconda3/envs/chemprop/lib/python3 ...\n",
      "\n",
      "/opt/calculation/anaconda3/envs/chemprop/lib/python3.11/site-packages/lightning/pytorch/callbacks/model_checkpoint.py:652: Checkpoint directory /home/kashurin/Tox24/dmpnn_try_3/search_4/hp_cv_1/m1 exists and is not empty.\n",
      "\n"
     ]
    },
    {
     "data": {
      "text/html": [
       "<pre style=\"white-space:pre;overflow-x:auto;line-height:normal;font-family:Menlo,'DejaVu Sans Mono',consolas,'Courier New',monospace\">┏━━━━━━━━━━━━━━━━━━━━━━━━━━━┳━━━━━━━━━━━━━━━━━━━━━━━━━━━┓\n",
       "┃<span style=\"font-weight: bold\">        Test metric        </span>┃<span style=\"font-weight: bold\">       DataLoader 0        </span>┃\n",
       "┡━━━━━━━━━━━━━━━━━━━━━━━━━━━╇━━━━━━━━━━━━━━━━━━━━━━━━━━━┩\n",
       "│<span style=\"color: #008080; text-decoration-color: #008080\"> batch_averaged_test/rmse  </span>│<span style=\"color: #800080; text-decoration-color: #800080\">    24.082555770874023     </span>│\n",
       "└───────────────────────────┴───────────────────────────┘\n",
       "</pre>\n"
      ],
      "text/plain": [
       "┏━━━━━━━━━━━━━━━━━━━━━━━━━━━┳━━━━━━━━━━━━━━━━━━━━━━━━━━━┓\n",
       "┃\u001b[1m \u001b[0m\u001b[1m       Test metric       \u001b[0m\u001b[1m \u001b[0m┃\u001b[1m \u001b[0m\u001b[1m      DataLoader 0       \u001b[0m\u001b[1m \u001b[0m┃\n",
       "┡━━━━━━━━━━━━━━━━━━━━━━━━━━━╇━━━━━━━━━━━━━━━━━━━━━━━━━━━┩\n",
       "│\u001b[36m \u001b[0m\u001b[36mbatch_averaged_test/rmse \u001b[0m\u001b[36m \u001b[0m│\u001b[35m \u001b[0m\u001b[35m   24.082555770874023    \u001b[0m\u001b[35m \u001b[0m│\n",
       "└───────────────────────────┴───────────────────────────┘\n"
      ]
     },
     "metadata": {},
     "output_type": "display_data"
    },
    {
     "name": "stdout",
     "output_type": "stream",
     "text": [
      "\n",
      "                                                                                                                                   \n",
      "\n",
      "Fold 2/5; Time 71.900;                                                                                                             \n",
      "\n",
      "Epoch 6: 100%|█████████████████████████████████████████████████| 13/13 [4:27:20<00:00,  0.00it/s, train_loss=0.781, val_loss=0.767]\u001b[A\n",
      "\n",
      "Epoch 17: 100%|████████████████████████████████████████████████| 13/13 [4:18:53<00:00,  0.00it/s, train_loss=0.643, val_loss=0.661]\u001b[A\u001b[A\n",
      "                                                                                                                                   \n",
      "\n",
      "Min val score 24.083; Training epochs 159                                                                                          \n",
      "\n",
      "Epoch 6: 100%|█████████████████████████████████████████████████| 13/13 [4:27:20<00:00,  0.00it/s, train_loss=0.781, val_loss=0.767]\u001b[A\n",
      "\n",
      "Epoch 17: 100%|████████████████████████████████████████████████| 13/13 [4:18:53<00:00,  0.00it/s, train_loss=0.643, val_loss=0.661]\u001b[A\u001b[A"
     ]
    },
    {
     "name": "stderr",
     "output_type": "stream",
     "text": [
      "/opt/calculation/anaconda3/envs/chemprop/lib/python3.11/site-packages/lightning/fabric/plugins/environments/slurm.py:204: The `srun` command is available on your system but is not used. HINT: If your intention is to run Lightning on SLURM, prepend your python command with `srun` like so: srun python /opt/calculation/anaconda3/envs/chemprop/lib/python3 ...\n",
      "\n",
      "/opt/calculation/anaconda3/envs/chemprop/lib/python3.11/site-packages/lightning/pytorch/callbacks/model_checkpoint.py:652: Checkpoint directory /home/kashurin/Tox24/dmpnn_try_3/search_4/hp_cv_1/m2 exists and is not empty.\n",
      "\n"
     ]
    },
    {
     "data": {
      "text/html": [
       "<pre style=\"white-space:pre;overflow-x:auto;line-height:normal;font-family:Menlo,'DejaVu Sans Mono',consolas,'Courier New',monospace\">┏━━━━━━━━━━━━━━━━━━━━━━━━━━━┳━━━━━━━━━━━━━━━━━━━━━━━━━━━┓\n",
       "┃<span style=\"font-weight: bold\">        Test metric        </span>┃<span style=\"font-weight: bold\">       DataLoader 0        </span>┃\n",
       "┡━━━━━━━━━━━━━━━━━━━━━━━━━━━╇━━━━━━━━━━━━━━━━━━━━━━━━━━━┩\n",
       "│<span style=\"color: #008080; text-decoration-color: #008080\"> batch_averaged_test/rmse  </span>│<span style=\"color: #800080; text-decoration-color: #800080\">    24.218414306640625     </span>│\n",
       "└───────────────────────────┴───────────────────────────┘\n",
       "</pre>\n"
      ],
      "text/plain": [
       "┏━━━━━━━━━━━━━━━━━━━━━━━━━━━┳━━━━━━━━━━━━━━━━━━━━━━━━━━━┓\n",
       "┃\u001b[1m \u001b[0m\u001b[1m       Test metric       \u001b[0m\u001b[1m \u001b[0m┃\u001b[1m \u001b[0m\u001b[1m      DataLoader 0       \u001b[0m\u001b[1m \u001b[0m┃\n",
       "┡━━━━━━━━━━━━━━━━━━━━━━━━━━━╇━━━━━━━━━━━━━━━━━━━━━━━━━━━┩\n",
       "│\u001b[36m \u001b[0m\u001b[36mbatch_averaged_test/rmse \u001b[0m\u001b[36m \u001b[0m│\u001b[35m \u001b[0m\u001b[35m   24.218414306640625    \u001b[0m\u001b[35m \u001b[0m│\n",
       "└───────────────────────────┴───────────────────────────┘\n"
      ]
     },
     "metadata": {},
     "output_type": "display_data"
    },
    {
     "name": "stdout",
     "output_type": "stream",
     "text": [
      "\n",
      "                                                                                                                                   \n",
      "\n",
      "Fold 3/5; Time 76.020;                                                                                                             \n",
      "\n",
      "Epoch 6: 100%|█████████████████████████████████████████████████| 13/13 [4:28:36<00:00,  0.00it/s, train_loss=0.781, val_loss=0.767]\u001b[A\n",
      "\n",
      "Epoch 17: 100%|████████████████████████████████████████████████| 13/13 [4:20:09<00:00,  0.00it/s, train_loss=0.643, val_loss=0.661]\u001b[A\u001b[A\n",
      "                                                                                                                                   \n",
      "\n",
      "Min val score 24.218; Training epochs 166                                                                                          \n",
      "\n",
      "Epoch 6: 100%|█████████████████████████████████████████████████| 13/13 [4:28:36<00:00,  0.00it/s, train_loss=0.781, val_loss=0.767]\u001b[A\n",
      "\n",
      "Epoch 17: 100%|████████████████████████████████████████████████| 13/13 [4:20:09<00:00,  0.00it/s, train_loss=0.643, val_loss=0.661]\u001b[A\u001b[A"
     ]
    },
    {
     "name": "stderr",
     "output_type": "stream",
     "text": [
      "/opt/calculation/anaconda3/envs/chemprop/lib/python3.11/site-packages/lightning/fabric/plugins/environments/slurm.py:204: The `srun` command is available on your system but is not used. HINT: If your intention is to run Lightning on SLURM, prepend your python command with `srun` like so: srun python /opt/calculation/anaconda3/envs/chemprop/lib/python3 ...\n",
      "\n",
      "/opt/calculation/anaconda3/envs/chemprop/lib/python3.11/site-packages/lightning/pytorch/callbacks/model_checkpoint.py:652: Checkpoint directory /home/kashurin/Tox24/dmpnn_try_3/search_4/hp_cv_1/m3 exists and is not empty.\n",
      "\n"
     ]
    },
    {
     "data": {
      "text/html": [
       "<pre style=\"white-space:pre;overflow-x:auto;line-height:normal;font-family:Menlo,'DejaVu Sans Mono',consolas,'Courier New',monospace\">┏━━━━━━━━━━━━━━━━━━━━━━━━━━━┳━━━━━━━━━━━━━━━━━━━━━━━━━━━┓\n",
       "┃<span style=\"font-weight: bold\">        Test metric        </span>┃<span style=\"font-weight: bold\">       DataLoader 0        </span>┃\n",
       "┡━━━━━━━━━━━━━━━━━━━━━━━━━━━╇━━━━━━━━━━━━━━━━━━━━━━━━━━━┩\n",
       "│<span style=\"color: #008080; text-decoration-color: #008080\"> batch_averaged_test/rmse  </span>│<span style=\"color: #800080; text-decoration-color: #800080\">     24.93998908996582     </span>│\n",
       "└───────────────────────────┴───────────────────────────┘\n",
       "</pre>\n"
      ],
      "text/plain": [
       "┏━━━━━━━━━━━━━━━━━━━━━━━━━━━┳━━━━━━━━━━━━━━━━━━━━━━━━━━━┓\n",
       "┃\u001b[1m \u001b[0m\u001b[1m       Test metric       \u001b[0m\u001b[1m \u001b[0m┃\u001b[1m \u001b[0m\u001b[1m      DataLoader 0       \u001b[0m\u001b[1m \u001b[0m┃\n",
       "┡━━━━━━━━━━━━━━━━━━━━━━━━━━━╇━━━━━━━━━━━━━━━━━━━━━━━━━━━┩\n",
       "│\u001b[36m \u001b[0m\u001b[36mbatch_averaged_test/rmse \u001b[0m\u001b[36m \u001b[0m│\u001b[35m \u001b[0m\u001b[35m    24.93998908996582    \u001b[0m\u001b[35m \u001b[0m│\n",
       "└───────────────────────────┴───────────────────────────┘\n"
      ]
     },
     "metadata": {},
     "output_type": "display_data"
    },
    {
     "name": "stdout",
     "output_type": "stream",
     "text": [
      "\n",
      "                                                                                                                                   \n",
      "\n",
      "Fold 4/5; Time 47.459;                                                                                                             \n",
      "\n",
      "Epoch 6: 100%|█████████████████████████████████████████████████| 13/13 [4:29:24<00:00,  0.00it/s, train_loss=0.781, val_loss=0.767]\u001b[A\n",
      "\n",
      "Epoch 17: 100%|████████████████████████████████████████████████| 13/13 [4:20:57<00:00,  0.00it/s, train_loss=0.643, val_loss=0.661]\u001b[A\u001b[A\n",
      "                                                                                                                                   \n",
      "\n",
      "Min val score 24.940; Training epochs 104                                                                                          \n",
      "\n",
      "Epoch 6: 100%|█████████████████████████████████████████████████| 13/13 [4:29:24<00:00,  0.00it/s, train_loss=0.781, val_loss=0.767]\u001b[A\n",
      "\n",
      "Epoch 17: 100%|████████████████████████████████████████████████| 13/13 [4:20:57<00:00,  0.00it/s, train_loss=0.643, val_loss=0.661]\u001b[A\u001b[A"
     ]
    },
    {
     "name": "stderr",
     "output_type": "stream",
     "text": [
      "/opt/calculation/anaconda3/envs/chemprop/lib/python3.11/site-packages/lightning/fabric/plugins/environments/slurm.py:204: The `srun` command is available on your system but is not used. HINT: If your intention is to run Lightning on SLURM, prepend your python command with `srun` like so: srun python /opt/calculation/anaconda3/envs/chemprop/lib/python3 ...\n",
      "\n",
      "/opt/calculation/anaconda3/envs/chemprop/lib/python3.11/site-packages/lightning/pytorch/callbacks/model_checkpoint.py:652: Checkpoint directory /home/kashurin/Tox24/dmpnn_try_3/search_4/hp_cv_1/m4 exists and is not empty.\n",
      "\n"
     ]
    },
    {
     "data": {
      "text/html": [
       "<pre style=\"white-space:pre;overflow-x:auto;line-height:normal;font-family:Menlo,'DejaVu Sans Mono',consolas,'Courier New',monospace\">┏━━━━━━━━━━━━━━━━━━━━━━━━━━━┳━━━━━━━━━━━━━━━━━━━━━━━━━━━┓\n",
       "┃<span style=\"font-weight: bold\">        Test metric        </span>┃<span style=\"font-weight: bold\">       DataLoader 0        </span>┃\n",
       "┡━━━━━━━━━━━━━━━━━━━━━━━━━━━╇━━━━━━━━━━━━━━━━━━━━━━━━━━━┩\n",
       "│<span style=\"color: #008080; text-decoration-color: #008080\"> batch_averaged_test/rmse  </span>│<span style=\"color: #800080; text-decoration-color: #800080\">     26.55919075012207     </span>│\n",
       "└───────────────────────────┴───────────────────────────┘\n",
       "</pre>\n"
      ],
      "text/plain": [
       "┏━━━━━━━━━━━━━━━━━━━━━━━━━━━┳━━━━━━━━━━━━━━━━━━━━━━━━━━━┓\n",
       "┃\u001b[1m \u001b[0m\u001b[1m       Test metric       \u001b[0m\u001b[1m \u001b[0m┃\u001b[1m \u001b[0m\u001b[1m      DataLoader 0       \u001b[0m\u001b[1m \u001b[0m┃\n",
       "┡━━━━━━━━━━━━━━━━━━━━━━━━━━━╇━━━━━━━━━━━━━━━━━━━━━━━━━━━┩\n",
       "│\u001b[36m \u001b[0m\u001b[36mbatch_averaged_test/rmse \u001b[0m\u001b[36m \u001b[0m│\u001b[35m \u001b[0m\u001b[35m    26.55919075012207    \u001b[0m\u001b[35m \u001b[0m│\n",
       "└───────────────────────────┴───────────────────────────┘\n"
      ]
     },
     "metadata": {},
     "output_type": "display_data"
    },
    {
     "name": "stdout",
     "output_type": "stream",
     "text": [
      "\n",
      "                                                                                                                                   \n",
      "\n",
      "Fold 5/5; Time 63.157;                                                                                                             \n",
      "\n",
      "Epoch 6: 100%|█████████████████████████████████████████████████| 13/13 [4:30:27<00:00,  0.00it/s, train_loss=0.781, val_loss=0.767]\u001b[A\n",
      "\n",
      "Epoch 17: 100%|████████████████████████████████████████████████| 13/13 [4:22:00<00:00,  0.00it/s, train_loss=0.643, val_loss=0.661]\u001b[A\u001b[A\n",
      "                                                                                                                                   \n",
      "\n",
      "Min val score 26.559; Training epochs 125                                                                                          \n",
      "\n",
      "Epoch 6: 100%|█████████████████████████████████████████████████| 13/13 [4:30:27<00:00,  0.00it/s, train_loss=0.781, val_loss=0.767]\u001b[A\n",
      "\n",
      "Epoch 17: 100%|████████████████████████████████████████████████| 13/13 [4:22:00<00:00,  0.00it/s, train_loss=0.643, val_loss=0.661]\u001b[A\u001b[A\n",
      "\n",
      " 81%|██████████████████████████████████████████████▎          | 65/80 [41:01<1:03:43, 254.90s/trial, best loss: 23.675016403198242]\u001b[A\u001b[A"
     ]
    },
    {
     "name": "stderr",
     "output_type": "stream",
     "text": [
      "/opt/calculation/anaconda3/envs/chemprop/lib/python3.11/site-packages/lightning/fabric/plugins/environments/slurm.py:204: The `srun` command is available on your system but is not used. HINT: If your intention is to run Lightning on SLURM, prepend your python command with `srun` like so: srun python /opt/calculation/anaconda3/envs/chemprop/lib/python3 ...\n",
      "\n",
      "/opt/calculation/anaconda3/envs/chemprop/lib/python3.11/site-packages/lightning/pytorch/callbacks/model_checkpoint.py:652: Checkpoint directory /home/kashurin/Tox24/dmpnn_try_3/search_4/hp_cv_1/m0 exists and is not empty.\n",
      "\n"
     ]
    },
    {
     "data": {
      "text/html": [
       "<pre style=\"white-space:pre;overflow-x:auto;line-height:normal;font-family:Menlo,'DejaVu Sans Mono',consolas,'Courier New',monospace\">┏━━━━━━━━━━━━━━━━━━━━━━━━━━━┳━━━━━━━━━━━━━━━━━━━━━━━━━━━┓\n",
       "┃<span style=\"font-weight: bold\">        Test metric        </span>┃<span style=\"font-weight: bold\">       DataLoader 0        </span>┃\n",
       "┡━━━━━━━━━━━━━━━━━━━━━━━━━━━╇━━━━━━━━━━━━━━━━━━━━━━━━━━━┩\n",
       "│<span style=\"color: #008080; text-decoration-color: #008080\"> batch_averaged_test/rmse  </span>│<span style=\"color: #800080; text-decoration-color: #800080\">    25.190006256103516     </span>│\n",
       "└───────────────────────────┴───────────────────────────┘\n",
       "</pre>\n"
      ],
      "text/plain": [
       "┏━━━━━━━━━━━━━━━━━━━━━━━━━━━┳━━━━━━━━━━━━━━━━━━━━━━━━━━━┓\n",
       "┃\u001b[1m \u001b[0m\u001b[1m       Test metric       \u001b[0m\u001b[1m \u001b[0m┃\u001b[1m \u001b[0m\u001b[1m      DataLoader 0       \u001b[0m\u001b[1m \u001b[0m┃\n",
       "┡━━━━━━━━━━━━━━━━━━━━━━━━━━━╇━━━━━━━━━━━━━━━━━━━━━━━━━━━┩\n",
       "│\u001b[36m \u001b[0m\u001b[36mbatch_averaged_test/rmse \u001b[0m\u001b[36m \u001b[0m│\u001b[35m \u001b[0m\u001b[35m   25.190006256103516    \u001b[0m\u001b[35m \u001b[0m│\n",
       "└───────────────────────────┴───────────────────────────┘\n"
      ]
     },
     "metadata": {},
     "output_type": "display_data"
    },
    {
     "name": "stdout",
     "output_type": "stream",
     "text": [
      "\n",
      "                                                                                                                                   \n",
      "\n",
      "Fold 1/5; Time 50.333;                                                                                                             \n",
      "\n",
      "Epoch 6: 100%|█████████████████████████████████████████████████| 13/13 [4:31:17<00:00,  0.00it/s, train_loss=0.781, val_loss=0.767]\u001b[A\n",
      "\n",
      "Epoch 17: 100%|████████████████████████████████████████████████| 13/13 [4:22:50<00:00,  0.00it/s, train_loss=0.643, val_loss=0.661]\u001b[A\u001b[A\n",
      "                                                                                                                                   \n",
      "\n",
      "Min val score 25.190; Training epochs 99                                                                                           \n",
      "\n",
      "Epoch 6: 100%|█████████████████████████████████████████████████| 13/13 [4:31:17<00:00,  0.00it/s, train_loss=0.781, val_loss=0.767]\u001b[A\n",
      "\n",
      "Epoch 17: 100%|████████████████████████████████████████████████| 13/13 [4:22:50<00:00,  0.00it/s, train_loss=0.643, val_loss=0.661]\u001b[A\u001b[A"
     ]
    },
    {
     "name": "stderr",
     "output_type": "stream",
     "text": [
      "/opt/calculation/anaconda3/envs/chemprop/lib/python3.11/site-packages/lightning/fabric/plugins/environments/slurm.py:204: The `srun` command is available on your system but is not used. HINT: If your intention is to run Lightning on SLURM, prepend your python command with `srun` like so: srun python /opt/calculation/anaconda3/envs/chemprop/lib/python3 ...\n",
      "\n",
      "/opt/calculation/anaconda3/envs/chemprop/lib/python3.11/site-packages/lightning/pytorch/callbacks/model_checkpoint.py:652: Checkpoint directory /home/kashurin/Tox24/dmpnn_try_3/search_4/hp_cv_1/m1 exists and is not empty.\n",
      "\n"
     ]
    },
    {
     "data": {
      "text/html": [
       "<pre style=\"white-space:pre;overflow-x:auto;line-height:normal;font-family:Menlo,'DejaVu Sans Mono',consolas,'Courier New',monospace\">┏━━━━━━━━━━━━━━━━━━━━━━━━━━━┳━━━━━━━━━━━━━━━━━━━━━━━━━━━┓\n",
       "┃<span style=\"font-weight: bold\">        Test metric        </span>┃<span style=\"font-weight: bold\">       DataLoader 0        </span>┃\n",
       "┡━━━━━━━━━━━━━━━━━━━━━━━━━━━╇━━━━━━━━━━━━━━━━━━━━━━━━━━━┩\n",
       "│<span style=\"color: #008080; text-decoration-color: #008080\"> batch_averaged_test/rmse  </span>│<span style=\"color: #800080; text-decoration-color: #800080\">    23.928815841674805     </span>│\n",
       "└───────────────────────────┴───────────────────────────┘\n",
       "</pre>\n"
      ],
      "text/plain": [
       "┏━━━━━━━━━━━━━━━━━━━━━━━━━━━┳━━━━━━━━━━━━━━━━━━━━━━━━━━━┓\n",
       "┃\u001b[1m \u001b[0m\u001b[1m       Test metric       \u001b[0m\u001b[1m \u001b[0m┃\u001b[1m \u001b[0m\u001b[1m      DataLoader 0       \u001b[0m\u001b[1m \u001b[0m┃\n",
       "┡━━━━━━━━━━━━━━━━━━━━━━━━━━━╇━━━━━━━━━━━━━━━━━━━━━━━━━━━┩\n",
       "│\u001b[36m \u001b[0m\u001b[36mbatch_averaged_test/rmse \u001b[0m\u001b[36m \u001b[0m│\u001b[35m \u001b[0m\u001b[35m   23.928815841674805    \u001b[0m\u001b[35m \u001b[0m│\n",
       "└───────────────────────────┴───────────────────────────┘\n"
      ]
     },
     "metadata": {},
     "output_type": "display_data"
    },
    {
     "name": "stdout",
     "output_type": "stream",
     "text": [
      "\n",
      "                                                                                                                                   \n",
      "\n",
      "Fold 2/5; Time 43.339;                                                                                                             \n",
      "\n",
      "Epoch 6: 100%|█████████████████████████████████████████████████| 13/13 [4:32:01<00:00,  0.00it/s, train_loss=0.781, val_loss=0.767]\u001b[A\n",
      "\n",
      "Epoch 17: 100%|████████████████████████████████████████████████| 13/13 [4:23:34<00:00,  0.00it/s, train_loss=0.643, val_loss=0.661]\u001b[A\u001b[A\n",
      "                                                                                                                                   \n",
      "\n",
      "Min val score 23.929; Training epochs 76                                                                                           \n",
      "\n",
      "Epoch 6: 100%|█████████████████████████████████████████████████| 13/13 [4:32:01<00:00,  0.00it/s, train_loss=0.781, val_loss=0.767]\u001b[A\n",
      "\n",
      "Epoch 17: 100%|████████████████████████████████████████████████| 13/13 [4:23:34<00:00,  0.00it/s, train_loss=0.643, val_loss=0.661]\u001b[A\u001b[A"
     ]
    },
    {
     "name": "stderr",
     "output_type": "stream",
     "text": [
      "/opt/calculation/anaconda3/envs/chemprop/lib/python3.11/site-packages/lightning/fabric/plugins/environments/slurm.py:204: The `srun` command is available on your system but is not used. HINT: If your intention is to run Lightning on SLURM, prepend your python command with `srun` like so: srun python /opt/calculation/anaconda3/envs/chemprop/lib/python3 ...\n",
      "\n",
      "/opt/calculation/anaconda3/envs/chemprop/lib/python3.11/site-packages/lightning/pytorch/callbacks/model_checkpoint.py:652: Checkpoint directory /home/kashurin/Tox24/dmpnn_try_3/search_4/hp_cv_1/m2 exists and is not empty.\n",
      "\n"
     ]
    },
    {
     "data": {
      "text/html": [
       "<pre style=\"white-space:pre;overflow-x:auto;line-height:normal;font-family:Menlo,'DejaVu Sans Mono',consolas,'Courier New',monospace\">┏━━━━━━━━━━━━━━━━━━━━━━━━━━━┳━━━━━━━━━━━━━━━━━━━━━━━━━━━┓\n",
       "┃<span style=\"font-weight: bold\">        Test metric        </span>┃<span style=\"font-weight: bold\">       DataLoader 0        </span>┃\n",
       "┡━━━━━━━━━━━━━━━━━━━━━━━━━━━╇━━━━━━━━━━━━━━━━━━━━━━━━━━━┩\n",
       "│<span style=\"color: #008080; text-decoration-color: #008080\"> batch_averaged_test/rmse  </span>│<span style=\"color: #800080; text-decoration-color: #800080\">     23.67925262451172     </span>│\n",
       "└───────────────────────────┴───────────────────────────┘\n",
       "</pre>\n"
      ],
      "text/plain": [
       "┏━━━━━━━━━━━━━━━━━━━━━━━━━━━┳━━━━━━━━━━━━━━━━━━━━━━━━━━━┓\n",
       "┃\u001b[1m \u001b[0m\u001b[1m       Test metric       \u001b[0m\u001b[1m \u001b[0m┃\u001b[1m \u001b[0m\u001b[1m      DataLoader 0       \u001b[0m\u001b[1m \u001b[0m┃\n",
       "┡━━━━━━━━━━━━━━━━━━━━━━━━━━━╇━━━━━━━━━━━━━━━━━━━━━━━━━━━┩\n",
       "│\u001b[36m \u001b[0m\u001b[36mbatch_averaged_test/rmse \u001b[0m\u001b[36m \u001b[0m│\u001b[35m \u001b[0m\u001b[35m    23.67925262451172    \u001b[0m\u001b[35m \u001b[0m│\n",
       "└───────────────────────────┴───────────────────────────┘\n"
      ]
     },
     "metadata": {},
     "output_type": "display_data"
    },
    {
     "name": "stdout",
     "output_type": "stream",
     "text": [
      "\n",
      "                                                                                                                                   \n",
      "\n",
      "Fold 3/5; Time 43.507;                                                                                                             \n",
      "\n",
      "Epoch 6: 100%|█████████████████████████████████████████████████| 13/13 [4:32:44<00:00,  0.00it/s, train_loss=0.781, val_loss=0.767]\u001b[A\n",
      "\n",
      "Epoch 17: 100%|████████████████████████████████████████████████| 13/13 [4:24:17<00:00,  0.00it/s, train_loss=0.643, val_loss=0.661]\u001b[A\u001b[A\n",
      "                                                                                                                                   \n",
      "\n",
      "Min val score 23.679; Training epochs 77                                                                                           \n",
      "\n",
      "Epoch 6: 100%|█████████████████████████████████████████████████| 13/13 [4:32:44<00:00,  0.00it/s, train_loss=0.781, val_loss=0.767]\u001b[A\n",
      "\n",
      "Epoch 17: 100%|████████████████████████████████████████████████| 13/13 [4:24:17<00:00,  0.00it/s, train_loss=0.643, val_loss=0.661]\u001b[A\u001b[A"
     ]
    },
    {
     "name": "stderr",
     "output_type": "stream",
     "text": [
      "/opt/calculation/anaconda3/envs/chemprop/lib/python3.11/site-packages/lightning/fabric/plugins/environments/slurm.py:204: The `srun` command is available on your system but is not used. HINT: If your intention is to run Lightning on SLURM, prepend your python command with `srun` like so: srun python /opt/calculation/anaconda3/envs/chemprop/lib/python3 ...\n",
      "\n",
      "/opt/calculation/anaconda3/envs/chemprop/lib/python3.11/site-packages/lightning/pytorch/callbacks/model_checkpoint.py:652: Checkpoint directory /home/kashurin/Tox24/dmpnn_try_3/search_4/hp_cv_1/m3 exists and is not empty.\n",
      "\n"
     ]
    },
    {
     "data": {
      "text/html": [
       "<pre style=\"white-space:pre;overflow-x:auto;line-height:normal;font-family:Menlo,'DejaVu Sans Mono',consolas,'Courier New',monospace\">┏━━━━━━━━━━━━━━━━━━━━━━━━━━━┳━━━━━━━━━━━━━━━━━━━━━━━━━━━┓\n",
       "┃<span style=\"font-weight: bold\">        Test metric        </span>┃<span style=\"font-weight: bold\">       DataLoader 0        </span>┃\n",
       "┡━━━━━━━━━━━━━━━━━━━━━━━━━━━╇━━━━━━━━━━━━━━━━━━━━━━━━━━━┩\n",
       "│<span style=\"color: #008080; text-decoration-color: #008080\"> batch_averaged_test/rmse  </span>│<span style=\"color: #800080; text-decoration-color: #800080\">    23.141963958740234     </span>│\n",
       "└───────────────────────────┴───────────────────────────┘\n",
       "</pre>\n"
      ],
      "text/plain": [
       "┏━━━━━━━━━━━━━━━━━━━━━━━━━━━┳━━━━━━━━━━━━━━━━━━━━━━━━━━━┓\n",
       "┃\u001b[1m \u001b[0m\u001b[1m       Test metric       \u001b[0m\u001b[1m \u001b[0m┃\u001b[1m \u001b[0m\u001b[1m      DataLoader 0       \u001b[0m\u001b[1m \u001b[0m┃\n",
       "┡━━━━━━━━━━━━━━━━━━━━━━━━━━━╇━━━━━━━━━━━━━━━━━━━━━━━━━━━┩\n",
       "│\u001b[36m \u001b[0m\u001b[36mbatch_averaged_test/rmse \u001b[0m\u001b[36m \u001b[0m│\u001b[35m \u001b[0m\u001b[35m   23.141963958740234    \u001b[0m\u001b[35m \u001b[0m│\n",
       "└───────────────────────────┴───────────────────────────┘\n"
      ]
     },
     "metadata": {},
     "output_type": "display_data"
    },
    {
     "name": "stdout",
     "output_type": "stream",
     "text": [
      "\n",
      "                                                                                                                                   \n",
      "\n",
      "Fold 4/5; Time 44.642;                                                                                                             \n",
      "\n",
      "Epoch 6: 100%|█████████████████████████████████████████████████| 13/13 [4:33:29<00:00,  0.00it/s, train_loss=0.781, val_loss=0.767]\u001b[A\n",
      "\n",
      "Epoch 17: 100%|████████████████████████████████████████████████| 13/13 [4:25:02<00:00,  0.00it/s, train_loss=0.643, val_loss=0.661]\u001b[A\u001b[A\n",
      "                                                                                                                                   \n",
      "\n",
      "Min val score 23.142; Training epochs 77                                                                                           \n",
      "\n",
      "Epoch 6: 100%|█████████████████████████████████████████████████| 13/13 [4:33:29<00:00,  0.00it/s, train_loss=0.781, val_loss=0.767]\u001b[A\n",
      "\n",
      "Epoch 17: 100%|████████████████████████████████████████████████| 13/13 [4:25:02<00:00,  0.00it/s, train_loss=0.643, val_loss=0.661]\u001b[A\u001b[A"
     ]
    },
    {
     "name": "stderr",
     "output_type": "stream",
     "text": [
      "/opt/calculation/anaconda3/envs/chemprop/lib/python3.11/site-packages/lightning/fabric/plugins/environments/slurm.py:204: The `srun` command is available on your system but is not used. HINT: If your intention is to run Lightning on SLURM, prepend your python command with `srun` like so: srun python /opt/calculation/anaconda3/envs/chemprop/lib/python3 ...\n",
      "\n",
      "/opt/calculation/anaconda3/envs/chemprop/lib/python3.11/site-packages/lightning/pytorch/callbacks/model_checkpoint.py:652: Checkpoint directory /home/kashurin/Tox24/dmpnn_try_3/search_4/hp_cv_1/m4 exists and is not empty.\n",
      "\n"
     ]
    },
    {
     "data": {
      "text/html": [
       "<pre style=\"white-space:pre;overflow-x:auto;line-height:normal;font-family:Menlo,'DejaVu Sans Mono',consolas,'Courier New',monospace\">┏━━━━━━━━━━━━━━━━━━━━━━━━━━━┳━━━━━━━━━━━━━━━━━━━━━━━━━━━┓\n",
       "┃<span style=\"font-weight: bold\">        Test metric        </span>┃<span style=\"font-weight: bold\">       DataLoader 0        </span>┃\n",
       "┡━━━━━━━━━━━━━━━━━━━━━━━━━━━╇━━━━━━━━━━━━━━━━━━━━━━━━━━━┩\n",
       "│<span style=\"color: #008080; text-decoration-color: #008080\"> batch_averaged_test/rmse  </span>│<span style=\"color: #800080; text-decoration-color: #800080\">    26.009286880493164     </span>│\n",
       "└───────────────────────────┴───────────────────────────┘\n",
       "</pre>\n"
      ],
      "text/plain": [
       "┏━━━━━━━━━━━━━━━━━━━━━━━━━━━┳━━━━━━━━━━━━━━━━━━━━━━━━━━━┓\n",
       "┃\u001b[1m \u001b[0m\u001b[1m       Test metric       \u001b[0m\u001b[1m \u001b[0m┃\u001b[1m \u001b[0m\u001b[1m      DataLoader 0       \u001b[0m\u001b[1m \u001b[0m┃\n",
       "┡━━━━━━━━━━━━━━━━━━━━━━━━━━━╇━━━━━━━━━━━━━━━━━━━━━━━━━━━┩\n",
       "│\u001b[36m \u001b[0m\u001b[36mbatch_averaged_test/rmse \u001b[0m\u001b[36m \u001b[0m│\u001b[35m \u001b[0m\u001b[35m   26.009286880493164    \u001b[0m\u001b[35m \u001b[0m│\n",
       "└───────────────────────────┴───────────────────────────┘\n"
      ]
     },
     "metadata": {},
     "output_type": "display_data"
    },
    {
     "name": "stdout",
     "output_type": "stream",
     "text": [
      "\n",
      "                                                                                                                                   \n",
      "\n",
      "Fold 5/5; Time 80.819;                                                                                                             \n",
      "\n",
      "Epoch 6: 100%|█████████████████████████████████████████████████| 13/13 [4:34:50<00:00,  0.00it/s, train_loss=0.781, val_loss=0.767]\u001b[A\n",
      "\n",
      "Epoch 17: 100%|████████████████████████████████████████████████| 13/13 [4:26:23<00:00,  0.00it/s, train_loss=0.643, val_loss=0.661]\u001b[A\u001b[A\n",
      "                                                                                                                                   \n",
      "\n",
      "Min val score 26.009; Training epochs 146                                                                                          \n",
      "\n",
      "Epoch 6: 100%|█████████████████████████████████████████████████| 13/13 [4:34:50<00:00,  0.00it/s, train_loss=0.781, val_loss=0.767]\u001b[A\n",
      "\n",
      "Epoch 17: 100%|████████████████████████████████████████████████| 13/13 [4:26:23<00:00,  0.00it/s, train_loss=0.643, val_loss=0.661]\u001b[A\u001b[A\n",
      "\n",
      " 82%|███████████████████████████████████████████████          | 66/80 [45:24<1:00:02, 257.31s/trial, best loss: 23.675016403198242]\u001b[A\u001b[A"
     ]
    },
    {
     "name": "stderr",
     "output_type": "stream",
     "text": [
      "/opt/calculation/anaconda3/envs/chemprop/lib/python3.11/site-packages/lightning/fabric/plugins/environments/slurm.py:204: The `srun` command is available on your system but is not used. HINT: If your intention is to run Lightning on SLURM, prepend your python command with `srun` like so: srun python /opt/calculation/anaconda3/envs/chemprop/lib/python3 ...\n",
      "\n",
      "/opt/calculation/anaconda3/envs/chemprop/lib/python3.11/site-packages/lightning/pytorch/callbacks/model_checkpoint.py:652: Checkpoint directory /home/kashurin/Tox24/dmpnn_try_3/search_4/hp_cv_1/m0 exists and is not empty.\n",
      "\n"
     ]
    },
    {
     "data": {
      "text/html": [
       "<pre style=\"white-space:pre;overflow-x:auto;line-height:normal;font-family:Menlo,'DejaVu Sans Mono',consolas,'Courier New',monospace\">┏━━━━━━━━━━━━━━━━━━━━━━━━━━━┳━━━━━━━━━━━━━━━━━━━━━━━━━━━┓\n",
       "┃<span style=\"font-weight: bold\">        Test metric        </span>┃<span style=\"font-weight: bold\">       DataLoader 0        </span>┃\n",
       "┡━━━━━━━━━━━━━━━━━━━━━━━━━━━╇━━━━━━━━━━━━━━━━━━━━━━━━━━━┩\n",
       "│<span style=\"color: #008080; text-decoration-color: #008080\"> batch_averaged_test/rmse  </span>│<span style=\"color: #800080; text-decoration-color: #800080\">    24.941987991333008     </span>│\n",
       "└───────────────────────────┴───────────────────────────┘\n",
       "</pre>\n"
      ],
      "text/plain": [
       "┏━━━━━━━━━━━━━━━━━━━━━━━━━━━┳━━━━━━━━━━━━━━━━━━━━━━━━━━━┓\n",
       "┃\u001b[1m \u001b[0m\u001b[1m       Test metric       \u001b[0m\u001b[1m \u001b[0m┃\u001b[1m \u001b[0m\u001b[1m      DataLoader 0       \u001b[0m\u001b[1m \u001b[0m┃\n",
       "┡━━━━━━━━━━━━━━━━━━━━━━━━━━━╇━━━━━━━━━━━━━━━━━━━━━━━━━━━┩\n",
       "│\u001b[36m \u001b[0m\u001b[36mbatch_averaged_test/rmse \u001b[0m\u001b[36m \u001b[0m│\u001b[35m \u001b[0m\u001b[35m   24.941987991333008    \u001b[0m\u001b[35m \u001b[0m│\n",
       "└───────────────────────────┴───────────────────────────┘\n"
      ]
     },
     "metadata": {},
     "output_type": "display_data"
    },
    {
     "name": "stdout",
     "output_type": "stream",
     "text": [
      "\n",
      "                                                                                                                                   \n",
      "\n",
      "Fold 1/5; Time 34.728;                                                                                                             \n",
      "\n",
      "Epoch 6: 100%|█████████████████████████████████████████████████| 13/13 [4:35:25<00:00,  0.00it/s, train_loss=0.781, val_loss=0.767]\u001b[A\n",
      "\n",
      "Epoch 17: 100%|████████████████████████████████████████████████| 13/13 [4:26:57<00:00,  0.00it/s, train_loss=0.643, val_loss=0.661]\u001b[A\u001b[A\n",
      "                                                                                                                                   \n",
      "\n",
      "Min val score 24.942; Training epochs 74                                                                                           \n",
      "\n",
      "Epoch 6: 100%|█████████████████████████████████████████████████| 13/13 [4:35:25<00:00,  0.00it/s, train_loss=0.781, val_loss=0.767]\u001b[A\n",
      "\n",
      "Epoch 17: 100%|████████████████████████████████████████████████| 13/13 [4:26:58<00:00,  0.00it/s, train_loss=0.643, val_loss=0.661]\u001b[A\u001b[A"
     ]
    },
    {
     "name": "stderr",
     "output_type": "stream",
     "text": [
      "/opt/calculation/anaconda3/envs/chemprop/lib/python3.11/site-packages/lightning/fabric/plugins/environments/slurm.py:204: The `srun` command is available on your system but is not used. HINT: If your intention is to run Lightning on SLURM, prepend your python command with `srun` like so: srun python /opt/calculation/anaconda3/envs/chemprop/lib/python3 ...\n",
      "\n",
      "/opt/calculation/anaconda3/envs/chemprop/lib/python3.11/site-packages/lightning/pytorch/callbacks/model_checkpoint.py:652: Checkpoint directory /home/kashurin/Tox24/dmpnn_try_3/search_4/hp_cv_1/m1 exists and is not empty.\n",
      "\n"
     ]
    },
    {
     "data": {
      "text/html": [
       "<pre style=\"white-space:pre;overflow-x:auto;line-height:normal;font-family:Menlo,'DejaVu Sans Mono',consolas,'Courier New',monospace\">┏━━━━━━━━━━━━━━━━━━━━━━━━━━━┳━━━━━━━━━━━━━━━━━━━━━━━━━━━┓\n",
       "┃<span style=\"font-weight: bold\">        Test metric        </span>┃<span style=\"font-weight: bold\">       DataLoader 0        </span>┃\n",
       "┡━━━━━━━━━━━━━━━━━━━━━━━━━━━╇━━━━━━━━━━━━━━━━━━━━━━━━━━━┩\n",
       "│<span style=\"color: #008080; text-decoration-color: #008080\"> batch_averaged_test/rmse  </span>│<span style=\"color: #800080; text-decoration-color: #800080\">     24.24932098388672     </span>│\n",
       "└───────────────────────────┴───────────────────────────┘\n",
       "</pre>\n"
      ],
      "text/plain": [
       "┏━━━━━━━━━━━━━━━━━━━━━━━━━━━┳━━━━━━━━━━━━━━━━━━━━━━━━━━━┓\n",
       "┃\u001b[1m \u001b[0m\u001b[1m       Test metric       \u001b[0m\u001b[1m \u001b[0m┃\u001b[1m \u001b[0m\u001b[1m      DataLoader 0       \u001b[0m\u001b[1m \u001b[0m┃\n",
       "┡━━━━━━━━━━━━━━━━━━━━━━━━━━━╇━━━━━━━━━━━━━━━━━━━━━━━━━━━┩\n",
       "│\u001b[36m \u001b[0m\u001b[36mbatch_averaged_test/rmse \u001b[0m\u001b[36m \u001b[0m│\u001b[35m \u001b[0m\u001b[35m    24.24932098388672    \u001b[0m\u001b[35m \u001b[0m│\n",
       "└───────────────────────────┴───────────────────────────┘\n"
      ]
     },
     "metadata": {},
     "output_type": "display_data"
    },
    {
     "name": "stdout",
     "output_type": "stream",
     "text": [
      "\n",
      "                                                                                                                                   \n",
      "\n",
      "Fold 2/5; Time 33.263;                                                                                                             \n",
      "\n",
      "Epoch 6: 100%|█████████████████████████████████████████████████| 13/13 [4:35:58<00:00,  0.00it/s, train_loss=0.781, val_loss=0.767]\u001b[A\n",
      "\n",
      "Epoch 17: 100%|████████████████████████████████████████████████| 13/13 [4:27:31<00:00,  0.00it/s, train_loss=0.643, val_loss=0.661]\u001b[A\u001b[A\n",
      "                                                                                                                                   \n",
      "\n",
      "Min val score 24.249; Training epochs 70                                                                                           \n",
      "\n",
      "Epoch 6: 100%|█████████████████████████████████████████████████| 13/13 [4:35:58<00:00,  0.00it/s, train_loss=0.781, val_loss=0.767]\u001b[A\n",
      "\n",
      "Epoch 17: 100%|████████████████████████████████████████████████| 13/13 [4:27:31<00:00,  0.00it/s, train_loss=0.643, val_loss=0.661]\u001b[A\u001b[A"
     ]
    },
    {
     "name": "stderr",
     "output_type": "stream",
     "text": [
      "/opt/calculation/anaconda3/envs/chemprop/lib/python3.11/site-packages/lightning/fabric/plugins/environments/slurm.py:204: The `srun` command is available on your system but is not used. HINT: If your intention is to run Lightning on SLURM, prepend your python command with `srun` like so: srun python /opt/calculation/anaconda3/envs/chemprop/lib/python3 ...\n",
      "\n",
      "/opt/calculation/anaconda3/envs/chemprop/lib/python3.11/site-packages/lightning/pytorch/callbacks/model_checkpoint.py:652: Checkpoint directory /home/kashurin/Tox24/dmpnn_try_3/search_4/hp_cv_1/m2 exists and is not empty.\n",
      "\n"
     ]
    },
    {
     "data": {
      "text/html": [
       "<pre style=\"white-space:pre;overflow-x:auto;line-height:normal;font-family:Menlo,'DejaVu Sans Mono',consolas,'Courier New',monospace\">┏━━━━━━━━━━━━━━━━━━━━━━━━━━━┳━━━━━━━━━━━━━━━━━━━━━━━━━━━┓\n",
       "┃<span style=\"font-weight: bold\">        Test metric        </span>┃<span style=\"font-weight: bold\">       DataLoader 0        </span>┃\n",
       "┡━━━━━━━━━━━━━━━━━━━━━━━━━━━╇━━━━━━━━━━━━━━━━━━━━━━━━━━━┩\n",
       "│<span style=\"color: #008080; text-decoration-color: #008080\"> batch_averaged_test/rmse  </span>│<span style=\"color: #800080; text-decoration-color: #800080\">     22.73401641845703     </span>│\n",
       "└───────────────────────────┴───────────────────────────┘\n",
       "</pre>\n"
      ],
      "text/plain": [
       "┏━━━━━━━━━━━━━━━━━━━━━━━━━━━┳━━━━━━━━━━━━━━━━━━━━━━━━━━━┓\n",
       "┃\u001b[1m \u001b[0m\u001b[1m       Test metric       \u001b[0m\u001b[1m \u001b[0m┃\u001b[1m \u001b[0m\u001b[1m      DataLoader 0       \u001b[0m\u001b[1m \u001b[0m┃\n",
       "┡━━━━━━━━━━━━━━━━━━━━━━━━━━━╇━━━━━━━━━━━━━━━━━━━━━━━━━━━┩\n",
       "│\u001b[36m \u001b[0m\u001b[36mbatch_averaged_test/rmse \u001b[0m\u001b[36m \u001b[0m│\u001b[35m \u001b[0m\u001b[35m    22.73401641845703    \u001b[0m\u001b[35m \u001b[0m│\n",
       "└───────────────────────────┴───────────────────────────┘\n"
      ]
     },
     "metadata": {},
     "output_type": "display_data"
    },
    {
     "name": "stdout",
     "output_type": "stream",
     "text": [
      "\n",
      "                                                                                                                                   \n",
      "\n",
      "Fold 3/5; Time 63.419;                                                                                                             \n",
      "\n",
      "Epoch 6: 100%|█████████████████████████████████████████████████| 13/13 [4:37:01<00:00,  0.00it/s, train_loss=0.781, val_loss=0.767]\u001b[A\n",
      "\n",
      "Epoch 17: 100%|████████████████████████████████████████████████| 13/13 [4:28:34<00:00,  0.00it/s, train_loss=0.643, val_loss=0.661]\u001b[A\u001b[A\n",
      "                                                                                                                                   \n",
      "\n",
      "Min val score 22.734; Training epochs 136                                                                                          \n",
      "\n",
      "Epoch 6: 100%|█████████████████████████████████████████████████| 13/13 [4:37:01<00:00,  0.00it/s, train_loss=0.781, val_loss=0.767]\u001b[A\n",
      "\n",
      "Epoch 17: 100%|████████████████████████████████████████████████| 13/13 [4:28:34<00:00,  0.00it/s, train_loss=0.643, val_loss=0.661]\u001b[A\u001b[A"
     ]
    },
    {
     "name": "stderr",
     "output_type": "stream",
     "text": [
      "/opt/calculation/anaconda3/envs/chemprop/lib/python3.11/site-packages/lightning/fabric/plugins/environments/slurm.py:204: The `srun` command is available on your system but is not used. HINT: If your intention is to run Lightning on SLURM, prepend your python command with `srun` like so: srun python /opt/calculation/anaconda3/envs/chemprop/lib/python3 ...\n",
      "\n",
      "/opt/calculation/anaconda3/envs/chemprop/lib/python3.11/site-packages/lightning/pytorch/callbacks/model_checkpoint.py:652: Checkpoint directory /home/kashurin/Tox24/dmpnn_try_3/search_4/hp_cv_1/m3 exists and is not empty.\n",
      "\n"
     ]
    },
    {
     "data": {
      "text/html": [
       "<pre style=\"white-space:pre;overflow-x:auto;line-height:normal;font-family:Menlo,'DejaVu Sans Mono',consolas,'Courier New',monospace\">┏━━━━━━━━━━━━━━━━━━━━━━━━━━━┳━━━━━━━━━━━━━━━━━━━━━━━━━━━┓\n",
       "┃<span style=\"font-weight: bold\">        Test metric        </span>┃<span style=\"font-weight: bold\">       DataLoader 0        </span>┃\n",
       "┡━━━━━━━━━━━━━━━━━━━━━━━━━━━╇━━━━━━━━━━━━━━━━━━━━━━━━━━━┩\n",
       "│<span style=\"color: #008080; text-decoration-color: #008080\"> batch_averaged_test/rmse  </span>│<span style=\"color: #800080; text-decoration-color: #800080\">    25.555192947387695     </span>│\n",
       "└───────────────────────────┴───────────────────────────┘\n",
       "</pre>\n"
      ],
      "text/plain": [
       "┏━━━━━━━━━━━━━━━━━━━━━━━━━━━┳━━━━━━━━━━━━━━━━━━━━━━━━━━━┓\n",
       "┃\u001b[1m \u001b[0m\u001b[1m       Test metric       \u001b[0m\u001b[1m \u001b[0m┃\u001b[1m \u001b[0m\u001b[1m      DataLoader 0       \u001b[0m\u001b[1m \u001b[0m┃\n",
       "┡━━━━━━━━━━━━━━━━━━━━━━━━━━━╇━━━━━━━━━━━━━━━━━━━━━━━━━━━┩\n",
       "│\u001b[36m \u001b[0m\u001b[36mbatch_averaged_test/rmse \u001b[0m\u001b[36m \u001b[0m│\u001b[35m \u001b[0m\u001b[35m   25.555192947387695    \u001b[0m\u001b[35m \u001b[0m│\n",
       "└───────────────────────────┴───────────────────────────┘\n"
      ]
     },
     "metadata": {},
     "output_type": "display_data"
    },
    {
     "name": "stdout",
     "output_type": "stream",
     "text": [
      "\n",
      "                                                                                                                                   \n",
      "\n",
      "Fold 4/5; Time 31.170;                                                                                                             \n",
      "\n",
      "Epoch 6: 100%|█████████████████████████████████████████████████| 13/13 [4:37:33<00:00,  0.00it/s, train_loss=0.781, val_loss=0.767]\u001b[A\n",
      "\n",
      "Epoch 17: 100%|████████████████████████████████████████████████| 13/13 [4:29:05<00:00,  0.00it/s, train_loss=0.643, val_loss=0.661]\u001b[A\u001b[A\n",
      "                                                                                                                                   \n",
      "\n",
      "Min val score 25.555; Training epochs 66                                                                                           \n",
      "\n",
      "Epoch 6: 100%|█████████████████████████████████████████████████| 13/13 [4:37:33<00:00,  0.00it/s, train_loss=0.781, val_loss=0.767]\u001b[A\n",
      "\n",
      "Epoch 17: 100%|████████████████████████████████████████████████| 13/13 [4:29:05<00:00,  0.00it/s, train_loss=0.643, val_loss=0.661]\u001b[A\u001b[A"
     ]
    },
    {
     "name": "stderr",
     "output_type": "stream",
     "text": [
      "/opt/calculation/anaconda3/envs/chemprop/lib/python3.11/site-packages/lightning/fabric/plugins/environments/slurm.py:204: The `srun` command is available on your system but is not used. HINT: If your intention is to run Lightning on SLURM, prepend your python command with `srun` like so: srun python /opt/calculation/anaconda3/envs/chemprop/lib/python3 ...\n",
      "\n",
      "/opt/calculation/anaconda3/envs/chemprop/lib/python3.11/site-packages/lightning/pytorch/callbacks/model_checkpoint.py:652: Checkpoint directory /home/kashurin/Tox24/dmpnn_try_3/search_4/hp_cv_1/m4 exists and is not empty.\n",
      "\n"
     ]
    },
    {
     "data": {
      "text/html": [
       "<pre style=\"white-space:pre;overflow-x:auto;line-height:normal;font-family:Menlo,'DejaVu Sans Mono',consolas,'Courier New',monospace\">┏━━━━━━━━━━━━━━━━━━━━━━━━━━━┳━━━━━━━━━━━━━━━━━━━━━━━━━━━┓\n",
       "┃<span style=\"font-weight: bold\">        Test metric        </span>┃<span style=\"font-weight: bold\">       DataLoader 0        </span>┃\n",
       "┡━━━━━━━━━━━━━━━━━━━━━━━━━━━╇━━━━━━━━━━━━━━━━━━━━━━━━━━━┩\n",
       "│<span style=\"color: #008080; text-decoration-color: #008080\"> batch_averaged_test/rmse  </span>│<span style=\"color: #800080; text-decoration-color: #800080\">    25.533058166503906     </span>│\n",
       "└───────────────────────────┴───────────────────────────┘\n",
       "</pre>\n"
      ],
      "text/plain": [
       "┏━━━━━━━━━━━━━━━━━━━━━━━━━━━┳━━━━━━━━━━━━━━━━━━━━━━━━━━━┓\n",
       "┃\u001b[1m \u001b[0m\u001b[1m       Test metric       \u001b[0m\u001b[1m \u001b[0m┃\u001b[1m \u001b[0m\u001b[1m      DataLoader 0       \u001b[0m\u001b[1m \u001b[0m┃\n",
       "┡━━━━━━━━━━━━━━━━━━━━━━━━━━━╇━━━━━━━━━━━━━━━━━━━━━━━━━━━┩\n",
       "│\u001b[36m \u001b[0m\u001b[36mbatch_averaged_test/rmse \u001b[0m\u001b[36m \u001b[0m│\u001b[35m \u001b[0m\u001b[35m   25.533058166503906    \u001b[0m\u001b[35m \u001b[0m│\n",
       "└───────────────────────────┴───────────────────────────┘\n"
      ]
     },
     "metadata": {},
     "output_type": "display_data"
    },
    {
     "name": "stdout",
     "output_type": "stream",
     "text": [
      "\n",
      "                                                                                                                                   \n",
      "\n",
      "Fold 5/5; Time 65.126;                                                                                                             \n",
      "\n",
      "Epoch 6: 100%|█████████████████████████████████████████████████| 13/13 [4:38:38<00:00,  0.00it/s, train_loss=0.781, val_loss=0.767]\u001b[A\n",
      "\n",
      "Epoch 17: 100%|████████████████████████████████████████████████| 13/13 [4:30:11<00:00,  0.00it/s, train_loss=0.643, val_loss=0.661]\u001b[A\u001b[A\n",
      "                                                                                                                                   \n",
      "\n",
      "Min val score 25.533; Training epochs 140                                                                                          \n",
      "\n",
      "Epoch 6: 100%|█████████████████████████████████████████████████| 13/13 [4:38:38<00:00,  0.00it/s, train_loss=0.781, val_loss=0.767]\u001b[A\n",
      "\n",
      "Epoch 17: 100%|████████████████████████████████████████████████| 13/13 [4:30:11<00:00,  0.00it/s, train_loss=0.643, val_loss=0.661]\u001b[A\u001b[A\n",
      "\n",
      " 84%|█████████████████████████████████████████████████▍         | 67/80 [49:12<53:48, 248.35s/trial, best loss: 23.675016403198242]\u001b[A\u001b[A"
     ]
    },
    {
     "name": "stderr",
     "output_type": "stream",
     "text": [
      "/opt/calculation/anaconda3/envs/chemprop/lib/python3.11/site-packages/lightning/fabric/plugins/environments/slurm.py:204: The `srun` command is available on your system but is not used. HINT: If your intention is to run Lightning on SLURM, prepend your python command with `srun` like so: srun python /opt/calculation/anaconda3/envs/chemprop/lib/python3 ...\n",
      "\n",
      "/opt/calculation/anaconda3/envs/chemprop/lib/python3.11/site-packages/lightning/pytorch/callbacks/model_checkpoint.py:652: Checkpoint directory /home/kashurin/Tox24/dmpnn_try_3/search_4/hp_cv_1/m0 exists and is not empty.\n",
      "\n"
     ]
    },
    {
     "data": {
      "text/html": [
       "<pre style=\"white-space:pre;overflow-x:auto;line-height:normal;font-family:Menlo,'DejaVu Sans Mono',consolas,'Courier New',monospace\">┏━━━━━━━━━━━━━━━━━━━━━━━━━━━┳━━━━━━━━━━━━━━━━━━━━━━━━━━━┓\n",
       "┃<span style=\"font-weight: bold\">        Test metric        </span>┃<span style=\"font-weight: bold\">       DataLoader 0        </span>┃\n",
       "┡━━━━━━━━━━━━━━━━━━━━━━━━━━━╇━━━━━━━━━━━━━━━━━━━━━━━━━━━┩\n",
       "│<span style=\"color: #008080; text-decoration-color: #008080\"> batch_averaged_test/rmse  </span>│<span style=\"color: #800080; text-decoration-color: #800080\">    24.374393463134766     </span>│\n",
       "└───────────────────────────┴───────────────────────────┘\n",
       "</pre>\n"
      ],
      "text/plain": [
       "┏━━━━━━━━━━━━━━━━━━━━━━━━━━━┳━━━━━━━━━━━━━━━━━━━━━━━━━━━┓\n",
       "┃\u001b[1m \u001b[0m\u001b[1m       Test metric       \u001b[0m\u001b[1m \u001b[0m┃\u001b[1m \u001b[0m\u001b[1m      DataLoader 0       \u001b[0m\u001b[1m \u001b[0m┃\n",
       "┡━━━━━━━━━━━━━━━━━━━━━━━━━━━╇━━━━━━━━━━━━━━━━━━━━━━━━━━━┩\n",
       "│\u001b[36m \u001b[0m\u001b[36mbatch_averaged_test/rmse \u001b[0m\u001b[36m \u001b[0m│\u001b[35m \u001b[0m\u001b[35m   24.374393463134766    \u001b[0m\u001b[35m \u001b[0m│\n",
       "└───────────────────────────┴───────────────────────────┘\n"
      ]
     },
     "metadata": {},
     "output_type": "display_data"
    },
    {
     "name": "stdout",
     "output_type": "stream",
     "text": [
      "\n",
      "                                                                                                                                   \n",
      "\n",
      "Fold 1/5; Time 46.393;                                                                                                             \n",
      "\n",
      "Epoch 6: 100%|█████████████████████████████████████████████████| 13/13 [4:39:24<00:00,  0.00it/s, train_loss=0.781, val_loss=0.767]\u001b[A\n",
      "\n",
      "Epoch 17: 100%|████████████████████████████████████████████████| 13/13 [4:30:57<00:00,  0.00it/s, train_loss=0.643, val_loss=0.661]\u001b[A\u001b[A\n",
      "                                                                                                                                   \n",
      "\n",
      "Min val score 24.374; Training epochs 97                                                                                           \n",
      "\n",
      "Epoch 6: 100%|█████████████████████████████████████████████████| 13/13 [4:39:24<00:00,  0.00it/s, train_loss=0.781, val_loss=0.767]\u001b[A\n",
      "\n",
      "Epoch 17: 100%|████████████████████████████████████████████████| 13/13 [4:30:57<00:00,  0.00it/s, train_loss=0.643, val_loss=0.661]\u001b[A\u001b[A"
     ]
    },
    {
     "name": "stderr",
     "output_type": "stream",
     "text": [
      "/opt/calculation/anaconda3/envs/chemprop/lib/python3.11/site-packages/lightning/fabric/plugins/environments/slurm.py:204: The `srun` command is available on your system but is not used. HINT: If your intention is to run Lightning on SLURM, prepend your python command with `srun` like so: srun python /opt/calculation/anaconda3/envs/chemprop/lib/python3 ...\n",
      "\n",
      "/opt/calculation/anaconda3/envs/chemprop/lib/python3.11/site-packages/lightning/pytorch/callbacks/model_checkpoint.py:652: Checkpoint directory /home/kashurin/Tox24/dmpnn_try_3/search_4/hp_cv_1/m1 exists and is not empty.\n",
      "\n"
     ]
    },
    {
     "data": {
      "text/html": [
       "<pre style=\"white-space:pre;overflow-x:auto;line-height:normal;font-family:Menlo,'DejaVu Sans Mono',consolas,'Courier New',monospace\">┏━━━━━━━━━━━━━━━━━━━━━━━━━━━┳━━━━━━━━━━━━━━━━━━━━━━━━━━━┓\n",
       "┃<span style=\"font-weight: bold\">        Test metric        </span>┃<span style=\"font-weight: bold\">       DataLoader 0        </span>┃\n",
       "┡━━━━━━━━━━━━━━━━━━━━━━━━━━━╇━━━━━━━━━━━━━━━━━━━━━━━━━━━┩\n",
       "│<span style=\"color: #008080; text-decoration-color: #008080\"> batch_averaged_test/rmse  </span>│<span style=\"color: #800080; text-decoration-color: #800080\">    23.914413452148438     </span>│\n",
       "└───────────────────────────┴───────────────────────────┘\n",
       "</pre>\n"
      ],
      "text/plain": [
       "┏━━━━━━━━━━━━━━━━━━━━━━━━━━━┳━━━━━━━━━━━━━━━━━━━━━━━━━━━┓\n",
       "┃\u001b[1m \u001b[0m\u001b[1m       Test metric       \u001b[0m\u001b[1m \u001b[0m┃\u001b[1m \u001b[0m\u001b[1m      DataLoader 0       \u001b[0m\u001b[1m \u001b[0m┃\n",
       "┡━━━━━━━━━━━━━━━━━━━━━━━━━━━╇━━━━━━━━━━━━━━━━━━━━━━━━━━━┩\n",
       "│\u001b[36m \u001b[0m\u001b[36mbatch_averaged_test/rmse \u001b[0m\u001b[36m \u001b[0m│\u001b[35m \u001b[0m\u001b[35m   23.914413452148438    \u001b[0m\u001b[35m \u001b[0m│\n",
       "└───────────────────────────┴───────────────────────────┘\n"
      ]
     },
     "metadata": {},
     "output_type": "display_data"
    },
    {
     "name": "stdout",
     "output_type": "stream",
     "text": [
      "\n",
      "                                                                                                                                   \n",
      "\n",
      "Fold 2/5; Time 41.523;                                                                                                             \n",
      "\n",
      "Epoch 6: 100%|█████████████████████████████████████████████████| 13/13 [4:40:06<00:00,  0.00it/s, train_loss=0.781, val_loss=0.767]\u001b[A\n",
      "\n",
      "Epoch 17: 100%|████████████████████████████████████████████████| 13/13 [4:31:39<00:00,  0.00it/s, train_loss=0.643, val_loss=0.661]\u001b[A\u001b[A\n",
      "                                                                                                                                   \n",
      "\n",
      "Min val score 23.914; Training epochs 86                                                                                           \n",
      "\n",
      "Epoch 6: 100%|█████████████████████████████████████████████████| 13/13 [4:40:06<00:00,  0.00it/s, train_loss=0.781, val_loss=0.767]\u001b[A\n",
      "\n",
      "Epoch 17: 100%|████████████████████████████████████████████████| 13/13 [4:31:39<00:00,  0.00it/s, train_loss=0.643, val_loss=0.661]\u001b[A\u001b[A"
     ]
    },
    {
     "name": "stderr",
     "output_type": "stream",
     "text": [
      "/opt/calculation/anaconda3/envs/chemprop/lib/python3.11/site-packages/lightning/fabric/plugins/environments/slurm.py:204: The `srun` command is available on your system but is not used. HINT: If your intention is to run Lightning on SLURM, prepend your python command with `srun` like so: srun python /opt/calculation/anaconda3/envs/chemprop/lib/python3 ...\n",
      "\n",
      "/opt/calculation/anaconda3/envs/chemprop/lib/python3.11/site-packages/lightning/pytorch/callbacks/model_checkpoint.py:652: Checkpoint directory /home/kashurin/Tox24/dmpnn_try_3/search_4/hp_cv_1/m2 exists and is not empty.\n",
      "\n"
     ]
    },
    {
     "data": {
      "text/html": [
       "<pre style=\"white-space:pre;overflow-x:auto;line-height:normal;font-family:Menlo,'DejaVu Sans Mono',consolas,'Courier New',monospace\">┏━━━━━━━━━━━━━━━━━━━━━━━━━━━┳━━━━━━━━━━━━━━━━━━━━━━━━━━━┓\n",
       "┃<span style=\"font-weight: bold\">        Test metric        </span>┃<span style=\"font-weight: bold\">       DataLoader 0        </span>┃\n",
       "┡━━━━━━━━━━━━━━━━━━━━━━━━━━━╇━━━━━━━━━━━━━━━━━━━━━━━━━━━┩\n",
       "│<span style=\"color: #008080; text-decoration-color: #008080\"> batch_averaged_test/rmse  </span>│<span style=\"color: #800080; text-decoration-color: #800080\">    21.479890823364258     </span>│\n",
       "└───────────────────────────┴───────────────────────────┘\n",
       "</pre>\n"
      ],
      "text/plain": [
       "┏━━━━━━━━━━━━━━━━━━━━━━━━━━━┳━━━━━━━━━━━━━━━━━━━━━━━━━━━┓\n",
       "┃\u001b[1m \u001b[0m\u001b[1m       Test metric       \u001b[0m\u001b[1m \u001b[0m┃\u001b[1m \u001b[0m\u001b[1m      DataLoader 0       \u001b[0m\u001b[1m \u001b[0m┃\n",
       "┡━━━━━━━━━━━━━━━━━━━━━━━━━━━╇━━━━━━━━━━━━━━━━━━━━━━━━━━━┩\n",
       "│\u001b[36m \u001b[0m\u001b[36mbatch_averaged_test/rmse \u001b[0m\u001b[36m \u001b[0m│\u001b[35m \u001b[0m\u001b[35m   21.479890823364258    \u001b[0m\u001b[35m \u001b[0m│\n",
       "└───────────────────────────┴───────────────────────────┘\n"
      ]
     },
     "metadata": {},
     "output_type": "display_data"
    },
    {
     "name": "stdout",
     "output_type": "stream",
     "text": [
      "\n",
      "                                                                                                                                   \n",
      "\n",
      "Fold 3/5; Time 55.779;                                                                                                             \n",
      "\n",
      "Epoch 6: 100%|█████████████████████████████████████████████████| 13/13 [4:41:01<00:00,  0.00it/s, train_loss=0.781, val_loss=0.767]\u001b[A\n",
      "\n",
      "Epoch 17: 100%|████████████████████████████████████████████████| 13/13 [4:32:34<00:00,  0.00it/s, train_loss=0.643, val_loss=0.661]\u001b[A\u001b[A\n",
      "                                                                                                                                   \n",
      "\n",
      "Min val score 21.480; Training epochs 114                                                                                          \n",
      "\n",
      "Epoch 6: 100%|█████████████████████████████████████████████████| 13/13 [4:41:01<00:00,  0.00it/s, train_loss=0.781, val_loss=0.767]\u001b[A\n",
      "\n",
      "Epoch 17: 100%|████████████████████████████████████████████████| 13/13 [4:32:34<00:00,  0.00it/s, train_loss=0.643, val_loss=0.661]\u001b[A\u001b[A"
     ]
    },
    {
     "name": "stderr",
     "output_type": "stream",
     "text": [
      "/opt/calculation/anaconda3/envs/chemprop/lib/python3.11/site-packages/lightning/fabric/plugins/environments/slurm.py:204: The `srun` command is available on your system but is not used. HINT: If your intention is to run Lightning on SLURM, prepend your python command with `srun` like so: srun python /opt/calculation/anaconda3/envs/chemprop/lib/python3 ...\n",
      "\n",
      "/opt/calculation/anaconda3/envs/chemprop/lib/python3.11/site-packages/lightning/pytorch/callbacks/model_checkpoint.py:652: Checkpoint directory /home/kashurin/Tox24/dmpnn_try_3/search_4/hp_cv_1/m3 exists and is not empty.\n",
      "\n"
     ]
    },
    {
     "data": {
      "text/html": [
       "<pre style=\"white-space:pre;overflow-x:auto;line-height:normal;font-family:Menlo,'DejaVu Sans Mono',consolas,'Courier New',monospace\">┏━━━━━━━━━━━━━━━━━━━━━━━━━━━┳━━━━━━━━━━━━━━━━━━━━━━━━━━━┓\n",
       "┃<span style=\"font-weight: bold\">        Test metric        </span>┃<span style=\"font-weight: bold\">       DataLoader 0        </span>┃\n",
       "┡━━━━━━━━━━━━━━━━━━━━━━━━━━━╇━━━━━━━━━━━━━━━━━━━━━━━━━━━┩\n",
       "│<span style=\"color: #008080; text-decoration-color: #008080\"> batch_averaged_test/rmse  </span>│<span style=\"color: #800080; text-decoration-color: #800080\">     24.07828712463379     </span>│\n",
       "└───────────────────────────┴───────────────────────────┘\n",
       "</pre>\n"
      ],
      "text/plain": [
       "┏━━━━━━━━━━━━━━━━━━━━━━━━━━━┳━━━━━━━━━━━━━━━━━━━━━━━━━━━┓\n",
       "┃\u001b[1m \u001b[0m\u001b[1m       Test metric       \u001b[0m\u001b[1m \u001b[0m┃\u001b[1m \u001b[0m\u001b[1m      DataLoader 0       \u001b[0m\u001b[1m \u001b[0m┃\n",
       "┡━━━━━━━━━━━━━━━━━━━━━━━━━━━╇━━━━━━━━━━━━━━━━━━━━━━━━━━━┩\n",
       "│\u001b[36m \u001b[0m\u001b[36mbatch_averaged_test/rmse \u001b[0m\u001b[36m \u001b[0m│\u001b[35m \u001b[0m\u001b[35m    24.07828712463379    \u001b[0m\u001b[35m \u001b[0m│\n",
       "└───────────────────────────┴───────────────────────────┘\n"
      ]
     },
     "metadata": {},
     "output_type": "display_data"
    },
    {
     "name": "stdout",
     "output_type": "stream",
     "text": [
      "\n",
      "                                                                                                                                   \n",
      "\n",
      "Fold 4/5; Time 32.507;                                                                                                             \n",
      "\n",
      "Epoch 6: 100%|█████████████████████████████████████████████████| 13/13 [4:41:34<00:00,  0.00it/s, train_loss=0.781, val_loss=0.767]\u001b[A\n",
      "\n",
      "Epoch 17: 100%|████████████████████████████████████████████████| 13/13 [4:33:07<00:00,  0.00it/s, train_loss=0.643, val_loss=0.661]\u001b[A\u001b[A\n",
      "                                                                                                                                   \n",
      "\n",
      "Min val score 24.078; Training epochs 61                                                                                           \n",
      "\n",
      "Epoch 6: 100%|█████████████████████████████████████████████████| 13/13 [4:41:34<00:00,  0.00it/s, train_loss=0.781, val_loss=0.767]\u001b[A\n",
      "\n",
      "Epoch 17: 100%|████████████████████████████████████████████████| 13/13 [4:33:07<00:00,  0.00it/s, train_loss=0.643, val_loss=0.661]\u001b[A\u001b[A"
     ]
    },
    {
     "name": "stderr",
     "output_type": "stream",
     "text": [
      "/opt/calculation/anaconda3/envs/chemprop/lib/python3.11/site-packages/lightning/fabric/plugins/environments/slurm.py:204: The `srun` command is available on your system but is not used. HINT: If your intention is to run Lightning on SLURM, prepend your python command with `srun` like so: srun python /opt/calculation/anaconda3/envs/chemprop/lib/python3 ...\n",
      "\n",
      "/opt/calculation/anaconda3/envs/chemprop/lib/python3.11/site-packages/lightning/pytorch/callbacks/model_checkpoint.py:652: Checkpoint directory /home/kashurin/Tox24/dmpnn_try_3/search_4/hp_cv_1/m4 exists and is not empty.\n",
      "\n"
     ]
    },
    {
     "data": {
      "text/html": [
       "<pre style=\"white-space:pre;overflow-x:auto;line-height:normal;font-family:Menlo,'DejaVu Sans Mono',consolas,'Courier New',monospace\">┏━━━━━━━━━━━━━━━━━━━━━━━━━━━┳━━━━━━━━━━━━━━━━━━━━━━━━━━━┓\n",
       "┃<span style=\"font-weight: bold\">        Test metric        </span>┃<span style=\"font-weight: bold\">       DataLoader 0        </span>┃\n",
       "┡━━━━━━━━━━━━━━━━━━━━━━━━━━━╇━━━━━━━━━━━━━━━━━━━━━━━━━━━┩\n",
       "│<span style=\"color: #008080; text-decoration-color: #008080\"> batch_averaged_test/rmse  </span>│<span style=\"color: #800080; text-decoration-color: #800080\">    26.463703155517578     </span>│\n",
       "└───────────────────────────┴───────────────────────────┘\n",
       "</pre>\n"
      ],
      "text/plain": [
       "┏━━━━━━━━━━━━━━━━━━━━━━━━━━━┳━━━━━━━━━━━━━━━━━━━━━━━━━━━┓\n",
       "┃\u001b[1m \u001b[0m\u001b[1m       Test metric       \u001b[0m\u001b[1m \u001b[0m┃\u001b[1m \u001b[0m\u001b[1m      DataLoader 0       \u001b[0m\u001b[1m \u001b[0m┃\n",
       "┡━━━━━━━━━━━━━━━━━━━━━━━━━━━╇━━━━━━━━━━━━━━━━━━━━━━━━━━━┩\n",
       "│\u001b[36m \u001b[0m\u001b[36mbatch_averaged_test/rmse \u001b[0m\u001b[36m \u001b[0m│\u001b[35m \u001b[0m\u001b[35m   26.463703155517578    \u001b[0m\u001b[35m \u001b[0m│\n",
       "└───────────────────────────┴───────────────────────────┘\n"
      ]
     },
     "metadata": {},
     "output_type": "display_data"
    },
    {
     "name": "stdout",
     "output_type": "stream",
     "text": [
      "\n",
      "                                                                                                                                   \n",
      "\n",
      "Fold 5/5; Time 44.705;                                                                                                             \n",
      "\n",
      "Epoch 6: 100%|█████████████████████████████████████████████████| 13/13 [4:42:19<00:00,  0.00it/s, train_loss=0.781, val_loss=0.767]\u001b[A\n",
      "\n",
      "Epoch 17: 100%|████████████████████████████████████████████████| 13/13 [4:33:52<00:00,  0.00it/s, train_loss=0.643, val_loss=0.661]\u001b[A\u001b[A\n",
      "                                                                                                                                   \n",
      "\n",
      "Min val score 26.464; Training epochs 80                                                                                           \n",
      "\n",
      "Epoch 6: 100%|█████████████████████████████████████████████████| 13/13 [4:42:19<00:00,  0.00it/s, train_loss=0.781, val_loss=0.767]\u001b[A\n",
      "\n",
      "Epoch 17: 100%|████████████████████████████████████████████████| 13/13 [4:33:52<00:00,  0.00it/s, train_loss=0.643, val_loss=0.661]\u001b[A\u001b[A\n",
      "\n",
      " 85%|██████████████████████████████████████████████████▏        | 68/80 [52:53<48:00, 240.08s/trial, best loss: 23.675016403198242]\u001b[A\u001b[A"
     ]
    },
    {
     "name": "stderr",
     "output_type": "stream",
     "text": [
      "/opt/calculation/anaconda3/envs/chemprop/lib/python3.11/site-packages/lightning/fabric/plugins/environments/slurm.py:204: The `srun` command is available on your system but is not used. HINT: If your intention is to run Lightning on SLURM, prepend your python command with `srun` like so: srun python /opt/calculation/anaconda3/envs/chemprop/lib/python3 ...\n",
      "\n",
      "/opt/calculation/anaconda3/envs/chemprop/lib/python3.11/site-packages/lightning/pytorch/callbacks/model_checkpoint.py:652: Checkpoint directory /home/kashurin/Tox24/dmpnn_try_3/search_4/hp_cv_1/m0 exists and is not empty.\n",
      "\n"
     ]
    },
    {
     "data": {
      "text/html": [
       "<pre style=\"white-space:pre;overflow-x:auto;line-height:normal;font-family:Menlo,'DejaVu Sans Mono',consolas,'Courier New',monospace\">┏━━━━━━━━━━━━━━━━━━━━━━━━━━━┳━━━━━━━━━━━━━━━━━━━━━━━━━━━┓\n",
       "┃<span style=\"font-weight: bold\">        Test metric        </span>┃<span style=\"font-weight: bold\">       DataLoader 0        </span>┃\n",
       "┡━━━━━━━━━━━━━━━━━━━━━━━━━━━╇━━━━━━━━━━━━━━━━━━━━━━━━━━━┩\n",
       "│<span style=\"color: #008080; text-decoration-color: #008080\"> batch_averaged_test/rmse  </span>│<span style=\"color: #800080; text-decoration-color: #800080\">    25.435041427612305     </span>│\n",
       "└───────────────────────────┴───────────────────────────┘\n",
       "</pre>\n"
      ],
      "text/plain": [
       "┏━━━━━━━━━━━━━━━━━━━━━━━━━━━┳━━━━━━━━━━━━━━━━━━━━━━━━━━━┓\n",
       "┃\u001b[1m \u001b[0m\u001b[1m       Test metric       \u001b[0m\u001b[1m \u001b[0m┃\u001b[1m \u001b[0m\u001b[1m      DataLoader 0       \u001b[0m\u001b[1m \u001b[0m┃\n",
       "┡━━━━━━━━━━━━━━━━━━━━━━━━━━━╇━━━━━━━━━━━━━━━━━━━━━━━━━━━┩\n",
       "│\u001b[36m \u001b[0m\u001b[36mbatch_averaged_test/rmse \u001b[0m\u001b[36m \u001b[0m│\u001b[35m \u001b[0m\u001b[35m   25.435041427612305    \u001b[0m\u001b[35m \u001b[0m│\n",
       "└───────────────────────────┴───────────────────────────┘\n"
      ]
     },
     "metadata": {},
     "output_type": "display_data"
    },
    {
     "name": "stdout",
     "output_type": "stream",
     "text": [
      "\n",
      "                                                                                                                                   \n",
      "\n",
      "Fold 1/5; Time 81.438;                                                                                                             \n",
      "\n",
      "Epoch 6: 100%|█████████████████████████████████████████████████| 13/13 [4:43:40<00:00,  0.00it/s, train_loss=0.781, val_loss=0.767]\u001b[A\n",
      "\n",
      "Epoch 17: 100%|████████████████████████████████████████████████| 13/13 [4:35:13<00:00,  0.00it/s, train_loss=0.643, val_loss=0.661]\u001b[A\u001b[A\n",
      "                                                                                                                                   \n",
      "\n",
      "Min val score 25.435; Training epochs 156                                                                                          \n",
      "\n",
      "Epoch 6: 100%|█████████████████████████████████████████████████| 13/13 [4:43:40<00:00,  0.00it/s, train_loss=0.781, val_loss=0.767]\u001b[A\n",
      "\n",
      "Epoch 17: 100%|████████████████████████████████████████████████| 13/13 [4:35:13<00:00,  0.00it/s, train_loss=0.643, val_loss=0.661]\u001b[A\u001b[A"
     ]
    },
    {
     "name": "stderr",
     "output_type": "stream",
     "text": [
      "/opt/calculation/anaconda3/envs/chemprop/lib/python3.11/site-packages/lightning/fabric/plugins/environments/slurm.py:204: The `srun` command is available on your system but is not used. HINT: If your intention is to run Lightning on SLURM, prepend your python command with `srun` like so: srun python /opt/calculation/anaconda3/envs/chemprop/lib/python3 ...\n",
      "\n",
      "/opt/calculation/anaconda3/envs/chemprop/lib/python3.11/site-packages/lightning/pytorch/callbacks/model_checkpoint.py:652: Checkpoint directory /home/kashurin/Tox24/dmpnn_try_3/search_4/hp_cv_1/m1 exists and is not empty.\n",
      "\n"
     ]
    },
    {
     "data": {
      "text/html": [
       "<pre style=\"white-space:pre;overflow-x:auto;line-height:normal;font-family:Menlo,'DejaVu Sans Mono',consolas,'Courier New',monospace\">┏━━━━━━━━━━━━━━━━━━━━━━━━━━━┳━━━━━━━━━━━━━━━━━━━━━━━━━━━┓\n",
       "┃<span style=\"font-weight: bold\">        Test metric        </span>┃<span style=\"font-weight: bold\">       DataLoader 0        </span>┃\n",
       "┡━━━━━━━━━━━━━━━━━━━━━━━━━━━╇━━━━━━━━━━━━━━━━━━━━━━━━━━━┩\n",
       "│<span style=\"color: #008080; text-decoration-color: #008080\"> batch_averaged_test/rmse  </span>│<span style=\"color: #800080; text-decoration-color: #800080\">    24.814857482910156     </span>│\n",
       "└───────────────────────────┴───────────────────────────┘\n",
       "</pre>\n"
      ],
      "text/plain": [
       "┏━━━━━━━━━━━━━━━━━━━━━━━━━━━┳━━━━━━━━━━━━━━━━━━━━━━━━━━━┓\n",
       "┃\u001b[1m \u001b[0m\u001b[1m       Test metric       \u001b[0m\u001b[1m \u001b[0m┃\u001b[1m \u001b[0m\u001b[1m      DataLoader 0       \u001b[0m\u001b[1m \u001b[0m┃\n",
       "┡━━━━━━━━━━━━━━━━━━━━━━━━━━━╇━━━━━━━━━━━━━━━━━━━━━━━━━━━┩\n",
       "│\u001b[36m \u001b[0m\u001b[36mbatch_averaged_test/rmse \u001b[0m\u001b[36m \u001b[0m│\u001b[35m \u001b[0m\u001b[35m   24.814857482910156    \u001b[0m\u001b[35m \u001b[0m│\n",
       "└───────────────────────────┴───────────────────────────┘\n"
      ]
     },
     "metadata": {},
     "output_type": "display_data"
    },
    {
     "name": "stdout",
     "output_type": "stream",
     "text": [
      "\n",
      "                                                                                                                                   \n",
      "\n",
      "Fold 2/5; Time 46.512;                                                                                                             \n",
      "\n",
      "Epoch 6: 100%|█████████████████████████████████████████████████| 13/13 [4:44:27<00:00,  0.00it/s, train_loss=0.781, val_loss=0.767]\u001b[A\n",
      "\n",
      "Epoch 17: 100%|████████████████████████████████████████████████| 13/13 [4:36:00<00:00,  0.00it/s, train_loss=0.643, val_loss=0.661]\u001b[A\u001b[A\n",
      "                                                                                                                                   \n",
      "\n",
      "Min val score 24.815; Training epochs 81                                                                                           \n",
      "\n",
      "Epoch 6: 100%|█████████████████████████████████████████████████| 13/13 [4:44:27<00:00,  0.00it/s, train_loss=0.781, val_loss=0.767]\u001b[A\n",
      "\n",
      "Epoch 17: 100%|████████████████████████████████████████████████| 13/13 [4:36:00<00:00,  0.00it/s, train_loss=0.643, val_loss=0.661]\u001b[A\u001b[A"
     ]
    },
    {
     "name": "stderr",
     "output_type": "stream",
     "text": [
      "/opt/calculation/anaconda3/envs/chemprop/lib/python3.11/site-packages/lightning/fabric/plugins/environments/slurm.py:204: The `srun` command is available on your system but is not used. HINT: If your intention is to run Lightning on SLURM, prepend your python command with `srun` like so: srun python /opt/calculation/anaconda3/envs/chemprop/lib/python3 ...\n",
      "\n",
      "/opt/calculation/anaconda3/envs/chemprop/lib/python3.11/site-packages/lightning/pytorch/callbacks/model_checkpoint.py:652: Checkpoint directory /home/kashurin/Tox24/dmpnn_try_3/search_4/hp_cv_1/m2 exists and is not empty.\n",
      "\n"
     ]
    },
    {
     "data": {
      "text/html": [
       "<pre style=\"white-space:pre;overflow-x:auto;line-height:normal;font-family:Menlo,'DejaVu Sans Mono',consolas,'Courier New',monospace\">┏━━━━━━━━━━━━━━━━━━━━━━━━━━━┳━━━━━━━━━━━━━━━━━━━━━━━━━━━┓\n",
       "┃<span style=\"font-weight: bold\">        Test metric        </span>┃<span style=\"font-weight: bold\">       DataLoader 0        </span>┃\n",
       "┡━━━━━━━━━━━━━━━━━━━━━━━━━━━╇━━━━━━━━━━━━━━━━━━━━━━━━━━━┩\n",
       "│<span style=\"color: #008080; text-decoration-color: #008080\"> batch_averaged_test/rmse  </span>│<span style=\"color: #800080; text-decoration-color: #800080\">    23.706703186035156     </span>│\n",
       "└───────────────────────────┴───────────────────────────┘\n",
       "</pre>\n"
      ],
      "text/plain": [
       "┏━━━━━━━━━━━━━━━━━━━━━━━━━━━┳━━━━━━━━━━━━━━━━━━━━━━━━━━━┓\n",
       "┃\u001b[1m \u001b[0m\u001b[1m       Test metric       \u001b[0m\u001b[1m \u001b[0m┃\u001b[1m \u001b[0m\u001b[1m      DataLoader 0       \u001b[0m\u001b[1m \u001b[0m┃\n",
       "┡━━━━━━━━━━━━━━━━━━━━━━━━━━━╇━━━━━━━━━━━━━━━━━━━━━━━━━━━┩\n",
       "│\u001b[36m \u001b[0m\u001b[36mbatch_averaged_test/rmse \u001b[0m\u001b[36m \u001b[0m│\u001b[35m \u001b[0m\u001b[35m   23.706703186035156    \u001b[0m\u001b[35m \u001b[0m│\n",
       "└───────────────────────────┴───────────────────────────┘\n"
      ]
     },
     "metadata": {},
     "output_type": "display_data"
    },
    {
     "name": "stdout",
     "output_type": "stream",
     "text": [
      "\n",
      "                                                                                                                                   \n",
      "\n",
      "Fold 3/5; Time 42.169;                                                                                                             \n",
      "\n",
      "Epoch 6: 100%|█████████████████████████████████████████████████| 13/13 [4:45:09<00:00,  0.00it/s, train_loss=0.781, val_loss=0.767]\u001b[A\n",
      "\n",
      "Epoch 17: 100%|████████████████████████████████████████████████| 13/13 [4:36:42<00:00,  0.00it/s, train_loss=0.643, val_loss=0.661]\u001b[A\u001b[A\n",
      "                                                                                                                                   \n",
      "\n",
      "Min val score 23.707; Training epochs 87                                                                                           \n",
      "\n",
      "Epoch 6: 100%|█████████████████████████████████████████████████| 13/13 [4:45:09<00:00,  0.00it/s, train_loss=0.781, val_loss=0.767]\u001b[A\n",
      "\n",
      "Epoch 17: 100%|████████████████████████████████████████████████| 13/13 [4:36:42<00:00,  0.00it/s, train_loss=0.643, val_loss=0.661]\u001b[A\u001b[A"
     ]
    },
    {
     "name": "stderr",
     "output_type": "stream",
     "text": [
      "/opt/calculation/anaconda3/envs/chemprop/lib/python3.11/site-packages/lightning/fabric/plugins/environments/slurm.py:204: The `srun` command is available on your system but is not used. HINT: If your intention is to run Lightning on SLURM, prepend your python command with `srun` like so: srun python /opt/calculation/anaconda3/envs/chemprop/lib/python3 ...\n",
      "\n",
      "/opt/calculation/anaconda3/envs/chemprop/lib/python3.11/site-packages/lightning/pytorch/callbacks/model_checkpoint.py:652: Checkpoint directory /home/kashurin/Tox24/dmpnn_try_3/search_4/hp_cv_1/m3 exists and is not empty.\n",
      "\n"
     ]
    },
    {
     "data": {
      "text/html": [
       "<pre style=\"white-space:pre;overflow-x:auto;line-height:normal;font-family:Menlo,'DejaVu Sans Mono',consolas,'Courier New',monospace\">┏━━━━━━━━━━━━━━━━━━━━━━━━━━━┳━━━━━━━━━━━━━━━━━━━━━━━━━━━┓\n",
       "┃<span style=\"font-weight: bold\">        Test metric        </span>┃<span style=\"font-weight: bold\">       DataLoader 0        </span>┃\n",
       "┡━━━━━━━━━━━━━━━━━━━━━━━━━━━╇━━━━━━━━━━━━━━━━━━━━━━━━━━━┩\n",
       "│<span style=\"color: #008080; text-decoration-color: #008080\"> batch_averaged_test/rmse  </span>│<span style=\"color: #800080; text-decoration-color: #800080\">     24.47545051574707     </span>│\n",
       "└───────────────────────────┴───────────────────────────┘\n",
       "</pre>\n"
      ],
      "text/plain": [
       "┏━━━━━━━━━━━━━━━━━━━━━━━━━━━┳━━━━━━━━━━━━━━━━━━━━━━━━━━━┓\n",
       "┃\u001b[1m \u001b[0m\u001b[1m       Test metric       \u001b[0m\u001b[1m \u001b[0m┃\u001b[1m \u001b[0m\u001b[1m      DataLoader 0       \u001b[0m\u001b[1m \u001b[0m┃\n",
       "┡━━━━━━━━━━━━━━━━━━━━━━━━━━━╇━━━━━━━━━━━━━━━━━━━━━━━━━━━┩\n",
       "│\u001b[36m \u001b[0m\u001b[36mbatch_averaged_test/rmse \u001b[0m\u001b[36m \u001b[0m│\u001b[35m \u001b[0m\u001b[35m    24.47545051574707    \u001b[0m\u001b[35m \u001b[0m│\n",
       "└───────────────────────────┴───────────────────────────┘\n"
      ]
     },
     "metadata": {},
     "output_type": "display_data"
    },
    {
     "name": "stdout",
     "output_type": "stream",
     "text": [
      "\n",
      "                                                                                                                                   \n",
      "\n",
      "Fold 4/5; Time 38.590;                                                                                                             \n",
      "\n",
      "Epoch 6: 100%|█████████████████████████████████████████████████| 13/13 [4:45:48<00:00,  0.00it/s, train_loss=0.781, val_loss=0.767]\u001b[A\n",
      "\n",
      "Epoch 17: 100%|████████████████████████████████████████████████| 13/13 [4:37:20<00:00,  0.00it/s, train_loss=0.643, val_loss=0.661]\u001b[A\u001b[A\n",
      "                                                                                                                                   \n",
      "\n",
      "Min val score 24.475; Training epochs 84                                                                                           \n",
      "\n",
      "Epoch 6: 100%|█████████████████████████████████████████████████| 13/13 [4:45:48<00:00,  0.00it/s, train_loss=0.781, val_loss=0.767]\u001b[A\n",
      "\n",
      "Epoch 17: 100%|████████████████████████████████████████████████| 13/13 [4:37:20<00:00,  0.00it/s, train_loss=0.643, val_loss=0.661]\u001b[A\u001b[A"
     ]
    },
    {
     "name": "stderr",
     "output_type": "stream",
     "text": [
      "/opt/calculation/anaconda3/envs/chemprop/lib/python3.11/site-packages/lightning/fabric/plugins/environments/slurm.py:204: The `srun` command is available on your system but is not used. HINT: If your intention is to run Lightning on SLURM, prepend your python command with `srun` like so: srun python /opt/calculation/anaconda3/envs/chemprop/lib/python3 ...\n",
      "\n",
      "/opt/calculation/anaconda3/envs/chemprop/lib/python3.11/site-packages/lightning/pytorch/callbacks/model_checkpoint.py:652: Checkpoint directory /home/kashurin/Tox24/dmpnn_try_3/search_4/hp_cv_1/m4 exists and is not empty.\n",
      "\n"
     ]
    },
    {
     "data": {
      "text/html": [
       "<pre style=\"white-space:pre;overflow-x:auto;line-height:normal;font-family:Menlo,'DejaVu Sans Mono',consolas,'Courier New',monospace\">┏━━━━━━━━━━━━━━━━━━━━━━━━━━━┳━━━━━━━━━━━━━━━━━━━━━━━━━━━┓\n",
       "┃<span style=\"font-weight: bold\">        Test metric        </span>┃<span style=\"font-weight: bold\">       DataLoader 0        </span>┃\n",
       "┡━━━━━━━━━━━━━━━━━━━━━━━━━━━╇━━━━━━━━━━━━━━━━━━━━━━━━━━━┩\n",
       "│<span style=\"color: #008080; text-decoration-color: #008080\"> batch_averaged_test/rmse  </span>│<span style=\"color: #800080; text-decoration-color: #800080\">    26.098119735717773     </span>│\n",
       "└───────────────────────────┴───────────────────────────┘\n",
       "</pre>\n"
      ],
      "text/plain": [
       "┏━━━━━━━━━━━━━━━━━━━━━━━━━━━┳━━━━━━━━━━━━━━━━━━━━━━━━━━━┓\n",
       "┃\u001b[1m \u001b[0m\u001b[1m       Test metric       \u001b[0m\u001b[1m \u001b[0m┃\u001b[1m \u001b[0m\u001b[1m      DataLoader 0       \u001b[0m\u001b[1m \u001b[0m┃\n",
       "┡━━━━━━━━━━━━━━━━━━━━━━━━━━━╇━━━━━━━━━━━━━━━━━━━━━━━━━━━┩\n",
       "│\u001b[36m \u001b[0m\u001b[36mbatch_averaged_test/rmse \u001b[0m\u001b[36m \u001b[0m│\u001b[35m \u001b[0m\u001b[35m   26.098119735717773    \u001b[0m\u001b[35m \u001b[0m│\n",
       "└───────────────────────────┴───────────────────────────┘\n"
      ]
     },
     "metadata": {},
     "output_type": "display_data"
    },
    {
     "name": "stdout",
     "output_type": "stream",
     "text": [
      "\n",
      "                                                                                                                                   \n",
      "\n",
      "Fold 5/5; Time 49.167;                                                                                                             \n",
      "\n",
      "Epoch 6: 100%|█████████████████████████████████████████████████| 13/13 [4:46:37<00:00,  0.00it/s, train_loss=0.781, val_loss=0.767]\u001b[A\n",
      "\n",
      "Epoch 17: 100%|████████████████████████████████████████████████| 13/13 [4:38:10<00:00,  0.00it/s, train_loss=0.643, val_loss=0.661]\u001b[A\u001b[A\n",
      "                                                                                                                                   \n",
      "\n",
      "Min val score 26.098; Training epochs 107                                                                                          \n",
      "\n",
      "Epoch 6: 100%|█████████████████████████████████████████████████| 13/13 [4:46:37<00:00,  0.00it/s, train_loss=0.781, val_loss=0.767]\u001b[A\n",
      "\n",
      "Epoch 17: 100%|████████████████████████████████████████████████| 13/13 [4:38:10<00:00,  0.00it/s, train_loss=0.643, val_loss=0.661]\u001b[A\u001b[A\n",
      "\n",
      " 86%|██████████████████████████████████████████████████▉        | 69/80 [57:11<45:00, 245.49s/trial, best loss: 23.675016403198242]\u001b[A\u001b[A"
     ]
    },
    {
     "name": "stderr",
     "output_type": "stream",
     "text": [
      "/opt/calculation/anaconda3/envs/chemprop/lib/python3.11/site-packages/lightning/fabric/plugins/environments/slurm.py:204: The `srun` command is available on your system but is not used. HINT: If your intention is to run Lightning on SLURM, prepend your python command with `srun` like so: srun python /opt/calculation/anaconda3/envs/chemprop/lib/python3 ...\n",
      "\n",
      "/opt/calculation/anaconda3/envs/chemprop/lib/python3.11/site-packages/lightning/pytorch/callbacks/model_checkpoint.py:652: Checkpoint directory /home/kashurin/Tox24/dmpnn_try_3/search_4/hp_cv_1/m0 exists and is not empty.\n",
      "\n"
     ]
    },
    {
     "data": {
      "text/html": [
       "<pre style=\"white-space:pre;overflow-x:auto;line-height:normal;font-family:Menlo,'DejaVu Sans Mono',consolas,'Courier New',monospace\">┏━━━━━━━━━━━━━━━━━━━━━━━━━━━┳━━━━━━━━━━━━━━━━━━━━━━━━━━━┓\n",
       "┃<span style=\"font-weight: bold\">        Test metric        </span>┃<span style=\"font-weight: bold\">       DataLoader 0        </span>┃\n",
       "┡━━━━━━━━━━━━━━━━━━━━━━━━━━━╇━━━━━━━━━━━━━━━━━━━━━━━━━━━┩\n",
       "│<span style=\"color: #008080; text-decoration-color: #008080\"> batch_averaged_test/rmse  </span>│<span style=\"color: #800080; text-decoration-color: #800080\">    24.529325485229492     </span>│\n",
       "└───────────────────────────┴───────────────────────────┘\n",
       "</pre>\n"
      ],
      "text/plain": [
       "┏━━━━━━━━━━━━━━━━━━━━━━━━━━━┳━━━━━━━━━━━━━━━━━━━━━━━━━━━┓\n",
       "┃\u001b[1m \u001b[0m\u001b[1m       Test metric       \u001b[0m\u001b[1m \u001b[0m┃\u001b[1m \u001b[0m\u001b[1m      DataLoader 0       \u001b[0m\u001b[1m \u001b[0m┃\n",
       "┡━━━━━━━━━━━━━━━━━━━━━━━━━━━╇━━━━━━━━━━━━━━━━━━━━━━━━━━━┩\n",
       "│\u001b[36m \u001b[0m\u001b[36mbatch_averaged_test/rmse \u001b[0m\u001b[36m \u001b[0m│\u001b[35m \u001b[0m\u001b[35m   24.529325485229492    \u001b[0m\u001b[35m \u001b[0m│\n",
       "└───────────────────────────┴───────────────────────────┘\n"
      ]
     },
     "metadata": {},
     "output_type": "display_data"
    },
    {
     "name": "stdout",
     "output_type": "stream",
     "text": [
      "\n",
      "                                                                                                                                   \n",
      "\n",
      "Fold 1/5; Time 39.186;                                                                                                             \n",
      "\n",
      "Epoch 6: 100%|█████████████████████████████████████████████████| 13/13 [4:47:16<00:00,  0.00it/s, train_loss=0.781, val_loss=0.767]\u001b[A\n",
      "\n",
      "Epoch 17: 100%|████████████████████████████████████████████████| 13/13 [4:38:49<00:00,  0.00it/s, train_loss=0.643, val_loss=0.661]\u001b[A\u001b[A\n",
      "                                                                                                                                   \n",
      "\n",
      "Min val score 24.529; Training epochs 81                                                                                           \n",
      "\n",
      "Epoch 6: 100%|█████████████████████████████████████████████████| 13/13 [4:47:16<00:00,  0.00it/s, train_loss=0.781, val_loss=0.767]\u001b[A\n",
      "\n",
      "Epoch 17: 100%|████████████████████████████████████████████████| 13/13 [4:38:49<00:00,  0.00it/s, train_loss=0.643, val_loss=0.661]\u001b[A\u001b[A"
     ]
    },
    {
     "name": "stderr",
     "output_type": "stream",
     "text": [
      "/opt/calculation/anaconda3/envs/chemprop/lib/python3.11/site-packages/lightning/fabric/plugins/environments/slurm.py:204: The `srun` command is available on your system but is not used. HINT: If your intention is to run Lightning on SLURM, prepend your python command with `srun` like so: srun python /opt/calculation/anaconda3/envs/chemprop/lib/python3 ...\n",
      "\n",
      "/opt/calculation/anaconda3/envs/chemprop/lib/python3.11/site-packages/lightning/pytorch/callbacks/model_checkpoint.py:652: Checkpoint directory /home/kashurin/Tox24/dmpnn_try_3/search_4/hp_cv_1/m1 exists and is not empty.\n",
      "\n"
     ]
    },
    {
     "data": {
      "text/html": [
       "<pre style=\"white-space:pre;overflow-x:auto;line-height:normal;font-family:Menlo,'DejaVu Sans Mono',consolas,'Courier New',monospace\">┏━━━━━━━━━━━━━━━━━━━━━━━━━━━┳━━━━━━━━━━━━━━━━━━━━━━━━━━━┓\n",
       "┃<span style=\"font-weight: bold\">        Test metric        </span>┃<span style=\"font-weight: bold\">       DataLoader 0        </span>┃\n",
       "┡━━━━━━━━━━━━━━━━━━━━━━━━━━━╇━━━━━━━━━━━━━━━━━━━━━━━━━━━┩\n",
       "│<span style=\"color: #008080; text-decoration-color: #008080\"> batch_averaged_test/rmse  </span>│<span style=\"color: #800080; text-decoration-color: #800080\">    24.107070922851562     </span>│\n",
       "└───────────────────────────┴───────────────────────────┘\n",
       "</pre>\n"
      ],
      "text/plain": [
       "┏━━━━━━━━━━━━━━━━━━━━━━━━━━━┳━━━━━━━━━━━━━━━━━━━━━━━━━━━┓\n",
       "┃\u001b[1m \u001b[0m\u001b[1m       Test metric       \u001b[0m\u001b[1m \u001b[0m┃\u001b[1m \u001b[0m\u001b[1m      DataLoader 0       \u001b[0m\u001b[1m \u001b[0m┃\n",
       "┡━━━━━━━━━━━━━━━━━━━━━━━━━━━╇━━━━━━━━━━━━━━━━━━━━━━━━━━━┩\n",
       "│\u001b[36m \u001b[0m\u001b[36mbatch_averaged_test/rmse \u001b[0m\u001b[36m \u001b[0m│\u001b[35m \u001b[0m\u001b[35m   24.107070922851562    \u001b[0m\u001b[35m \u001b[0m│\n",
       "└───────────────────────────┴───────────────────────────┘\n"
      ]
     },
     "metadata": {},
     "output_type": "display_data"
    },
    {
     "name": "stdout",
     "output_type": "stream",
     "text": [
      "\n",
      "                                                                                                                                   \n",
      "\n",
      "Fold 2/5; Time 32.411;                                                                                                             \n",
      "\n",
      "Epoch 6: 100%|█████████████████████████████████████████████████| 13/13 [4:47:48<00:00,  0.00it/s, train_loss=0.781, val_loss=0.767]\u001b[A\n",
      "\n",
      "Epoch 17: 100%|████████████████████████████████████████████████| 13/13 [4:39:21<00:00,  0.00it/s, train_loss=0.643, val_loss=0.661]\u001b[A\u001b[A\n",
      "                                                                                                                                   \n",
      "\n",
      "Min val score 24.107; Training epochs 65                                                                                           \n",
      "\n",
      "Epoch 6: 100%|█████████████████████████████████████████████████| 13/13 [4:47:48<00:00,  0.00it/s, train_loss=0.781, val_loss=0.767]\u001b[A\n",
      "\n",
      "Epoch 17: 100%|████████████████████████████████████████████████| 13/13 [4:39:21<00:00,  0.00it/s, train_loss=0.643, val_loss=0.661]\u001b[A\u001b[A"
     ]
    },
    {
     "name": "stderr",
     "output_type": "stream",
     "text": [
      "/opt/calculation/anaconda3/envs/chemprop/lib/python3.11/site-packages/lightning/fabric/plugins/environments/slurm.py:204: The `srun` command is available on your system but is not used. HINT: If your intention is to run Lightning on SLURM, prepend your python command with `srun` like so: srun python /opt/calculation/anaconda3/envs/chemprop/lib/python3 ...\n",
      "\n",
      "/opt/calculation/anaconda3/envs/chemprop/lib/python3.11/site-packages/lightning/pytorch/callbacks/model_checkpoint.py:652: Checkpoint directory /home/kashurin/Tox24/dmpnn_try_3/search_4/hp_cv_1/m2 exists and is not empty.\n",
      "\n"
     ]
    },
    {
     "data": {
      "text/html": [
       "<pre style=\"white-space:pre;overflow-x:auto;line-height:normal;font-family:Menlo,'DejaVu Sans Mono',consolas,'Courier New',monospace\">┏━━━━━━━━━━━━━━━━━━━━━━━━━━━┳━━━━━━━━━━━━━━━━━━━━━━━━━━━┓\n",
       "┃<span style=\"font-weight: bold\">        Test metric        </span>┃<span style=\"font-weight: bold\">       DataLoader 0        </span>┃\n",
       "┡━━━━━━━━━━━━━━━━━━━━━━━━━━━╇━━━━━━━━━━━━━━━━━━━━━━━━━━━┩\n",
       "│<span style=\"color: #008080; text-decoration-color: #008080\"> batch_averaged_test/rmse  </span>│<span style=\"color: #800080; text-decoration-color: #800080\">     22.34117889404297     </span>│\n",
       "└───────────────────────────┴───────────────────────────┘\n",
       "</pre>\n"
      ],
      "text/plain": [
       "┏━━━━━━━━━━━━━━━━━━━━━━━━━━━┳━━━━━━━━━━━━━━━━━━━━━━━━━━━┓\n",
       "┃\u001b[1m \u001b[0m\u001b[1m       Test metric       \u001b[0m\u001b[1m \u001b[0m┃\u001b[1m \u001b[0m\u001b[1m      DataLoader 0       \u001b[0m\u001b[1m \u001b[0m┃\n",
       "┡━━━━━━━━━━━━━━━━━━━━━━━━━━━╇━━━━━━━━━━━━━━━━━━━━━━━━━━━┩\n",
       "│\u001b[36m \u001b[0m\u001b[36mbatch_averaged_test/rmse \u001b[0m\u001b[36m \u001b[0m│\u001b[35m \u001b[0m\u001b[35m    22.34117889404297    \u001b[0m\u001b[35m \u001b[0m│\n",
       "└───────────────────────────┴───────────────────────────┘\n"
      ]
     },
     "metadata": {},
     "output_type": "display_data"
    },
    {
     "name": "stdout",
     "output_type": "stream",
     "text": [
      "\n",
      "                                                                                                                                   \n",
      "\n",
      "Fold 3/5; Time 66.522;                                                                                                             \n",
      "\n",
      "Epoch 6: 100%|█████████████████████████████████████████████████| 13/13 [4:48:55<00:00,  0.00it/s, train_loss=0.781, val_loss=0.767]\u001b[A\n",
      "\n",
      "Epoch 17: 100%|████████████████████████████████████████████████| 13/13 [4:40:28<00:00,  0.00it/s, train_loss=0.643, val_loss=0.661]\u001b[A\u001b[A\n",
      "                                                                                                                                   \n",
      "\n",
      "Min val score 22.341; Training epochs 140                                                                                          \n",
      "\n",
      "Epoch 6: 100%|█████████████████████████████████████████████████| 13/13 [4:48:55<00:00,  0.00it/s, train_loss=0.781, val_loss=0.767]\u001b[A\n",
      "\n",
      "Epoch 17: 100%|████████████████████████████████████████████████| 13/13 [4:40:28<00:00,  0.00it/s, train_loss=0.643, val_loss=0.661]\u001b[A\u001b[A"
     ]
    },
    {
     "name": "stderr",
     "output_type": "stream",
     "text": [
      "/opt/calculation/anaconda3/envs/chemprop/lib/python3.11/site-packages/lightning/fabric/plugins/environments/slurm.py:204: The `srun` command is available on your system but is not used. HINT: If your intention is to run Lightning on SLURM, prepend your python command with `srun` like so: srun python /opt/calculation/anaconda3/envs/chemprop/lib/python3 ...\n",
      "\n",
      "/opt/calculation/anaconda3/envs/chemprop/lib/python3.11/site-packages/lightning/pytorch/callbacks/model_checkpoint.py:652: Checkpoint directory /home/kashurin/Tox24/dmpnn_try_3/search_4/hp_cv_1/m3 exists and is not empty.\n",
      "\n"
     ]
    },
    {
     "data": {
      "text/html": [
       "<pre style=\"white-space:pre;overflow-x:auto;line-height:normal;font-family:Menlo,'DejaVu Sans Mono',consolas,'Courier New',monospace\">┏━━━━━━━━━━━━━━━━━━━━━━━━━━━┳━━━━━━━━━━━━━━━━━━━━━━━━━━━┓\n",
       "┃<span style=\"font-weight: bold\">        Test metric        </span>┃<span style=\"font-weight: bold\">       DataLoader 0        </span>┃\n",
       "┡━━━━━━━━━━━━━━━━━━━━━━━━━━━╇━━━━━━━━━━━━━━━━━━━━━━━━━━━┩\n",
       "│<span style=\"color: #008080; text-decoration-color: #008080\"> batch_averaged_test/rmse  </span>│<span style=\"color: #800080; text-decoration-color: #800080\">    23.328956604003906     </span>│\n",
       "└───────────────────────────┴───────────────────────────┘\n",
       "</pre>\n"
      ],
      "text/plain": [
       "┏━━━━━━━━━━━━━━━━━━━━━━━━━━━┳━━━━━━━━━━━━━━━━━━━━━━━━━━━┓\n",
       "┃\u001b[1m \u001b[0m\u001b[1m       Test metric       \u001b[0m\u001b[1m \u001b[0m┃\u001b[1m \u001b[0m\u001b[1m      DataLoader 0       \u001b[0m\u001b[1m \u001b[0m┃\n",
       "┡━━━━━━━━━━━━━━━━━━━━━━━━━━━╇━━━━━━━━━━━━━━━━━━━━━━━━━━━┩\n",
       "│\u001b[36m \u001b[0m\u001b[36mbatch_averaged_test/rmse \u001b[0m\u001b[36m \u001b[0m│\u001b[35m \u001b[0m\u001b[35m   23.328956604003906    \u001b[0m\u001b[35m \u001b[0m│\n",
       "└───────────────────────────┴───────────────────────────┘\n"
      ]
     },
     "metadata": {},
     "output_type": "display_data"
    },
    {
     "name": "stdout",
     "output_type": "stream",
     "text": [
      "\n",
      "                                                                                                                                   \n",
      "\n",
      "Fold 4/5; Time 44.294;                                                                                                             \n",
      "\n",
      "Epoch 6: 100%|█████████████████████████████████████████████████| 13/13 [4:49:39<00:00,  0.00it/s, train_loss=0.781, val_loss=0.767]\u001b[A\n",
      "\n",
      "Epoch 17: 100%|████████████████████████████████████████████████| 13/13 [4:41:12<00:00,  0.00it/s, train_loss=0.643, val_loss=0.661]\u001b[A\u001b[A\n",
      "                                                                                                                                   \n",
      "\n",
      "Min val score 23.329; Training epochs 85                                                                                           \n",
      "\n",
      "Epoch 6: 100%|█████████████████████████████████████████████████| 13/13 [4:49:39<00:00,  0.00it/s, train_loss=0.781, val_loss=0.767]\u001b[A\n",
      "\n",
      "Epoch 17: 100%|████████████████████████████████████████████████| 13/13 [4:41:12<00:00,  0.00it/s, train_loss=0.643, val_loss=0.661]\u001b[A\u001b[A"
     ]
    },
    {
     "name": "stderr",
     "output_type": "stream",
     "text": [
      "/opt/calculation/anaconda3/envs/chemprop/lib/python3.11/site-packages/lightning/fabric/plugins/environments/slurm.py:204: The `srun` command is available on your system but is not used. HINT: If your intention is to run Lightning on SLURM, prepend your python command with `srun` like so: srun python /opt/calculation/anaconda3/envs/chemprop/lib/python3 ...\n",
      "\n",
      "/opt/calculation/anaconda3/envs/chemprop/lib/python3.11/site-packages/lightning/pytorch/callbacks/model_checkpoint.py:652: Checkpoint directory /home/kashurin/Tox24/dmpnn_try_3/search_4/hp_cv_1/m4 exists and is not empty.\n",
      "\n"
     ]
    },
    {
     "data": {
      "text/html": [
       "<pre style=\"white-space:pre;overflow-x:auto;line-height:normal;font-family:Menlo,'DejaVu Sans Mono',consolas,'Courier New',monospace\">┏━━━━━━━━━━━━━━━━━━━━━━━━━━━┳━━━━━━━━━━━━━━━━━━━━━━━━━━━┓\n",
       "┃<span style=\"font-weight: bold\">        Test metric        </span>┃<span style=\"font-weight: bold\">       DataLoader 0        </span>┃\n",
       "┡━━━━━━━━━━━━━━━━━━━━━━━━━━━╇━━━━━━━━━━━━━━━━━━━━━━━━━━━┩\n",
       "│<span style=\"color: #008080; text-decoration-color: #008080\"> batch_averaged_test/rmse  </span>│<span style=\"color: #800080; text-decoration-color: #800080\">    23.939210891723633     </span>│\n",
       "└───────────────────────────┴───────────────────────────┘\n",
       "</pre>\n"
      ],
      "text/plain": [
       "┏━━━━━━━━━━━━━━━━━━━━━━━━━━━┳━━━━━━━━━━━━━━━━━━━━━━━━━━━┓\n",
       "┃\u001b[1m \u001b[0m\u001b[1m       Test metric       \u001b[0m\u001b[1m \u001b[0m┃\u001b[1m \u001b[0m\u001b[1m      DataLoader 0       \u001b[0m\u001b[1m \u001b[0m┃\n",
       "┡━━━━━━━━━━━━━━━━━━━━━━━━━━━╇━━━━━━━━━━━━━━━━━━━━━━━━━━━┩\n",
       "│\u001b[36m \u001b[0m\u001b[36mbatch_averaged_test/rmse \u001b[0m\u001b[36m \u001b[0m│\u001b[35m \u001b[0m\u001b[35m   23.939210891723633    \u001b[0m\u001b[35m \u001b[0m│\n",
       "└───────────────────────────┴───────────────────────────┘\n"
      ]
     },
     "metadata": {},
     "output_type": "display_data"
    },
    {
     "name": "stdout",
     "output_type": "stream",
     "text": [
      "\n",
      "                                                                                                                                   \n",
      "\n",
      "Fold 5/5; Time 85.822;                                                                                                             \n",
      "\n",
      "Epoch 6: 100%|█████████████████████████████████████████████████| 13/13 [4:51:05<00:00,  0.00it/s, train_loss=0.781, val_loss=0.767]\u001b[A\n",
      "\n",
      "Epoch 17: 100%|████████████████████████████████████████████████| 13/13 [4:42:38<00:00,  0.00it/s, train_loss=0.643, val_loss=0.661]\u001b[A\u001b[A\n",
      "                                                                                                                                   \n",
      "\n",
      "Min val score 23.939; Training epochs 157                                                                                          \n",
      "\n",
      "Epoch 6: 100%|█████████████████████████████████████████████████| 13/13 [4:51:05<00:00,  0.00it/s, train_loss=0.781, val_loss=0.767]\u001b[A\n",
      "\n",
      "Epoch 17: 100%|████████████████████████████████████████████████| 13/13 [4:42:38<00:00,  0.00it/s, train_loss=0.643, val_loss=0.661]\u001b[A\u001b[A\n",
      "\n",
      " 88%|█████████████████████████████████████████████████▉       | 70/80 [1:01:40<42:03, 252.39s/trial, best loss: 23.649148559570314]\u001b[A\u001b[A"
     ]
    },
    {
     "name": "stderr",
     "output_type": "stream",
     "text": [
      "/opt/calculation/anaconda3/envs/chemprop/lib/python3.11/site-packages/lightning/fabric/plugins/environments/slurm.py:204: The `srun` command is available on your system but is not used. HINT: If your intention is to run Lightning on SLURM, prepend your python command with `srun` like so: srun python /opt/calculation/anaconda3/envs/chemprop/lib/python3 ...\n",
      "\n",
      "/opt/calculation/anaconda3/envs/chemprop/lib/python3.11/site-packages/lightning/pytorch/callbacks/model_checkpoint.py:652: Checkpoint directory /home/kashurin/Tox24/dmpnn_try_3/search_4/hp_cv_1/m0 exists and is not empty.\n",
      "\n"
     ]
    },
    {
     "data": {
      "text/html": [
       "<pre style=\"white-space:pre;overflow-x:auto;line-height:normal;font-family:Menlo,'DejaVu Sans Mono',consolas,'Courier New',monospace\">┏━━━━━━━━━━━━━━━━━━━━━━━━━━━┳━━━━━━━━━━━━━━━━━━━━━━━━━━━┓\n",
       "┃<span style=\"font-weight: bold\">        Test metric        </span>┃<span style=\"font-weight: bold\">       DataLoader 0        </span>┃\n",
       "┡━━━━━━━━━━━━━━━━━━━━━━━━━━━╇━━━━━━━━━━━━━━━━━━━━━━━━━━━┩\n",
       "│<span style=\"color: #008080; text-decoration-color: #008080\"> batch_averaged_test/rmse  </span>│<span style=\"color: #800080; text-decoration-color: #800080\">    24.546913146972656     </span>│\n",
       "└───────────────────────────┴───────────────────────────┘\n",
       "</pre>\n"
      ],
      "text/plain": [
       "┏━━━━━━━━━━━━━━━━━━━━━━━━━━━┳━━━━━━━━━━━━━━━━━━━━━━━━━━━┓\n",
       "┃\u001b[1m \u001b[0m\u001b[1m       Test metric       \u001b[0m\u001b[1m \u001b[0m┃\u001b[1m \u001b[0m\u001b[1m      DataLoader 0       \u001b[0m\u001b[1m \u001b[0m┃\n",
       "┡━━━━━━━━━━━━━━━━━━━━━━━━━━━╇━━━━━━━━━━━━━━━━━━━━━━━━━━━┩\n",
       "│\u001b[36m \u001b[0m\u001b[36mbatch_averaged_test/rmse \u001b[0m\u001b[36m \u001b[0m│\u001b[35m \u001b[0m\u001b[35m   24.546913146972656    \u001b[0m\u001b[35m \u001b[0m│\n",
       "└───────────────────────────┴───────────────────────────┘\n"
      ]
     },
     "metadata": {},
     "output_type": "display_data"
    },
    {
     "name": "stdout",
     "output_type": "stream",
     "text": [
      "\n",
      "                                                                                                                                   \n",
      "\n",
      "Fold 1/5; Time 34.083;                                                                                                             \n",
      "\n",
      "Epoch 6: 100%|█████████████████████████████████████████████████| 13/13 [4:51:39<00:00,  0.00it/s, train_loss=0.781, val_loss=0.767]\u001b[A\n",
      "\n",
      "Epoch 17: 100%|████████████████████████████████████████████████| 13/13 [4:43:12<00:00,  0.00it/s, train_loss=0.643, val_loss=0.661]\u001b[A\u001b[A\n",
      "                                                                                                                                   \n",
      "\n",
      "Min val score 24.547; Training epochs 69                                                                                           \n",
      "\n",
      "Epoch 6: 100%|█████████████████████████████████████████████████| 13/13 [4:51:39<00:00,  0.00it/s, train_loss=0.781, val_loss=0.767]\u001b[A\n",
      "\n",
      "Epoch 17: 100%|████████████████████████████████████████████████| 13/13 [4:43:12<00:00,  0.00it/s, train_loss=0.643, val_loss=0.661]\u001b[A\u001b[A"
     ]
    },
    {
     "name": "stderr",
     "output_type": "stream",
     "text": [
      "/opt/calculation/anaconda3/envs/chemprop/lib/python3.11/site-packages/lightning/fabric/plugins/environments/slurm.py:204: The `srun` command is available on your system but is not used. HINT: If your intention is to run Lightning on SLURM, prepend your python command with `srun` like so: srun python /opt/calculation/anaconda3/envs/chemprop/lib/python3 ...\n",
      "\n",
      "/opt/calculation/anaconda3/envs/chemprop/lib/python3.11/site-packages/lightning/pytorch/callbacks/model_checkpoint.py:652: Checkpoint directory /home/kashurin/Tox24/dmpnn_try_3/search_4/hp_cv_1/m1 exists and is not empty.\n",
      "\n"
     ]
    },
    {
     "data": {
      "text/html": [
       "<pre style=\"white-space:pre;overflow-x:auto;line-height:normal;font-family:Menlo,'DejaVu Sans Mono',consolas,'Courier New',monospace\">┏━━━━━━━━━━━━━━━━━━━━━━━━━━━┳━━━━━━━━━━━━━━━━━━━━━━━━━━━┓\n",
       "┃<span style=\"font-weight: bold\">        Test metric        </span>┃<span style=\"font-weight: bold\">       DataLoader 0        </span>┃\n",
       "┡━━━━━━━━━━━━━━━━━━━━━━━━━━━╇━━━━━━━━━━━━━━━━━━━━━━━━━━━┩\n",
       "│<span style=\"color: #008080; text-decoration-color: #008080\"> batch_averaged_test/rmse  </span>│<span style=\"color: #800080; text-decoration-color: #800080\">    24.366483688354492     </span>│\n",
       "└───────────────────────────┴───────────────────────────┘\n",
       "</pre>\n"
      ],
      "text/plain": [
       "┏━━━━━━━━━━━━━━━━━━━━━━━━━━━┳━━━━━━━━━━━━━━━━━━━━━━━━━━━┓\n",
       "┃\u001b[1m \u001b[0m\u001b[1m       Test metric       \u001b[0m\u001b[1m \u001b[0m┃\u001b[1m \u001b[0m\u001b[1m      DataLoader 0       \u001b[0m\u001b[1m \u001b[0m┃\n",
       "┡━━━━━━━━━━━━━━━━━━━━━━━━━━━╇━━━━━━━━━━━━━━━━━━━━━━━━━━━┩\n",
       "│\u001b[36m \u001b[0m\u001b[36mbatch_averaged_test/rmse \u001b[0m\u001b[36m \u001b[0m│\u001b[35m \u001b[0m\u001b[35m   24.366483688354492    \u001b[0m\u001b[35m \u001b[0m│\n",
       "└───────────────────────────┴───────────────────────────┘\n"
      ]
     },
     "metadata": {},
     "output_type": "display_data"
    },
    {
     "name": "stdout",
     "output_type": "stream",
     "text": [
      "\n",
      "                                                                                                                                   \n",
      "\n",
      "Fold 2/5; Time 32.782;                                                                                                             \n",
      "\n",
      "Epoch 6: 100%|█████████████████████████████████████████████████| 13/13 [4:52:12<00:00,  0.00it/s, train_loss=0.781, val_loss=0.767]\u001b[A\n",
      "\n",
      "Epoch 17: 100%|████████████████████████████████████████████████| 13/13 [4:43:45<00:00,  0.00it/s, train_loss=0.643, val_loss=0.661]\u001b[A\u001b[A\n",
      "                                                                                                                                   \n",
      "\n",
      "Min val score 24.366; Training epochs 68                                                                                           \n",
      "\n",
      "Epoch 6: 100%|█████████████████████████████████████████████████| 13/13 [4:52:12<00:00,  0.00it/s, train_loss=0.781, val_loss=0.767]\u001b[A\n",
      "\n",
      "Epoch 17: 100%|████████████████████████████████████████████████| 13/13 [4:43:45<00:00,  0.00it/s, train_loss=0.643, val_loss=0.661]\u001b[A\u001b[A"
     ]
    },
    {
     "name": "stderr",
     "output_type": "stream",
     "text": [
      "/opt/calculation/anaconda3/envs/chemprop/lib/python3.11/site-packages/lightning/fabric/plugins/environments/slurm.py:204: The `srun` command is available on your system but is not used. HINT: If your intention is to run Lightning on SLURM, prepend your python command with `srun` like so: srun python /opt/calculation/anaconda3/envs/chemprop/lib/python3 ...\n",
      "\n",
      "/opt/calculation/anaconda3/envs/chemprop/lib/python3.11/site-packages/lightning/pytorch/callbacks/model_checkpoint.py:652: Checkpoint directory /home/kashurin/Tox24/dmpnn_try_3/search_4/hp_cv_1/m2 exists and is not empty.\n",
      "\n"
     ]
    },
    {
     "data": {
      "text/html": [
       "<pre style=\"white-space:pre;overflow-x:auto;line-height:normal;font-family:Menlo,'DejaVu Sans Mono',consolas,'Courier New',monospace\">┏━━━━━━━━━━━━━━━━━━━━━━━━━━━┳━━━━━━━━━━━━━━━━━━━━━━━━━━━┓\n",
       "┃<span style=\"font-weight: bold\">        Test metric        </span>┃<span style=\"font-weight: bold\">       DataLoader 0        </span>┃\n",
       "┡━━━━━━━━━━━━━━━━━━━━━━━━━━━╇━━━━━━━━━━━━━━━━━━━━━━━━━━━┩\n",
       "│<span style=\"color: #008080; text-decoration-color: #008080\"> batch_averaged_test/rmse  </span>│<span style=\"color: #800080; text-decoration-color: #800080\">    22.403263092041016     </span>│\n",
       "└───────────────────────────┴───────────────────────────┘\n",
       "</pre>\n"
      ],
      "text/plain": [
       "┏━━━━━━━━━━━━━━━━━━━━━━━━━━━┳━━━━━━━━━━━━━━━━━━━━━━━━━━━┓\n",
       "┃\u001b[1m \u001b[0m\u001b[1m       Test metric       \u001b[0m\u001b[1m \u001b[0m┃\u001b[1m \u001b[0m\u001b[1m      DataLoader 0       \u001b[0m\u001b[1m \u001b[0m┃\n",
       "┡━━━━━━━━━━━━━━━━━━━━━━━━━━━╇━━━━━━━━━━━━━━━━━━━━━━━━━━━┩\n",
       "│\u001b[36m \u001b[0m\u001b[36mbatch_averaged_test/rmse \u001b[0m\u001b[36m \u001b[0m│\u001b[35m \u001b[0m\u001b[35m   22.403263092041016    \u001b[0m\u001b[35m \u001b[0m│\n",
       "└───────────────────────────┴───────────────────────────┘\n"
      ]
     },
     "metadata": {},
     "output_type": "display_data"
    },
    {
     "name": "stdout",
     "output_type": "stream",
     "text": [
      "\n",
      "                                                                                                                                   \n",
      "\n",
      "Fold 3/5; Time 35.450;                                                                                                             \n",
      "\n",
      "Epoch 6: 100%|█████████████████████████████████████████████████| 13/13 [4:52:48<00:00,  0.00it/s, train_loss=0.781, val_loss=0.767]\u001b[A\n",
      "\n",
      "Epoch 17: 100%|████████████████████████████████████████████████| 13/13 [4:44:20<00:00,  0.00it/s, train_loss=0.643, val_loss=0.661]\u001b[A\u001b[A\n",
      "                                                                                                                                   \n",
      "\n",
      "Min val score 22.403; Training epochs 73                                                                                           \n",
      "\n",
      "Epoch 6: 100%|█████████████████████████████████████████████████| 13/13 [4:52:48<00:00,  0.00it/s, train_loss=0.781, val_loss=0.767]\u001b[A\n",
      "\n",
      "Epoch 17: 100%|████████████████████████████████████████████████| 13/13 [4:44:20<00:00,  0.00it/s, train_loss=0.643, val_loss=0.661]\u001b[A\u001b[A"
     ]
    },
    {
     "name": "stderr",
     "output_type": "stream",
     "text": [
      "/opt/calculation/anaconda3/envs/chemprop/lib/python3.11/site-packages/lightning/fabric/plugins/environments/slurm.py:204: The `srun` command is available on your system but is not used. HINT: If your intention is to run Lightning on SLURM, prepend your python command with `srun` like so: srun python /opt/calculation/anaconda3/envs/chemprop/lib/python3 ...\n",
      "\n",
      "/opt/calculation/anaconda3/envs/chemprop/lib/python3.11/site-packages/lightning/pytorch/callbacks/model_checkpoint.py:652: Checkpoint directory /home/kashurin/Tox24/dmpnn_try_3/search_4/hp_cv_1/m3 exists and is not empty.\n",
      "\n"
     ]
    },
    {
     "data": {
      "text/html": [
       "<pre style=\"white-space:pre;overflow-x:auto;line-height:normal;font-family:Menlo,'DejaVu Sans Mono',consolas,'Courier New',monospace\">┏━━━━━━━━━━━━━━━━━━━━━━━━━━━┳━━━━━━━━━━━━━━━━━━━━━━━━━━━┓\n",
       "┃<span style=\"font-weight: bold\">        Test metric        </span>┃<span style=\"font-weight: bold\">       DataLoader 0        </span>┃\n",
       "┡━━━━━━━━━━━━━━━━━━━━━━━━━━━╇━━━━━━━━━━━━━━━━━━━━━━━━━━━┩\n",
       "│<span style=\"color: #008080; text-decoration-color: #008080\"> batch_averaged_test/rmse  </span>│<span style=\"color: #800080; text-decoration-color: #800080\">     24.5042781829834      </span>│\n",
       "└───────────────────────────┴───────────────────────────┘\n",
       "</pre>\n"
      ],
      "text/plain": [
       "┏━━━━━━━━━━━━━━━━━━━━━━━━━━━┳━━━━━━━━━━━━━━━━━━━━━━━━━━━┓\n",
       "┃\u001b[1m \u001b[0m\u001b[1m       Test metric       \u001b[0m\u001b[1m \u001b[0m┃\u001b[1m \u001b[0m\u001b[1m      DataLoader 0       \u001b[0m\u001b[1m \u001b[0m┃\n",
       "┡━━━━━━━━━━━━━━━━━━━━━━━━━━━╇━━━━━━━━━━━━━━━━━━━━━━━━━━━┩\n",
       "│\u001b[36m \u001b[0m\u001b[36mbatch_averaged_test/rmse \u001b[0m\u001b[36m \u001b[0m│\u001b[35m \u001b[0m\u001b[35m    24.5042781829834     \u001b[0m\u001b[35m \u001b[0m│\n",
       "└───────────────────────────┴───────────────────────────┘\n"
      ]
     },
     "metadata": {},
     "output_type": "display_data"
    },
    {
     "name": "stdout",
     "output_type": "stream",
     "text": [
      "\n",
      "                                                                                                                                   \n",
      "\n",
      "Fold 4/5; Time 40.552;                                                                                                             \n",
      "\n",
      "Epoch 6: 100%|█████████████████████████████████████████████████| 13/13 [4:53:28<00:00,  0.00it/s, train_loss=0.781, val_loss=0.767]\u001b[A\n",
      "\n",
      "Epoch 17: 100%|████████████████████████████████████████████████| 13/13 [4:45:01<00:00,  0.00it/s, train_loss=0.643, val_loss=0.661]\u001b[A\u001b[A\n",
      "                                                                                                                                   \n",
      "\n",
      "Min val score 24.504; Training epochs 78                                                                                           \n",
      "\n",
      "Epoch 6: 100%|█████████████████████████████████████████████████| 13/13 [4:53:28<00:00,  0.00it/s, train_loss=0.781, val_loss=0.767]\u001b[A\n",
      "\n",
      "Epoch 17: 100%|████████████████████████████████████████████████| 13/13 [4:45:01<00:00,  0.00it/s, train_loss=0.643, val_loss=0.661]\u001b[A\u001b[A"
     ]
    },
    {
     "name": "stderr",
     "output_type": "stream",
     "text": [
      "/opt/calculation/anaconda3/envs/chemprop/lib/python3.11/site-packages/lightning/fabric/plugins/environments/slurm.py:204: The `srun` command is available on your system but is not used. HINT: If your intention is to run Lightning on SLURM, prepend your python command with `srun` like so: srun python /opt/calculation/anaconda3/envs/chemprop/lib/python3 ...\n",
      "\n",
      "/opt/calculation/anaconda3/envs/chemprop/lib/python3.11/site-packages/lightning/pytorch/callbacks/model_checkpoint.py:652: Checkpoint directory /home/kashurin/Tox24/dmpnn_try_3/search_4/hp_cv_1/m4 exists and is not empty.\n",
      "\n"
     ]
    },
    {
     "data": {
      "text/html": [
       "<pre style=\"white-space:pre;overflow-x:auto;line-height:normal;font-family:Menlo,'DejaVu Sans Mono',consolas,'Courier New',monospace\">┏━━━━━━━━━━━━━━━━━━━━━━━━━━━┳━━━━━━━━━━━━━━━━━━━━━━━━━━━┓\n",
       "┃<span style=\"font-weight: bold\">        Test metric        </span>┃<span style=\"font-weight: bold\">       DataLoader 0        </span>┃\n",
       "┡━━━━━━━━━━━━━━━━━━━━━━━━━━━╇━━━━━━━━━━━━━━━━━━━━━━━━━━━┩\n",
       "│<span style=\"color: #008080; text-decoration-color: #008080\"> batch_averaged_test/rmse  </span>│<span style=\"color: #800080; text-decoration-color: #800080\">     25.1979923248291      </span>│\n",
       "└───────────────────────────┴───────────────────────────┘\n",
       "</pre>\n"
      ],
      "text/plain": [
       "┏━━━━━━━━━━━━━━━━━━━━━━━━━━━┳━━━━━━━━━━━━━━━━━━━━━━━━━━━┓\n",
       "┃\u001b[1m \u001b[0m\u001b[1m       Test metric       \u001b[0m\u001b[1m \u001b[0m┃\u001b[1m \u001b[0m\u001b[1m      DataLoader 0       \u001b[0m\u001b[1m \u001b[0m┃\n",
       "┡━━━━━━━━━━━━━━━━━━━━━━━━━━━╇━━━━━━━━━━━━━━━━━━━━━━━━━━━┩\n",
       "│\u001b[36m \u001b[0m\u001b[36mbatch_averaged_test/rmse \u001b[0m\u001b[36m \u001b[0m│\u001b[35m \u001b[0m\u001b[35m    25.1979923248291     \u001b[0m\u001b[35m \u001b[0m│\n",
       "└───────────────────────────┴───────────────────────────┘\n"
      ]
     },
     "metadata": {},
     "output_type": "display_data"
    },
    {
     "name": "stdout",
     "output_type": "stream",
     "text": [
      "\n",
      "                                                                                                                                   \n",
      "\n",
      "Fold 5/5; Time 32.578;                                                                                                             \n",
      "\n",
      "Epoch 6: 100%|█████████████████████████████████████████████████| 13/13 [4:54:01<00:00,  0.00it/s, train_loss=0.781, val_loss=0.767]\u001b[A\n",
      "\n",
      "Epoch 17: 100%|████████████████████████████████████████████████| 13/13 [4:45:34<00:00,  0.00it/s, train_loss=0.643, val_loss=0.661]\u001b[A\u001b[A\n",
      "                                                                                                                                   \n",
      "\n",
      "Min val score 25.198; Training epochs 59                                                                                           \n",
      "\n",
      "Epoch 6: 100%|█████████████████████████████████████████████████| 13/13 [4:54:01<00:00,  0.00it/s, train_loss=0.781, val_loss=0.767]\u001b[A\n",
      "\n",
      "Epoch 17: 100%|████████████████████████████████████████████████| 13/13 [4:45:34<00:00,  0.00it/s, train_loss=0.643, val_loss=0.661]\u001b[A\u001b[A\n",
      "\n",
      " 89%|██████████████████████████████████████████████████▌      | 71/80 [1:04:35<34:23, 229.27s/trial, best loss: 23.649148559570314]\u001b[A\u001b[A"
     ]
    },
    {
     "name": "stderr",
     "output_type": "stream",
     "text": [
      "/opt/calculation/anaconda3/envs/chemprop/lib/python3.11/site-packages/lightning/fabric/plugins/environments/slurm.py:204: The `srun` command is available on your system but is not used. HINT: If your intention is to run Lightning on SLURM, prepend your python command with `srun` like so: srun python /opt/calculation/anaconda3/envs/chemprop/lib/python3 ...\n",
      "\n",
      "/opt/calculation/anaconda3/envs/chemprop/lib/python3.11/site-packages/lightning/pytorch/callbacks/model_checkpoint.py:652: Checkpoint directory /home/kashurin/Tox24/dmpnn_try_3/search_4/hp_cv_1/m0 exists and is not empty.\n",
      "\n"
     ]
    },
    {
     "data": {
      "text/html": [
       "<pre style=\"white-space:pre;overflow-x:auto;line-height:normal;font-family:Menlo,'DejaVu Sans Mono',consolas,'Courier New',monospace\">┏━━━━━━━━━━━━━━━━━━━━━━━━━━━┳━━━━━━━━━━━━━━━━━━━━━━━━━━━┓\n",
       "┃<span style=\"font-weight: bold\">        Test metric        </span>┃<span style=\"font-weight: bold\">       DataLoader 0        </span>┃\n",
       "┡━━━━━━━━━━━━━━━━━━━━━━━━━━━╇━━━━━━━━━━━━━━━━━━━━━━━━━━━┩\n",
       "│<span style=\"color: #008080; text-decoration-color: #008080\"> batch_averaged_test/rmse  </span>│<span style=\"color: #800080; text-decoration-color: #800080\">     24.48490333557129     </span>│\n",
       "└───────────────────────────┴───────────────────────────┘\n",
       "</pre>\n"
      ],
      "text/plain": [
       "┏━━━━━━━━━━━━━━━━━━━━━━━━━━━┳━━━━━━━━━━━━━━━━━━━━━━━━━━━┓\n",
       "┃\u001b[1m \u001b[0m\u001b[1m       Test metric       \u001b[0m\u001b[1m \u001b[0m┃\u001b[1m \u001b[0m\u001b[1m      DataLoader 0       \u001b[0m\u001b[1m \u001b[0m┃\n",
       "┡━━━━━━━━━━━━━━━━━━━━━━━━━━━╇━━━━━━━━━━━━━━━━━━━━━━━━━━━┩\n",
       "│\u001b[36m \u001b[0m\u001b[36mbatch_averaged_test/rmse \u001b[0m\u001b[36m \u001b[0m│\u001b[35m \u001b[0m\u001b[35m    24.48490333557129    \u001b[0m\u001b[35m \u001b[0m│\n",
       "└───────────────────────────┴───────────────────────────┘\n"
      ]
     },
     "metadata": {},
     "output_type": "display_data"
    },
    {
     "name": "stdout",
     "output_type": "stream",
     "text": [
      "\n",
      "                                                                                                                                   \n",
      "\n",
      "Fold 1/5; Time 139.660;                                                                                                            \n",
      "\n",
      "Epoch 6: 100%|█████████████████████████████████████████████████| 13/13 [4:56:20<00:00,  0.00it/s, train_loss=0.781, val_loss=0.767]\u001b[A\n",
      "\n",
      "Epoch 17: 100%|████████████████████████████████████████████████| 13/13 [4:47:53<00:00,  0.00it/s, train_loss=0.643, val_loss=0.661]\u001b[A\u001b[A\n",
      "                                                                                                                                   \n",
      "\n",
      "Min val score 24.485; Training epochs 250                                                                                          \n",
      "\n",
      "Epoch 6: 100%|█████████████████████████████████████████████████| 13/13 [4:56:20<00:00,  0.00it/s, train_loss=0.781, val_loss=0.767]\u001b[A\n",
      "\n",
      "Epoch 17: 100%|████████████████████████████████████████████████| 13/13 [4:47:53<00:00,  0.00it/s, train_loss=0.643, val_loss=0.661]\u001b[A\u001b[A"
     ]
    },
    {
     "name": "stderr",
     "output_type": "stream",
     "text": [
      "/opt/calculation/anaconda3/envs/chemprop/lib/python3.11/site-packages/lightning/fabric/plugins/environments/slurm.py:204: The `srun` command is available on your system but is not used. HINT: If your intention is to run Lightning on SLURM, prepend your python command with `srun` like so: srun python /opt/calculation/anaconda3/envs/chemprop/lib/python3 ...\n",
      "\n",
      "/opt/calculation/anaconda3/envs/chemprop/lib/python3.11/site-packages/lightning/pytorch/callbacks/model_checkpoint.py:652: Checkpoint directory /home/kashurin/Tox24/dmpnn_try_3/search_4/hp_cv_1/m1 exists and is not empty.\n",
      "\n"
     ]
    },
    {
     "data": {
      "text/html": [
       "<pre style=\"white-space:pre;overflow-x:auto;line-height:normal;font-family:Menlo,'DejaVu Sans Mono',consolas,'Courier New',monospace\">┏━━━━━━━━━━━━━━━━━━━━━━━━━━━┳━━━━━━━━━━━━━━━━━━━━━━━━━━━┓\n",
       "┃<span style=\"font-weight: bold\">        Test metric        </span>┃<span style=\"font-weight: bold\">       DataLoader 0        </span>┃\n",
       "┡━━━━━━━━━━━━━━━━━━━━━━━━━━━╇━━━━━━━━━━━━━━━━━━━━━━━━━━━┩\n",
       "│<span style=\"color: #008080; text-decoration-color: #008080\"> batch_averaged_test/rmse  </span>│<span style=\"color: #800080; text-decoration-color: #800080\">    23.744220733642578     </span>│\n",
       "└───────────────────────────┴───────────────────────────┘\n",
       "</pre>\n"
      ],
      "text/plain": [
       "┏━━━━━━━━━━━━━━━━━━━━━━━━━━━┳━━━━━━━━━━━━━━━━━━━━━━━━━━━┓\n",
       "┃\u001b[1m \u001b[0m\u001b[1m       Test metric       \u001b[0m\u001b[1m \u001b[0m┃\u001b[1m \u001b[0m\u001b[1m      DataLoader 0       \u001b[0m\u001b[1m \u001b[0m┃\n",
       "┡━━━━━━━━━━━━━━━━━━━━━━━━━━━╇━━━━━━━━━━━━━━━━━━━━━━━━━━━┩\n",
       "│\u001b[36m \u001b[0m\u001b[36mbatch_averaged_test/rmse \u001b[0m\u001b[36m \u001b[0m│\u001b[35m \u001b[0m\u001b[35m   23.744220733642578    \u001b[0m\u001b[35m \u001b[0m│\n",
       "└───────────────────────────┴───────────────────────────┘\n"
      ]
     },
     "metadata": {},
     "output_type": "display_data"
    },
    {
     "name": "stdout",
     "output_type": "stream",
     "text": [
      "\n",
      "                                                                                                                                   \n",
      "\n",
      "Fold 2/5; Time 74.768;                                                                                                             \n",
      "\n",
      "Epoch 6: 100%|█████████████████████████████████████████████████| 13/13 [4:57:35<00:00,  0.00it/s, train_loss=0.781, val_loss=0.767]\u001b[A\n",
      "\n",
      "Epoch 17: 100%|████████████████████████████████████████████████| 13/13 [4:49:08<00:00,  0.00it/s, train_loss=0.643, val_loss=0.661]\u001b[A\u001b[A\n",
      "                                                                                                                                   \n",
      "\n",
      "Min val score 23.744; Training epochs 129                                                                                          \n",
      "\n",
      "Epoch 6: 100%|█████████████████████████████████████████████████| 13/13 [4:57:35<00:00,  0.00it/s, train_loss=0.781, val_loss=0.767]\u001b[A\n",
      "\n",
      "Epoch 17: 100%|████████████████████████████████████████████████| 13/13 [4:49:08<00:00,  0.00it/s, train_loss=0.643, val_loss=0.661]\u001b[A\u001b[A"
     ]
    },
    {
     "name": "stderr",
     "output_type": "stream",
     "text": [
      "/opt/calculation/anaconda3/envs/chemprop/lib/python3.11/site-packages/lightning/fabric/plugins/environments/slurm.py:204: The `srun` command is available on your system but is not used. HINT: If your intention is to run Lightning on SLURM, prepend your python command with `srun` like so: srun python /opt/calculation/anaconda3/envs/chemprop/lib/python3 ...\n",
      "\n",
      "/opt/calculation/anaconda3/envs/chemprop/lib/python3.11/site-packages/lightning/pytorch/callbacks/model_checkpoint.py:652: Checkpoint directory /home/kashurin/Tox24/dmpnn_try_3/search_4/hp_cv_1/m2 exists and is not empty.\n",
      "\n"
     ]
    },
    {
     "data": {
      "text/html": [
       "<pre style=\"white-space:pre;overflow-x:auto;line-height:normal;font-family:Menlo,'DejaVu Sans Mono',consolas,'Courier New',monospace\">┏━━━━━━━━━━━━━━━━━━━━━━━━━━━┳━━━━━━━━━━━━━━━━━━━━━━━━━━━┓\n",
       "┃<span style=\"font-weight: bold\">        Test metric        </span>┃<span style=\"font-weight: bold\">       DataLoader 0        </span>┃\n",
       "┡━━━━━━━━━━━━━━━━━━━━━━━━━━━╇━━━━━━━━━━━━━━━━━━━━━━━━━━━┩\n",
       "│<span style=\"color: #008080; text-decoration-color: #008080\"> batch_averaged_test/rmse  </span>│<span style=\"color: #800080; text-decoration-color: #800080\">     23.40924072265625     </span>│\n",
       "└───────────────────────────┴───────────────────────────┘\n",
       "</pre>\n"
      ],
      "text/plain": [
       "┏━━━━━━━━━━━━━━━━━━━━━━━━━━━┳━━━━━━━━━━━━━━━━━━━━━━━━━━━┓\n",
       "┃\u001b[1m \u001b[0m\u001b[1m       Test metric       \u001b[0m\u001b[1m \u001b[0m┃\u001b[1m \u001b[0m\u001b[1m      DataLoader 0       \u001b[0m\u001b[1m \u001b[0m┃\n",
       "┡━━━━━━━━━━━━━━━━━━━━━━━━━━━╇━━━━━━━━━━━━━━━━━━━━━━━━━━━┩\n",
       "│\u001b[36m \u001b[0m\u001b[36mbatch_averaged_test/rmse \u001b[0m\u001b[36m \u001b[0m│\u001b[35m \u001b[0m\u001b[35m    23.40924072265625    \u001b[0m\u001b[35m \u001b[0m│\n",
       "└───────────────────────────┴───────────────────────────┘\n"
      ]
     },
     "metadata": {},
     "output_type": "display_data"
    },
    {
     "name": "stdout",
     "output_type": "stream",
     "text": [
      "\n",
      "                                                                                                                                   \n",
      "\n",
      "Fold 3/5; Time 71.126;                                                                                                             \n",
      "\n",
      "Epoch 6: 100%|█████████████████████████████████████████████████| 13/13 [4:58:46<00:00,  0.00it/s, train_loss=0.781, val_loss=0.767]\u001b[A\n",
      "\n",
      "Epoch 17: 100%|████████████████████████████████████████████████| 13/13 [4:50:19<00:00,  0.00it/s, train_loss=0.643, val_loss=0.661]\u001b[A\u001b[A\n",
      "                                                                                                                                   \n",
      "\n",
      "Min val score 23.409; Training epochs 131                                                                                          \n",
      "\n",
      "Epoch 6: 100%|█████████████████████████████████████████████████| 13/13 [4:58:46<00:00,  0.00it/s, train_loss=0.781, val_loss=0.767]\u001b[A\n",
      "\n",
      "Epoch 17: 100%|████████████████████████████████████████████████| 13/13 [4:50:19<00:00,  0.00it/s, train_loss=0.643, val_loss=0.661]\u001b[A\u001b[A"
     ]
    },
    {
     "name": "stderr",
     "output_type": "stream",
     "text": [
      "/opt/calculation/anaconda3/envs/chemprop/lib/python3.11/site-packages/lightning/fabric/plugins/environments/slurm.py:204: The `srun` command is available on your system but is not used. HINT: If your intention is to run Lightning on SLURM, prepend your python command with `srun` like so: srun python /opt/calculation/anaconda3/envs/chemprop/lib/python3 ...\n",
      "\n",
      "/opt/calculation/anaconda3/envs/chemprop/lib/python3.11/site-packages/lightning/pytorch/callbacks/model_checkpoint.py:652: Checkpoint directory /home/kashurin/Tox24/dmpnn_try_3/search_4/hp_cv_1/m3 exists and is not empty.\n",
      "\n"
     ]
    },
    {
     "data": {
      "text/html": [
       "<pre style=\"white-space:pre;overflow-x:auto;line-height:normal;font-family:Menlo,'DejaVu Sans Mono',consolas,'Courier New',monospace\">┏━━━━━━━━━━━━━━━━━━━━━━━━━━━┳━━━━━━━━━━━━━━━━━━━━━━━━━━━┓\n",
       "┃<span style=\"font-weight: bold\">        Test metric        </span>┃<span style=\"font-weight: bold\">       DataLoader 0        </span>┃\n",
       "┡━━━━━━━━━━━━━━━━━━━━━━━━━━━╇━━━━━━━━━━━━━━━━━━━━━━━━━━━┩\n",
       "│<span style=\"color: #008080; text-decoration-color: #008080\"> batch_averaged_test/rmse  </span>│<span style=\"color: #800080; text-decoration-color: #800080\">     23.79366683959961     </span>│\n",
       "└───────────────────────────┴───────────────────────────┘\n",
       "</pre>\n"
      ],
      "text/plain": [
       "┏━━━━━━━━━━━━━━━━━━━━━━━━━━━┳━━━━━━━━━━━━━━━━━━━━━━━━━━━┓\n",
       "┃\u001b[1m \u001b[0m\u001b[1m       Test metric       \u001b[0m\u001b[1m \u001b[0m┃\u001b[1m \u001b[0m\u001b[1m      DataLoader 0       \u001b[0m\u001b[1m \u001b[0m┃\n",
       "┡━━━━━━━━━━━━━━━━━━━━━━━━━━━╇━━━━━━━━━━━━━━━━━━━━━━━━━━━┩\n",
       "│\u001b[36m \u001b[0m\u001b[36mbatch_averaged_test/rmse \u001b[0m\u001b[36m \u001b[0m│\u001b[35m \u001b[0m\u001b[35m    23.79366683959961    \u001b[0m\u001b[35m \u001b[0m│\n",
       "└───────────────────────────┴───────────────────────────┘\n"
      ]
     },
     "metadata": {},
     "output_type": "display_data"
    },
    {
     "name": "stdout",
     "output_type": "stream",
     "text": [
      "\n",
      "                                                                                                                                   \n",
      "\n",
      "Fold 4/5; Time 60.977;                                                                                                             \n",
      "\n",
      "Epoch 6: 100%|█████████████████████████████████████████████████| 13/13 [4:59:47<00:00,  0.00it/s, train_loss=0.781, val_loss=0.767]\u001b[A\n",
      "\n",
      "Epoch 17: 100%|████████████████████████████████████████████████| 13/13 [4:51:20<00:00,  0.00it/s, train_loss=0.643, val_loss=0.661]\u001b[A\u001b[A\n",
      "                                                                                                                                   \n",
      "\n",
      "Min val score 23.794; Training epochs 115                                                                                          \n",
      "\n",
      "Epoch 6: 100%|█████████████████████████████████████████████████| 13/13 [4:59:47<00:00,  0.00it/s, train_loss=0.781, val_loss=0.767]\u001b[A\n",
      "\n",
      "Epoch 17: 100%|████████████████████████████████████████████████| 13/13 [4:51:20<00:00,  0.00it/s, train_loss=0.643, val_loss=0.661]\u001b[A\u001b[A"
     ]
    },
    {
     "name": "stderr",
     "output_type": "stream",
     "text": [
      "/opt/calculation/anaconda3/envs/chemprop/lib/python3.11/site-packages/lightning/fabric/plugins/environments/slurm.py:204: The `srun` command is available on your system but is not used. HINT: If your intention is to run Lightning on SLURM, prepend your python command with `srun` like so: srun python /opt/calculation/anaconda3/envs/chemprop/lib/python3 ...\n",
      "\n",
      "/opt/calculation/anaconda3/envs/chemprop/lib/python3.11/site-packages/lightning/pytorch/callbacks/model_checkpoint.py:652: Checkpoint directory /home/kashurin/Tox24/dmpnn_try_3/search_4/hp_cv_1/m4 exists and is not empty.\n",
      "\n"
     ]
    },
    {
     "data": {
      "text/html": [
       "<pre style=\"white-space:pre;overflow-x:auto;line-height:normal;font-family:Menlo,'DejaVu Sans Mono',consolas,'Courier New',monospace\">┏━━━━━━━━━━━━━━━━━━━━━━━━━━━┳━━━━━━━━━━━━━━━━━━━━━━━━━━━┓\n",
       "┃<span style=\"font-weight: bold\">        Test metric        </span>┃<span style=\"font-weight: bold\">       DataLoader 0        </span>┃\n",
       "┡━━━━━━━━━━━━━━━━━━━━━━━━━━━╇━━━━━━━━━━━━━━━━━━━━━━━━━━━┩\n",
       "│<span style=\"color: #008080; text-decoration-color: #008080\"> batch_averaged_test/rmse  </span>│<span style=\"color: #800080; text-decoration-color: #800080\">     25.99980926513672     </span>│\n",
       "└───────────────────────────┴───────────────────────────┘\n",
       "</pre>\n"
      ],
      "text/plain": [
       "┏━━━━━━━━━━━━━━━━━━━━━━━━━━━┳━━━━━━━━━━━━━━━━━━━━━━━━━━━┓\n",
       "┃\u001b[1m \u001b[0m\u001b[1m       Test metric       \u001b[0m\u001b[1m \u001b[0m┃\u001b[1m \u001b[0m\u001b[1m      DataLoader 0       \u001b[0m\u001b[1m \u001b[0m┃\n",
       "┡━━━━━━━━━━━━━━━━━━━━━━━━━━━╇━━━━━━━━━━━━━━━━━━━━━━━━━━━┩\n",
       "│\u001b[36m \u001b[0m\u001b[36mbatch_averaged_test/rmse \u001b[0m\u001b[36m \u001b[0m│\u001b[35m \u001b[0m\u001b[35m    25.99980926513672    \u001b[0m\u001b[35m \u001b[0m│\n",
       "└───────────────────────────┴───────────────────────────┘\n"
      ]
     },
     "metadata": {},
     "output_type": "display_data"
    },
    {
     "name": "stdout",
     "output_type": "stream",
     "text": [
      "\n",
      "                                                                                                                                   \n",
      "\n",
      "Fold 5/5; Time 40.468;                                                                                                             \n",
      "\n",
      "Epoch 6: 100%|█████████████████████████████████████████████████| 13/13 [5:00:28<00:00,  0.00it/s, train_loss=0.781, val_loss=0.767]\u001b[A\n",
      "\n",
      "Epoch 17: 100%|████████████████████████████████████████████████| 13/13 [4:52:01<00:00,  0.00it/s, train_loss=0.643, val_loss=0.661]\u001b[A\u001b[A\n",
      "                                                                                                                                   \n",
      "\n",
      "Min val score 26.000; Training epochs 81                                                                                           \n",
      "\n",
      "Epoch 6: 100%|█████████████████████████████████████████████████| 13/13 [5:00:28<00:00,  0.00it/s, train_loss=0.781, val_loss=0.767]\u001b[A\n",
      "\n",
      "Epoch 17: 100%|████████████████████████████████████████████████| 13/13 [4:52:01<00:00,  0.00it/s, train_loss=0.643, val_loss=0.661]\u001b[A\u001b[A\n",
      "\n",
      " 90%|███████████████████████████████████████████████████▎     | 72/80 [1:11:02<36:53, 276.74s/trial, best loss: 23.649148559570314]\u001b[A\u001b[A"
     ]
    },
    {
     "name": "stderr",
     "output_type": "stream",
     "text": [
      "/opt/calculation/anaconda3/envs/chemprop/lib/python3.11/site-packages/lightning/fabric/plugins/environments/slurm.py:204: The `srun` command is available on your system but is not used. HINT: If your intention is to run Lightning on SLURM, prepend your python command with `srun` like so: srun python /opt/calculation/anaconda3/envs/chemprop/lib/python3 ...\n",
      "\n",
      "/opt/calculation/anaconda3/envs/chemprop/lib/python3.11/site-packages/lightning/pytorch/callbacks/model_checkpoint.py:652: Checkpoint directory /home/kashurin/Tox24/dmpnn_try_3/search_4/hp_cv_1/m0 exists and is not empty.\n",
      "\n"
     ]
    },
    {
     "data": {
      "text/html": [
       "<pre style=\"white-space:pre;overflow-x:auto;line-height:normal;font-family:Menlo,'DejaVu Sans Mono',consolas,'Courier New',monospace\">┏━━━━━━━━━━━━━━━━━━━━━━━━━━━┳━━━━━━━━━━━━━━━━━━━━━━━━━━━┓\n",
       "┃<span style=\"font-weight: bold\">        Test metric        </span>┃<span style=\"font-weight: bold\">       DataLoader 0        </span>┃\n",
       "┡━━━━━━━━━━━━━━━━━━━━━━━━━━━╇━━━━━━━━━━━━━━━━━━━━━━━━━━━┩\n",
       "│<span style=\"color: #008080; text-decoration-color: #008080\"> batch_averaged_test/rmse  </span>│<span style=\"color: #800080; text-decoration-color: #800080\">       24.7080078125       </span>│\n",
       "└───────────────────────────┴───────────────────────────┘\n",
       "</pre>\n"
      ],
      "text/plain": [
       "┏━━━━━━━━━━━━━━━━━━━━━━━━━━━┳━━━━━━━━━━━━━━━━━━━━━━━━━━━┓\n",
       "┃\u001b[1m \u001b[0m\u001b[1m       Test metric       \u001b[0m\u001b[1m \u001b[0m┃\u001b[1m \u001b[0m\u001b[1m      DataLoader 0       \u001b[0m\u001b[1m \u001b[0m┃\n",
       "┡━━━━━━━━━━━━━━━━━━━━━━━━━━━╇━━━━━━━━━━━━━━━━━━━━━━━━━━━┩\n",
       "│\u001b[36m \u001b[0m\u001b[36mbatch_averaged_test/rmse \u001b[0m\u001b[36m \u001b[0m│\u001b[35m \u001b[0m\u001b[35m      24.7080078125      \u001b[0m\u001b[35m \u001b[0m│\n",
       "└───────────────────────────┴───────────────────────────┘\n"
      ]
     },
     "metadata": {},
     "output_type": "display_data"
    },
    {
     "name": "stdout",
     "output_type": "stream",
     "text": [
      "\n",
      "                                                                                                                                   \n",
      "\n",
      "Fold 1/5; Time 44.590;                                                                                                             \n",
      "\n",
      "Epoch 6: 100%|█████████████████████████████████████████████████| 13/13 [5:01:12<00:00,  0.00it/s, train_loss=0.781, val_loss=0.767]\u001b[A\n",
      "\n",
      "Epoch 17: 100%|████████████████████████████████████████████████| 13/13 [4:52:45<00:00,  0.00it/s, train_loss=0.643, val_loss=0.661]\u001b[A\u001b[A\n",
      "                                                                                                                                   \n",
      "\n",
      "Min val score 24.708; Training epochs 96                                                                                           \n",
      "\n",
      "Epoch 6: 100%|█████████████████████████████████████████████████| 13/13 [5:01:12<00:00,  0.00it/s, train_loss=0.781, val_loss=0.767]\u001b[A\n",
      "\n",
      "Epoch 17: 100%|████████████████████████████████████████████████| 13/13 [4:52:45<00:00,  0.00it/s, train_loss=0.643, val_loss=0.661]\u001b[A\u001b[A"
     ]
    },
    {
     "name": "stderr",
     "output_type": "stream",
     "text": [
      "/opt/calculation/anaconda3/envs/chemprop/lib/python3.11/site-packages/lightning/fabric/plugins/environments/slurm.py:204: The `srun` command is available on your system but is not used. HINT: If your intention is to run Lightning on SLURM, prepend your python command with `srun` like so: srun python /opt/calculation/anaconda3/envs/chemprop/lib/python3 ...\n",
      "\n",
      "/opt/calculation/anaconda3/envs/chemprop/lib/python3.11/site-packages/lightning/pytorch/callbacks/model_checkpoint.py:652: Checkpoint directory /home/kashurin/Tox24/dmpnn_try_3/search_4/hp_cv_1/m1 exists and is not empty.\n",
      "\n"
     ]
    },
    {
     "data": {
      "text/html": [
       "<pre style=\"white-space:pre;overflow-x:auto;line-height:normal;font-family:Menlo,'DejaVu Sans Mono',consolas,'Courier New',monospace\">┏━━━━━━━━━━━━━━━━━━━━━━━━━━━┳━━━━━━━━━━━━━━━━━━━━━━━━━━━┓\n",
       "┃<span style=\"font-weight: bold\">        Test metric        </span>┃<span style=\"font-weight: bold\">       DataLoader 0        </span>┃\n",
       "┡━━━━━━━━━━━━━━━━━━━━━━━━━━━╇━━━━━━━━━━━━━━━━━━━━━━━━━━━┩\n",
       "│<span style=\"color: #008080; text-decoration-color: #008080\"> batch_averaged_test/rmse  </span>│<span style=\"color: #800080; text-decoration-color: #800080\">    24.152297973632812     </span>│\n",
       "└───────────────────────────┴───────────────────────────┘\n",
       "</pre>\n"
      ],
      "text/plain": [
       "┏━━━━━━━━━━━━━━━━━━━━━━━━━━━┳━━━━━━━━━━━━━━━━━━━━━━━━━━━┓\n",
       "┃\u001b[1m \u001b[0m\u001b[1m       Test metric       \u001b[0m\u001b[1m \u001b[0m┃\u001b[1m \u001b[0m\u001b[1m      DataLoader 0       \u001b[0m\u001b[1m \u001b[0m┃\n",
       "┡━━━━━━━━━━━━━━━━━━━━━━━━━━━╇━━━━━━━━━━━━━━━━━━━━━━━━━━━┩\n",
       "│\u001b[36m \u001b[0m\u001b[36mbatch_averaged_test/rmse \u001b[0m\u001b[36m \u001b[0m│\u001b[35m \u001b[0m\u001b[35m   24.152297973632812    \u001b[0m\u001b[35m \u001b[0m│\n",
       "└───────────────────────────┴───────────────────────────┘\n"
      ]
     },
     "metadata": {},
     "output_type": "display_data"
    },
    {
     "name": "stdout",
     "output_type": "stream",
     "text": [
      "\n",
      "                                                                                                                                   \n",
      "\n",
      "Fold 2/5; Time 27.729;                                                                                                             \n",
      "\n",
      "Epoch 6: 100%|█████████████████████████████████████████████████| 13/13 [5:01:40<00:00,  0.00it/s, train_loss=0.781, val_loss=0.767]\u001b[A\n",
      "\n",
      "Epoch 17: 100%|████████████████████████████████████████████████| 13/13 [4:53:13<00:00,  0.00it/s, train_loss=0.643, val_loss=0.661]\u001b[A\u001b[A\n",
      "                                                                                                                                   \n",
      "\n",
      "Min val score 24.152; Training epochs 57                                                                                           \n",
      "\n",
      "Epoch 6: 100%|█████████████████████████████████████████████████| 13/13 [5:01:40<00:00,  0.00it/s, train_loss=0.781, val_loss=0.767]\u001b[A\n",
      "\n",
      "Epoch 17: 100%|████████████████████████████████████████████████| 13/13 [4:53:13<00:00,  0.00it/s, train_loss=0.643, val_loss=0.661]\u001b[A\u001b[A"
     ]
    },
    {
     "name": "stderr",
     "output_type": "stream",
     "text": [
      "/opt/calculation/anaconda3/envs/chemprop/lib/python3.11/site-packages/lightning/fabric/plugins/environments/slurm.py:204: The `srun` command is available on your system but is not used. HINT: If your intention is to run Lightning on SLURM, prepend your python command with `srun` like so: srun python /opt/calculation/anaconda3/envs/chemprop/lib/python3 ...\n",
      "\n",
      "/opt/calculation/anaconda3/envs/chemprop/lib/python3.11/site-packages/lightning/pytorch/callbacks/model_checkpoint.py:652: Checkpoint directory /home/kashurin/Tox24/dmpnn_try_3/search_4/hp_cv_1/m2 exists and is not empty.\n",
      "\n"
     ]
    },
    {
     "data": {
      "text/html": [
       "<pre style=\"white-space:pre;overflow-x:auto;line-height:normal;font-family:Menlo,'DejaVu Sans Mono',consolas,'Courier New',monospace\">┏━━━━━━━━━━━━━━━━━━━━━━━━━━━┳━━━━━━━━━━━━━━━━━━━━━━━━━━━┓\n",
       "┃<span style=\"font-weight: bold\">        Test metric        </span>┃<span style=\"font-weight: bold\">       DataLoader 0        </span>┃\n",
       "┡━━━━━━━━━━━━━━━━━━━━━━━━━━━╇━━━━━━━━━━━━━━━━━━━━━━━━━━━┩\n",
       "│<span style=\"color: #008080; text-decoration-color: #008080\"> batch_averaged_test/rmse  </span>│<span style=\"color: #800080; text-decoration-color: #800080\">    21.732261657714844     </span>│\n",
       "└───────────────────────────┴───────────────────────────┘\n",
       "</pre>\n"
      ],
      "text/plain": [
       "┏━━━━━━━━━━━━━━━━━━━━━━━━━━━┳━━━━━━━━━━━━━━━━━━━━━━━━━━━┓\n",
       "┃\u001b[1m \u001b[0m\u001b[1m       Test metric       \u001b[0m\u001b[1m \u001b[0m┃\u001b[1m \u001b[0m\u001b[1m      DataLoader 0       \u001b[0m\u001b[1m \u001b[0m┃\n",
       "┡━━━━━━━━━━━━━━━━━━━━━━━━━━━╇━━━━━━━━━━━━━━━━━━━━━━━━━━━┩\n",
       "│\u001b[36m \u001b[0m\u001b[36mbatch_averaged_test/rmse \u001b[0m\u001b[36m \u001b[0m│\u001b[35m \u001b[0m\u001b[35m   21.732261657714844    \u001b[0m\u001b[35m \u001b[0m│\n",
       "└───────────────────────────┴───────────────────────────┘\n"
      ]
     },
     "metadata": {},
     "output_type": "display_data"
    },
    {
     "name": "stdout",
     "output_type": "stream",
     "text": [
      "\n",
      "                                                                                                                                   \n",
      "\n",
      "Fold 3/5; Time 50.575;                                                                                                             \n",
      "\n",
      "Epoch 6: 100%|█████████████████████████████████████████████████| 13/13 [5:02:31<00:00,  0.00it/s, train_loss=0.781, val_loss=0.767]\u001b[A\n",
      "\n",
      "Epoch 17: 100%|████████████████████████████████████████████████| 13/13 [4:54:04<00:00,  0.00it/s, train_loss=0.643, val_loss=0.661]\u001b[A\u001b[A\n",
      "                                                                                                                                   \n",
      "\n",
      "Min val score 21.732; Training epochs 87                                                                                           \n",
      "\n",
      "Epoch 6: 100%|█████████████████████████████████████████████████| 13/13 [5:02:31<00:00,  0.00it/s, train_loss=0.781, val_loss=0.767]\u001b[A\n",
      "\n",
      "Epoch 17: 100%|████████████████████████████████████████████████| 13/13 [4:54:04<00:00,  0.00it/s, train_loss=0.643, val_loss=0.661]\u001b[A\u001b[A"
     ]
    },
    {
     "name": "stderr",
     "output_type": "stream",
     "text": [
      "/opt/calculation/anaconda3/envs/chemprop/lib/python3.11/site-packages/lightning/fabric/plugins/environments/slurm.py:204: The `srun` command is available on your system but is not used. HINT: If your intention is to run Lightning on SLURM, prepend your python command with `srun` like so: srun python /opt/calculation/anaconda3/envs/chemprop/lib/python3 ...\n",
      "\n",
      "/opt/calculation/anaconda3/envs/chemprop/lib/python3.11/site-packages/lightning/pytorch/callbacks/model_checkpoint.py:652: Checkpoint directory /home/kashurin/Tox24/dmpnn_try_3/search_4/hp_cv_1/m3 exists and is not empty.\n",
      "\n"
     ]
    },
    {
     "data": {
      "text/html": [
       "<pre style=\"white-space:pre;overflow-x:auto;line-height:normal;font-family:Menlo,'DejaVu Sans Mono',consolas,'Courier New',monospace\">┏━━━━━━━━━━━━━━━━━━━━━━━━━━━┳━━━━━━━━━━━━━━━━━━━━━━━━━━━┓\n",
       "┃<span style=\"font-weight: bold\">        Test metric        </span>┃<span style=\"font-weight: bold\">       DataLoader 0        </span>┃\n",
       "┡━━━━━━━━━━━━━━━━━━━━━━━━━━━╇━━━━━━━━━━━━━━━━━━━━━━━━━━━┩\n",
       "│<span style=\"color: #008080; text-decoration-color: #008080\"> batch_averaged_test/rmse  </span>│<span style=\"color: #800080; text-decoration-color: #800080\">     24.80723762512207     </span>│\n",
       "└───────────────────────────┴───────────────────────────┘\n",
       "</pre>\n"
      ],
      "text/plain": [
       "┏━━━━━━━━━━━━━━━━━━━━━━━━━━━┳━━━━━━━━━━━━━━━━━━━━━━━━━━━┓\n",
       "┃\u001b[1m \u001b[0m\u001b[1m       Test metric       \u001b[0m\u001b[1m \u001b[0m┃\u001b[1m \u001b[0m\u001b[1m      DataLoader 0       \u001b[0m\u001b[1m \u001b[0m┃\n",
       "┡━━━━━━━━━━━━━━━━━━━━━━━━━━━╇━━━━━━━━━━━━━━━━━━━━━━━━━━━┩\n",
       "│\u001b[36m \u001b[0m\u001b[36mbatch_averaged_test/rmse \u001b[0m\u001b[36m \u001b[0m│\u001b[35m \u001b[0m\u001b[35m    24.80723762512207    \u001b[0m\u001b[35m \u001b[0m│\n",
       "└───────────────────────────┴───────────────────────────┘\n"
      ]
     },
     "metadata": {},
     "output_type": "display_data"
    },
    {
     "name": "stdout",
     "output_type": "stream",
     "text": [
      "\n",
      "                                                                                                                                   \n",
      "\n",
      "Fold 4/5; Time 42.913;                                                                                                             \n",
      "\n",
      "Epoch 6: 100%|█████████████████████████████████████████████████| 13/13 [5:03:14<00:00,  0.00it/s, train_loss=0.781, val_loss=0.767]\u001b[A\n",
      "\n",
      "Epoch 17: 100%|████████████████████████████████████████████████| 13/13 [4:54:47<00:00,  0.00it/s, train_loss=0.643, val_loss=0.661]\u001b[A\u001b[A\n",
      "                                                                                                                                   \n",
      "\n",
      "Min val score 24.807; Training epochs 74                                                                                           \n",
      "\n",
      "Epoch 6: 100%|█████████████████████████████████████████████████| 13/13 [5:03:14<00:00,  0.00it/s, train_loss=0.781, val_loss=0.767]\u001b[A\n",
      "\n",
      "Epoch 17: 100%|████████████████████████████████████████████████| 13/13 [4:54:47<00:00,  0.00it/s, train_loss=0.643, val_loss=0.661]\u001b[A\u001b[A"
     ]
    },
    {
     "name": "stderr",
     "output_type": "stream",
     "text": [
      "/opt/calculation/anaconda3/envs/chemprop/lib/python3.11/site-packages/lightning/fabric/plugins/environments/slurm.py:204: The `srun` command is available on your system but is not used. HINT: If your intention is to run Lightning on SLURM, prepend your python command with `srun` like so: srun python /opt/calculation/anaconda3/envs/chemprop/lib/python3 ...\n",
      "\n",
      "/opt/calculation/anaconda3/envs/chemprop/lib/python3.11/site-packages/lightning/pytorch/callbacks/model_checkpoint.py:652: Checkpoint directory /home/kashurin/Tox24/dmpnn_try_3/search_4/hp_cv_1/m4 exists and is not empty.\n",
      "\n"
     ]
    },
    {
     "data": {
      "text/html": [
       "<pre style=\"white-space:pre;overflow-x:auto;line-height:normal;font-family:Menlo,'DejaVu Sans Mono',consolas,'Courier New',monospace\">┏━━━━━━━━━━━━━━━━━━━━━━━━━━━┳━━━━━━━━━━━━━━━━━━━━━━━━━━━┓\n",
       "┃<span style=\"font-weight: bold\">        Test metric        </span>┃<span style=\"font-weight: bold\">       DataLoader 0        </span>┃\n",
       "┡━━━━━━━━━━━━━━━━━━━━━━━━━━━╇━━━━━━━━━━━━━━━━━━━━━━━━━━━┩\n",
       "│<span style=\"color: #008080; text-decoration-color: #008080\"> batch_averaged_test/rmse  </span>│<span style=\"color: #800080; text-decoration-color: #800080\">    27.320758819580078     </span>│\n",
       "└───────────────────────────┴───────────────────────────┘\n",
       "</pre>\n"
      ],
      "text/plain": [
       "┏━━━━━━━━━━━━━━━━━━━━━━━━━━━┳━━━━━━━━━━━━━━━━━━━━━━━━━━━┓\n",
       "┃\u001b[1m \u001b[0m\u001b[1m       Test metric       \u001b[0m\u001b[1m \u001b[0m┃\u001b[1m \u001b[0m\u001b[1m      DataLoader 0       \u001b[0m\u001b[1m \u001b[0m┃\n",
       "┡━━━━━━━━━━━━━━━━━━━━━━━━━━━╇━━━━━━━━━━━━━━━━━━━━━━━━━━━┩\n",
       "│\u001b[36m \u001b[0m\u001b[36mbatch_averaged_test/rmse \u001b[0m\u001b[36m \u001b[0m│\u001b[35m \u001b[0m\u001b[35m   27.320758819580078    \u001b[0m\u001b[35m \u001b[0m│\n",
       "└───────────────────────────┴───────────────────────────┘\n"
      ]
     },
     "metadata": {},
     "output_type": "display_data"
    },
    {
     "name": "stdout",
     "output_type": "stream",
     "text": [
      "\n",
      "                                                                                                                                   \n",
      "\n",
      "Fold 5/5; Time 32.529;                                                                                                             \n",
      "\n",
      "Epoch 6: 100%|█████████████████████████████████████████████████| 13/13 [5:03:46<00:00,  0.00it/s, train_loss=0.781, val_loss=0.767]\u001b[A\n",
      "\n",
      "Epoch 17: 100%|████████████████████████████████████████████████| 13/13 [4:55:19<00:00,  0.00it/s, train_loss=0.643, val_loss=0.661]\u001b[A\u001b[A\n",
      "                                                                                                                                   \n",
      "\n",
      "Min val score 27.321; Training epochs 58                                                                                           \n",
      "\n",
      "Epoch 6: 100%|█████████████████████████████████████████████████| 13/13 [5:03:46<00:00,  0.00it/s, train_loss=0.781, val_loss=0.767]\u001b[A\n",
      "\n",
      "Epoch 17: 100%|████████████████████████████████████████████████| 13/13 [4:55:19<00:00,  0.00it/s, train_loss=0.643, val_loss=0.661]\u001b[A\u001b[A\n",
      "\n",
      " 91%|████████████████████████████████████████████████████     | 73/80 [1:14:21<29:32, 253.23s/trial, best loss: 23.649148559570314]\u001b[A\u001b[A"
     ]
    },
    {
     "name": "stderr",
     "output_type": "stream",
     "text": [
      "/opt/calculation/anaconda3/envs/chemprop/lib/python3.11/site-packages/lightning/fabric/plugins/environments/slurm.py:204: The `srun` command is available on your system but is not used. HINT: If your intention is to run Lightning on SLURM, prepend your python command with `srun` like so: srun python /opt/calculation/anaconda3/envs/chemprop/lib/python3 ...\n",
      "\n",
      "/opt/calculation/anaconda3/envs/chemprop/lib/python3.11/site-packages/lightning/pytorch/callbacks/model_checkpoint.py:652: Checkpoint directory /home/kashurin/Tox24/dmpnn_try_3/search_4/hp_cv_1/m0 exists and is not empty.\n",
      "\n"
     ]
    },
    {
     "data": {
      "text/html": [
       "<pre style=\"white-space:pre;overflow-x:auto;line-height:normal;font-family:Menlo,'DejaVu Sans Mono',consolas,'Courier New',monospace\">┏━━━━━━━━━━━━━━━━━━━━━━━━━━━┳━━━━━━━━━━━━━━━━━━━━━━━━━━━┓\n",
       "┃<span style=\"font-weight: bold\">        Test metric        </span>┃<span style=\"font-weight: bold\">       DataLoader 0        </span>┃\n",
       "┡━━━━━━━━━━━━━━━━━━━━━━━━━━━╇━━━━━━━━━━━━━━━━━━━━━━━━━━━┩\n",
       "│<span style=\"color: #008080; text-decoration-color: #008080\"> batch_averaged_test/rmse  </span>│<span style=\"color: #800080; text-decoration-color: #800080\">    25.038524627685547     </span>│\n",
       "└───────────────────────────┴───────────────────────────┘\n",
       "</pre>\n"
      ],
      "text/plain": [
       "┏━━━━━━━━━━━━━━━━━━━━━━━━━━━┳━━━━━━━━━━━━━━━━━━━━━━━━━━━┓\n",
       "┃\u001b[1m \u001b[0m\u001b[1m       Test metric       \u001b[0m\u001b[1m \u001b[0m┃\u001b[1m \u001b[0m\u001b[1m      DataLoader 0       \u001b[0m\u001b[1m \u001b[0m┃\n",
       "┡━━━━━━━━━━━━━━━━━━━━━━━━━━━╇━━━━━━━━━━━━━━━━━━━━━━━━━━━┩\n",
       "│\u001b[36m \u001b[0m\u001b[36mbatch_averaged_test/rmse \u001b[0m\u001b[36m \u001b[0m│\u001b[35m \u001b[0m\u001b[35m   25.038524627685547    \u001b[0m\u001b[35m \u001b[0m│\n",
       "└───────────────────────────┴───────────────────────────┘\n"
      ]
     },
     "metadata": {},
     "output_type": "display_data"
    },
    {
     "name": "stdout",
     "output_type": "stream",
     "text": [
      "\n",
      "                                                                                                                                   \n",
      "\n",
      "Fold 1/5; Time 45.271;                                                                                                             \n",
      "\n",
      "Epoch 6: 100%|█████████████████████████████████████████████████| 13/13 [5:04:32<00:00,  0.00it/s, train_loss=0.781, val_loss=0.767]\u001b[A\n",
      "\n",
      "Epoch 17: 100%|████████████████████████████████████████████████| 13/13 [4:56:05<00:00,  0.00it/s, train_loss=0.643, val_loss=0.661]\u001b[A\u001b[A\n",
      "                                                                                                                                   \n",
      "\n",
      "Min val score 25.039; Training epochs 86                                                                                           \n",
      "\n",
      "Epoch 6: 100%|█████████████████████████████████████████████████| 13/13 [5:04:32<00:00,  0.00it/s, train_loss=0.781, val_loss=0.767]\u001b[A\n",
      "\n",
      "Epoch 17: 100%|████████████████████████████████████████████████| 13/13 [4:56:05<00:00,  0.00it/s, train_loss=0.643, val_loss=0.661]\u001b[A\u001b[A"
     ]
    },
    {
     "name": "stderr",
     "output_type": "stream",
     "text": [
      "/opt/calculation/anaconda3/envs/chemprop/lib/python3.11/site-packages/lightning/fabric/plugins/environments/slurm.py:204: The `srun` command is available on your system but is not used. HINT: If your intention is to run Lightning on SLURM, prepend your python command with `srun` like so: srun python /opt/calculation/anaconda3/envs/chemprop/lib/python3 ...\n",
      "\n",
      "/opt/calculation/anaconda3/envs/chemprop/lib/python3.11/site-packages/lightning/pytorch/callbacks/model_checkpoint.py:652: Checkpoint directory /home/kashurin/Tox24/dmpnn_try_3/search_4/hp_cv_1/m1 exists and is not empty.\n",
      "\n"
     ]
    },
    {
     "data": {
      "text/html": [
       "<pre style=\"white-space:pre;overflow-x:auto;line-height:normal;font-family:Menlo,'DejaVu Sans Mono',consolas,'Courier New',monospace\">┏━━━━━━━━━━━━━━━━━━━━━━━━━━━┳━━━━━━━━━━━━━━━━━━━━━━━━━━━┓\n",
       "┃<span style=\"font-weight: bold\">        Test metric        </span>┃<span style=\"font-weight: bold\">       DataLoader 0        </span>┃\n",
       "┡━━━━━━━━━━━━━━━━━━━━━━━━━━━╇━━━━━━━━━━━━━━━━━━━━━━━━━━━┩\n",
       "│<span style=\"color: #008080; text-decoration-color: #008080\"> batch_averaged_test/rmse  </span>│<span style=\"color: #800080; text-decoration-color: #800080\">     24.85844612121582     </span>│\n",
       "└───────────────────────────┴───────────────────────────┘\n",
       "</pre>\n"
      ],
      "text/plain": [
       "┏━━━━━━━━━━━━━━━━━━━━━━━━━━━┳━━━━━━━━━━━━━━━━━━━━━━━━━━━┓\n",
       "┃\u001b[1m \u001b[0m\u001b[1m       Test metric       \u001b[0m\u001b[1m \u001b[0m┃\u001b[1m \u001b[0m\u001b[1m      DataLoader 0       \u001b[0m\u001b[1m \u001b[0m┃\n",
       "┡━━━━━━━━━━━━━━━━━━━━━━━━━━━╇━━━━━━━━━━━━━━━━━━━━━━━━━━━┩\n",
       "│\u001b[36m \u001b[0m\u001b[36mbatch_averaged_test/rmse \u001b[0m\u001b[36m \u001b[0m│\u001b[35m \u001b[0m\u001b[35m    24.85844612121582    \u001b[0m\u001b[35m \u001b[0m│\n",
       "└───────────────────────────┴───────────────────────────┘\n"
      ]
     },
     "metadata": {},
     "output_type": "display_data"
    },
    {
     "name": "stdout",
     "output_type": "stream",
     "text": [
      "\n",
      "                                                                                                                                   \n",
      "\n",
      "Fold 2/5; Time 39.442;                                                                                                             \n",
      "\n",
      "Epoch 6: 100%|█████████████████████████████████████████████████| 13/13 [5:05:11<00:00,  0.00it/s, train_loss=0.781, val_loss=0.767]\u001b[A\n",
      "\n",
      "Epoch 17: 100%|████████████████████████████████████████████████| 13/13 [4:56:44<00:00,  0.00it/s, train_loss=0.643, val_loss=0.661]\u001b[A\u001b[A\n",
      "                                                                                                                                   \n",
      "\n",
      "Min val score 24.858; Training epochs 81                                                                                           \n",
      "\n",
      "Epoch 6: 100%|█████████████████████████████████████████████████| 13/13 [5:05:11<00:00,  0.00it/s, train_loss=0.781, val_loss=0.767]\u001b[A\n",
      "\n",
      "Epoch 17: 100%|████████████████████████████████████████████████| 13/13 [4:56:44<00:00,  0.00it/s, train_loss=0.643, val_loss=0.661]\u001b[A\u001b[A"
     ]
    },
    {
     "name": "stderr",
     "output_type": "stream",
     "text": [
      "/opt/calculation/anaconda3/envs/chemprop/lib/python3.11/site-packages/lightning/fabric/plugins/environments/slurm.py:204: The `srun` command is available on your system but is not used. HINT: If your intention is to run Lightning on SLURM, prepend your python command with `srun` like so: srun python /opt/calculation/anaconda3/envs/chemprop/lib/python3 ...\n",
      "\n",
      "/opt/calculation/anaconda3/envs/chemprop/lib/python3.11/site-packages/lightning/pytorch/callbacks/model_checkpoint.py:652: Checkpoint directory /home/kashurin/Tox24/dmpnn_try_3/search_4/hp_cv_1/m2 exists and is not empty.\n",
      "\n"
     ]
    },
    {
     "data": {
      "text/html": [
       "<pre style=\"white-space:pre;overflow-x:auto;line-height:normal;font-family:Menlo,'DejaVu Sans Mono',consolas,'Courier New',monospace\">┏━━━━━━━━━━━━━━━━━━━━━━━━━━━┳━━━━━━━━━━━━━━━━━━━━━━━━━━━┓\n",
       "┃<span style=\"font-weight: bold\">        Test metric        </span>┃<span style=\"font-weight: bold\">       DataLoader 0        </span>┃\n",
       "┡━━━━━━━━━━━━━━━━━━━━━━━━━━━╇━━━━━━━━━━━━━━━━━━━━━━━━━━━┩\n",
       "│<span style=\"color: #008080; text-decoration-color: #008080\"> batch_averaged_test/rmse  </span>│<span style=\"color: #800080; text-decoration-color: #800080\">    23.705337524414062     </span>│\n",
       "└───────────────────────────┴───────────────────────────┘\n",
       "</pre>\n"
      ],
      "text/plain": [
       "┏━━━━━━━━━━━━━━━━━━━━━━━━━━━┳━━━━━━━━━━━━━━━━━━━━━━━━━━━┓\n",
       "┃\u001b[1m \u001b[0m\u001b[1m       Test metric       \u001b[0m\u001b[1m \u001b[0m┃\u001b[1m \u001b[0m\u001b[1m      DataLoader 0       \u001b[0m\u001b[1m \u001b[0m┃\n",
       "┡━━━━━━━━━━━━━━━━━━━━━━━━━━━╇━━━━━━━━━━━━━━━━━━━━━━━━━━━┩\n",
       "│\u001b[36m \u001b[0m\u001b[36mbatch_averaged_test/rmse \u001b[0m\u001b[36m \u001b[0m│\u001b[35m \u001b[0m\u001b[35m   23.705337524414062    \u001b[0m\u001b[35m \u001b[0m│\n",
       "└───────────────────────────┴───────────────────────────┘\n"
      ]
     },
     "metadata": {},
     "output_type": "display_data"
    },
    {
     "name": "stdout",
     "output_type": "stream",
     "text": [
      "\n",
      "                                                                                                                                   \n",
      "\n",
      "Fold 3/5; Time 32.152;                                                                                                             \n",
      "\n",
      "Epoch 6: 100%|█████████████████████████████████████████████████| 13/13 [5:05:43<00:00,  0.00it/s, train_loss=0.781, val_loss=0.767]\u001b[A\n",
      "\n",
      "Epoch 17: 100%|████████████████████████████████████████████████| 13/13 [4:57:16<00:00,  0.00it/s, train_loss=0.643, val_loss=0.661]\u001b[A\u001b[A\n",
      "                                                                                                                                   \n",
      "\n",
      "Min val score 23.705; Training epochs 66                                                                                           \n",
      "\n",
      "Epoch 6: 100%|█████████████████████████████████████████████████| 13/13 [5:05:43<00:00,  0.00it/s, train_loss=0.781, val_loss=0.767]\u001b[A\n",
      "\n",
      "Epoch 17: 100%|████████████████████████████████████████████████| 13/13 [4:57:16<00:00,  0.00it/s, train_loss=0.643, val_loss=0.661]\u001b[A\u001b[A"
     ]
    },
    {
     "name": "stderr",
     "output_type": "stream",
     "text": [
      "/opt/calculation/anaconda3/envs/chemprop/lib/python3.11/site-packages/lightning/fabric/plugins/environments/slurm.py:204: The `srun` command is available on your system but is not used. HINT: If your intention is to run Lightning on SLURM, prepend your python command with `srun` like so: srun python /opt/calculation/anaconda3/envs/chemprop/lib/python3 ...\n",
      "\n",
      "/opt/calculation/anaconda3/envs/chemprop/lib/python3.11/site-packages/lightning/pytorch/callbacks/model_checkpoint.py:652: Checkpoint directory /home/kashurin/Tox24/dmpnn_try_3/search_4/hp_cv_1/m3 exists and is not empty.\n",
      "\n"
     ]
    },
    {
     "data": {
      "text/html": [
       "<pre style=\"white-space:pre;overflow-x:auto;line-height:normal;font-family:Menlo,'DejaVu Sans Mono',consolas,'Courier New',monospace\">┏━━━━━━━━━━━━━━━━━━━━━━━━━━━┳━━━━━━━━━━━━━━━━━━━━━━━━━━━┓\n",
       "┃<span style=\"font-weight: bold\">        Test metric        </span>┃<span style=\"font-weight: bold\">       DataLoader 0        </span>┃\n",
       "┡━━━━━━━━━━━━━━━━━━━━━━━━━━━╇━━━━━━━━━━━━━━━━━━━━━━━━━━━┩\n",
       "│<span style=\"color: #008080; text-decoration-color: #008080\"> batch_averaged_test/rmse  </span>│<span style=\"color: #800080; text-decoration-color: #800080\">    24.075374603271484     </span>│\n",
       "└───────────────────────────┴───────────────────────────┘\n",
       "</pre>\n"
      ],
      "text/plain": [
       "┏━━━━━━━━━━━━━━━━━━━━━━━━━━━┳━━━━━━━━━━━━━━━━━━━━━━━━━━━┓\n",
       "┃\u001b[1m \u001b[0m\u001b[1m       Test metric       \u001b[0m\u001b[1m \u001b[0m┃\u001b[1m \u001b[0m\u001b[1m      DataLoader 0       \u001b[0m\u001b[1m \u001b[0m┃\n",
       "┡━━━━━━━━━━━━━━━━━━━━━━━━━━━╇━━━━━━━━━━━━━━━━━━━━━━━━━━━┩\n",
       "│\u001b[36m \u001b[0m\u001b[36mbatch_averaged_test/rmse \u001b[0m\u001b[36m \u001b[0m│\u001b[35m \u001b[0m\u001b[35m   24.075374603271484    \u001b[0m\u001b[35m \u001b[0m│\n",
       "└───────────────────────────┴───────────────────────────┘\n"
      ]
     },
     "metadata": {},
     "output_type": "display_data"
    },
    {
     "name": "stdout",
     "output_type": "stream",
     "text": [
      "\n",
      "                                                                                                                                   \n",
      "\n",
      "Fold 4/5; Time 30.701;                                                                                                             \n",
      "\n",
      "Epoch 6: 100%|█████████████████████████████████████████████████| 13/13 [5:06:14<00:00,  0.00it/s, train_loss=0.781, val_loss=0.767]\u001b[A\n",
      "\n",
      "Epoch 17: 100%|████████████████████████████████████████████████| 13/13 [4:57:47<00:00,  0.00it/s, train_loss=0.643, val_loss=0.661]\u001b[A\u001b[A\n",
      "                                                                                                                                   \n",
      "\n",
      "Min val score 24.075; Training epochs 61                                                                                           \n",
      "\n",
      "Epoch 6: 100%|█████████████████████████████████████████████████| 13/13 [5:06:14<00:00,  0.00it/s, train_loss=0.781, val_loss=0.767]\u001b[A\n",
      "\n",
      "Epoch 17: 100%|████████████████████████████████████████████████| 13/13 [4:57:47<00:00,  0.00it/s, train_loss=0.643, val_loss=0.661]\u001b[A\u001b[A"
     ]
    },
    {
     "name": "stderr",
     "output_type": "stream",
     "text": [
      "/opt/calculation/anaconda3/envs/chemprop/lib/python3.11/site-packages/lightning/fabric/plugins/environments/slurm.py:204: The `srun` command is available on your system but is not used. HINT: If your intention is to run Lightning on SLURM, prepend your python command with `srun` like so: srun python /opt/calculation/anaconda3/envs/chemprop/lib/python3 ...\n",
      "\n",
      "/opt/calculation/anaconda3/envs/chemprop/lib/python3.11/site-packages/lightning/pytorch/callbacks/model_checkpoint.py:652: Checkpoint directory /home/kashurin/Tox24/dmpnn_try_3/search_4/hp_cv_1/m4 exists and is not empty.\n",
      "\n"
     ]
    },
    {
     "data": {
      "text/html": [
       "<pre style=\"white-space:pre;overflow-x:auto;line-height:normal;font-family:Menlo,'DejaVu Sans Mono',consolas,'Courier New',monospace\">┏━━━━━━━━━━━━━━━━━━━━━━━━━━━┳━━━━━━━━━━━━━━━━━━━━━━━━━━━┓\n",
       "┃<span style=\"font-weight: bold\">        Test metric        </span>┃<span style=\"font-weight: bold\">       DataLoader 0        </span>┃\n",
       "┡━━━━━━━━━━━━━━━━━━━━━━━━━━━╇━━━━━━━━━━━━━━━━━━━━━━━━━━━┩\n",
       "│<span style=\"color: #008080; text-decoration-color: #008080\"> batch_averaged_test/rmse  </span>│<span style=\"color: #800080; text-decoration-color: #800080\">    24.921688079833984     </span>│\n",
       "└───────────────────────────┴───────────────────────────┘\n",
       "</pre>\n"
      ],
      "text/plain": [
       "┏━━━━━━━━━━━━━━━━━━━━━━━━━━━┳━━━━━━━━━━━━━━━━━━━━━━━━━━━┓\n",
       "┃\u001b[1m \u001b[0m\u001b[1m       Test metric       \u001b[0m\u001b[1m \u001b[0m┃\u001b[1m \u001b[0m\u001b[1m      DataLoader 0       \u001b[0m\u001b[1m \u001b[0m┃\n",
       "┡━━━━━━━━━━━━━━━━━━━━━━━━━━━╇━━━━━━━━━━━━━━━━━━━━━━━━━━━┩\n",
       "│\u001b[36m \u001b[0m\u001b[36mbatch_averaged_test/rmse \u001b[0m\u001b[36m \u001b[0m│\u001b[35m \u001b[0m\u001b[35m   24.921688079833984    \u001b[0m\u001b[35m \u001b[0m│\n",
       "└───────────────────────────┴───────────────────────────┘\n"
      ]
     },
     "metadata": {},
     "output_type": "display_data"
    },
    {
     "name": "stdout",
     "output_type": "stream",
     "text": [
      "\n",
      "                                                                                                                                   \n",
      "\n",
      "Fold 5/5; Time 58.474;                                                                                                             \n",
      "\n",
      "Epoch 6: 100%|█████████████████████████████████████████████████| 13/13 [5:07:12<00:00,  0.00it/s, train_loss=0.781, val_loss=0.767]\u001b[A\n",
      "\n",
      "Epoch 17: 100%|████████████████████████████████████████████████| 13/13 [4:58:45<00:00,  0.00it/s, train_loss=0.643, val_loss=0.661]\u001b[A\u001b[A\n",
      "                                                                                                                                   \n",
      "\n",
      "Min val score 24.922; Training epochs 121                                                                                          \n",
      "\n",
      "Epoch 6: 100%|█████████████████████████████████████████████████| 13/13 [5:07:13<00:00,  0.00it/s, train_loss=0.781, val_loss=0.767]\u001b[A\n",
      "\n",
      "Epoch 17: 100%|████████████████████████████████████████████████| 13/13 [4:58:45<00:00,  0.00it/s, train_loss=0.643, val_loss=0.661]\u001b[A\u001b[A\n",
      "\n",
      " 92%|████████████████████████████████████████████████████▋    | 74/80 [1:17:47<23:54, 239.10s/trial, best loss: 23.649148559570314]\u001b[A\u001b[A"
     ]
    },
    {
     "name": "stderr",
     "output_type": "stream",
     "text": [
      "/opt/calculation/anaconda3/envs/chemprop/lib/python3.11/site-packages/lightning/fabric/plugins/environments/slurm.py:204: The `srun` command is available on your system but is not used. HINT: If your intention is to run Lightning on SLURM, prepend your python command with `srun` like so: srun python /opt/calculation/anaconda3/envs/chemprop/lib/python3 ...\n",
      "\n",
      "/opt/calculation/anaconda3/envs/chemprop/lib/python3.11/site-packages/lightning/pytorch/callbacks/model_checkpoint.py:652: Checkpoint directory /home/kashurin/Tox24/dmpnn_try_3/search_4/hp_cv_1/m0 exists and is not empty.\n",
      "\n"
     ]
    },
    {
     "data": {
      "text/html": [
       "<pre style=\"white-space:pre;overflow-x:auto;line-height:normal;font-family:Menlo,'DejaVu Sans Mono',consolas,'Courier New',monospace\">┏━━━━━━━━━━━━━━━━━━━━━━━━━━━┳━━━━━━━━━━━━━━━━━━━━━━━━━━━┓\n",
       "┃<span style=\"font-weight: bold\">        Test metric        </span>┃<span style=\"font-weight: bold\">       DataLoader 0        </span>┃\n",
       "┡━━━━━━━━━━━━━━━━━━━━━━━━━━━╇━━━━━━━━━━━━━━━━━━━━━━━━━━━┩\n",
       "│<span style=\"color: #008080; text-decoration-color: #008080\"> batch_averaged_test/rmse  </span>│<span style=\"color: #800080; text-decoration-color: #800080\">    24.586645126342773     </span>│\n",
       "└───────────────────────────┴───────────────────────────┘\n",
       "</pre>\n"
      ],
      "text/plain": [
       "┏━━━━━━━━━━━━━━━━━━━━━━━━━━━┳━━━━━━━━━━━━━━━━━━━━━━━━━━━┓\n",
       "┃\u001b[1m \u001b[0m\u001b[1m       Test metric       \u001b[0m\u001b[1m \u001b[0m┃\u001b[1m \u001b[0m\u001b[1m      DataLoader 0       \u001b[0m\u001b[1m \u001b[0m┃\n",
       "┡━━━━━━━━━━━━━━━━━━━━━━━━━━━╇━━━━━━━━━━━━━━━━━━━━━━━━━━━┩\n",
       "│\u001b[36m \u001b[0m\u001b[36mbatch_averaged_test/rmse \u001b[0m\u001b[36m \u001b[0m│\u001b[35m \u001b[0m\u001b[35m   24.586645126342773    \u001b[0m\u001b[35m \u001b[0m│\n",
       "└───────────────────────────┴───────────────────────────┘\n"
      ]
     },
     "metadata": {},
     "output_type": "display_data"
    },
    {
     "name": "stdout",
     "output_type": "stream",
     "text": [
      "\n",
      "                                                                                                                                   \n",
      "\n",
      "Fold 1/5; Time 61.051;                                                                                                             \n",
      "\n",
      "Epoch 6: 100%|█████████████████████████████████████████████████| 13/13 [5:08:14<00:00,  0.00it/s, train_loss=0.781, val_loss=0.767]\u001b[A\n",
      "\n",
      "Epoch 17: 100%|████████████████████████████████████████████████| 13/13 [4:59:46<00:00,  0.00it/s, train_loss=0.643, val_loss=0.661]\u001b[A\u001b[A\n",
      "                                                                                                                                   \n",
      "\n",
      "Min val score 24.587; Training epochs 111                                                                                          \n",
      "\n",
      "Epoch 6: 100%|█████████████████████████████████████████████████| 13/13 [5:08:14<00:00,  0.00it/s, train_loss=0.781, val_loss=0.767]\u001b[A\n",
      "\n",
      "Epoch 17: 100%|████████████████████████████████████████████████| 13/13 [4:59:46<00:00,  0.00it/s, train_loss=0.643, val_loss=0.661]\u001b[A\u001b[A"
     ]
    },
    {
     "name": "stderr",
     "output_type": "stream",
     "text": [
      "/opt/calculation/anaconda3/envs/chemprop/lib/python3.11/site-packages/lightning/fabric/plugins/environments/slurm.py:204: The `srun` command is available on your system but is not used. HINT: If your intention is to run Lightning on SLURM, prepend your python command with `srun` like so: srun python /opt/calculation/anaconda3/envs/chemprop/lib/python3 ...\n",
      "\n",
      "/opt/calculation/anaconda3/envs/chemprop/lib/python3.11/site-packages/lightning/pytorch/callbacks/model_checkpoint.py:652: Checkpoint directory /home/kashurin/Tox24/dmpnn_try_3/search_4/hp_cv_1/m1 exists and is not empty.\n",
      "\n"
     ]
    },
    {
     "data": {
      "text/html": [
       "<pre style=\"white-space:pre;overflow-x:auto;line-height:normal;font-family:Menlo,'DejaVu Sans Mono',consolas,'Courier New',monospace\">┏━━━━━━━━━━━━━━━━━━━━━━━━━━━┳━━━━━━━━━━━━━━━━━━━━━━━━━━━┓\n",
       "┃<span style=\"font-weight: bold\">        Test metric        </span>┃<span style=\"font-weight: bold\">       DataLoader 0        </span>┃\n",
       "┡━━━━━━━━━━━━━━━━━━━━━━━━━━━╇━━━━━━━━━━━━━━━━━━━━━━━━━━━┩\n",
       "│<span style=\"color: #008080; text-decoration-color: #008080\"> batch_averaged_test/rmse  </span>│<span style=\"color: #800080; text-decoration-color: #800080\">     24.77100372314453     </span>│\n",
       "└───────────────────────────┴───────────────────────────┘\n",
       "</pre>\n"
      ],
      "text/plain": [
       "┏━━━━━━━━━━━━━━━━━━━━━━━━━━━┳━━━━━━━━━━━━━━━━━━━━━━━━━━━┓\n",
       "┃\u001b[1m \u001b[0m\u001b[1m       Test metric       \u001b[0m\u001b[1m \u001b[0m┃\u001b[1m \u001b[0m\u001b[1m      DataLoader 0       \u001b[0m\u001b[1m \u001b[0m┃\n",
       "┡━━━━━━━━━━━━━━━━━━━━━━━━━━━╇━━━━━━━━━━━━━━━━━━━━━━━━━━━┩\n",
       "│\u001b[36m \u001b[0m\u001b[36mbatch_averaged_test/rmse \u001b[0m\u001b[36m \u001b[0m│\u001b[35m \u001b[0m\u001b[35m    24.77100372314453    \u001b[0m\u001b[35m \u001b[0m│\n",
       "└───────────────────────────┴───────────────────────────┘\n"
      ]
     },
     "metadata": {},
     "output_type": "display_data"
    },
    {
     "name": "stdout",
     "output_type": "stream",
     "text": [
      "\n",
      "                                                                                                                                   \n",
      "\n",
      "Fold 2/5; Time 51.484;                                                                                                             \n",
      "\n",
      "Epoch 6: 100%|█████████████████████████████████████████████████| 13/13 [5:09:05<00:00,  0.00it/s, train_loss=0.781, val_loss=0.767]\u001b[A\n",
      "\n",
      "Epoch 17: 100%|████████████████████████████████████████████████| 13/13 [5:00:38<00:00,  0.00it/s, train_loss=0.643, val_loss=0.661]\u001b[A\u001b[A\n",
      "                                                                                                                                   \n",
      "\n",
      "Min val score 24.771; Training epochs 93                                                                                           \n",
      "\n",
      "Epoch 6: 100%|█████████████████████████████████████████████████| 13/13 [5:09:05<00:00,  0.00it/s, train_loss=0.781, val_loss=0.767]\u001b[A\n",
      "\n",
      "Epoch 17: 100%|████████████████████████████████████████████████| 13/13 [5:00:38<00:00,  0.00it/s, train_loss=0.643, val_loss=0.661]\u001b[A\u001b[A"
     ]
    },
    {
     "name": "stderr",
     "output_type": "stream",
     "text": [
      "/opt/calculation/anaconda3/envs/chemprop/lib/python3.11/site-packages/lightning/fabric/plugins/environments/slurm.py:204: The `srun` command is available on your system but is not used. HINT: If your intention is to run Lightning on SLURM, prepend your python command with `srun` like so: srun python /opt/calculation/anaconda3/envs/chemprop/lib/python3 ...\n",
      "\n",
      "/opt/calculation/anaconda3/envs/chemprop/lib/python3.11/site-packages/lightning/pytorch/callbacks/model_checkpoint.py:652: Checkpoint directory /home/kashurin/Tox24/dmpnn_try_3/search_4/hp_cv_1/m2 exists and is not empty.\n",
      "\n"
     ]
    },
    {
     "data": {
      "text/html": [
       "<pre style=\"white-space:pre;overflow-x:auto;line-height:normal;font-family:Menlo,'DejaVu Sans Mono',consolas,'Courier New',monospace\">┏━━━━━━━━━━━━━━━━━━━━━━━━━━━┳━━━━━━━━━━━━━━━━━━━━━━━━━━━┓\n",
       "┃<span style=\"font-weight: bold\">        Test metric        </span>┃<span style=\"font-weight: bold\">       DataLoader 0        </span>┃\n",
       "┡━━━━━━━━━━━━━━━━━━━━━━━━━━━╇━━━━━━━━━━━━━━━━━━━━━━━━━━━┩\n",
       "│<span style=\"color: #008080; text-decoration-color: #008080\"> batch_averaged_test/rmse  </span>│<span style=\"color: #800080; text-decoration-color: #800080\">     24.42259979248047     </span>│\n",
       "└───────────────────────────┴───────────────────────────┘\n",
       "</pre>\n"
      ],
      "text/plain": [
       "┏━━━━━━━━━━━━━━━━━━━━━━━━━━━┳━━━━━━━━━━━━━━━━━━━━━━━━━━━┓\n",
       "┃\u001b[1m \u001b[0m\u001b[1m       Test metric       \u001b[0m\u001b[1m \u001b[0m┃\u001b[1m \u001b[0m\u001b[1m      DataLoader 0       \u001b[0m\u001b[1m \u001b[0m┃\n",
       "┡━━━━━━━━━━━━━━━━━━━━━━━━━━━╇━━━━━━━━━━━━━━━━━━━━━━━━━━━┩\n",
       "│\u001b[36m \u001b[0m\u001b[36mbatch_averaged_test/rmse \u001b[0m\u001b[36m \u001b[0m│\u001b[35m \u001b[0m\u001b[35m    24.42259979248047    \u001b[0m\u001b[35m \u001b[0m│\n",
       "└───────────────────────────┴───────────────────────────┘\n"
      ]
     },
     "metadata": {},
     "output_type": "display_data"
    },
    {
     "name": "stdout",
     "output_type": "stream",
     "text": [
      "\n",
      "                                                                                                                                   \n",
      "\n",
      "Fold 3/5; Time 26.944;                                                                                                             \n",
      "\n",
      "Epoch 6: 100%|█████████████████████████████████████████████████| 13/13 [5:09:32<00:00,  0.00it/s, train_loss=0.781, val_loss=0.767]\u001b[A\n",
      "\n",
      "Epoch 17: 100%|████████████████████████████████████████████████| 13/13 [5:01:05<00:00,  0.00it/s, train_loss=0.643, val_loss=0.661]\u001b[A\u001b[A\n",
      "                                                                                                                                   \n",
      "\n",
      "Min val score 24.423; Training epochs 55                                                                                           \n",
      "\n",
      "Epoch 6: 100%|█████████████████████████████████████████████████| 13/13 [5:09:32<00:00,  0.00it/s, train_loss=0.781, val_loss=0.767]\u001b[A\n",
      "\n",
      "Epoch 17: 100%|████████████████████████████████████████████████| 13/13 [5:01:05<00:00,  0.00it/s, train_loss=0.643, val_loss=0.661]\u001b[A\u001b[A"
     ]
    },
    {
     "name": "stderr",
     "output_type": "stream",
     "text": [
      "/opt/calculation/anaconda3/envs/chemprop/lib/python3.11/site-packages/lightning/fabric/plugins/environments/slurm.py:204: The `srun` command is available on your system but is not used. HINT: If your intention is to run Lightning on SLURM, prepend your python command with `srun` like so: srun python /opt/calculation/anaconda3/envs/chemprop/lib/python3 ...\n",
      "\n",
      "/opt/calculation/anaconda3/envs/chemprop/lib/python3.11/site-packages/lightning/pytorch/callbacks/model_checkpoint.py:652: Checkpoint directory /home/kashurin/Tox24/dmpnn_try_3/search_4/hp_cv_1/m3 exists and is not empty.\n",
      "\n"
     ]
    },
    {
     "data": {
      "text/html": [
       "<pre style=\"white-space:pre;overflow-x:auto;line-height:normal;font-family:Menlo,'DejaVu Sans Mono',consolas,'Courier New',monospace\">┏━━━━━━━━━━━━━━━━━━━━━━━━━━━┳━━━━━━━━━━━━━━━━━━━━━━━━━━━┓\n",
       "┃<span style=\"font-weight: bold\">        Test metric        </span>┃<span style=\"font-weight: bold\">       DataLoader 0        </span>┃\n",
       "┡━━━━━━━━━━━━━━━━━━━━━━━━━━━╇━━━━━━━━━━━━━━━━━━━━━━━━━━━┩\n",
       "│<span style=\"color: #008080; text-decoration-color: #008080\"> batch_averaged_test/rmse  </span>│<span style=\"color: #800080; text-decoration-color: #800080\">    23.360637664794922     </span>│\n",
       "└───────────────────────────┴───────────────────────────┘\n",
       "</pre>\n"
      ],
      "text/plain": [
       "┏━━━━━━━━━━━━━━━━━━━━━━━━━━━┳━━━━━━━━━━━━━━━━━━━━━━━━━━━┓\n",
       "┃\u001b[1m \u001b[0m\u001b[1m       Test metric       \u001b[0m\u001b[1m \u001b[0m┃\u001b[1m \u001b[0m\u001b[1m      DataLoader 0       \u001b[0m\u001b[1m \u001b[0m┃\n",
       "┡━━━━━━━━━━━━━━━━━━━━━━━━━━━╇━━━━━━━━━━━━━━━━━━━━━━━━━━━┩\n",
       "│\u001b[36m \u001b[0m\u001b[36mbatch_averaged_test/rmse \u001b[0m\u001b[36m \u001b[0m│\u001b[35m \u001b[0m\u001b[35m   23.360637664794922    \u001b[0m\u001b[35m \u001b[0m│\n",
       "└───────────────────────────┴───────────────────────────┘\n"
      ]
     },
     "metadata": {},
     "output_type": "display_data"
    },
    {
     "name": "stdout",
     "output_type": "stream",
     "text": [
      "\n",
      "                                                                                                                                   \n",
      "\n",
      "Fold 4/5; Time 41.200;                                                                                                             \n",
      "\n",
      "Epoch 6: 100%|█████████████████████████████████████████████████| 13/13 [5:10:13<00:00,  0.00it/s, train_loss=0.781, val_loss=0.767]\u001b[A\n",
      "\n",
      "Epoch 17: 100%|████████████████████████████████████████████████| 13/13 [5:01:46<00:00,  0.00it/s, train_loss=0.643, val_loss=0.661]\u001b[A\u001b[A\n",
      "                                                                                                                                   \n",
      "\n",
      "Min val score 23.361; Training epochs 86                                                                                           \n",
      "\n",
      "Epoch 6: 100%|█████████████████████████████████████████████████| 13/13 [5:10:13<00:00,  0.00it/s, train_loss=0.781, val_loss=0.767]\u001b[A\n",
      "\n",
      "Epoch 17: 100%|████████████████████████████████████████████████| 13/13 [5:01:46<00:00,  0.00it/s, train_loss=0.643, val_loss=0.661]\u001b[A\u001b[A"
     ]
    },
    {
     "name": "stderr",
     "output_type": "stream",
     "text": [
      "/opt/calculation/anaconda3/envs/chemprop/lib/python3.11/site-packages/lightning/fabric/plugins/environments/slurm.py:204: The `srun` command is available on your system but is not used. HINT: If your intention is to run Lightning on SLURM, prepend your python command with `srun` like so: srun python /opt/calculation/anaconda3/envs/chemprop/lib/python3 ...\n",
      "\n",
      "/opt/calculation/anaconda3/envs/chemprop/lib/python3.11/site-packages/lightning/pytorch/callbacks/model_checkpoint.py:652: Checkpoint directory /home/kashurin/Tox24/dmpnn_try_3/search_4/hp_cv_1/m4 exists and is not empty.\n",
      "\n"
     ]
    },
    {
     "data": {
      "text/html": [
       "<pre style=\"white-space:pre;overflow-x:auto;line-height:normal;font-family:Menlo,'DejaVu Sans Mono',consolas,'Courier New',monospace\">┏━━━━━━━━━━━━━━━━━━━━━━━━━━━┳━━━━━━━━━━━━━━━━━━━━━━━━━━━┓\n",
       "┃<span style=\"font-weight: bold\">        Test metric        </span>┃<span style=\"font-weight: bold\">       DataLoader 0        </span>┃\n",
       "┡━━━━━━━━━━━━━━━━━━━━━━━━━━━╇━━━━━━━━━━━━━━━━━━━━━━━━━━━┩\n",
       "│<span style=\"color: #008080; text-decoration-color: #008080\"> batch_averaged_test/rmse  </span>│<span style=\"color: #800080; text-decoration-color: #800080\">    25.803930282592773     </span>│\n",
       "└───────────────────────────┴───────────────────────────┘\n",
       "</pre>\n"
      ],
      "text/plain": [
       "┏━━━━━━━━━━━━━━━━━━━━━━━━━━━┳━━━━━━━━━━━━━━━━━━━━━━━━━━━┓\n",
       "┃\u001b[1m \u001b[0m\u001b[1m       Test metric       \u001b[0m\u001b[1m \u001b[0m┃\u001b[1m \u001b[0m\u001b[1m      DataLoader 0       \u001b[0m\u001b[1m \u001b[0m┃\n",
       "┡━━━━━━━━━━━━━━━━━━━━━━━━━━━╇━━━━━━━━━━━━━━━━━━━━━━━━━━━┩\n",
       "│\u001b[36m \u001b[0m\u001b[36mbatch_averaged_test/rmse \u001b[0m\u001b[36m \u001b[0m│\u001b[35m \u001b[0m\u001b[35m   25.803930282592773    \u001b[0m\u001b[35m \u001b[0m│\n",
       "└───────────────────────────┴───────────────────────────┘\n"
      ]
     },
     "metadata": {},
     "output_type": "display_data"
    },
    {
     "name": "stdout",
     "output_type": "stream",
     "text": [
      "\n",
      "                                                                                                                                   \n",
      "\n",
      "Fold 5/5; Time 74.813;                                                                                                             \n",
      "\n",
      "Epoch 6: 100%|█████████████████████████████████████████████████| 13/13 [5:11:28<00:00,  0.00it/s, train_loss=0.781, val_loss=0.767]\u001b[A\n",
      "\n",
      "Epoch 17: 100%|████████████████████████████████████████████████| 13/13 [5:03:01<00:00,  0.00it/s, train_loss=0.643, val_loss=0.661]\u001b[A\u001b[A\n",
      "                                                                                                                                   \n",
      "\n",
      "Min val score 25.804; Training epochs 159                                                                                          \n",
      "\n",
      "Epoch 6: 100%|█████████████████████████████████████████████████| 13/13 [5:11:28<00:00,  0.00it/s, train_loss=0.781, val_loss=0.767]\u001b[A\n",
      "\n",
      "Epoch 17: 100%|████████████████████████████████████████████████| 13/13 [5:03:01<00:00,  0.00it/s, train_loss=0.643, val_loss=0.661]\u001b[A\u001b[A\n",
      "\n",
      " 94%|█████████████████████████████████████████████████████▍   | 75/80 [1:22:03<20:20, 244.06s/trial, best loss: 23.649148559570314]\u001b[A\u001b[A"
     ]
    },
    {
     "name": "stderr",
     "output_type": "stream",
     "text": [
      "/opt/calculation/anaconda3/envs/chemprop/lib/python3.11/site-packages/lightning/fabric/plugins/environments/slurm.py:204: The `srun` command is available on your system but is not used. HINT: If your intention is to run Lightning on SLURM, prepend your python command with `srun` like so: srun python /opt/calculation/anaconda3/envs/chemprop/lib/python3 ...\n",
      "\n",
      "/opt/calculation/anaconda3/envs/chemprop/lib/python3.11/site-packages/lightning/pytorch/callbacks/model_checkpoint.py:652: Checkpoint directory /home/kashurin/Tox24/dmpnn_try_3/search_4/hp_cv_1/m0 exists and is not empty.\n",
      "\n"
     ]
    },
    {
     "data": {
      "text/html": [
       "<pre style=\"white-space:pre;overflow-x:auto;line-height:normal;font-family:Menlo,'DejaVu Sans Mono',consolas,'Courier New',monospace\">┏━━━━━━━━━━━━━━━━━━━━━━━━━━━┳━━━━━━━━━━━━━━━━━━━━━━━━━━━┓\n",
       "┃<span style=\"font-weight: bold\">        Test metric        </span>┃<span style=\"font-weight: bold\">       DataLoader 0        </span>┃\n",
       "┡━━━━━━━━━━━━━━━━━━━━━━━━━━━╇━━━━━━━━━━━━━━━━━━━━━━━━━━━┩\n",
       "│<span style=\"color: #008080; text-decoration-color: #008080\"> batch_averaged_test/rmse  </span>│<span style=\"color: #800080; text-decoration-color: #800080\">     25.20181655883789     </span>│\n",
       "└───────────────────────────┴───────────────────────────┘\n",
       "</pre>\n"
      ],
      "text/plain": [
       "┏━━━━━━━━━━━━━━━━━━━━━━━━━━━┳━━━━━━━━━━━━━━━━━━━━━━━━━━━┓\n",
       "┃\u001b[1m \u001b[0m\u001b[1m       Test metric       \u001b[0m\u001b[1m \u001b[0m┃\u001b[1m \u001b[0m\u001b[1m      DataLoader 0       \u001b[0m\u001b[1m \u001b[0m┃\n",
       "┡━━━━━━━━━━━━━━━━━━━━━━━━━━━╇━━━━━━━━━━━━━━━━━━━━━━━━━━━┩\n",
       "│\u001b[36m \u001b[0m\u001b[36mbatch_averaged_test/rmse \u001b[0m\u001b[36m \u001b[0m│\u001b[35m \u001b[0m\u001b[35m    25.20181655883789    \u001b[0m\u001b[35m \u001b[0m│\n",
       "└───────────────────────────┴───────────────────────────┘\n"
      ]
     },
     "metadata": {},
     "output_type": "display_data"
    },
    {
     "name": "stdout",
     "output_type": "stream",
     "text": [
      "\n",
      "                                                                                                                                   \n",
      "\n",
      "Fold 1/5; Time 64.151;                                                                                                             \n",
      "\n",
      "Epoch 6: 100%|█████████████████████████████████████████████████| 13/13 [5:12:32<00:00,  0.00it/s, train_loss=0.781, val_loss=0.767]\u001b[A\n",
      "\n",
      "Epoch 17: 100%|████████████████████████████████████████████████| 13/13 [5:04:05<00:00,  0.00it/s, train_loss=0.643, val_loss=0.661]\u001b[A\u001b[A\n",
      "                                                                                                                                   \n",
      "\n",
      "Min val score 25.202; Training epochs 124                                                                                          \n",
      "\n",
      "Epoch 6: 100%|█████████████████████████████████████████████████| 13/13 [5:12:32<00:00,  0.00it/s, train_loss=0.781, val_loss=0.767]\u001b[A\n",
      "\n",
      "Epoch 17: 100%|████████████████████████████████████████████████| 13/13 [5:04:05<00:00,  0.00it/s, train_loss=0.643, val_loss=0.661]\u001b[A\u001b[A"
     ]
    },
    {
     "name": "stderr",
     "output_type": "stream",
     "text": [
      "/opt/calculation/anaconda3/envs/chemprop/lib/python3.11/site-packages/lightning/fabric/plugins/environments/slurm.py:204: The `srun` command is available on your system but is not used. HINT: If your intention is to run Lightning on SLURM, prepend your python command with `srun` like so: srun python /opt/calculation/anaconda3/envs/chemprop/lib/python3 ...\n",
      "\n",
      "/opt/calculation/anaconda3/envs/chemprop/lib/python3.11/site-packages/lightning/pytorch/callbacks/model_checkpoint.py:652: Checkpoint directory /home/kashurin/Tox24/dmpnn_try_3/search_4/hp_cv_1/m1 exists and is not empty.\n",
      "\n"
     ]
    },
    {
     "data": {
      "text/html": [
       "<pre style=\"white-space:pre;overflow-x:auto;line-height:normal;font-family:Menlo,'DejaVu Sans Mono',consolas,'Courier New',monospace\">┏━━━━━━━━━━━━━━━━━━━━━━━━━━━┳━━━━━━━━━━━━━━━━━━━━━━━━━━━┓\n",
       "┃<span style=\"font-weight: bold\">        Test metric        </span>┃<span style=\"font-weight: bold\">       DataLoader 0        </span>┃\n",
       "┡━━━━━━━━━━━━━━━━━━━━━━━━━━━╇━━━━━━━━━━━━━━━━━━━━━━━━━━━┩\n",
       "│<span style=\"color: #008080; text-decoration-color: #008080\"> batch_averaged_test/rmse  </span>│<span style=\"color: #800080; text-decoration-color: #800080\">     23.10150718688965     </span>│\n",
       "└───────────────────────────┴───────────────────────────┘\n",
       "</pre>\n"
      ],
      "text/plain": [
       "┏━━━━━━━━━━━━━━━━━━━━━━━━━━━┳━━━━━━━━━━━━━━━━━━━━━━━━━━━┓\n",
       "┃\u001b[1m \u001b[0m\u001b[1m       Test metric       \u001b[0m\u001b[1m \u001b[0m┃\u001b[1m \u001b[0m\u001b[1m      DataLoader 0       \u001b[0m\u001b[1m \u001b[0m┃\n",
       "┡━━━━━━━━━━━━━━━━━━━━━━━━━━━╇━━━━━━━━━━━━━━━━━━━━━━━━━━━┩\n",
       "│\u001b[36m \u001b[0m\u001b[36mbatch_averaged_test/rmse \u001b[0m\u001b[36m \u001b[0m│\u001b[35m \u001b[0m\u001b[35m    23.10150718688965    \u001b[0m\u001b[35m \u001b[0m│\n",
       "└───────────────────────────┴───────────────────────────┘\n"
      ]
     },
     "metadata": {},
     "output_type": "display_data"
    },
    {
     "name": "stdout",
     "output_type": "stream",
     "text": [
      "\n",
      "                                                                                                                                   \n",
      "\n",
      "Fold 2/5; Time 30.070;                                                                                                             \n",
      "\n",
      "Epoch 6: 100%|█████████████████████████████████████████████████| 13/13 [5:13:02<00:00,  0.00it/s, train_loss=0.781, val_loss=0.767]\u001b[A\n",
      "\n",
      "Epoch 17: 100%|████████████████████████████████████████████████| 13/13 [5:04:35<00:00,  0.00it/s, train_loss=0.643, val_loss=0.661]\u001b[A\u001b[A\n",
      "                                                                                                                                   \n",
      "\n",
      "Min val score 23.102; Training epochs 63                                                                                           \n",
      "\n",
      "Epoch 6: 100%|█████████████████████████████████████████████████| 13/13 [5:13:02<00:00,  0.00it/s, train_loss=0.781, val_loss=0.767]\u001b[A\n",
      "\n",
      "Epoch 17: 100%|████████████████████████████████████████████████| 13/13 [5:04:35<00:00,  0.00it/s, train_loss=0.643, val_loss=0.661]\u001b[A\u001b[A"
     ]
    },
    {
     "name": "stderr",
     "output_type": "stream",
     "text": [
      "/opt/calculation/anaconda3/envs/chemprop/lib/python3.11/site-packages/lightning/fabric/plugins/environments/slurm.py:204: The `srun` command is available on your system but is not used. HINT: If your intention is to run Lightning on SLURM, prepend your python command with `srun` like so: srun python /opt/calculation/anaconda3/envs/chemprop/lib/python3 ...\n",
      "\n",
      "/opt/calculation/anaconda3/envs/chemprop/lib/python3.11/site-packages/lightning/pytorch/callbacks/model_checkpoint.py:652: Checkpoint directory /home/kashurin/Tox24/dmpnn_try_3/search_4/hp_cv_1/m2 exists and is not empty.\n",
      "\n"
     ]
    },
    {
     "data": {
      "text/html": [
       "<pre style=\"white-space:pre;overflow-x:auto;line-height:normal;font-family:Menlo,'DejaVu Sans Mono',consolas,'Courier New',monospace\">┏━━━━━━━━━━━━━━━━━━━━━━━━━━━┳━━━━━━━━━━━━━━━━━━━━━━━━━━━┓\n",
       "┃<span style=\"font-weight: bold\">        Test metric        </span>┃<span style=\"font-weight: bold\">       DataLoader 0        </span>┃\n",
       "┡━━━━━━━━━━━━━━━━━━━━━━━━━━━╇━━━━━━━━━━━━━━━━━━━━━━━━━━━┩\n",
       "│<span style=\"color: #008080; text-decoration-color: #008080\"> batch_averaged_test/rmse  </span>│<span style=\"color: #800080; text-decoration-color: #800080\">    21.403915405273438     </span>│\n",
       "└───────────────────────────┴───────────────────────────┘\n",
       "</pre>\n"
      ],
      "text/plain": [
       "┏━━━━━━━━━━━━━━━━━━━━━━━━━━━┳━━━━━━━━━━━━━━━━━━━━━━━━━━━┓\n",
       "┃\u001b[1m \u001b[0m\u001b[1m       Test metric       \u001b[0m\u001b[1m \u001b[0m┃\u001b[1m \u001b[0m\u001b[1m      DataLoader 0       \u001b[0m\u001b[1m \u001b[0m┃\n",
       "┡━━━━━━━━━━━━━━━━━━━━━━━━━━━╇━━━━━━━━━━━━━━━━━━━━━━━━━━━┩\n",
       "│\u001b[36m \u001b[0m\u001b[36mbatch_averaged_test/rmse \u001b[0m\u001b[36m \u001b[0m│\u001b[35m \u001b[0m\u001b[35m   21.403915405273438    \u001b[0m\u001b[35m \u001b[0m│\n",
       "└───────────────────────────┴───────────────────────────┘\n"
      ]
     },
     "metadata": {},
     "output_type": "display_data"
    },
    {
     "name": "stdout",
     "output_type": "stream",
     "text": [
      "\n",
      "                                                                                                                                   \n",
      "\n",
      "Fold 3/5; Time 50.919;                                                                                                             \n",
      "\n",
      "Epoch 6: 100%|█████████████████████████████████████████████████| 13/13 [5:13:53<00:00,  0.00it/s, train_loss=0.781, val_loss=0.767]\u001b[A\n",
      "\n",
      "Epoch 17: 100%|████████████████████████████████████████████████| 13/13 [5:05:26<00:00,  0.00it/s, train_loss=0.643, val_loss=0.661]\u001b[A\u001b[A\n",
      "                                                                                                                                   \n",
      "\n",
      "Min val score 21.404; Training epochs 107                                                                                          \n",
      "\n",
      "Epoch 6: 100%|█████████████████████████████████████████████████| 13/13 [5:13:53<00:00,  0.00it/s, train_loss=0.781, val_loss=0.767]\u001b[A\n",
      "\n",
      "Epoch 17: 100%|████████████████████████████████████████████████| 13/13 [5:05:26<00:00,  0.00it/s, train_loss=0.643, val_loss=0.661]\u001b[A\u001b[A"
     ]
    },
    {
     "name": "stderr",
     "output_type": "stream",
     "text": [
      "/opt/calculation/anaconda3/envs/chemprop/lib/python3.11/site-packages/lightning/fabric/plugins/environments/slurm.py:204: The `srun` command is available on your system but is not used. HINT: If your intention is to run Lightning on SLURM, prepend your python command with `srun` like so: srun python /opt/calculation/anaconda3/envs/chemprop/lib/python3 ...\n",
      "\n",
      "/opt/calculation/anaconda3/envs/chemprop/lib/python3.11/site-packages/lightning/pytorch/callbacks/model_checkpoint.py:652: Checkpoint directory /home/kashurin/Tox24/dmpnn_try_3/search_4/hp_cv_1/m3 exists and is not empty.\n",
      "\n"
     ]
    },
    {
     "data": {
      "text/html": [
       "<pre style=\"white-space:pre;overflow-x:auto;line-height:normal;font-family:Menlo,'DejaVu Sans Mono',consolas,'Courier New',monospace\">┏━━━━━━━━━━━━━━━━━━━━━━━━━━━┳━━━━━━━━━━━━━━━━━━━━━━━━━━━┓\n",
       "┃<span style=\"font-weight: bold\">        Test metric        </span>┃<span style=\"font-weight: bold\">       DataLoader 0        </span>┃\n",
       "┡━━━━━━━━━━━━━━━━━━━━━━━━━━━╇━━━━━━━━━━━━━━━━━━━━━━━━━━━┩\n",
       "│<span style=\"color: #008080; text-decoration-color: #008080\"> batch_averaged_test/rmse  </span>│<span style=\"color: #800080; text-decoration-color: #800080\">    23.403764724731445     </span>│\n",
       "└───────────────────────────┴───────────────────────────┘\n",
       "</pre>\n"
      ],
      "text/plain": [
       "┏━━━━━━━━━━━━━━━━━━━━━━━━━━━┳━━━━━━━━━━━━━━━━━━━━━━━━━━━┓\n",
       "┃\u001b[1m \u001b[0m\u001b[1m       Test metric       \u001b[0m\u001b[1m \u001b[0m┃\u001b[1m \u001b[0m\u001b[1m      DataLoader 0       \u001b[0m\u001b[1m \u001b[0m┃\n",
       "┡━━━━━━━━━━━━━━━━━━━━━━━━━━━╇━━━━━━━━━━━━━━━━━━━━━━━━━━━┩\n",
       "│\u001b[36m \u001b[0m\u001b[36mbatch_averaged_test/rmse \u001b[0m\u001b[36m \u001b[0m│\u001b[35m \u001b[0m\u001b[35m   23.403764724731445    \u001b[0m\u001b[35m \u001b[0m│\n",
       "└───────────────────────────┴───────────────────────────┘\n"
      ]
     },
     "metadata": {},
     "output_type": "display_data"
    },
    {
     "name": "stdout",
     "output_type": "stream",
     "text": [
      "\n",
      "                                                                                                                                   \n",
      "\n",
      "Fold 4/5; Time 32.438;                                                                                                             \n",
      "\n",
      "Epoch 6: 100%|█████████████████████████████████████████████████| 13/13 [5:14:26<00:00,  0.00it/s, train_loss=0.781, val_loss=0.767]\u001b[A\n",
      "\n",
      "Epoch 17: 100%|████████████████████████████████████████████████| 13/13 [5:05:59<00:00,  0.00it/s, train_loss=0.643, val_loss=0.661]\u001b[A\u001b[A\n",
      "                                                                                                                                   \n",
      "\n",
      "Min val score 23.404; Training epochs 61                                                                                           \n",
      "\n",
      "Epoch 6: 100%|█████████████████████████████████████████████████| 13/13 [5:14:26<00:00,  0.00it/s, train_loss=0.781, val_loss=0.767]\u001b[A\n",
      "\n",
      "Epoch 17: 100%|████████████████████████████████████████████████| 13/13 [5:05:59<00:00,  0.00it/s, train_loss=0.643, val_loss=0.661]\u001b[A\u001b[A"
     ]
    },
    {
     "name": "stderr",
     "output_type": "stream",
     "text": [
      "/opt/calculation/anaconda3/envs/chemprop/lib/python3.11/site-packages/lightning/fabric/plugins/environments/slurm.py:204: The `srun` command is available on your system but is not used. HINT: If your intention is to run Lightning on SLURM, prepend your python command with `srun` like so: srun python /opt/calculation/anaconda3/envs/chemprop/lib/python3 ...\n",
      "\n",
      "/opt/calculation/anaconda3/envs/chemprop/lib/python3.11/site-packages/lightning/pytorch/callbacks/model_checkpoint.py:652: Checkpoint directory /home/kashurin/Tox24/dmpnn_try_3/search_4/hp_cv_1/m4 exists and is not empty.\n",
      "\n"
     ]
    },
    {
     "data": {
      "text/html": [
       "<pre style=\"white-space:pre;overflow-x:auto;line-height:normal;font-family:Menlo,'DejaVu Sans Mono',consolas,'Courier New',monospace\">┏━━━━━━━━━━━━━━━━━━━━━━━━━━━┳━━━━━━━━━━━━━━━━━━━━━━━━━━━┓\n",
       "┃<span style=\"font-weight: bold\">        Test metric        </span>┃<span style=\"font-weight: bold\">       DataLoader 0        </span>┃\n",
       "┡━━━━━━━━━━━━━━━━━━━━━━━━━━━╇━━━━━━━━━━━━━━━━━━━━━━━━━━━┩\n",
       "│<span style=\"color: #008080; text-decoration-color: #008080\"> batch_averaged_test/rmse  </span>│<span style=\"color: #800080; text-decoration-color: #800080\">     25.29205322265625     </span>│\n",
       "└───────────────────────────┴───────────────────────────┘\n",
       "</pre>\n"
      ],
      "text/plain": [
       "┏━━━━━━━━━━━━━━━━━━━━━━━━━━━┳━━━━━━━━━━━━━━━━━━━━━━━━━━━┓\n",
       "┃\u001b[1m \u001b[0m\u001b[1m       Test metric       \u001b[0m\u001b[1m \u001b[0m┃\u001b[1m \u001b[0m\u001b[1m      DataLoader 0       \u001b[0m\u001b[1m \u001b[0m┃\n",
       "┡━━━━━━━━━━━━━━━━━━━━━━━━━━━╇━━━━━━━━━━━━━━━━━━━━━━━━━━━┩\n",
       "│\u001b[36m \u001b[0m\u001b[36mbatch_averaged_test/rmse \u001b[0m\u001b[36m \u001b[0m│\u001b[35m \u001b[0m\u001b[35m    25.29205322265625    \u001b[0m\u001b[35m \u001b[0m│\n",
       "└───────────────────────────┴───────────────────────────┘\n"
      ]
     },
     "metadata": {},
     "output_type": "display_data"
    },
    {
     "name": "stdout",
     "output_type": "stream",
     "text": [
      "\n",
      "                                                                                                                                   \n",
      "\n",
      "Fold 5/5; Time 73.100;                                                                                                             \n",
      "\n",
      "Epoch 6: 100%|█████████████████████████████████████████████████| 13/13 [5:15:39<00:00,  0.00it/s, train_loss=0.781, val_loss=0.767]\u001b[A\n",
      "\n",
      "Epoch 17: 100%|████████████████████████████████████████████████| 13/13 [5:07:12<00:00,  0.00it/s, train_loss=0.643, val_loss=0.661]\u001b[A\u001b[A\n",
      "                                                                                                                                   \n",
      "\n",
      "Min val score 25.292; Training epochs 159                                                                                          \n",
      "\n",
      "Epoch 6: 100%|█████████████████████████████████████████████████| 13/13 [5:15:39<00:00,  0.00it/s, train_loss=0.781, val_loss=0.767]\u001b[A\n",
      "\n",
      "Epoch 17: 100%|████████████████████████████████████████████████| 13/13 [5:07:12<00:00,  0.00it/s, train_loss=0.643, val_loss=0.661]\u001b[A\u001b[A\n",
      "\n",
      " 95%|██████████████████████████████████████████████████████▏  | 76/80 [1:26:13<16:24, 246.09s/trial, best loss: 23.649148559570314]\u001b[A\u001b[A"
     ]
    },
    {
     "name": "stderr",
     "output_type": "stream",
     "text": [
      "/opt/calculation/anaconda3/envs/chemprop/lib/python3.11/site-packages/lightning/fabric/plugins/environments/slurm.py:204: The `srun` command is available on your system but is not used. HINT: If your intention is to run Lightning on SLURM, prepend your python command with `srun` like so: srun python /opt/calculation/anaconda3/envs/chemprop/lib/python3 ...\n",
      "\n",
      "/opt/calculation/anaconda3/envs/chemprop/lib/python3.11/site-packages/lightning/pytorch/callbacks/model_checkpoint.py:652: Checkpoint directory /home/kashurin/Tox24/dmpnn_try_3/search_4/hp_cv_1/m0 exists and is not empty.\n",
      "\n"
     ]
    },
    {
     "data": {
      "text/html": [
       "<pre style=\"white-space:pre;overflow-x:auto;line-height:normal;font-family:Menlo,'DejaVu Sans Mono',consolas,'Courier New',monospace\">┏━━━━━━━━━━━━━━━━━━━━━━━━━━━┳━━━━━━━━━━━━━━━━━━━━━━━━━━━┓\n",
       "┃<span style=\"font-weight: bold\">        Test metric        </span>┃<span style=\"font-weight: bold\">       DataLoader 0        </span>┃\n",
       "┡━━━━━━━━━━━━━━━━━━━━━━━━━━━╇━━━━━━━━━━━━━━━━━━━━━━━━━━━┩\n",
       "│<span style=\"color: #008080; text-decoration-color: #008080\"> batch_averaged_test/rmse  </span>│<span style=\"color: #800080; text-decoration-color: #800080\">    25.228132247924805     </span>│\n",
       "└───────────────────────────┴───────────────────────────┘\n",
       "</pre>\n"
      ],
      "text/plain": [
       "┏━━━━━━━━━━━━━━━━━━━━━━━━━━━┳━━━━━━━━━━━━━━━━━━━━━━━━━━━┓\n",
       "┃\u001b[1m \u001b[0m\u001b[1m       Test metric       \u001b[0m\u001b[1m \u001b[0m┃\u001b[1m \u001b[0m\u001b[1m      DataLoader 0       \u001b[0m\u001b[1m \u001b[0m┃\n",
       "┡━━━━━━━━━━━━━━━━━━━━━━━━━━━╇━━━━━━━━━━━━━━━━━━━━━━━━━━━┩\n",
       "│\u001b[36m \u001b[0m\u001b[36mbatch_averaged_test/rmse \u001b[0m\u001b[36m \u001b[0m│\u001b[35m \u001b[0m\u001b[35m   25.228132247924805    \u001b[0m\u001b[35m \u001b[0m│\n",
       "└───────────────────────────┴───────────────────────────┘\n"
      ]
     },
     "metadata": {},
     "output_type": "display_data"
    },
    {
     "name": "stdout",
     "output_type": "stream",
     "text": [
      "\n",
      "                                                                                                                                   \n",
      "\n",
      "Fold 1/5; Time 76.364;                                                                                                             \n",
      "\n",
      "Epoch 6: 100%|█████████████████████████████████████████████████| 13/13 [5:16:55<00:00,  0.00it/s, train_loss=0.781, val_loss=0.767]\u001b[A\n",
      "\n",
      "Epoch 17: 100%|████████████████████████████████████████████████| 13/13 [5:08:28<00:00,  0.00it/s, train_loss=0.643, val_loss=0.661]\u001b[A\u001b[A\n",
      "                                                                                                                                   \n",
      "\n",
      "Min val score 25.228; Training epochs 142                                                                                          \n",
      "\n",
      "Epoch 6: 100%|█████████████████████████████████████████████████| 13/13 [5:16:55<00:00,  0.00it/s, train_loss=0.781, val_loss=0.767]\u001b[A\n",
      "\n",
      "Epoch 17: 100%|████████████████████████████████████████████████| 13/13 [5:08:28<00:00,  0.00it/s, train_loss=0.643, val_loss=0.661]\u001b[A\u001b[A"
     ]
    },
    {
     "name": "stderr",
     "output_type": "stream",
     "text": [
      "/opt/calculation/anaconda3/envs/chemprop/lib/python3.11/site-packages/lightning/fabric/plugins/environments/slurm.py:204: The `srun` command is available on your system but is not used. HINT: If your intention is to run Lightning on SLURM, prepend your python command with `srun` like so: srun python /opt/calculation/anaconda3/envs/chemprop/lib/python3 ...\n",
      "\n",
      "/opt/calculation/anaconda3/envs/chemprop/lib/python3.11/site-packages/lightning/pytorch/callbacks/model_checkpoint.py:652: Checkpoint directory /home/kashurin/Tox24/dmpnn_try_3/search_4/hp_cv_1/m1 exists and is not empty.\n",
      "\n"
     ]
    },
    {
     "data": {
      "text/html": [
       "<pre style=\"white-space:pre;overflow-x:auto;line-height:normal;font-family:Menlo,'DejaVu Sans Mono',consolas,'Courier New',monospace\">┏━━━━━━━━━━━━━━━━━━━━━━━━━━━┳━━━━━━━━━━━━━━━━━━━━━━━━━━━┓\n",
       "┃<span style=\"font-weight: bold\">        Test metric        </span>┃<span style=\"font-weight: bold\">       DataLoader 0        </span>┃\n",
       "┡━━━━━━━━━━━━━━━━━━━━━━━━━━━╇━━━━━━━━━━━━━━━━━━━━━━━━━━━┩\n",
       "│<span style=\"color: #008080; text-decoration-color: #008080\"> batch_averaged_test/rmse  </span>│<span style=\"color: #800080; text-decoration-color: #800080\">     24.57101058959961     </span>│\n",
       "└───────────────────────────┴───────────────────────────┘\n",
       "</pre>\n"
      ],
      "text/plain": [
       "┏━━━━━━━━━━━━━━━━━━━━━━━━━━━┳━━━━━━━━━━━━━━━━━━━━━━━━━━━┓\n",
       "┃\u001b[1m \u001b[0m\u001b[1m       Test metric       \u001b[0m\u001b[1m \u001b[0m┃\u001b[1m \u001b[0m\u001b[1m      DataLoader 0       \u001b[0m\u001b[1m \u001b[0m┃\n",
       "┡━━━━━━━━━━━━━━━━━━━━━━━━━━━╇━━━━━━━━━━━━━━━━━━━━━━━━━━━┩\n",
       "│\u001b[36m \u001b[0m\u001b[36mbatch_averaged_test/rmse \u001b[0m\u001b[36m \u001b[0m│\u001b[35m \u001b[0m\u001b[35m    24.57101058959961    \u001b[0m\u001b[35m \u001b[0m│\n",
       "└───────────────────────────┴───────────────────────────┘\n"
      ]
     },
     "metadata": {},
     "output_type": "display_data"
    },
    {
     "name": "stdout",
     "output_type": "stream",
     "text": [
      "\n",
      "                                                                                                                                   \n",
      "\n",
      "Fold 2/5; Time 64.384;                                                                                                             \n",
      "\n",
      "Epoch 6: 100%|█████████████████████████████████████████████████| 13/13 [5:18:00<00:00,  0.00it/s, train_loss=0.781, val_loss=0.767]\u001b[A\n",
      "\n",
      "Epoch 17: 100%|████████████████████████████████████████████████| 13/13 [5:09:33<00:00,  0.00it/s, train_loss=0.643, val_loss=0.661]\u001b[A\u001b[A\n",
      "                                                                                                                                   \n",
      "\n",
      "Min val score 24.571; Training epochs 118                                                                                          \n",
      "\n",
      "Epoch 6: 100%|█████████████████████████████████████████████████| 13/13 [5:18:00<00:00,  0.00it/s, train_loss=0.781, val_loss=0.767]\u001b[A\n",
      "\n",
      "Epoch 17: 100%|████████████████████████████████████████████████| 13/13 [5:09:33<00:00,  0.00it/s, train_loss=0.643, val_loss=0.661]\u001b[A\u001b[A"
     ]
    },
    {
     "name": "stderr",
     "output_type": "stream",
     "text": [
      "/opt/calculation/anaconda3/envs/chemprop/lib/python3.11/site-packages/lightning/fabric/plugins/environments/slurm.py:204: The `srun` command is available on your system but is not used. HINT: If your intention is to run Lightning on SLURM, prepend your python command with `srun` like so: srun python /opt/calculation/anaconda3/envs/chemprop/lib/python3 ...\n",
      "\n",
      "/opt/calculation/anaconda3/envs/chemprop/lib/python3.11/site-packages/lightning/pytorch/callbacks/model_checkpoint.py:652: Checkpoint directory /home/kashurin/Tox24/dmpnn_try_3/search_4/hp_cv_1/m2 exists and is not empty.\n",
      "\n"
     ]
    },
    {
     "data": {
      "text/html": [
       "<pre style=\"white-space:pre;overflow-x:auto;line-height:normal;font-family:Menlo,'DejaVu Sans Mono',consolas,'Courier New',monospace\">┏━━━━━━━━━━━━━━━━━━━━━━━━━━━┳━━━━━━━━━━━━━━━━━━━━━━━━━━━┓\n",
       "┃<span style=\"font-weight: bold\">        Test metric        </span>┃<span style=\"font-weight: bold\">       DataLoader 0        </span>┃\n",
       "┡━━━━━━━━━━━━━━━━━━━━━━━━━━━╇━━━━━━━━━━━━━━━━━━━━━━━━━━━┩\n",
       "│<span style=\"color: #008080; text-decoration-color: #008080\"> batch_averaged_test/rmse  </span>│<span style=\"color: #800080; text-decoration-color: #800080\">    24.570491790771484     </span>│\n",
       "└───────────────────────────┴───────────────────────────┘\n",
       "</pre>\n"
      ],
      "text/plain": [
       "┏━━━━━━━━━━━━━━━━━━━━━━━━━━━┳━━━━━━━━━━━━━━━━━━━━━━━━━━━┓\n",
       "┃\u001b[1m \u001b[0m\u001b[1m       Test metric       \u001b[0m\u001b[1m \u001b[0m┃\u001b[1m \u001b[0m\u001b[1m      DataLoader 0       \u001b[0m\u001b[1m \u001b[0m┃\n",
       "┡━━━━━━━━━━━━━━━━━━━━━━━━━━━╇━━━━━━━━━━━━━━━━━━━━━━━━━━━┩\n",
       "│\u001b[36m \u001b[0m\u001b[36mbatch_averaged_test/rmse \u001b[0m\u001b[36m \u001b[0m│\u001b[35m \u001b[0m\u001b[35m   24.570491790771484    \u001b[0m\u001b[35m \u001b[0m│\n",
       "└───────────────────────────┴───────────────────────────┘\n"
      ]
     },
     "metadata": {},
     "output_type": "display_data"
    },
    {
     "name": "stdout",
     "output_type": "stream",
     "text": [
      "\n",
      "                                                                                                                                   \n",
      "\n",
      "Fold 3/5; Time 43.979;                                                                                                             \n",
      "\n",
      "Epoch 6: 100%|█████████████████████████████████████████████████| 13/13 [5:18:44<00:00,  0.00it/s, train_loss=0.781, val_loss=0.767]\u001b[A\n",
      "\n",
      "Epoch 17: 100%|████████████████████████████████████████████████| 13/13 [5:10:17<00:00,  0.00it/s, train_loss=0.643, val_loss=0.661]\u001b[A\u001b[A\n",
      "                                                                                                                                   \n",
      "\n",
      "Min val score 24.570; Training epochs 75                                                                                           \n",
      "\n",
      "Epoch 6: 100%|█████████████████████████████████████████████████| 13/13 [5:18:44<00:00,  0.00it/s, train_loss=0.781, val_loss=0.767]\u001b[A\n",
      "\n",
      "Epoch 17: 100%|████████████████████████████████████████████████| 13/13 [5:10:17<00:00,  0.00it/s, train_loss=0.643, val_loss=0.661]\u001b[A\u001b[A"
     ]
    },
    {
     "name": "stderr",
     "output_type": "stream",
     "text": [
      "/opt/calculation/anaconda3/envs/chemprop/lib/python3.11/site-packages/lightning/fabric/plugins/environments/slurm.py:204: The `srun` command is available on your system but is not used. HINT: If your intention is to run Lightning on SLURM, prepend your python command with `srun` like so: srun python /opt/calculation/anaconda3/envs/chemprop/lib/python3 ...\n",
      "\n",
      "/opt/calculation/anaconda3/envs/chemprop/lib/python3.11/site-packages/lightning/pytorch/callbacks/model_checkpoint.py:652: Checkpoint directory /home/kashurin/Tox24/dmpnn_try_3/search_4/hp_cv_1/m3 exists and is not empty.\n",
      "\n"
     ]
    },
    {
     "data": {
      "text/html": [
       "<pre style=\"white-space:pre;overflow-x:auto;line-height:normal;font-family:Menlo,'DejaVu Sans Mono',consolas,'Courier New',monospace\">┏━━━━━━━━━━━━━━━━━━━━━━━━━━━┳━━━━━━━━━━━━━━━━━━━━━━━━━━━┓\n",
       "┃<span style=\"font-weight: bold\">        Test metric        </span>┃<span style=\"font-weight: bold\">       DataLoader 0        </span>┃\n",
       "┡━━━━━━━━━━━━━━━━━━━━━━━━━━━╇━━━━━━━━━━━━━━━━━━━━━━━━━━━┩\n",
       "│<span style=\"color: #008080; text-decoration-color: #008080\"> batch_averaged_test/rmse  </span>│<span style=\"color: #800080; text-decoration-color: #800080\">     24.41553497314453     </span>│\n",
       "└───────────────────────────┴───────────────────────────┘\n",
       "</pre>\n"
      ],
      "text/plain": [
       "┏━━━━━━━━━━━━━━━━━━━━━━━━━━━┳━━━━━━━━━━━━━━━━━━━━━━━━━━━┓\n",
       "┃\u001b[1m \u001b[0m\u001b[1m       Test metric       \u001b[0m\u001b[1m \u001b[0m┃\u001b[1m \u001b[0m\u001b[1m      DataLoader 0       \u001b[0m\u001b[1m \u001b[0m┃\n",
       "┡━━━━━━━━━━━━━━━━━━━━━━━━━━━╇━━━━━━━━━━━━━━━━━━━━━━━━━━━┩\n",
       "│\u001b[36m \u001b[0m\u001b[36mbatch_averaged_test/rmse \u001b[0m\u001b[36m \u001b[0m│\u001b[35m \u001b[0m\u001b[35m    24.41553497314453    \u001b[0m\u001b[35m \u001b[0m│\n",
       "└───────────────────────────┴───────────────────────────┘\n"
      ]
     },
     "metadata": {},
     "output_type": "display_data"
    },
    {
     "name": "stdout",
     "output_type": "stream",
     "text": [
      "\n",
      "                                                                                                                                   \n",
      "\n",
      "Fold 4/5; Time 51.668;                                                                                                             \n",
      "\n",
      "Epoch 6: 100%|█████████████████████████████████████████████████| 13/13 [5:19:35<00:00,  0.00it/s, train_loss=0.781, val_loss=0.767]\u001b[A\n",
      "\n",
      "Epoch 17: 100%|████████████████████████████████████████████████| 13/13 [5:11:08<00:00,  0.00it/s, train_loss=0.643, val_loss=0.661]\u001b[A\u001b[A\n",
      "                                                                                                                                   \n",
      "\n",
      "Min val score 24.416; Training epochs 98                                                                                           \n",
      "\n",
      "Epoch 6: 100%|█████████████████████████████████████████████████| 13/13 [5:19:35<00:00,  0.00it/s, train_loss=0.781, val_loss=0.767]\u001b[A\n",
      "\n",
      "Epoch 17: 100%|████████████████████████████████████████████████| 13/13 [5:11:08<00:00,  0.00it/s, train_loss=0.643, val_loss=0.661]\u001b[A\u001b[A"
     ]
    },
    {
     "name": "stderr",
     "output_type": "stream",
     "text": [
      "/opt/calculation/anaconda3/envs/chemprop/lib/python3.11/site-packages/lightning/fabric/plugins/environments/slurm.py:204: The `srun` command is available on your system but is not used. HINT: If your intention is to run Lightning on SLURM, prepend your python command with `srun` like so: srun python /opt/calculation/anaconda3/envs/chemprop/lib/python3 ...\n",
      "\n",
      "/opt/calculation/anaconda3/envs/chemprop/lib/python3.11/site-packages/lightning/pytorch/callbacks/model_checkpoint.py:652: Checkpoint directory /home/kashurin/Tox24/dmpnn_try_3/search_4/hp_cv_1/m4 exists and is not empty.\n",
      "\n"
     ]
    },
    {
     "data": {
      "text/html": [
       "<pre style=\"white-space:pre;overflow-x:auto;line-height:normal;font-family:Menlo,'DejaVu Sans Mono',consolas,'Courier New',monospace\">┏━━━━━━━━━━━━━━━━━━━━━━━━━━━┳━━━━━━━━━━━━━━━━━━━━━━━━━━━┓\n",
       "┃<span style=\"font-weight: bold\">        Test metric        </span>┃<span style=\"font-weight: bold\">       DataLoader 0        </span>┃\n",
       "┡━━━━━━━━━━━━━━━━━━━━━━━━━━━╇━━━━━━━━━━━━━━━━━━━━━━━━━━━┩\n",
       "│<span style=\"color: #008080; text-decoration-color: #008080\"> batch_averaged_test/rmse  </span>│<span style=\"color: #800080; text-decoration-color: #800080\">     27.04168701171875     </span>│\n",
       "└───────────────────────────┴───────────────────────────┘\n",
       "</pre>\n"
      ],
      "text/plain": [
       "┏━━━━━━━━━━━━━━━━━━━━━━━━━━━┳━━━━━━━━━━━━━━━━━━━━━━━━━━━┓\n",
       "┃\u001b[1m \u001b[0m\u001b[1m       Test metric       \u001b[0m\u001b[1m \u001b[0m┃\u001b[1m \u001b[0m\u001b[1m      DataLoader 0       \u001b[0m\u001b[1m \u001b[0m┃\n",
       "┡━━━━━━━━━━━━━━━━━━━━━━━━━━━╇━━━━━━━━━━━━━━━━━━━━━━━━━━━┩\n",
       "│\u001b[36m \u001b[0m\u001b[36mbatch_averaged_test/rmse \u001b[0m\u001b[36m \u001b[0m│\u001b[35m \u001b[0m\u001b[35m    27.04168701171875    \u001b[0m\u001b[35m \u001b[0m│\n",
       "└───────────────────────────┴───────────────────────────┘\n"
      ]
     },
     "metadata": {},
     "output_type": "display_data"
    },
    {
     "name": "stdout",
     "output_type": "stream",
     "text": [
      "\n",
      "                                                                                                                                   \n",
      "\n",
      "Fold 5/5; Time 107.744;                                                                                                            \n",
      "\n",
      "Epoch 6: 100%|█████████████████████████████████████████████████| 13/13 [5:21:23<00:00,  0.00it/s, train_loss=0.781, val_loss=0.767]\u001b[A\n",
      "\n",
      "Epoch 17: 100%|████████████████████████████████████████████████| 13/13 [5:12:56<00:00,  0.00it/s, train_loss=0.643, val_loss=0.661]\u001b[A\u001b[A\n",
      "                                                                                                                                   \n",
      "\n",
      "Min val score 27.042; Training epochs 215                                                                                          \n",
      "\n",
      "Epoch 6: 100%|█████████████████████████████████████████████████| 13/13 [5:21:23<00:00,  0.00it/s, train_loss=0.781, val_loss=0.767]\u001b[A\n",
      "\n",
      "Epoch 17: 100%|████████████████████████████████████████████████| 13/13 [5:12:56<00:00,  0.00it/s, train_loss=0.643, val_loss=0.661]\u001b[A\u001b[A\n",
      "\n",
      " 96%|██████████████████████████████████████████████████████▊  | 77/80 [1:31:58<13:46, 275.56s/trial, best loss: 23.649148559570314]\u001b[A\u001b[A"
     ]
    },
    {
     "name": "stderr",
     "output_type": "stream",
     "text": [
      "/opt/calculation/anaconda3/envs/chemprop/lib/python3.11/site-packages/lightning/fabric/plugins/environments/slurm.py:204: The `srun` command is available on your system but is not used. HINT: If your intention is to run Lightning on SLURM, prepend your python command with `srun` like so: srun python /opt/calculation/anaconda3/envs/chemprop/lib/python3 ...\n",
      "\n",
      "/opt/calculation/anaconda3/envs/chemprop/lib/python3.11/site-packages/lightning/pytorch/callbacks/model_checkpoint.py:652: Checkpoint directory /home/kashurin/Tox24/dmpnn_try_3/search_4/hp_cv_1/m0 exists and is not empty.\n",
      "\n"
     ]
    },
    {
     "data": {
      "text/html": [
       "<pre style=\"white-space:pre;overflow-x:auto;line-height:normal;font-family:Menlo,'DejaVu Sans Mono',consolas,'Courier New',monospace\">┏━━━━━━━━━━━━━━━━━━━━━━━━━━━┳━━━━━━━━━━━━━━━━━━━━━━━━━━━┓\n",
       "┃<span style=\"font-weight: bold\">        Test metric        </span>┃<span style=\"font-weight: bold\">       DataLoader 0        </span>┃\n",
       "┡━━━━━━━━━━━━━━━━━━━━━━━━━━━╇━━━━━━━━━━━━━━━━━━━━━━━━━━━┩\n",
       "│<span style=\"color: #008080; text-decoration-color: #008080\"> batch_averaged_test/rmse  </span>│<span style=\"color: #800080; text-decoration-color: #800080\">     26.78528594970703     </span>│\n",
       "└───────────────────────────┴───────────────────────────┘\n",
       "</pre>\n"
      ],
      "text/plain": [
       "┏━━━━━━━━━━━━━━━━━━━━━━━━━━━┳━━━━━━━━━━━━━━━━━━━━━━━━━━━┓\n",
       "┃\u001b[1m \u001b[0m\u001b[1m       Test metric       \u001b[0m\u001b[1m \u001b[0m┃\u001b[1m \u001b[0m\u001b[1m      DataLoader 0       \u001b[0m\u001b[1m \u001b[0m┃\n",
       "┡━━━━━━━━━━━━━━━━━━━━━━━━━━━╇━━━━━━━━━━━━━━━━━━━━━━━━━━━┩\n",
       "│\u001b[36m \u001b[0m\u001b[36mbatch_averaged_test/rmse \u001b[0m\u001b[36m \u001b[0m│\u001b[35m \u001b[0m\u001b[35m    26.78528594970703    \u001b[0m\u001b[35m \u001b[0m│\n",
       "└───────────────────────────┴───────────────────────────┘\n"
      ]
     },
     "metadata": {},
     "output_type": "display_data"
    },
    {
     "name": "stdout",
     "output_type": "stream",
     "text": [
      "\n",
      "                                                                                                                                   \n",
      "\n",
      "Fold 1/5; Time 25.596;                                                                                                             \n",
      "\n",
      "Epoch 6: 100%|█████████████████████████████████████████████████| 13/13 [5:21:49<00:00,  0.00it/s, train_loss=0.781, val_loss=0.767]\u001b[A\n",
      "\n",
      "Epoch 17: 100%|████████████████████████████████████████████████| 13/13 [5:13:22<00:00,  0.00it/s, train_loss=0.643, val_loss=0.661]\u001b[A\u001b[A\n",
      "                                                                                                                                   \n",
      "\n",
      "Min val score 26.785; Training epochs 56                                                                                           \n",
      "\n",
      "Epoch 6: 100%|█████████████████████████████████████████████████| 13/13 [5:21:49<00:00,  0.00it/s, train_loss=0.781, val_loss=0.767]\u001b[A\n",
      "\n",
      "Epoch 17: 100%|████████████████████████████████████████████████| 13/13 [5:13:22<00:00,  0.00it/s, train_loss=0.643, val_loss=0.661]\u001b[A\u001b[A"
     ]
    },
    {
     "name": "stderr",
     "output_type": "stream",
     "text": [
      "/opt/calculation/anaconda3/envs/chemprop/lib/python3.11/site-packages/lightning/fabric/plugins/environments/slurm.py:204: The `srun` command is available on your system but is not used. HINT: If your intention is to run Lightning on SLURM, prepend your python command with `srun` like so: srun python /opt/calculation/anaconda3/envs/chemprop/lib/python3 ...\n",
      "\n",
      "/opt/calculation/anaconda3/envs/chemprop/lib/python3.11/site-packages/lightning/pytorch/callbacks/model_checkpoint.py:652: Checkpoint directory /home/kashurin/Tox24/dmpnn_try_3/search_4/hp_cv_1/m1 exists and is not empty.\n",
      "\n"
     ]
    },
    {
     "data": {
      "text/html": [
       "<pre style=\"white-space:pre;overflow-x:auto;line-height:normal;font-family:Menlo,'DejaVu Sans Mono',consolas,'Courier New',monospace\">┏━━━━━━━━━━━━━━━━━━━━━━━━━━━┳━━━━━━━━━━━━━━━━━━━━━━━━━━━┓\n",
       "┃<span style=\"font-weight: bold\">        Test metric        </span>┃<span style=\"font-weight: bold\">       DataLoader 0        </span>┃\n",
       "┡━━━━━━━━━━━━━━━━━━━━━━━━━━━╇━━━━━━━━━━━━━━━━━━━━━━━━━━━┩\n",
       "│<span style=\"color: #008080; text-decoration-color: #008080\"> batch_averaged_test/rmse  </span>│<span style=\"color: #800080; text-decoration-color: #800080\">    25.455068588256836     </span>│\n",
       "└───────────────────────────┴───────────────────────────┘\n",
       "</pre>\n"
      ],
      "text/plain": [
       "┏━━━━━━━━━━━━━━━━━━━━━━━━━━━┳━━━━━━━━━━━━━━━━━━━━━━━━━━━┓\n",
       "┃\u001b[1m \u001b[0m\u001b[1m       Test metric       \u001b[0m\u001b[1m \u001b[0m┃\u001b[1m \u001b[0m\u001b[1m      DataLoader 0       \u001b[0m\u001b[1m \u001b[0m┃\n",
       "┡━━━━━━━━━━━━━━━━━━━━━━━━━━━╇━━━━━━━━━━━━━━━━━━━━━━━━━━━┩\n",
       "│\u001b[36m \u001b[0m\u001b[36mbatch_averaged_test/rmse \u001b[0m\u001b[36m \u001b[0m│\u001b[35m \u001b[0m\u001b[35m   25.455068588256836    \u001b[0m\u001b[35m \u001b[0m│\n",
       "└───────────────────────────┴───────────────────────────┘\n"
      ]
     },
     "metadata": {},
     "output_type": "display_data"
    },
    {
     "name": "stdout",
     "output_type": "stream",
     "text": [
      "\n",
      "                                                                                                                                   \n",
      "\n",
      "Fold 2/5; Time 52.931;                                                                                                             \n",
      "\n",
      "Epoch 6: 100%|█████████████████████████████████████████████████| 13/13 [5:22:42<00:00,  0.00it/s, train_loss=0.781, val_loss=0.767]\u001b[A\n",
      "\n",
      "Epoch 17: 100%|████████████████████████████████████████████████| 13/13 [5:14:15<00:00,  0.00it/s, train_loss=0.643, val_loss=0.661]\u001b[A\u001b[A\n",
      "                                                                                                                                   \n",
      "\n",
      "Min val score 25.455; Training epochs 114                                                                                          \n",
      "\n",
      "Epoch 6: 100%|█████████████████████████████████████████████████| 13/13 [5:22:42<00:00,  0.00it/s, train_loss=0.781, val_loss=0.767]\u001b[A\n",
      "\n",
      "Epoch 17: 100%|████████████████████████████████████████████████| 13/13 [5:14:15<00:00,  0.00it/s, train_loss=0.643, val_loss=0.661]\u001b[A\u001b[A"
     ]
    },
    {
     "name": "stderr",
     "output_type": "stream",
     "text": [
      "/opt/calculation/anaconda3/envs/chemprop/lib/python3.11/site-packages/lightning/fabric/plugins/environments/slurm.py:204: The `srun` command is available on your system but is not used. HINT: If your intention is to run Lightning on SLURM, prepend your python command with `srun` like so: srun python /opt/calculation/anaconda3/envs/chemprop/lib/python3 ...\n",
      "\n",
      "/opt/calculation/anaconda3/envs/chemprop/lib/python3.11/site-packages/lightning/pytorch/callbacks/model_checkpoint.py:652: Checkpoint directory /home/kashurin/Tox24/dmpnn_try_3/search_4/hp_cv_1/m2 exists and is not empty.\n",
      "\n"
     ]
    },
    {
     "data": {
      "text/html": [
       "<pre style=\"white-space:pre;overflow-x:auto;line-height:normal;font-family:Menlo,'DejaVu Sans Mono',consolas,'Courier New',monospace\">┏━━━━━━━━━━━━━━━━━━━━━━━━━━━┳━━━━━━━━━━━━━━━━━━━━━━━━━━━┓\n",
       "┃<span style=\"font-weight: bold\">        Test metric        </span>┃<span style=\"font-weight: bold\">       DataLoader 0        </span>┃\n",
       "┡━━━━━━━━━━━━━━━━━━━━━━━━━━━╇━━━━━━━━━━━━━━━━━━━━━━━━━━━┩\n",
       "│<span style=\"color: #008080; text-decoration-color: #008080\"> batch_averaged_test/rmse  </span>│<span style=\"color: #800080; text-decoration-color: #800080\">     25.28266143798828     </span>│\n",
       "└───────────────────────────┴───────────────────────────┘\n",
       "</pre>\n"
      ],
      "text/plain": [
       "┏━━━━━━━━━━━━━━━━━━━━━━━━━━━┳━━━━━━━━━━━━━━━━━━━━━━━━━━━┓\n",
       "┃\u001b[1m \u001b[0m\u001b[1m       Test metric       \u001b[0m\u001b[1m \u001b[0m┃\u001b[1m \u001b[0m\u001b[1m      DataLoader 0       \u001b[0m\u001b[1m \u001b[0m┃\n",
       "┡━━━━━━━━━━━━━━━━━━━━━━━━━━━╇━━━━━━━━━━━━━━━━━━━━━━━━━━━┩\n",
       "│\u001b[36m \u001b[0m\u001b[36mbatch_averaged_test/rmse \u001b[0m\u001b[36m \u001b[0m│\u001b[35m \u001b[0m\u001b[35m    25.28266143798828    \u001b[0m\u001b[35m \u001b[0m│\n",
       "└───────────────────────────┴───────────────────────────┘\n"
      ]
     },
     "metadata": {},
     "output_type": "display_data"
    },
    {
     "name": "stdout",
     "output_type": "stream",
     "text": [
      "\n",
      "                                                                                                                                   \n",
      "\n",
      "Fold 3/5; Time 32.928;                                                                                                             \n",
      "\n",
      "Epoch 6: 100%|█████████████████████████████████████████████████| 13/13 [5:23:15<00:00,  0.00it/s, train_loss=0.781, val_loss=0.767]\u001b[A\n",
      "\n",
      "Epoch 17: 100%|████████████████████████████████████████████████| 13/13 [5:14:48<00:00,  0.00it/s, train_loss=0.643, val_loss=0.661]\u001b[A\u001b[A\n",
      "                                                                                                                                   \n",
      "\n",
      "Min val score 25.283; Training epochs 72                                                                                           \n",
      "\n",
      "Epoch 6: 100%|█████████████████████████████████████████████████| 13/13 [5:23:15<00:00,  0.00it/s, train_loss=0.781, val_loss=0.767]\u001b[A\n",
      "\n",
      "Epoch 17: 100%|████████████████████████████████████████████████| 13/13 [5:14:48<00:00,  0.00it/s, train_loss=0.643, val_loss=0.661]\u001b[A\u001b[A"
     ]
    },
    {
     "name": "stderr",
     "output_type": "stream",
     "text": [
      "/opt/calculation/anaconda3/envs/chemprop/lib/python3.11/site-packages/lightning/fabric/plugins/environments/slurm.py:204: The `srun` command is available on your system but is not used. HINT: If your intention is to run Lightning on SLURM, prepend your python command with `srun` like so: srun python /opt/calculation/anaconda3/envs/chemprop/lib/python3 ...\n",
      "\n",
      "/opt/calculation/anaconda3/envs/chemprop/lib/python3.11/site-packages/lightning/pytorch/callbacks/model_checkpoint.py:652: Checkpoint directory /home/kashurin/Tox24/dmpnn_try_3/search_4/hp_cv_1/m3 exists and is not empty.\n",
      "\n"
     ]
    },
    {
     "data": {
      "text/html": [
       "<pre style=\"white-space:pre;overflow-x:auto;line-height:normal;font-family:Menlo,'DejaVu Sans Mono',consolas,'Courier New',monospace\">┏━━━━━━━━━━━━━━━━━━━━━━━━━━━┳━━━━━━━━━━━━━━━━━━━━━━━━━━━┓\n",
       "┃<span style=\"font-weight: bold\">        Test metric        </span>┃<span style=\"font-weight: bold\">       DataLoader 0        </span>┃\n",
       "┡━━━━━━━━━━━━━━━━━━━━━━━━━━━╇━━━━━━━━━━━━━━━━━━━━━━━━━━━┩\n",
       "│<span style=\"color: #008080; text-decoration-color: #008080\"> batch_averaged_test/rmse  </span>│<span style=\"color: #800080; text-decoration-color: #800080\">    25.490224838256836     </span>│\n",
       "└───────────────────────────┴───────────────────────────┘\n",
       "</pre>\n"
      ],
      "text/plain": [
       "┏━━━━━━━━━━━━━━━━━━━━━━━━━━━┳━━━━━━━━━━━━━━━━━━━━━━━━━━━┓\n",
       "┃\u001b[1m \u001b[0m\u001b[1m       Test metric       \u001b[0m\u001b[1m \u001b[0m┃\u001b[1m \u001b[0m\u001b[1m      DataLoader 0       \u001b[0m\u001b[1m \u001b[0m┃\n",
       "┡━━━━━━━━━━━━━━━━━━━━━━━━━━━╇━━━━━━━━━━━━━━━━━━━━━━━━━━━┩\n",
       "│\u001b[36m \u001b[0m\u001b[36mbatch_averaged_test/rmse \u001b[0m\u001b[36m \u001b[0m│\u001b[35m \u001b[0m\u001b[35m   25.490224838256836    \u001b[0m\u001b[35m \u001b[0m│\n",
       "└───────────────────────────┴───────────────────────────┘\n"
      ]
     },
     "metadata": {},
     "output_type": "display_data"
    },
    {
     "name": "stdout",
     "output_type": "stream",
     "text": [
      "\n",
      "                                                                                                                                   \n",
      "\n",
      "Fold 4/5; Time 40.449;                                                                                                             \n",
      "\n",
      "Epoch 6: 100%|█████████████████████████████████████████████████| 13/13 [5:23:55<00:00,  0.00it/s, train_loss=0.781, val_loss=0.767]\u001b[A\n",
      "\n",
      "Epoch 17: 100%|████████████████████████████████████████████████| 13/13 [5:15:28<00:00,  0.00it/s, train_loss=0.643, val_loss=0.661]\u001b[A\u001b[A\n",
      "                                                                                                                                   \n",
      "\n",
      "Min val score 25.490; Training epochs 89                                                                                           \n",
      "\n",
      "Epoch 6: 100%|█████████████████████████████████████████████████| 13/13 [5:23:55<00:00,  0.00it/s, train_loss=0.781, val_loss=0.767]\u001b[A\n",
      "\n",
      "Epoch 17: 100%|████████████████████████████████████████████████| 13/13 [5:15:28<00:00,  0.00it/s, train_loss=0.643, val_loss=0.661]\u001b[A\u001b[A"
     ]
    },
    {
     "name": "stderr",
     "output_type": "stream",
     "text": [
      "/opt/calculation/anaconda3/envs/chemprop/lib/python3.11/site-packages/lightning/fabric/plugins/environments/slurm.py:204: The `srun` command is available on your system but is not used. HINT: If your intention is to run Lightning on SLURM, prepend your python command with `srun` like so: srun python /opt/calculation/anaconda3/envs/chemprop/lib/python3 ...\n",
      "\n",
      "/opt/calculation/anaconda3/envs/chemprop/lib/python3.11/site-packages/lightning/pytorch/callbacks/model_checkpoint.py:652: Checkpoint directory /home/kashurin/Tox24/dmpnn_try_3/search_4/hp_cv_1/m4 exists and is not empty.\n",
      "\n"
     ]
    },
    {
     "data": {
      "text/html": [
       "<pre style=\"white-space:pre;overflow-x:auto;line-height:normal;font-family:Menlo,'DejaVu Sans Mono',consolas,'Courier New',monospace\">┏━━━━━━━━━━━━━━━━━━━━━━━━━━━┳━━━━━━━━━━━━━━━━━━━━━━━━━━━┓\n",
       "┃<span style=\"font-weight: bold\">        Test metric        </span>┃<span style=\"font-weight: bold\">       DataLoader 0        </span>┃\n",
       "┡━━━━━━━━━━━━━━━━━━━━━━━━━━━╇━━━━━━━━━━━━━━━━━━━━━━━━━━━┩\n",
       "│<span style=\"color: #008080; text-decoration-color: #008080\"> batch_averaged_test/rmse  </span>│<span style=\"color: #800080; text-decoration-color: #800080\">    28.877674102783203     </span>│\n",
       "└───────────────────────────┴───────────────────────────┘\n",
       "</pre>\n"
      ],
      "text/plain": [
       "┏━━━━━━━━━━━━━━━━━━━━━━━━━━━┳━━━━━━━━━━━━━━━━━━━━━━━━━━━┓\n",
       "┃\u001b[1m \u001b[0m\u001b[1m       Test metric       \u001b[0m\u001b[1m \u001b[0m┃\u001b[1m \u001b[0m\u001b[1m      DataLoader 0       \u001b[0m\u001b[1m \u001b[0m┃\n",
       "┡━━━━━━━━━━━━━━━━━━━━━━━━━━━╇━━━━━━━━━━━━━━━━━━━━━━━━━━━┩\n",
       "│\u001b[36m \u001b[0m\u001b[36mbatch_averaged_test/rmse \u001b[0m\u001b[36m \u001b[0m│\u001b[35m \u001b[0m\u001b[35m   28.877674102783203    \u001b[0m\u001b[35m \u001b[0m│\n",
       "└───────────────────────────┴───────────────────────────┘\n"
      ]
     },
     "metadata": {},
     "output_type": "display_data"
    },
    {
     "name": "stdout",
     "output_type": "stream",
     "text": [
      "\n",
      "                                                                                                                                   \n",
      "\n",
      "Fold 5/5; Time 52.699;                                                                                                             \n",
      "\n",
      "Epoch 6: 100%|█████████████████████████████████████████████████| 13/13 [5:24:48<00:00,  0.00it/s, train_loss=0.781, val_loss=0.767]\u001b[A\n",
      "\n",
      "Epoch 17: 100%|████████████████████████████████████████████████| 13/13 [5:16:21<00:00,  0.00it/s, train_loss=0.643, val_loss=0.661]\u001b[A\u001b[A\n",
      "                                                                                                                                   \n",
      "\n",
      "Min val score 28.878; Training epochs 116                                                                                          \n",
      "\n",
      "Epoch 6: 100%|█████████████████████████████████████████████████| 13/13 [5:24:48<00:00,  0.00it/s, train_loss=0.781, val_loss=0.767]\u001b[A\n",
      "\n",
      "Epoch 17: 100%|████████████████████████████████████████████████| 13/13 [5:16:21<00:00,  0.00it/s, train_loss=0.643, val_loss=0.661]\u001b[A\u001b[A\n",
      "\n",
      " 98%|███████████████████████████████████████████████████████▌ | 78/80 [1:35:22<08:28, 254.31s/trial, best loss: 23.649148559570314]\u001b[A\u001b[A"
     ]
    },
    {
     "name": "stderr",
     "output_type": "stream",
     "text": [
      "/opt/calculation/anaconda3/envs/chemprop/lib/python3.11/site-packages/lightning/fabric/plugins/environments/slurm.py:204: The `srun` command is available on your system but is not used. HINT: If your intention is to run Lightning on SLURM, prepend your python command with `srun` like so: srun python /opt/calculation/anaconda3/envs/chemprop/lib/python3 ...\n",
      "\n",
      "/opt/calculation/anaconda3/envs/chemprop/lib/python3.11/site-packages/lightning/pytorch/callbacks/model_checkpoint.py:652: Checkpoint directory /home/kashurin/Tox24/dmpnn_try_3/search_4/hp_cv_1/m0 exists and is not empty.\n",
      "\n"
     ]
    },
    {
     "data": {
      "text/html": [
       "<pre style=\"white-space:pre;overflow-x:auto;line-height:normal;font-family:Menlo,'DejaVu Sans Mono',consolas,'Courier New',monospace\">┏━━━━━━━━━━━━━━━━━━━━━━━━━━━┳━━━━━━━━━━━━━━━━━━━━━━━━━━━┓\n",
       "┃<span style=\"font-weight: bold\">        Test metric        </span>┃<span style=\"font-weight: bold\">       DataLoader 0        </span>┃\n",
       "┡━━━━━━━━━━━━━━━━━━━━━━━━━━━╇━━━━━━━━━━━━━━━━━━━━━━━━━━━┩\n",
       "│<span style=\"color: #008080; text-decoration-color: #008080\"> batch_averaged_test/rmse  </span>│<span style=\"color: #800080; text-decoration-color: #800080\">     25.30091094970703     </span>│\n",
       "└───────────────────────────┴───────────────────────────┘\n",
       "</pre>\n"
      ],
      "text/plain": [
       "┏━━━━━━━━━━━━━━━━━━━━━━━━━━━┳━━━━━━━━━━━━━━━━━━━━━━━━━━━┓\n",
       "┃\u001b[1m \u001b[0m\u001b[1m       Test metric       \u001b[0m\u001b[1m \u001b[0m┃\u001b[1m \u001b[0m\u001b[1m      DataLoader 0       \u001b[0m\u001b[1m \u001b[0m┃\n",
       "┡━━━━━━━━━━━━━━━━━━━━━━━━━━━╇━━━━━━━━━━━━━━━━━━━━━━━━━━━┩\n",
       "│\u001b[36m \u001b[0m\u001b[36mbatch_averaged_test/rmse \u001b[0m\u001b[36m \u001b[0m│\u001b[35m \u001b[0m\u001b[35m    25.30091094970703    \u001b[0m\u001b[35m \u001b[0m│\n",
       "└───────────────────────────┴───────────────────────────┘\n"
      ]
     },
     "metadata": {},
     "output_type": "display_data"
    },
    {
     "name": "stdout",
     "output_type": "stream",
     "text": [
      "\n",
      "                                                                                                                                   \n",
      "\n",
      "Fold 1/5; Time 52.761;                                                                                                             \n",
      "\n",
      "Epoch 6: 100%|█████████████████████████████████████████████████| 13/13 [5:25:41<00:00,  0.00it/s, train_loss=0.781, val_loss=0.767]\u001b[A\n",
      "\n",
      "Epoch 17: 100%|████████████████████████████████████████████████| 13/13 [5:17:14<00:00,  0.00it/s, train_loss=0.643, val_loss=0.661]\u001b[A\u001b[A\n",
      "                                                                                                                                   \n",
      "\n",
      "Min val score 25.301; Training epochs 117                                                                                          \n",
      "\n",
      "Epoch 6: 100%|█████████████████████████████████████████████████| 13/13 [5:25:41<00:00,  0.00it/s, train_loss=0.781, val_loss=0.767]\u001b[A\n",
      "\n",
      "Epoch 17: 100%|████████████████████████████████████████████████| 13/13 [5:17:14<00:00,  0.00it/s, train_loss=0.643, val_loss=0.661]\u001b[A\u001b[A"
     ]
    },
    {
     "name": "stderr",
     "output_type": "stream",
     "text": [
      "/opt/calculation/anaconda3/envs/chemprop/lib/python3.11/site-packages/lightning/fabric/plugins/environments/slurm.py:204: The `srun` command is available on your system but is not used. HINT: If your intention is to run Lightning on SLURM, prepend your python command with `srun` like so: srun python /opt/calculation/anaconda3/envs/chemprop/lib/python3 ...\n",
      "\n",
      "/opt/calculation/anaconda3/envs/chemprop/lib/python3.11/site-packages/lightning/pytorch/callbacks/model_checkpoint.py:652: Checkpoint directory /home/kashurin/Tox24/dmpnn_try_3/search_4/hp_cv_1/m1 exists and is not empty.\n",
      "\n"
     ]
    },
    {
     "data": {
      "text/html": [
       "<pre style=\"white-space:pre;overflow-x:auto;line-height:normal;font-family:Menlo,'DejaVu Sans Mono',consolas,'Courier New',monospace\">┏━━━━━━━━━━━━━━━━━━━━━━━━━━━┳━━━━━━━━━━━━━━━━━━━━━━━━━━━┓\n",
       "┃<span style=\"font-weight: bold\">        Test metric        </span>┃<span style=\"font-weight: bold\">       DataLoader 0        </span>┃\n",
       "┡━━━━━━━━━━━━━━━━━━━━━━━━━━━╇━━━━━━━━━━━━━━━━━━━━━━━━━━━┩\n",
       "│<span style=\"color: #008080; text-decoration-color: #008080\"> batch_averaged_test/rmse  </span>│<span style=\"color: #800080; text-decoration-color: #800080\">     23.46070671081543     </span>│\n",
       "└───────────────────────────┴───────────────────────────┘\n",
       "</pre>\n"
      ],
      "text/plain": [
       "┏━━━━━━━━━━━━━━━━━━━━━━━━━━━┳━━━━━━━━━━━━━━━━━━━━━━━━━━━┓\n",
       "┃\u001b[1m \u001b[0m\u001b[1m       Test metric       \u001b[0m\u001b[1m \u001b[0m┃\u001b[1m \u001b[0m\u001b[1m      DataLoader 0       \u001b[0m\u001b[1m \u001b[0m┃\n",
       "┡━━━━━━━━━━━━━━━━━━━━━━━━━━━╇━━━━━━━━━━━━━━━━━━━━━━━━━━━┩\n",
       "│\u001b[36m \u001b[0m\u001b[36mbatch_averaged_test/rmse \u001b[0m\u001b[36m \u001b[0m│\u001b[35m \u001b[0m\u001b[35m    23.46070671081543    \u001b[0m\u001b[35m \u001b[0m│\n",
       "└───────────────────────────┴───────────────────────────┘\n"
      ]
     },
     "metadata": {},
     "output_type": "display_data"
    },
    {
     "name": "stdout",
     "output_type": "stream",
     "text": [
      "\n",
      "                                                                                                                                   \n",
      "\n",
      "Fold 2/5; Time 28.162;                                                                                                             \n",
      "\n",
      "Epoch 6: 100%|█████████████████████████████████████████████████| 13/13 [5:26:09<00:00,  0.00it/s, train_loss=0.781, val_loss=0.767]\u001b[A\n",
      "\n",
      "Epoch 17: 100%|████████████████████████████████████████████████| 13/13 [5:17:42<00:00,  0.00it/s, train_loss=0.643, val_loss=0.661]\u001b[A\u001b[A\n",
      "                                                                                                                                   \n",
      "\n",
      "Min val score 23.461; Training epochs 61                                                                                           \n",
      "\n",
      "Epoch 6: 100%|█████████████████████████████████████████████████| 13/13 [5:26:09<00:00,  0.00it/s, train_loss=0.781, val_loss=0.767]\u001b[A\n",
      "\n",
      "Epoch 17: 100%|████████████████████████████████████████████████| 13/13 [5:17:42<00:00,  0.00it/s, train_loss=0.643, val_loss=0.661]\u001b[A\u001b[A"
     ]
    },
    {
     "name": "stderr",
     "output_type": "stream",
     "text": [
      "/opt/calculation/anaconda3/envs/chemprop/lib/python3.11/site-packages/lightning/fabric/plugins/environments/slurm.py:204: The `srun` command is available on your system but is not used. HINT: If your intention is to run Lightning on SLURM, prepend your python command with `srun` like so: srun python /opt/calculation/anaconda3/envs/chemprop/lib/python3 ...\n",
      "\n",
      "/opt/calculation/anaconda3/envs/chemprop/lib/python3.11/site-packages/lightning/pytorch/callbacks/model_checkpoint.py:652: Checkpoint directory /home/kashurin/Tox24/dmpnn_try_3/search_4/hp_cv_1/m2 exists and is not empty.\n",
      "\n"
     ]
    },
    {
     "data": {
      "text/html": [
       "<pre style=\"white-space:pre;overflow-x:auto;line-height:normal;font-family:Menlo,'DejaVu Sans Mono',consolas,'Courier New',monospace\">┏━━━━━━━━━━━━━━━━━━━━━━━━━━━┳━━━━━━━━━━━━━━━━━━━━━━━━━━━┓\n",
       "┃<span style=\"font-weight: bold\">        Test metric        </span>┃<span style=\"font-weight: bold\">       DataLoader 0        </span>┃\n",
       "┡━━━━━━━━━━━━━━━━━━━━━━━━━━━╇━━━━━━━━━━━━━━━━━━━━━━━━━━━┩\n",
       "│<span style=\"color: #008080; text-decoration-color: #008080\"> batch_averaged_test/rmse  </span>│<span style=\"color: #800080; text-decoration-color: #800080\">     22.1450252532959      </span>│\n",
       "└───────────────────────────┴───────────────────────────┘\n",
       "</pre>\n"
      ],
      "text/plain": [
       "┏━━━━━━━━━━━━━━━━━━━━━━━━━━━┳━━━━━━━━━━━━━━━━━━━━━━━━━━━┓\n",
       "┃\u001b[1m \u001b[0m\u001b[1m       Test metric       \u001b[0m\u001b[1m \u001b[0m┃\u001b[1m \u001b[0m\u001b[1m      DataLoader 0       \u001b[0m\u001b[1m \u001b[0m┃\n",
       "┡━━━━━━━━━━━━━━━━━━━━━━━━━━━╇━━━━━━━━━━━━━━━━━━━━━━━━━━━┩\n",
       "│\u001b[36m \u001b[0m\u001b[36mbatch_averaged_test/rmse \u001b[0m\u001b[36m \u001b[0m│\u001b[35m \u001b[0m\u001b[35m    22.1450252532959     \u001b[0m\u001b[35m \u001b[0m│\n",
       "└───────────────────────────┴───────────────────────────┘\n"
      ]
     },
     "metadata": {},
     "output_type": "display_data"
    },
    {
     "name": "stdout",
     "output_type": "stream",
     "text": [
      "\n",
      "                                                                                                                                   \n",
      "\n",
      "Fold 3/5; Time 41.027;                                                                                                             \n",
      "\n",
      "Epoch 6: 100%|█████████████████████████████████████████████████| 13/13 [5:26:50<00:00,  0.00it/s, train_loss=0.781, val_loss=0.767]\u001b[A\n",
      "\n",
      "Epoch 17: 100%|████████████████████████████████████████████████| 13/13 [5:18:23<00:00,  0.00it/s, train_loss=0.643, val_loss=0.661]\u001b[A\u001b[A\n",
      "                                                                                                                                   \n",
      "\n",
      "Min val score 22.145; Training epochs 90                                                                                           \n",
      "\n",
      "Epoch 6: 100%|█████████████████████████████████████████████████| 13/13 [5:26:50<00:00,  0.00it/s, train_loss=0.781, val_loss=0.767]\u001b[A\n",
      "\n",
      "Epoch 17: 100%|████████████████████████████████████████████████| 13/13 [5:18:23<00:00,  0.00it/s, train_loss=0.643, val_loss=0.661]\u001b[A\u001b[A"
     ]
    },
    {
     "name": "stderr",
     "output_type": "stream",
     "text": [
      "/opt/calculation/anaconda3/envs/chemprop/lib/python3.11/site-packages/lightning/fabric/plugins/environments/slurm.py:204: The `srun` command is available on your system but is not used. HINT: If your intention is to run Lightning on SLURM, prepend your python command with `srun` like so: srun python /opt/calculation/anaconda3/envs/chemprop/lib/python3 ...\n",
      "\n",
      "/opt/calculation/anaconda3/envs/chemprop/lib/python3.11/site-packages/lightning/pytorch/callbacks/model_checkpoint.py:652: Checkpoint directory /home/kashurin/Tox24/dmpnn_try_3/search_4/hp_cv_1/m3 exists and is not empty.\n",
      "\n"
     ]
    },
    {
     "data": {
      "text/html": [
       "<pre style=\"white-space:pre;overflow-x:auto;line-height:normal;font-family:Menlo,'DejaVu Sans Mono',consolas,'Courier New',monospace\">┏━━━━━━━━━━━━━━━━━━━━━━━━━━━┳━━━━━━━━━━━━━━━━━━━━━━━━━━━┓\n",
       "┃<span style=\"font-weight: bold\">        Test metric        </span>┃<span style=\"font-weight: bold\">       DataLoader 0        </span>┃\n",
       "┡━━━━━━━━━━━━━━━━━━━━━━━━━━━╇━━━━━━━━━━━━━━━━━━━━━━━━━━━┩\n",
       "│<span style=\"color: #008080; text-decoration-color: #008080\"> batch_averaged_test/rmse  </span>│<span style=\"color: #800080; text-decoration-color: #800080\">     24.10579490661621     </span>│\n",
       "└───────────────────────────┴───────────────────────────┘\n",
       "</pre>\n"
      ],
      "text/plain": [
       "┏━━━━━━━━━━━━━━━━━━━━━━━━━━━┳━━━━━━━━━━━━━━━━━━━━━━━━━━━┓\n",
       "┃\u001b[1m \u001b[0m\u001b[1m       Test metric       \u001b[0m\u001b[1m \u001b[0m┃\u001b[1m \u001b[0m\u001b[1m      DataLoader 0       \u001b[0m\u001b[1m \u001b[0m┃\n",
       "┡━━━━━━━━━━━━━━━━━━━━━━━━━━━╇━━━━━━━━━━━━━━━━━━━━━━━━━━━┩\n",
       "│\u001b[36m \u001b[0m\u001b[36mbatch_averaged_test/rmse \u001b[0m\u001b[36m \u001b[0m│\u001b[35m \u001b[0m\u001b[35m    24.10579490661621    \u001b[0m\u001b[35m \u001b[0m│\n",
       "└───────────────────────────┴───────────────────────────┘\n"
      ]
     },
     "metadata": {},
     "output_type": "display_data"
    },
    {
     "name": "stdout",
     "output_type": "stream",
     "text": [
      "\n",
      "                                                                                                                                   \n",
      "\n",
      "Fold 4/5; Time 26.672;                                                                                                             \n",
      "\n",
      "Epoch 6: 100%|█████████████████████████████████████████████████| 13/13 [5:27:17<00:00,  0.00it/s, train_loss=0.781, val_loss=0.767]\u001b[A\n",
      "\n",
      "Epoch 17: 100%|████████████████████████████████████████████████| 13/13 [5:18:50<00:00,  0.00it/s, train_loss=0.643, val_loss=0.661]\u001b[A\u001b[A\n",
      "                                                                                                                                   \n",
      "\n",
      "Min val score 24.106; Training epochs 58                                                                                           \n",
      "\n",
      "Epoch 6: 100%|█████████████████████████████████████████████████| 13/13 [5:27:17<00:00,  0.00it/s, train_loss=0.781, val_loss=0.767]\u001b[A\n",
      "\n",
      "Epoch 17: 100%|████████████████████████████████████████████████| 13/13 [5:18:50<00:00,  0.00it/s, train_loss=0.643, val_loss=0.661]\u001b[A\u001b[A"
     ]
    },
    {
     "name": "stderr",
     "output_type": "stream",
     "text": [
      "/opt/calculation/anaconda3/envs/chemprop/lib/python3.11/site-packages/lightning/fabric/plugins/environments/slurm.py:204: The `srun` command is available on your system but is not used. HINT: If your intention is to run Lightning on SLURM, prepend your python command with `srun` like so: srun python /opt/calculation/anaconda3/envs/chemprop/lib/python3 ...\n",
      "\n",
      "/opt/calculation/anaconda3/envs/chemprop/lib/python3.11/site-packages/lightning/pytorch/callbacks/model_checkpoint.py:652: Checkpoint directory /home/kashurin/Tox24/dmpnn_try_3/search_4/hp_cv_1/m4 exists and is not empty.\n",
      "\n"
     ]
    },
    {
     "data": {
      "text/html": [
       "<pre style=\"white-space:pre;overflow-x:auto;line-height:normal;font-family:Menlo,'DejaVu Sans Mono',consolas,'Courier New',monospace\">┏━━━━━━━━━━━━━━━━━━━━━━━━━━━┳━━━━━━━━━━━━━━━━━━━━━━━━━━━┓\n",
       "┃<span style=\"font-weight: bold\">        Test metric        </span>┃<span style=\"font-weight: bold\">       DataLoader 0        </span>┃\n",
       "┡━━━━━━━━━━━━━━━━━━━━━━━━━━━╇━━━━━━━━━━━━━━━━━━━━━━━━━━━┩\n",
       "│<span style=\"color: #008080; text-decoration-color: #008080\"> batch_averaged_test/rmse  </span>│<span style=\"color: #800080; text-decoration-color: #800080\">     25.79697608947754     </span>│\n",
       "└───────────────────────────┴───────────────────────────┘\n",
       "</pre>\n"
      ],
      "text/plain": [
       "┏━━━━━━━━━━━━━━━━━━━━━━━━━━━┳━━━━━━━━━━━━━━━━━━━━━━━━━━━┓\n",
       "┃\u001b[1m \u001b[0m\u001b[1m       Test metric       \u001b[0m\u001b[1m \u001b[0m┃\u001b[1m \u001b[0m\u001b[1m      DataLoader 0       \u001b[0m\u001b[1m \u001b[0m┃\n",
       "┡━━━━━━━━━━━━━━━━━━━━━━━━━━━╇━━━━━━━━━━━━━━━━━━━━━━━━━━━┩\n",
       "│\u001b[36m \u001b[0m\u001b[36mbatch_averaged_test/rmse \u001b[0m\u001b[36m \u001b[0m│\u001b[35m \u001b[0m\u001b[35m    25.79697608947754    \u001b[0m\u001b[35m \u001b[0m│\n",
       "└───────────────────────────┴───────────────────────────┘\n"
      ]
     },
     "metadata": {},
     "output_type": "display_data"
    },
    {
     "name": "stdout",
     "output_type": "stream",
     "text": [
      "\n",
      "                                                                                                                                   \n",
      "\n",
      "Fold 5/5; Time 35.158;                                                                                                             \n",
      "\n",
      "Epoch 6: 100%|█████████████████████████████████████████████████| 13/13 [5:27:52<00:00,  0.00it/s, train_loss=0.781, val_loss=0.767]\u001b[A\n",
      "\n",
      "Epoch 17: 100%|████████████████████████████████████████████████| 13/13 [5:19:25<00:00,  0.00it/s, train_loss=0.643, val_loss=0.661]\u001b[A\u001b[A\n",
      "                                                                                                                                   \n",
      "\n",
      "Min val score 25.797; Training epochs 77                                                                                           \n",
      "\n",
      "Epoch 6: 100%|█████████████████████████████████████████████████| 13/13 [5:27:52<00:00,  0.00it/s, train_loss=0.781, val_loss=0.767]\u001b[A\n",
      "\n",
      "Epoch 17: 100%|████████████████████████████████████████████████| 13/13 [5:19:25<00:00,  0.00it/s, train_loss=0.643, val_loss=0.661]\u001b[A\u001b[A\n",
      "\n",
      " 99%|████████████████████████████████████████████████████████▎| 79/80 [1:38:26<03:53, 233.19s/trial, best loss: 23.649148559570314]\u001b[A\u001b[A"
     ]
    },
    {
     "name": "stderr",
     "output_type": "stream",
     "text": [
      "/opt/calculation/anaconda3/envs/chemprop/lib/python3.11/site-packages/lightning/fabric/plugins/environments/slurm.py:204: The `srun` command is available on your system but is not used. HINT: If your intention is to run Lightning on SLURM, prepend your python command with `srun` like so: srun python /opt/calculation/anaconda3/envs/chemprop/lib/python3 ...\n",
      "\n",
      "/opt/calculation/anaconda3/envs/chemprop/lib/python3.11/site-packages/lightning/pytorch/callbacks/model_checkpoint.py:652: Checkpoint directory /home/kashurin/Tox24/dmpnn_try_3/search_4/hp_cv_1/m0 exists and is not empty.\n",
      "\n"
     ]
    },
    {
     "data": {
      "text/html": [
       "<pre style=\"white-space:pre;overflow-x:auto;line-height:normal;font-family:Menlo,'DejaVu Sans Mono',consolas,'Courier New',monospace\">┏━━━━━━━━━━━━━━━━━━━━━━━━━━━┳━━━━━━━━━━━━━━━━━━━━━━━━━━━┓\n",
       "┃<span style=\"font-weight: bold\">        Test metric        </span>┃<span style=\"font-weight: bold\">       DataLoader 0        </span>┃\n",
       "┡━━━━━━━━━━━━━━━━━━━━━━━━━━━╇━━━━━━━━━━━━━━━━━━━━━━━━━━━┩\n",
       "│<span style=\"color: #008080; text-decoration-color: #008080\"> batch_averaged_test/rmse  </span>│<span style=\"color: #800080; text-decoration-color: #800080\">    24.215883255004883     </span>│\n",
       "└───────────────────────────┴───────────────────────────┘\n",
       "</pre>\n"
      ],
      "text/plain": [
       "┏━━━━━━━━━━━━━━━━━━━━━━━━━━━┳━━━━━━━━━━━━━━━━━━━━━━━━━━━┓\n",
       "┃\u001b[1m \u001b[0m\u001b[1m       Test metric       \u001b[0m\u001b[1m \u001b[0m┃\u001b[1m \u001b[0m\u001b[1m      DataLoader 0       \u001b[0m\u001b[1m \u001b[0m┃\n",
       "┡━━━━━━━━━━━━━━━━━━━━━━━━━━━╇━━━━━━━━━━━━━━━━━━━━━━━━━━━┩\n",
       "│\u001b[36m \u001b[0m\u001b[36mbatch_averaged_test/rmse \u001b[0m\u001b[36m \u001b[0m│\u001b[35m \u001b[0m\u001b[35m   24.215883255004883    \u001b[0m\u001b[35m \u001b[0m│\n",
       "└───────────────────────────┴───────────────────────────┘\n"
      ]
     },
     "metadata": {},
     "output_type": "display_data"
    },
    {
     "name": "stdout",
     "output_type": "stream",
     "text": [
      "\n",
      "                                                                                                                                   \n",
      "\n",
      "Fold 1/5; Time 105.212;                                                                                                            \n",
      "\n",
      "Epoch 6: 100%|█████████████████████████████████████████████████| 13/13 [5:29:37<00:00,  0.00it/s, train_loss=0.781, val_loss=0.767]\u001b[A\n",
      "\n",
      "Epoch 17: 100%|████████████████████████████████████████████████| 13/13 [5:21:10<00:00,  0.00it/s, train_loss=0.643, val_loss=0.661]\u001b[A\u001b[A\n",
      "                                                                                                                                   \n",
      "\n",
      "Min val score 24.216; Training epochs 223                                                                                          \n",
      "\n",
      "Epoch 6: 100%|█████████████████████████████████████████████████| 13/13 [5:29:37<00:00,  0.00it/s, train_loss=0.781, val_loss=0.767]\u001b[A\n",
      "\n",
      "Epoch 17: 100%|████████████████████████████████████████████████| 13/13 [5:21:10<00:00,  0.00it/s, train_loss=0.643, val_loss=0.661]\u001b[A\u001b[A"
     ]
    },
    {
     "name": "stderr",
     "output_type": "stream",
     "text": [
      "/opt/calculation/anaconda3/envs/chemprop/lib/python3.11/site-packages/lightning/fabric/plugins/environments/slurm.py:204: The `srun` command is available on your system but is not used. HINT: If your intention is to run Lightning on SLURM, prepend your python command with `srun` like so: srun python /opt/calculation/anaconda3/envs/chemprop/lib/python3 ...\n",
      "\n",
      "/opt/calculation/anaconda3/envs/chemprop/lib/python3.11/site-packages/lightning/pytorch/callbacks/model_checkpoint.py:652: Checkpoint directory /home/kashurin/Tox24/dmpnn_try_3/search_4/hp_cv_1/m1 exists and is not empty.\n",
      "\n"
     ]
    },
    {
     "data": {
      "text/html": [
       "<pre style=\"white-space:pre;overflow-x:auto;line-height:normal;font-family:Menlo,'DejaVu Sans Mono',consolas,'Courier New',monospace\">┏━━━━━━━━━━━━━━━━━━━━━━━━━━━┳━━━━━━━━━━━━━━━━━━━━━━━━━━━┓\n",
       "┃<span style=\"font-weight: bold\">        Test metric        </span>┃<span style=\"font-weight: bold\">       DataLoader 0        </span>┃\n",
       "┡━━━━━━━━━━━━━━━━━━━━━━━━━━━╇━━━━━━━━━━━━━━━━━━━━━━━━━━━┩\n",
       "│<span style=\"color: #008080; text-decoration-color: #008080\"> batch_averaged_test/rmse  </span>│<span style=\"color: #800080; text-decoration-color: #800080\">    23.828224182128906     </span>│\n",
       "└───────────────────────────┴───────────────────────────┘\n",
       "</pre>\n"
      ],
      "text/plain": [
       "┏━━━━━━━━━━━━━━━━━━━━━━━━━━━┳━━━━━━━━━━━━━━━━━━━━━━━━━━━┓\n",
       "┃\u001b[1m \u001b[0m\u001b[1m       Test metric       \u001b[0m\u001b[1m \u001b[0m┃\u001b[1m \u001b[0m\u001b[1m      DataLoader 0       \u001b[0m\u001b[1m \u001b[0m┃\n",
       "┡━━━━━━━━━━━━━━━━━━━━━━━━━━━╇━━━━━━━━━━━━━━━━━━━━━━━━━━━┩\n",
       "│\u001b[36m \u001b[0m\u001b[36mbatch_averaged_test/rmse \u001b[0m\u001b[36m \u001b[0m│\u001b[35m \u001b[0m\u001b[35m   23.828224182128906    \u001b[0m\u001b[35m \u001b[0m│\n",
       "└───────────────────────────┴───────────────────────────┘\n"
      ]
     },
     "metadata": {},
     "output_type": "display_data"
    },
    {
     "name": "stdout",
     "output_type": "stream",
     "text": [
      "\n",
      "                                                                                                                                   \n",
      "\n",
      "Fold 2/5; Time 116.985;                                                                                                            \n",
      "\n",
      "Epoch 6: 100%|█████████████████████████████████████████████████| 13/13 [5:31:34<00:00,  0.00it/s, train_loss=0.781, val_loss=0.767]\u001b[A\n",
      "\n",
      "Epoch 17: 100%|████████████████████████████████████████████████| 13/13 [5:23:07<00:00,  0.00it/s, train_loss=0.643, val_loss=0.661]\u001b[A\u001b[A\n",
      "                                                                                                                                   \n",
      "\n",
      "Min val score 23.828; Training epochs 250                                                                                          \n",
      "\n",
      "Epoch 6: 100%|█████████████████████████████████████████████████| 13/13 [5:31:34<00:00,  0.00it/s, train_loss=0.781, val_loss=0.767]\u001b[A\n",
      "\n",
      "Epoch 17: 100%|████████████████████████████████████████████████| 13/13 [5:23:07<00:00,  0.00it/s, train_loss=0.643, val_loss=0.661]\u001b[A\u001b[A"
     ]
    },
    {
     "name": "stderr",
     "output_type": "stream",
     "text": [
      "/opt/calculation/anaconda3/envs/chemprop/lib/python3.11/site-packages/lightning/fabric/plugins/environments/slurm.py:204: The `srun` command is available on your system but is not used. HINT: If your intention is to run Lightning on SLURM, prepend your python command with `srun` like so: srun python /opt/calculation/anaconda3/envs/chemprop/lib/python3 ...\n",
      "\n",
      "/opt/calculation/anaconda3/envs/chemprop/lib/python3.11/site-packages/lightning/pytorch/callbacks/model_checkpoint.py:652: Checkpoint directory /home/kashurin/Tox24/dmpnn_try_3/search_4/hp_cv_1/m2 exists and is not empty.\n",
      "\n"
     ]
    },
    {
     "data": {
      "text/html": [
       "<pre style=\"white-space:pre;overflow-x:auto;line-height:normal;font-family:Menlo,'DejaVu Sans Mono',consolas,'Courier New',monospace\">┏━━━━━━━━━━━━━━━━━━━━━━━━━━━┳━━━━━━━━━━━━━━━━━━━━━━━━━━━┓\n",
       "┃<span style=\"font-weight: bold\">        Test metric        </span>┃<span style=\"font-weight: bold\">       DataLoader 0        </span>┃\n",
       "┡━━━━━━━━━━━━━━━━━━━━━━━━━━━╇━━━━━━━━━━━━━━━━━━━━━━━━━━━┩\n",
       "│<span style=\"color: #008080; text-decoration-color: #008080\"> batch_averaged_test/rmse  </span>│<span style=\"color: #800080; text-decoration-color: #800080\">     24.28630256652832     </span>│\n",
       "└───────────────────────────┴───────────────────────────┘\n",
       "</pre>\n"
      ],
      "text/plain": [
       "┏━━━━━━━━━━━━━━━━━━━━━━━━━━━┳━━━━━━━━━━━━━━━━━━━━━━━━━━━┓\n",
       "┃\u001b[1m \u001b[0m\u001b[1m       Test metric       \u001b[0m\u001b[1m \u001b[0m┃\u001b[1m \u001b[0m\u001b[1m      DataLoader 0       \u001b[0m\u001b[1m \u001b[0m┃\n",
       "┡━━━━━━━━━━━━━━━━━━━━━━━━━━━╇━━━━━━━━━━━━━━━━━━━━━━━━━━━┩\n",
       "│\u001b[36m \u001b[0m\u001b[36mbatch_averaged_test/rmse \u001b[0m\u001b[36m \u001b[0m│\u001b[35m \u001b[0m\u001b[35m    24.28630256652832    \u001b[0m\u001b[35m \u001b[0m│\n",
       "└───────────────────────────┴───────────────────────────┘\n"
      ]
     },
     "metadata": {},
     "output_type": "display_data"
    },
    {
     "name": "stdout",
     "output_type": "stream",
     "text": [
      "\n",
      "                                                                                                                                   \n",
      "\n",
      "Fold 3/5; Time 57.356;                                                                                                             \n",
      "\n",
      "Epoch 6: 100%|█████████████████████████████████████████████████| 13/13 [5:32:32<00:00,  0.00it/s, train_loss=0.781, val_loss=0.767]\u001b[A\n",
      "\n",
      "Epoch 17: 100%|████████████████████████████████████████████████| 13/13 [5:24:04<00:00,  0.00it/s, train_loss=0.643, val_loss=0.661]\u001b[A\u001b[A\n",
      "                                                                                                                                   \n",
      "\n",
      "Min val score 24.286; Training epochs 111                                                                                          \n",
      "\n",
      "Epoch 6: 100%|█████████████████████████████████████████████████| 13/13 [5:32:32<00:00,  0.00it/s, train_loss=0.781, val_loss=0.767]\u001b[A\n",
      "\n",
      "Epoch 17: 100%|████████████████████████████████████████████████| 13/13 [5:24:04<00:00,  0.00it/s, train_loss=0.643, val_loss=0.661]\u001b[A\u001b[A"
     ]
    },
    {
     "name": "stderr",
     "output_type": "stream",
     "text": [
      "/opt/calculation/anaconda3/envs/chemprop/lib/python3.11/site-packages/lightning/fabric/plugins/environments/slurm.py:204: The `srun` command is available on your system but is not used. HINT: If your intention is to run Lightning on SLURM, prepend your python command with `srun` like so: srun python /opt/calculation/anaconda3/envs/chemprop/lib/python3 ...\n",
      "\n",
      "/opt/calculation/anaconda3/envs/chemprop/lib/python3.11/site-packages/lightning/pytorch/callbacks/model_checkpoint.py:652: Checkpoint directory /home/kashurin/Tox24/dmpnn_try_3/search_4/hp_cv_1/m3 exists and is not empty.\n",
      "\n"
     ]
    },
    {
     "data": {
      "text/html": [
       "<pre style=\"white-space:pre;overflow-x:auto;line-height:normal;font-family:Menlo,'DejaVu Sans Mono',consolas,'Courier New',monospace\">┏━━━━━━━━━━━━━━━━━━━━━━━━━━━┳━━━━━━━━━━━━━━━━━━━━━━━━━━━┓\n",
       "┃<span style=\"font-weight: bold\">        Test metric        </span>┃<span style=\"font-weight: bold\">       DataLoader 0        </span>┃\n",
       "┡━━━━━━━━━━━━━━━━━━━━━━━━━━━╇━━━━━━━━━━━━━━━━━━━━━━━━━━━┩\n",
       "│<span style=\"color: #008080; text-decoration-color: #008080\"> batch_averaged_test/rmse  </span>│<span style=\"color: #800080; text-decoration-color: #800080\">    24.152894973754883     </span>│\n",
       "└───────────────────────────┴───────────────────────────┘\n",
       "</pre>\n"
      ],
      "text/plain": [
       "┏━━━━━━━━━━━━━━━━━━━━━━━━━━━┳━━━━━━━━━━━━━━━━━━━━━━━━━━━┓\n",
       "┃\u001b[1m \u001b[0m\u001b[1m       Test metric       \u001b[0m\u001b[1m \u001b[0m┃\u001b[1m \u001b[0m\u001b[1m      DataLoader 0       \u001b[0m\u001b[1m \u001b[0m┃\n",
       "┡━━━━━━━━━━━━━━━━━━━━━━━━━━━╇━━━━━━━━━━━━━━━━━━━━━━━━━━━┩\n",
       "│\u001b[36m \u001b[0m\u001b[36mbatch_averaged_test/rmse \u001b[0m\u001b[36m \u001b[0m│\u001b[35m \u001b[0m\u001b[35m   24.152894973754883    \u001b[0m\u001b[35m \u001b[0m│\n",
       "└───────────────────────────┴───────────────────────────┘\n"
      ]
     },
     "metadata": {},
     "output_type": "display_data"
    },
    {
     "name": "stdout",
     "output_type": "stream",
     "text": [
      "\n",
      "                                                                                                                                   \n",
      "\n",
      "Fold 4/5; Time 74.331;                                                                                                             \n",
      "\n",
      "Epoch 6: 100%|█████████████████████████████████████████████████| 13/13 [5:33:46<00:00,  0.00it/s, train_loss=0.781, val_loss=0.767]\u001b[A\n",
      "\n",
      "Epoch 17: 100%|████████████████████████████████████████████████| 13/13 [5:25:19<00:00,  0.00it/s, train_loss=0.643, val_loss=0.661]\u001b[A\u001b[A\n",
      "                                                                                                                                   \n",
      "\n",
      "Min val score 24.153; Training epochs 157                                                                                          \n",
      "\n",
      "Epoch 6: 100%|█████████████████████████████████████████████████| 13/13 [5:33:46<00:00,  0.00it/s, train_loss=0.781, val_loss=0.767]\u001b[A\n",
      "\n",
      "Epoch 17: 100%|████████████████████████████████████████████████| 13/13 [5:25:19<00:00,  0.00it/s, train_loss=0.643, val_loss=0.661]\u001b[A\u001b[A"
     ]
    },
    {
     "name": "stderr",
     "output_type": "stream",
     "text": [
      "/opt/calculation/anaconda3/envs/chemprop/lib/python3.11/site-packages/lightning/fabric/plugins/environments/slurm.py:204: The `srun` command is available on your system but is not used. HINT: If your intention is to run Lightning on SLURM, prepend your python command with `srun` like so: srun python /opt/calculation/anaconda3/envs/chemprop/lib/python3 ...\n",
      "\n",
      "/opt/calculation/anaconda3/envs/chemprop/lib/python3.11/site-packages/lightning/pytorch/callbacks/model_checkpoint.py:652: Checkpoint directory /home/kashurin/Tox24/dmpnn_try_3/search_4/hp_cv_1/m4 exists and is not empty.\n",
      "\n"
     ]
    },
    {
     "data": {
      "text/html": [
       "<pre style=\"white-space:pre;overflow-x:auto;line-height:normal;font-family:Menlo,'DejaVu Sans Mono',consolas,'Courier New',monospace\">┏━━━━━━━━━━━━━━━━━━━━━━━━━━━┳━━━━━━━━━━━━━━━━━━━━━━━━━━━┓\n",
       "┃<span style=\"font-weight: bold\">        Test metric        </span>┃<span style=\"font-weight: bold\">       DataLoader 0        </span>┃\n",
       "┡━━━━━━━━━━━━━━━━━━━━━━━━━━━╇━━━━━━━━━━━━━━━━━━━━━━━━━━━┩\n",
       "│<span style=\"color: #008080; text-decoration-color: #008080\"> batch_averaged_test/rmse  </span>│<span style=\"color: #800080; text-decoration-color: #800080\">    27.263042449951172     </span>│\n",
       "└───────────────────────────┴───────────────────────────┘\n",
       "</pre>\n"
      ],
      "text/plain": [
       "┏━━━━━━━━━━━━━━━━━━━━━━━━━━━┳━━━━━━━━━━━━━━━━━━━━━━━━━━━┓\n",
       "┃\u001b[1m \u001b[0m\u001b[1m       Test metric       \u001b[0m\u001b[1m \u001b[0m┃\u001b[1m \u001b[0m\u001b[1m      DataLoader 0       \u001b[0m\u001b[1m \u001b[0m┃\n",
       "┡━━━━━━━━━━━━━━━━━━━━━━━━━━━╇━━━━━━━━━━━━━━━━━━━━━━━━━━━┩\n",
       "│\u001b[36m \u001b[0m\u001b[36mbatch_averaged_test/rmse \u001b[0m\u001b[36m \u001b[0m│\u001b[35m \u001b[0m\u001b[35m   27.263042449951172    \u001b[0m\u001b[35m \u001b[0m│\n",
       "└───────────────────────────┴───────────────────────────┘\n"
      ]
     },
     "metadata": {},
     "output_type": "display_data"
    },
    {
     "name": "stdout",
     "output_type": "stream",
     "text": [
      "\n",
      "                                                                                                                                   \n",
      "\n",
      "Fold 5/5; Time 66.243;                                                                                                             \n",
      "\n",
      "Epoch 6: 100%|█████████████████████████████████████████████████| 13/13 [5:34:52<00:00,  0.00it/s, train_loss=0.781, val_loss=0.767]\u001b[A\n",
      "\n",
      "Epoch 17: 100%|████████████████████████████████████████████████| 13/13 [5:26:25<00:00,  0.00it/s, train_loss=0.643, val_loss=0.661]\u001b[A\u001b[A\n",
      "                                                                                                                                   \n",
      "\n",
      "Min val score 27.263; Training epochs 136                                                                                          \n",
      "\n",
      "Epoch 6: 100%|█████████████████████████████████████████████████| 13/13 [5:34:52<00:00,  0.00it/s, train_loss=0.781, val_loss=0.767]\u001b[A\n",
      "\n",
      "Epoch 17: 100%|████████████████████████████████████████████████| 13/13 [5:26:25<00:00,  0.00it/s, train_loss=0.643, val_loss=0.661]\u001b[A\u001b[A\n",
      "\n",
      "100%|█████████████████████████████████████████████████████████| 80/80 [1:45:27<00:00, 253.08s/trial, best loss: 23.649148559570314]\u001b[A\u001b[A\n",
      "CPU times: user 4d 13h 18min 21s, sys: 2h 31min 7s, total: 4d 15h 49min 28s\n",
      "Wall time: 1h 45min 27s\n"
     ]
    }
   ],
   "source": [
    "%%time\n",
    "best_hyperparams = fmin(\n",
    "    fn = objective,\n",
    "    space = search_space,\n",
    "    algo = tpe.suggest,\n",
    "    max_evals = N_evals,\n",
    "    rstate=np.random.default_rng(rseed),\n",
    "    trials = trials,\n",
    "    trials_save_file = save_dir + 'fmin_trials.dct'\n",
    ")\n",
    "\n",
    "with open(f'{save_dir}/trials.pkl', 'wb') as f:\n",
    "    pickle.dump(trials, f)"
   ]
  },
  {
   "cell_type": "code",
   "execution_count": 98,
   "metadata": {},
   "outputs": [],
   "source": [
    "save_file = f'{save_dir}/trials.pkl'\n",
    "\n",
    "with open(save_file, 'rb') as f:\n",
    "    trials = pickle.load(f)\n",
    "\n",
    "vals = trials.vals\n",
    "results = trials.results"
   ]
  },
  {
   "cell_type": "code",
   "execution_count": 99,
   "metadata": {},
   "outputs": [
    {
     "data": {
      "image/png": "[encoded data removed]",
      "text/plain": [
       "<Figure size 640x480 with 1 Axes>"
      ]
     },
     "metadata": {},
     "output_type": "display_data"
    }
   ],
   "source": [
    "results_df = pd.DataFrame(results)\n",
    "\n",
    "losses = results_df.loss.to_numpy()\n",
    "si_losses = results_df.si_loss.to_numpy()\n",
    "\n",
    "plt.plot(losses, label='loss')\n",
    "plt.plot(losses-si_losses, label='loss - si_loss')\n",
    "plt.legend()\n",
    "plt.grid()\n",
    "plt.ylabel('RMSE')\n",
    "plt.xlabel('Iters')\n",
    "# plt.ylim([23, 35])\n",
    "# plt.yscale('log')\n",
    "plt.show()"
   ]
  },
  {
   "cell_type": "code",
   "execution_count": 111,
   "metadata": {},
   "outputs": [
    {
     "data": {
      "text/plain": [
       "array([27, 49, 50, 62, 67, 69, 72, 75, 78])"
      ]
     },
     "execution_count": 111,
     "metadata": {},
     "output_type": "execute_result"
    }
   ],
   "source": [
    "best_inds = np.where(losses-si_losses < 22.9)[0]\n",
    "best_inds"
   ]
  },
  {
   "cell_type": "code",
   "execution_count": 114,
   "metadata": {},
   "outputs": [
    {
     "name": "stdout",
     "output_type": "stream",
     "text": [
      "[27 49 50 62 67 69 72 75 78]\n",
      "[24.30686607 24.14785881 24.57372704 23.6750164  24.0621376  23.64914856\n",
      " 24.54411278 23.68061142 24.16188278]\n",
      "[22.86440127 22.63739693 22.87898289 22.67263808 22.47751762 22.88995846\n",
      " 22.76277143 22.23104871 22.85548136]\n",
      "\n",
      "[-2.4 -2.8 -2.4 -2.8 -2.8 -2.8 -3.2 -3.2 -3.2] max_lr\n",
      "[-2. -1. -2. -1. -1. -1. -1. -1. -1.] init_lr_ratio\n",
      "[-2. -2. -0. -1. -1. -1. -1. -1. -1.] final_lr_ratio\n",
      "[5. 7. 9. 6. 6. 6. 6. 6. 6.] message_hidden_dim\n",
      "[4. 6. 3. 6. 6. 6. 5. 6. 5.] depth\n",
      "[0.2 0.2 0.4 0.4 0.2 0.2 0.2 0.2 0.2] message_dropout\n",
      "[8. 9. 9. 8. 9. 9. 9. 9. 8.] ffn_hidden_dim\n",
      "[4. 6. 4. 5. 5. 5. 4. 3. 3.] ffn_num_layers\n",
      "[0.  0.2 0.  0.2 0.2 0.2 0.  0.  0. ] ffn_dropout\n"
     ]
    }
   ],
   "source": [
    "max_lr_arr = np.array(vals['max_lr'])\n",
    "init_lr_ratio_arr = np.array(vals['init_lr_ratio'])\n",
    "final_lr_ratio_arr = np.array(vals['final_lr_ratio'])\n",
    "message_hidden_dim_arr = np.array(vals['message_hidden_dim'])\n",
    "depth_arr = np.array(vals['depth'])\n",
    "message_dropout_arr = np.array(vals['message_dropout'])\n",
    "ffn_hidden_dim_arr = np.array(vals['ffn_hidden_dim'])\n",
    "ffn_num_layers_arr = np.array(vals['ffn_num_layers'])\n",
    "ffn_dropout_arr = np.array(vals['ffn_dropout'])\n",
    "\n",
    "\n",
    "print(best_inds)\n",
    "print(losses[best_inds])\n",
    "print(losses[best_inds] - si_losses[best_inds])\n",
    "print()\n",
    "print(max_lr_arr[best_inds], 'max_lr')\n",
    "print(init_lr_ratio_arr[best_inds], 'init_lr_ratio')\n",
    "print(final_lr_ratio_arr[best_inds], 'final_lr_ratio')\n",
    "print(message_hidden_dim_arr[best_inds], 'message_hidden_dim')\n",
    "print(depth_arr[best_inds], 'depth')\n",
    "print(message_dropout_arr[best_inds], 'message_dropout')\n",
    "print(ffn_hidden_dim_arr[best_inds], 'ffn_hidden_dim')\n",
    "print(ffn_num_layers_arr[best_inds], 'ffn_num_layers')\n",
    "print(ffn_dropout_arr[best_inds], 'ffn_dropout')"
   ]
  },
  {
   "cell_type": "code",
   "execution_count": 116,
   "metadata": {},
   "outputs": [
    {
     "data": {
      "text/plain": [
       "[67, 69, 75]"
      ]
     },
     "execution_count": 116,
     "metadata": {},
     "output_type": "execute_result"
    }
   ],
   "source": [
    "best_inds = [67, 69, 75]\n",
    "best_inds"
   ]
  },
  {
   "cell_type": "code",
   "execution_count": 117,
   "metadata": {},
   "outputs": [
    {
     "name": "stdout",
     "output_type": "stream",
     "text": [
      "[67, 69, 75]\n",
      "[24.0621376  23.64914856 23.68061142]\n",
      "[22.47751762 22.88995846 22.23104871]\n",
      "\n",
      "[-2.8 -2.8 -3.2] max_lr\n",
      "[-1. -1. -1.] init_lr_ratio\n",
      "[-1. -1. -1.] final_lr_ratio\n",
      "[6. 6. 6.] message_hidden_dim\n",
      "[6. 6. 6.] depth\n",
      "[0.2 0.2 0.2] message_dropout\n",
      "[9. 9. 9.] ffn_hidden_dim\n",
      "[5. 5. 3.] ffn_num_layers\n",
      "[0.2 0.2 0. ] ffn_dropout\n"
     ]
    }
   ],
   "source": [
    "max_lr_arr = np.array(vals['max_lr'])\n",
    "init_lr_ratio_arr = np.array(vals['init_lr_ratio'])\n",
    "final_lr_ratio_arr = np.array(vals['final_lr_ratio'])\n",
    "message_hidden_dim_arr = np.array(vals['message_hidden_dim'])\n",
    "depth_arr = np.array(vals['depth'])\n",
    "message_dropout_arr = np.array(vals['message_dropout'])\n",
    "ffn_hidden_dim_arr = np.array(vals['ffn_hidden_dim'])\n",
    "ffn_num_layers_arr = np.array(vals['ffn_num_layers'])\n",
    "ffn_dropout_arr = np.array(vals['ffn_dropout'])\n",
    "\n",
    "\n",
    "print(best_inds)\n",
    "print(losses[best_inds])\n",
    "print(losses[best_inds] - si_losses[best_inds])\n",
    "print()\n",
    "print(max_lr_arr[best_inds], 'max_lr')\n",
    "print(init_lr_ratio_arr[best_inds], 'init_lr_ratio')\n",
    "print(final_lr_ratio_arr[best_inds], 'final_lr_ratio')\n",
    "print(message_hidden_dim_arr[best_inds], 'message_hidden_dim')\n",
    "print(depth_arr[best_inds], 'depth')\n",
    "print(message_dropout_arr[best_inds], 'message_dropout')\n",
    "print(ffn_hidden_dim_arr[best_inds], 'ffn_hidden_dim')\n",
    "print(ffn_num_layers_arr[best_inds], 'ffn_num_layers')\n",
    "print(ffn_dropout_arr[best_inds], 'ffn_dropout')"
   ]
  },
  {
   "cell_type": "markdown",
   "metadata": {},
   "source": [
    "## Load checkpoint"
   ]
  },
  {
   "cell_type": "code",
   "execution_count": 182,
   "metadata": {},
   "outputs": [
    {
     "data": {
      "text/plain": [
       "MPNN(\n",
       "  (message_passing): BondMessagePassing(\n",
       "    (W_i): Linear(in_features=86, out_features=64, bias=True)\n",
       "    (W_h): Linear(in_features=64, out_features=64, bias=True)\n",
       "    (W_o): Linear(in_features=136, out_features=64, bias=True)\n",
       "    (dropout): Dropout(p=0.2, inplace=False)\n",
       "    (tau): ReLU()\n",
       "    (V_d_transform): Identity()\n",
       "    (graph_transform): Identity()\n",
       "  )\n",
       "  (agg): MeanAggregation()\n",
       "  (bn): BatchNorm1d(64, eps=1e-05, momentum=0.1, affine=True, track_running_stats=True)\n",
       "  (predictor): RegressionFFN(\n",
       "    (ffn): MLP(\n",
       "      (0): Sequential(\n",
       "        (0): Linear(in_features=64, out_features=512, bias=True)\n",
       "      )\n",
       "      (1): Sequential(\n",
       "        (0): ReLU()\n",
       "        (1): Dropout(p=0.2, inplace=False)\n",
       "        (2): Linear(in_features=512, out_features=512, bias=True)\n",
       "      )\n",
       "      (2): Sequential(\n",
       "        (0): ReLU()\n",
       "        (1): Dropout(p=0.2, inplace=False)\n",
       "        (2): Linear(in_features=512, out_features=512, bias=True)\n",
       "      )\n",
       "      (3): Sequential(\n",
       "        (0): ReLU()\n",
       "        (1): Dropout(p=0.2, inplace=False)\n",
       "        (2): Linear(in_features=512, out_features=512, bias=True)\n",
       "      )\n",
       "      (4): Sequential(\n",
       "        (0): ReLU()\n",
       "        (1): Dropout(p=0.2, inplace=False)\n",
       "        (2): Linear(in_features=512, out_features=512, bias=True)\n",
       "      )\n",
       "      (5): Sequential(\n",
       "        (0): ReLU()\n",
       "        (1): Dropout(p=0.2, inplace=False)\n",
       "        (2): Linear(in_features=512, out_features=1, bias=True)\n",
       "      )\n",
       "    )\n",
       "    (criterion): MSELoss(task_weights=[[1.0]])\n",
       "    (output_transform): UnscaleTransform()\n",
       "  )\n",
       "  (X_d_transform): Identity()\n",
       ")"
      ]
     },
     "execution_count": 182,
     "metadata": {},
     "output_type": "execute_result"
    }
   ],
   "source": [
    "checkpoint_path = f\"{cv_dir}/m6/{ckpts[6]}\"\n",
    "mpnn_loaded_features = models.MPNN.load_from_checkpoint(checkpoint_path)\n",
    "mpnn_loaded_features.eval()"
   ]
  },
  {
   "cell_type": "code",
   "execution_count": 183,
   "metadata": {},
   "outputs": [
    {
     "data": {
      "text/plain": [
       "True"
      ]
     },
     "execution_count": 183,
     "metadata": {},
     "output_type": "execute_result"
    }
   ],
   "source": [
    "device = torch.device(\"cuda\" if torch.cuda.is_available() else \"cpu\")\n",
    "next(mpnn_loaded_features.parameters()).is_cuda"
   ]
  },
  {
   "cell_type": "code",
   "execution_count": 184,
   "metadata": {},
   "outputs": [],
   "source": [
    "mpnn_loaded_features = mpnn_loaded_features.cpu()"
   ]
  },
  {
   "cell_type": "markdown",
   "metadata": {},
   "source": [
    "## XGB with DMPNN features"
   ]
  },
  {
   "cell_type": "code",
   "execution_count": 188,
   "metadata": {},
   "outputs": [],
   "source": [
    "def featurize_dmpnn(smis):\n",
    "    mol_data = [data.MoleculeDatapoint.from_smi(smi) for smi in smis]\n",
    "    mol_dset = data.MoleculeDataset(mol_data, featurizer)\n",
    "    mol_loader = data.build_dataloader(mol_dset, shuffle=False)\n",
    "\n",
    "    fingerprints = []\n",
    "    with torch.no_grad():\n",
    "        for batch in mol_loader:\n",
    "            fingerprints.append(mpnn_loaded_features.fingerprint(batch.bmg, batch.V_d, batch.X_d))\n",
    "    dmpnn_features = torch.cat(fingerprints, 0)\n",
    "    dmpnn_features = dmpnn_features.detach()\n",
    "    return np.array(dmpnn_features)"
   ]
  },
  {
   "cell_type": "code",
   "execution_count": 189,
   "metadata": {},
   "outputs": [
    {
     "data": {
      "text/plain": [
       "(1012, 64)"
      ]
     },
     "execution_count": 189,
     "metadata": {},
     "output_type": "execute_result"
    }
   ],
   "source": [
    "train_features_dmpnn = featurize_dmpnn(  #########\n",
    "    training_smis,\n",
    ")\n",
    "\n",
    "train_features_dmpnn.shape            ##############"
   ]
  },
  {
   "cell_type": "code",
   "execution_count": 190,
   "metadata": {},
   "outputs": [
    {
     "name": "stdout",
     "output_type": "stream",
     "text": [
      "CV val score: 21.667397678673048 +/- 2.4429469361579548\n",
      "CPU times: user 3min 11s, sys: 2.96 s, total: 3min 14s\n",
      "Wall time: 3.04 s\n"
     ]
    }
   ],
   "source": [
    "%%time\n",
    "xgb = XGBRegressor(\n",
    "    colsample_bytree=0.70,\n",
    "    gamma=4,\n",
    "    learning_rate=0.0492,\n",
    "    max_depth=4,\n",
    "    min_child_weight=15,\n",
    "    n_estimators=312,\n",
    "    reg_lambda=21,\n",
    "    seed=42,\n",
    "    # device='cuda',\n",
    "    # n_jobs=multiprocessing.cpu_count() // 4\n",
    ")\n",
    "\n",
    "scores = -cross_val_score(xgb,   ####################\n",
    "                          train_features_dmpnn,  ######################3########\n",
    "                          targets, scoring='neg_root_mean_squared_error', cv=10)\n",
    "print(f'CV val score: {scores.mean()} +/- {scores.std()}')"
   ]
  },
  {
   "cell_type": "code",
   "execution_count": 193,
   "metadata": {},
   "outputs": [
    {
     "data": {
      "text/html": [
       "<style>#sk-container-id-1 {\n",
       "  /* Definition of color scheme common for light and dark mode */\n",
       "  --sklearn-color-text: black;\n",
       "  --sklearn-color-line: gray;\n",
       "  /* Definition of color scheme for unfitted estimators */\n",
       "  --sklearn-color-unfitted-level-0: #fff5e6;\n",
       "  --sklearn-color-unfitted-level-1: #f6e4d2;\n",
       "  --sklearn-color-unfitted-level-2: #ffe0b3;\n",
       "  --sklearn-color-unfitted-level-3: chocolate;\n",
       "  /* Definition of color scheme for fitted estimators */\n",
       "  --sklearn-color-fitted-level-0: #f0f8ff;\n",
       "  --sklearn-color-fitted-level-1: #d4ebff;\n",
       "  --sklearn-color-fitted-level-2: #b3dbfd;\n",
       "  --sklearn-color-fitted-level-3: cornflowerblue;\n",
       "\n",
       "  /* Specific color for light theme */\n",
       "  --sklearn-color-text-on-default-background: var(--sg-text-color, var(--theme-code-foreground, var(--jp-content-font-color1, black)));\n",
       "  --sklearn-color-background: var(--sg-background-color, var(--theme-background, var(--jp-layout-color0, white)));\n",
       "  --sklearn-color-border-box: var(--sg-text-color, var(--theme-code-foreground, var(--jp-content-font-color1, black)));\n",
       "  --sklearn-color-icon: #696969;\n",
       "\n",
       "  @media (prefers-color-scheme: dark) {\n",
       "    /* Redefinition of color scheme for dark theme */\n",
       "    --sklearn-color-text-on-default-background: var(--sg-text-color, var(--theme-code-foreground, var(--jp-content-font-color1, white)));\n",
       "    --sklearn-color-background: var(--sg-background-color, var(--theme-background, var(--jp-layout-color0, #111)));\n",
       "    --sklearn-color-border-box: var(--sg-text-color, var(--theme-code-foreground, var(--jp-content-font-color1, white)));\n",
       "    --sklearn-color-icon: #878787;\n",
       "  }\n",
       "}\n",
       "\n",
       "#sk-container-id-1 {\n",
       "  color: var(--sklearn-color-text);\n",
       "}\n",
       "\n",
       "#sk-container-id-1 pre {\n",
       "  padding: 0;\n",
       "}\n",
       "\n",
       "#sk-container-id-1 input.sk-hidden--visually {\n",
       "  border: 0;\n",
       "  clip: rect(1px 1px 1px 1px);\n",
       "  clip: rect(1px, 1px, 1px, 1px);\n",
       "  height: 1px;\n",
       "  margin: -1px;\n",
       "  overflow: hidden;\n",
       "  padding: 0;\n",
       "  position: absolute;\n",
       "  width: 1px;\n",
       "}\n",
       "\n",
       "#sk-container-id-1 div.sk-dashed-wrapped {\n",
       "  border: 1px dashed var(--sklearn-color-line);\n",
       "  margin: 0 0.4em 0.5em 0.4em;\n",
       "  box-sizing: border-box;\n",
       "  padding-bottom: 0.4em;\n",
       "  background-color: var(--sklearn-color-background);\n",
       "}\n",
       "\n",
       "#sk-container-id-1 div.sk-container {\n",
       "  /* jupyter's `normalize.less` sets `[hidden] { display: none; }`\n",
       "     but bootstrap.min.css set `[hidden] { display: none !important; }`\n",
       "     so we also need the `!important` here to be able to override the\n",
       "     default hidden behavior on the sphinx rendered scikit-learn.org.\n",
       "     See: https://github.com/scikit-learn/scikit-learn/issues/21755 */\n",
       "  display: inline-block !important;\n",
       "  position: relative;\n",
       "}\n",
       "\n",
       "#sk-container-id-1 div.sk-text-repr-fallback {\n",
       "  display: none;\n",
       "}\n",
       "\n",
       "div.sk-parallel-item,\n",
       "div.sk-serial,\n",
       "div.sk-item {\n",
       "  /* draw centered vertical line to link estimators */\n",
       "  background-image: linear-gradient(var(--sklearn-color-text-on-default-background), var(--sklearn-color-text-on-default-background));\n",
       "  background-size: 2px 100%;\n",
       "  background-repeat: no-repeat;\n",
       "  background-position: center center;\n",
       "}\n",
       "\n",
       "/* Parallel-specific style estimator block */\n",
       "\n",
       "#sk-container-id-1 div.sk-parallel-item::after {\n",
       "  content: \"\";\n",
       "  width: 100%;\n",
       "  border-bottom: 2px solid var(--sklearn-color-text-on-default-background);\n",
       "  flex-grow: 1;\n",
       "}\n",
       "\n",
       "#sk-container-id-1 div.sk-parallel {\n",
       "  display: flex;\n",
       "  align-items: stretch;\n",
       "  justify-content: center;\n",
       "  background-color: var(--sklearn-color-background);\n",
       "  position: relative;\n",
       "}\n",
       "\n",
       "#sk-container-id-1 div.sk-parallel-item {\n",
       "  display: flex;\n",
       "  flex-direction: column;\n",
       "}\n",
       "\n",
       "#sk-container-id-1 div.sk-parallel-item:first-child::after {\n",
       "  align-self: flex-end;\n",
       "  width: 50%;\n",
       "}\n",
       "\n",
       "#sk-container-id-1 div.sk-parallel-item:last-child::after {\n",
       "  align-self: flex-start;\n",
       "  width: 50%;\n",
       "}\n",
       "\n",
       "#sk-container-id-1 div.sk-parallel-item:only-child::after {\n",
       "  width: 0;\n",
       "}\n",
       "\n",
       "/* Serial-specific style estimator block */\n",
       "\n",
       "#sk-container-id-1 div.sk-serial {\n",
       "  display: flex;\n",
       "  flex-direction: column;\n",
       "  align-items: center;\n",
       "  background-color: var(--sklearn-color-background);\n",
       "  padding-right: 1em;\n",
       "  padding-left: 1em;\n",
       "}\n",
       "\n",
       "\n",
       "/* Toggleable style: style used for estimator/Pipeline/ColumnTransformer box that is\n",
       "clickable and can be expanded/collapsed.\n",
       "- Pipeline and ColumnTransformer use this feature and define the default style\n",
       "- Estimators will overwrite some part of the style using the `sk-estimator` class\n",
       "*/\n",
       "\n",
       "/* Pipeline and ColumnTransformer style (default) */\n",
       "\n",
       "#sk-container-id-1 div.sk-toggleable {\n",
       "  /* Default theme specific background. It is overwritten whether we have a\n",
       "  specific estimator or a Pipeline/ColumnTransformer */\n",
       "  background-color: var(--sklearn-color-background);\n",
       "}\n",
       "\n",
       "/* Toggleable label */\n",
       "#sk-container-id-1 label.sk-toggleable__label {\n",
       "  cursor: pointer;\n",
       "  display: block;\n",
       "  width: 100%;\n",
       "  margin-bottom: 0;\n",
       "  padding: 0.5em;\n",
       "  box-sizing: border-box;\n",
       "  text-align: center;\n",
       "}\n",
       "\n",
       "#sk-container-id-1 label.sk-toggleable__label-arrow:before {\n",
       "  /* Arrow on the left of the label */\n",
       "  content: \"▸\";\n",
       "  float: left;\n",
       "  margin-right: 0.25em;\n",
       "  color: var(--sklearn-color-icon);\n",
       "}\n",
       "\n",
       "#sk-container-id-1 label.sk-toggleable__label-arrow:hover:before {\n",
       "  color: var(--sklearn-color-text);\n",
       "}\n",
       "\n",
       "/* Toggleable content - dropdown */\n",
       "\n",
       "#sk-container-id-1 div.sk-toggleable__content {\n",
       "  max-height: 0;\n",
       "  max-width: 0;\n",
       "  overflow: hidden;\n",
       "  text-align: left;\n",
       "  /* unfitted */\n",
       "  background-color: var(--sklearn-color-unfitted-level-0);\n",
       "}\n",
       "\n",
       "#sk-container-id-1 div.sk-toggleable__content.fitted {\n",
       "  /* fitted */\n",
       "  background-color: var(--sklearn-color-fitted-level-0);\n",
       "}\n",
       "\n",
       "#sk-container-id-1 div.sk-toggleable__content pre {\n",
       "  margin: 0.2em;\n",
       "  border-radius: 0.25em;\n",
       "  color: var(--sklearn-color-text);\n",
       "  /* unfitted */\n",
       "  background-color: var(--sklearn-color-unfitted-level-0);\n",
       "}\n",
       "\n",
       "#sk-container-id-1 div.sk-toggleable__content.fitted pre {\n",
       "  /* unfitted */\n",
       "  background-color: var(--sklearn-color-fitted-level-0);\n",
       "}\n",
       "\n",
       "#sk-container-id-1 input.sk-toggleable__control:checked~div.sk-toggleable__content {\n",
       "  /* Expand drop-down */\n",
       "  max-height: 200px;\n",
       "  max-width: 100%;\n",
       "  overflow: auto;\n",
       "}\n",
       "\n",
       "#sk-container-id-1 input.sk-toggleable__control:checked~label.sk-toggleable__label-arrow:before {\n",
       "  content: \"▾\";\n",
       "}\n",
       "\n",
       "/* Pipeline/ColumnTransformer-specific style */\n",
       "\n",
       "#sk-container-id-1 div.sk-label input.sk-toggleable__control:checked~label.sk-toggleable__label {\n",
       "  color: var(--sklearn-color-text);\n",
       "  background-color: var(--sklearn-color-unfitted-level-2);\n",
       "}\n",
       "\n",
       "#sk-container-id-1 div.sk-label.fitted input.sk-toggleable__control:checked~label.sk-toggleable__label {\n",
       "  background-color: var(--sklearn-color-fitted-level-2);\n",
       "}\n",
       "\n",
       "/* Estimator-specific style */\n",
       "\n",
       "/* Colorize estimator box */\n",
       "#sk-container-id-1 div.sk-estimator input.sk-toggleable__control:checked~label.sk-toggleable__label {\n",
       "  /* unfitted */\n",
       "  background-color: var(--sklearn-color-unfitted-level-2);\n",
       "}\n",
       "\n",
       "#sk-container-id-1 div.sk-estimator.fitted input.sk-toggleable__control:checked~label.sk-toggleable__label {\n",
       "  /* fitted */\n",
       "  background-color: var(--sklearn-color-fitted-level-2);\n",
       "}\n",
       "\n",
       "#sk-container-id-1 div.sk-label label.sk-toggleable__label,\n",
       "#sk-container-id-1 div.sk-label label {\n",
       "  /* The background is the default theme color */\n",
       "  color: var(--sklearn-color-text-on-default-background);\n",
       "}\n",
       "\n",
       "/* On hover, darken the color of the background */\n",
       "#sk-container-id-1 div.sk-label:hover label.sk-toggleable__label {\n",
       "  color: var(--sklearn-color-text);\n",
       "  background-color: var(--sklearn-color-unfitted-level-2);\n",
       "}\n",
       "\n",
       "/* Label box, darken color on hover, fitted */\n",
       "#sk-container-id-1 div.sk-label.fitted:hover label.sk-toggleable__label.fitted {\n",
       "  color: var(--sklearn-color-text);\n",
       "  background-color: var(--sklearn-color-fitted-level-2);\n",
       "}\n",
       "\n",
       "/* Estimator label */\n",
       "\n",
       "#sk-container-id-1 div.sk-label label {\n",
       "  font-family: monospace;\n",
       "  font-weight: bold;\n",
       "  display: inline-block;\n",
       "  line-height: 1.2em;\n",
       "}\n",
       "\n",
       "#sk-container-id-1 div.sk-label-container {\n",
       "  text-align: center;\n",
       "}\n",
       "\n",
       "/* Estimator-specific */\n",
       "#sk-container-id-1 div.sk-estimator {\n",
       "  font-family: monospace;\n",
       "  border: 1px dotted var(--sklearn-color-border-box);\n",
       "  border-radius: 0.25em;\n",
       "  box-sizing: border-box;\n",
       "  margin-bottom: 0.5em;\n",
       "  /* unfitted */\n",
       "  background-color: var(--sklearn-color-unfitted-level-0);\n",
       "}\n",
       "\n",
       "#sk-container-id-1 div.sk-estimator.fitted {\n",
       "  /* fitted */\n",
       "  background-color: var(--sklearn-color-fitted-level-0);\n",
       "}\n",
       "\n",
       "/* on hover */\n",
       "#sk-container-id-1 div.sk-estimator:hover {\n",
       "  /* unfitted */\n",
       "  background-color: var(--sklearn-color-unfitted-level-2);\n",
       "}\n",
       "\n",
       "#sk-container-id-1 div.sk-estimator.fitted:hover {\n",
       "  /* fitted */\n",
       "  background-color: var(--sklearn-color-fitted-level-2);\n",
       "}\n",
       "\n",
       "/* Specification for estimator info (e.g. \"i\" and \"?\") */\n",
       "\n",
       "/* Common style for \"i\" and \"?\" */\n",
       "\n",
       ".sk-estimator-doc-link,\n",
       "a:link.sk-estimator-doc-link,\n",
       "a:visited.sk-estimator-doc-link {\n",
       "  float: right;\n",
       "  font-size: smaller;\n",
       "  line-height: 1em;\n",
       "  font-family: monospace;\n",
       "  background-color: var(--sklearn-color-background);\n",
       "  border-radius: 1em;\n",
       "  height: 1em;\n",
       "  width: 1em;\n",
       "  text-decoration: none !important;\n",
       "  margin-left: 1ex;\n",
       "  /* unfitted */\n",
       "  border: var(--sklearn-color-unfitted-level-1) 1pt solid;\n",
       "  color: var(--sklearn-color-unfitted-level-1);\n",
       "}\n",
       "\n",
       ".sk-estimator-doc-link.fitted,\n",
       "a:link.sk-estimator-doc-link.fitted,\n",
       "a:visited.sk-estimator-doc-link.fitted {\n",
       "  /* fitted */\n",
       "  border: var(--sklearn-color-fitted-level-1) 1pt solid;\n",
       "  color: var(--sklearn-color-fitted-level-1);\n",
       "}\n",
       "\n",
       "/* On hover */\n",
       "div.sk-estimator:hover .sk-estimator-doc-link:hover,\n",
       ".sk-estimator-doc-link:hover,\n",
       "div.sk-label-container:hover .sk-estimator-doc-link:hover,\n",
       ".sk-estimator-doc-link:hover {\n",
       "  /* unfitted */\n",
       "  background-color: var(--sklearn-color-unfitted-level-3);\n",
       "  color: var(--sklearn-color-background);\n",
       "  text-decoration: none;\n",
       "}\n",
       "\n",
       "div.sk-estimator.fitted:hover .sk-estimator-doc-link.fitted:hover,\n",
       ".sk-estimator-doc-link.fitted:hover,\n",
       "div.sk-label-container:hover .sk-estimator-doc-link.fitted:hover,\n",
       ".sk-estimator-doc-link.fitted:hover {\n",
       "  /* fitted */\n",
       "  background-color: var(--sklearn-color-fitted-level-3);\n",
       "  color: var(--sklearn-color-background);\n",
       "  text-decoration: none;\n",
       "}\n",
       "\n",
       "/* Span, style for the box shown on hovering the info icon */\n",
       ".sk-estimator-doc-link span {\n",
       "  display: none;\n",
       "  z-index: 9999;\n",
       "  position: relative;\n",
       "  font-weight: normal;\n",
       "  right: .2ex;\n",
       "  padding: .5ex;\n",
       "  margin: .5ex;\n",
       "  width: min-content;\n",
       "  min-width: 20ex;\n",
       "  max-width: 50ex;\n",
       "  color: var(--sklearn-color-text);\n",
       "  box-shadow: 2pt 2pt 4pt #999;\n",
       "  /* unfitted */\n",
       "  background: var(--sklearn-color-unfitted-level-0);\n",
       "  border: .5pt solid var(--sklearn-color-unfitted-level-3);\n",
       "}\n",
       "\n",
       ".sk-estimator-doc-link.fitted span {\n",
       "  /* fitted */\n",
       "  background: var(--sklearn-color-fitted-level-0);\n",
       "  border: var(--sklearn-color-fitted-level-3);\n",
       "}\n",
       "\n",
       ".sk-estimator-doc-link:hover span {\n",
       "  display: block;\n",
       "}\n",
       "\n",
       "/* \"?\"-specific style due to the `<a>` HTML tag */\n",
       "\n",
       "#sk-container-id-1 a.estimator_doc_link {\n",
       "  float: right;\n",
       "  font-size: 1rem;\n",
       "  line-height: 1em;\n",
       "  font-family: monospace;\n",
       "  background-color: var(--sklearn-color-background);\n",
       "  border-radius: 1rem;\n",
       "  height: 1rem;\n",
       "  width: 1rem;\n",
       "  text-decoration: none;\n",
       "  /* unfitted */\n",
       "  color: var(--sklearn-color-unfitted-level-1);\n",
       "  border: var(--sklearn-color-unfitted-level-1) 1pt solid;\n",
       "}\n",
       "\n",
       "#sk-container-id-1 a.estimator_doc_link.fitted {\n",
       "  /* fitted */\n",
       "  border: var(--sklearn-color-fitted-level-1) 1pt solid;\n",
       "  color: var(--sklearn-color-fitted-level-1);\n",
       "}\n",
       "\n",
       "/* On hover */\n",
       "#sk-container-id-1 a.estimator_doc_link:hover {\n",
       "  /* unfitted */\n",
       "  background-color: var(--sklearn-color-unfitted-level-3);\n",
       "  color: var(--sklearn-color-background);\n",
       "  text-decoration: none;\n",
       "}\n",
       "\n",
       "#sk-container-id-1 a.estimator_doc_link.fitted:hover {\n",
       "  /* fitted */\n",
       "  background-color: var(--sklearn-color-fitted-level-3);\n",
       "}\n",
       "</style><div id=\"sk-container-id-1\" class=\"sk-top-container\"><div class=\"sk-text-repr-fallback\"><pre>XGBRegressor(base_score=None, booster=None, callbacks=None,\n",
       "             colsample_bylevel=None, colsample_bynode=None,\n",
       "             colsample_bytree=0.7, device=None, early_stopping_rounds=None,\n",
       "             enable_categorical=False, eval_metric=None, feature_types=None,\n",
       "             gamma=4, grow_policy=None, importance_type=None,\n",
       "             interaction_constraints=None, learning_rate=0.0492, max_bin=None,\n",
       "             max_cat_threshold=None, max_cat_to_onehot=None,\n",
       "             max_delta_step=None, max_depth=4, max_leaves=None,\n",
       "             min_child_weight=15, missing=nan, monotone_constraints=None,\n",
       "             multi_strategy=None, n_estimators=312, n_jobs=None,\n",
       "             num_parallel_tree=None, random_state=None, ...)</pre><b>In a Jupyter environment, please rerun this cell to show the HTML representation or trust the notebook. <br />On GitHub, the HTML representation is unable to render, please try loading this page with nbviewer.org.</b></div><div class=\"sk-container\" hidden><div class=\"sk-item\"><div class=\"sk-estimator fitted sk-toggleable\"><input class=\"sk-toggleable__control sk-hidden--visually\" id=\"sk-estimator-id-1\" type=\"checkbox\" checked><label for=\"sk-estimator-id-1\" class=\"sk-toggleable__label fitted sk-toggleable__label-arrow fitted\">&nbsp;XGBRegressor<span class=\"sk-estimator-doc-link fitted\">i<span>Fitted</span></span></label><div class=\"sk-toggleable__content fitted\"><pre>XGBRegressor(base_score=None, booster=None, callbacks=None,\n",
       "             colsample_bylevel=None, colsample_bynode=None,\n",
       "             colsample_bytree=0.7, device=None, early_stopping_rounds=None,\n",
       "             enable_categorical=False, eval_metric=None, feature_types=None,\n",
       "             gamma=4, grow_policy=None, importance_type=None,\n",
       "             interaction_constraints=None, learning_rate=0.0492, max_bin=None,\n",
       "             max_cat_threshold=None, max_cat_to_onehot=None,\n",
       "             max_delta_step=None, max_depth=4, max_leaves=None,\n",
       "             min_child_weight=15, missing=nan, monotone_constraints=None,\n",
       "             multi_strategy=None, n_estimators=312, n_jobs=None,\n",
       "             num_parallel_tree=None, random_state=None, ...)</pre></div> </div></div></div></div>"
      ],
      "text/plain": [
       "XGBRegressor(base_score=None, booster=None, callbacks=None,\n",
       "             colsample_bylevel=None, colsample_bynode=None,\n",
       "             colsample_bytree=0.7, device=None, early_stopping_rounds=None,\n",
       "             enable_categorical=False, eval_metric=None, feature_types=None,\n",
       "             gamma=4, grow_policy=None, importance_type=None,\n",
       "             interaction_constraints=None, learning_rate=0.0492, max_bin=None,\n",
       "             max_cat_threshold=None, max_cat_to_onehot=None,\n",
       "             max_delta_step=None, max_depth=4, max_leaves=None,\n",
       "             min_child_weight=15, missing=nan, monotone_constraints=None,\n",
       "             multi_strategy=None, n_estimators=312, n_jobs=None,\n",
       "             num_parallel_tree=None, random_state=None, ...)"
      ]
     },
     "execution_count": 193,
     "metadata": {},
     "output_type": "execute_result"
    }
   ],
   "source": [
    "xgb.fit(train_features_dmpnn, targets)"
   ]
  },
  {
   "cell_type": "markdown",
   "metadata": {},
   "source": [
    "### HP opt"
   ]
  },
  {
   "cell_type": "code",
   "execution_count": 173,
   "metadata": {},
   "outputs": [
    {
     "name": "stdout",
     "output_type": "stream",
     "text": [
      "Fitting 5 folds for each of 32 candidates, totalling 160 fits\n",
      "Fitting 5 folds for each of 32 candidates, totalling 160 fits\n",
      "Fitting 5 folds for each of 32 candidates, totalling 160 fits\n",
      "Fitting 5 folds for each of 32 candidates, totalling 160 fits\n",
      "Fitting 5 folds for each of 32 candidates, totalling 160 fits\n",
      "Fitting 5 folds for each of 32 candidates, totalling 160 fits\n",
      "Fitting 5 folds for each of 32 candidates, totalling 160 fits\n",
      "Fitting 5 folds for each of 32 candidates, totalling 160 fits\n",
      "Best score: 20.7869084020442\n",
      "Best params:\n",
      "OrderedDict([('colsample_bytree', 0.7032273178521798), ('gamma', 4), ('learning_rate', 0.049185541531825895), ('max_depth', 4), ('min_child_weight', 15), ('n_estimators', 312), ('reg_lambda', 21)])\n",
      "CPU times: user 7h 37min 1s, sys: 5min 39s, total: 7h 42min 41s\n",
      "Wall time: 12min 34s\n"
     ]
    }
   ],
   "source": [
    "%%time\n",
    "param_grid = {\n",
    "    'n_estimators': Integer(50, 500),\n",
    "    'max_depth': Integer(3, 13),\n",
    "    'learning_rate': Real(1e-3, 1e-1, prior='log-uniform'),\n",
    "    'gamma': Integer(0, 15),\n",
    "    'reg_lambda' : Integer(0, 50),\n",
    "    'colsample_bytree' : Real(0.1, 1.0),\n",
    "    'min_child_weight' : Integer(0, 30),\n",
    "}\n",
    "\n",
    "model = XGBRegressor(\n",
    "    seed=42,\n",
    "    # device='cuda',\n",
    "    # n_jobs=multiprocessing.cpu_count() // 4\n",
    ")\n",
    "\n",
    "grid_xgb_dmpnn = BayesSearchCV(         ####################\n",
    "    model,\n",
    "    param_grid,\n",
    "    scoring='neg_root_mean_squared_error',\n",
    "    n_iter=256,\n",
    "    n_points=32,\n",
    "    n_jobs=32,\n",
    "    cv=5,\n",
    "    refit=True,\n",
    "    return_train_score=True,\n",
    "    verbose=1,\n",
    "    random_state=42\n",
    ")\n",
    "grid_xgb_dmpnn.fit(train_features_dmpnn, targets)        ##################\n",
    "\n",
    "print(f'Best score: {-grid_xgb_dmpnn.best_score_}')\n",
    "print('Best params:')\n",
    "print(grid_xgb_dmpnn.best_params_)"
   ]
  },
  {
   "cell_type": "code",
   "execution_count": 174,
   "metadata": {},
   "outputs": [
    {
     "name": "stdout",
     "output_type": "stream",
     "text": [
      "Train score: 10.37153000506279\n",
      "CV val score: 20.699065341538667 +/- 2.310600170031665\n",
      "CPU times: user 2min 45s, sys: 2.36 s, total: 2min 48s\n",
      "Wall time: 2.63 s\n"
     ]
    }
   ],
   "source": [
    "%%time\n",
    "y_pred = grid_xgb_dmpnn.best_estimator_.predict(train_features_dmpnn)   #########\n",
    "print(f'Train score: {root_mean_squared_error(y_pred, targets)}')\n",
    "scores = -cross_val_score(grid_xgb_dmpnn.best_estimator_,   ####################\n",
    "                          train_features_dmpnn,  ######################3########\n",
    "                          targets, scoring='neg_root_mean_squared_error', cv=10)\n",
    "print(f'CV val score: {scores.mean()} +/- {scores.std()}')"
   ]
  },
  {
   "cell_type": "code",
   "execution_count": 175,
   "metadata": {},
   "outputs": [
    {
     "data": {
      "image/png": "[encoded data removed]",
      "text/plain": [
       "<Figure size 640x480 with 1 Axes>"
      ]
     },
     "metadata": {},
     "output_type": "display_data"
    }
   ],
   "source": [
    "plot_convergence(grid_xgb_dmpnn.optimizer_results_)\n",
    "plt.show()"
   ]
  },
  {
   "cell_type": "code",
   "execution_count": 176,
   "metadata": {},
   "outputs": [
    {
     "data": {
      "image/png": "[encoded data removed]",
      "text/plain": [
       "<Figure size 640x480 with 1 Axes>"
      ]
     },
     "metadata": {},
     "output_type": "display_data"
    }
   ],
   "source": [
    "mol_feature_importances = grid_xgb_dmpnn.best_estimator_.feature_importances_\n",
    "plt.plot(mol_feature_importances)\n",
    "# plt.yscale('log')\n",
    "plt.show()"
   ]
  },
  {
   "cell_type": "code",
   "execution_count": 177,
   "metadata": {},
   "outputs": [
    {
     "data": {
      "text/plain": [
       "['xgb_dmpnn_1.pkl']"
      ]
     },
     "execution_count": 177,
     "metadata": {},
     "output_type": "execute_result"
    }
   ],
   "source": [
    "joblib.dump(grid_xgb_dmpnn.best_estimator_, \"xgb_dmpnn_1.pkl\")  #########"
   ]
  },
  {
   "cell_type": "markdown",
   "metadata": {},
   "source": [
    "### Predict"
   ]
  },
  {
   "cell_type": "code",
   "execution_count": 191,
   "metadata": {},
   "outputs": [
    {
     "data": {
      "text/plain": [
       "(500, 64)"
      ]
     },
     "execution_count": 191,
     "metadata": {},
     "output_type": "execute_result"
    }
   ],
   "source": [
    "testing_features_dmpnn = featurize_dmpnn(  ###################\n",
    "    testing_smis,\n",
    ")\n",
    "\n",
    "testing_features_dmpnn.shape    ###################"
   ]
  },
  {
   "cell_type": "code",
   "execution_count": 194,
   "metadata": {},
   "outputs": [],
   "source": [
    "ys_pred_testing = xgb.predict(testing_features_dmpnn) ##########\n",
    "\n",
    "with open('pred_16.csv', 'w', newline='') as csvfile:\n",
    "    writer = csv.writer(csvfile, delimiter=',')\n",
    "    writer.writerow(['Results'])\n",
    "    for result in ys_pred_testing:\n",
    "        writer.writerow([result])"
   ]
  },
  {
   "cell_type": "markdown",
   "metadata": {},
   "source": [
    "## Select DMPNN features"
   ]
  },
  {
   "cell_type": "code",
   "execution_count": null,
   "metadata": {},
   "outputs": [
    {
     "name": "stdout",
     "output_type": "stream",
     "text": [
      "Fitting 5 folds for each of 32 candidates, totalling 160 fits\n"
     ]
    }
   ],
   "source": [
    "param_grid = {\n",
    "    'model__n_estimators': Integer(100, 400),\n",
    "    'model__max_depth': Integer(3, 13),\n",
    "    'model__learning_rate': Real(1e-3, 1e-1, prior='log-uniform'),\n",
    "    'model__gamma': Integer(0, 15),\n",
    "    'model__reg_lambda' : Integer(0, 50),\n",
    "    'model__colsample_bytree' : Real(0.1, 1.0),\n",
    "    'model__min_child_weight' : Integer(0, 30),\n",
    "}\n",
    "\n",
    "\n",
    "selector = SelectFromModel(\n",
    "    estimator=grid_xgb_dmpnn.best_estimator_,\n",
    "    threshold=0.001,\n",
    ")\n",
    "\n",
    "model = XGBRegressor(\n",
    "    seed=42,\n",
    "    # device='cuda',\n",
    "    # n_jobs=multiprocessing.cpu_count() // 4\n",
    ")\n",
    "\n",
    "pipe = Pipeline(steps=[\n",
    "    (\"selector\", selector),\n",
    "    (\"model\", model)\n",
    "])\n",
    "\n",
    "grid_select_1 = BayesSearchCV(\n",
    "    pipe,\n",
    "    param_grid,\n",
    "    scoring='neg_root_mean_squared_error',\n",
    "    n_iter=256,\n",
    "    n_points=32,\n",
    "    n_jobs=64,\n",
    "    cv=5,\n",
    "    refit=True,\n",
    "    return_train_score=True,\n",
    "    verbose=1,\n",
    "    random_state=42\n",
    ")\n",
    "grid_select_1.fit(train_features_dmpnn, targets)"
   ]
  },
  {
   "cell_type": "code",
   "execution_count": null,
   "metadata": {},
   "outputs": [],
   "source": []
  }
 ],
 "metadata": {
  "kernelspec": {
   "display_name": "Python 3 (ipykernel)",
   "language": "python",
   "name": "python3"
  },
  "language_info": {
   "codemirror_mode": {
    "name": "ipython",
    "version": 3
   },
   "file_extension": ".py",
   "mimetype": "text/x-python",
   "name": "python",
   "nbconvert_exporter": "python",
   "pygments_lexer": "ipython3",
   "version": "3.11.9"
  }
 },
 "nbformat": 4,
 "nbformat_minor": 4
}
