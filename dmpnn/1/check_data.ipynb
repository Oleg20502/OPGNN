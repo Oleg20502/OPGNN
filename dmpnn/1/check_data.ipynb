{
 "cells": [
  {
   "cell_type": "code",
   "execution_count": 1,
   "metadata": {},
   "outputs": [],
   "source": [
    "import numpy as np\n",
    "import pandas as pd\n",
    "import matplotlib.pyplot as plt"
   ]
  },
  {
   "cell_type": "code",
   "execution_count": 2,
   "metadata": {
    "scrolled": true
   },
   "outputs": [
    {
     "data": {
      "text/html": [
       "<div>\n",
       "<style scoped>\n",
       "    .dataframe tbody tr th:only-of-type {\n",
       "        vertical-align: middle;\n",
       "    }\n",
       "\n",
       "    .dataframe tbody tr th {\n",
       "        vertical-align: top;\n",
       "    }\n",
       "\n",
       "    .dataframe thead th {\n",
       "        text-align: right;\n",
       "    }\n",
       "</style>\n",
       "<table border=\"1\" class=\"dataframe\">\n",
       "  <thead>\n",
       "    <tr style=\"text-align: right;\">\n",
       "      <th></th>\n",
       "      <th>Unnamed: 0</th>\n",
       "      <th>Tag</th>\n",
       "      <th>Chromophore</th>\n",
       "      <th>Solvent</th>\n",
       "      <th>Absorption max (nm)</th>\n",
       "      <th>Emission max (nm)</th>\n",
       "      <th>Lifetime (ns)</th>\n",
       "      <th>Quantum yield</th>\n",
       "      <th>log(e/mol-1 dm3 cm-1)</th>\n",
       "      <th>abs FWHM (cm-1)</th>\n",
       "      <th>emi FWHM (cm-1)</th>\n",
       "      <th>abs FWHM (nm)</th>\n",
       "      <th>emi FWHM (nm)</th>\n",
       "      <th>Molecular weight (g mol-1)</th>\n",
       "      <th>Reference</th>\n",
       "      <th>Stokes shift</th>\n",
       "    </tr>\n",
       "  </thead>\n",
       "  <tbody>\n",
       "    <tr>\n",
       "      <th>0</th>\n",
       "      <td>0</td>\n",
       "      <td>1</td>\n",
       "      <td>N#Cc1cc2ccc(O)cc2oc1=O</td>\n",
       "      <td>O</td>\n",
       "      <td>355.0</td>\n",
       "      <td>410.0</td>\n",
       "      <td>2.804262</td>\n",
       "      <td>NaN</td>\n",
       "      <td>NaN</td>\n",
       "      <td>NaN</td>\n",
       "      <td>NaN</td>\n",
       "      <td>NaN</td>\n",
       "      <td>NaN</td>\n",
       "      <td>187.15370</td>\n",
       "      <td>DOI: 10.1021/acs.jpcb.5b09905</td>\n",
       "      <td>55.0</td>\n",
       "    </tr>\n",
       "    <tr>\n",
       "      <th>1</th>\n",
       "      <td>1</td>\n",
       "      <td>2</td>\n",
       "      <td>N#Cc1cc2ccc([O-])cc2oc1=O</td>\n",
       "      <td>O</td>\n",
       "      <td>408.0</td>\n",
       "      <td>450.0</td>\n",
       "      <td>3.961965</td>\n",
       "      <td>NaN</td>\n",
       "      <td>NaN</td>\n",
       "      <td>NaN</td>\n",
       "      <td>NaN</td>\n",
       "      <td>NaN</td>\n",
       "      <td>43.0</td>\n",
       "      <td>186.14576</td>\n",
       "      <td>DOI: 10.1021/acs.jpcb.5b09905</td>\n",
       "      <td>42.0</td>\n",
       "    </tr>\n",
       "    <tr>\n",
       "      <th>2</th>\n",
       "      <td>2</td>\n",
       "      <td>3</td>\n",
       "      <td>CCCCCCCCCCCC#CC#CCCCCCCCCCN1C(=O)c2ccc3c4ccc5c...</td>\n",
       "      <td>ClC(Cl)Cl</td>\n",
       "      <td>526.0</td>\n",
       "      <td>535.0</td>\n",
       "      <td>3.602954</td>\n",
       "      <td>NaN</td>\n",
       "      <td>NaN</td>\n",
       "      <td>NaN</td>\n",
       "      <td>NaN</td>\n",
       "      <td>NaN</td>\n",
       "      <td>NaN</td>\n",
       "      <td>1061.54348</td>\n",
       "      <td>https://doi.org/10.1002/smll.201901342</td>\n",
       "      <td>9.0</td>\n",
       "    </tr>\n",
       "    <tr>\n",
       "      <th>3</th>\n",
       "      <td>4</td>\n",
       "      <td>5</td>\n",
       "      <td>[O-]c1c(-c2nc3ccccc3s2)cc2ccc3cccc4ccc1c2c34</td>\n",
       "      <td>CS(C)=O</td>\n",
       "      <td>524.0</td>\n",
       "      <td>555.0</td>\n",
       "      <td>4.700000</td>\n",
       "      <td>NaN</td>\n",
       "      <td>NaN</td>\n",
       "      <td>NaN</td>\n",
       "      <td>NaN</td>\n",
       "      <td>58.0</td>\n",
       "      <td>50.0</td>\n",
       "      <td>350.42028</td>\n",
       "      <td>https://doi.org/10.1016/j.snb.2018.10.043</td>\n",
       "      <td>31.0</td>\n",
       "    </tr>\n",
       "    <tr>\n",
       "      <th>4</th>\n",
       "      <td>5</td>\n",
       "      <td>6</td>\n",
       "      <td>CCN(CC)c1ccc2c(C)cc(=O)oc2c1</td>\n",
       "      <td>C1CCCCC1</td>\n",
       "      <td>350.0</td>\n",
       "      <td>395.0</td>\n",
       "      <td>2.800000</td>\n",
       "      <td>NaN</td>\n",
       "      <td>NaN</td>\n",
       "      <td>NaN</td>\n",
       "      <td>NaN</td>\n",
       "      <td>NaN</td>\n",
       "      <td>NaN</td>\n",
       "      <td>231.29398</td>\n",
       "      <td>DOI: 10.1021/j100248a024</td>\n",
       "      <td>45.0</td>\n",
       "    </tr>\n",
       "    <tr>\n",
       "      <th>...</th>\n",
       "      <td>...</td>\n",
       "      <td>...</td>\n",
       "      <td>...</td>\n",
       "      <td>...</td>\n",
       "      <td>...</td>\n",
       "      <td>...</td>\n",
       "      <td>...</td>\n",
       "      <td>...</td>\n",
       "      <td>...</td>\n",
       "      <td>...</td>\n",
       "      <td>...</td>\n",
       "      <td>...</td>\n",
       "      <td>...</td>\n",
       "      <td>...</td>\n",
       "      <td>...</td>\n",
       "      <td>...</td>\n",
       "    </tr>\n",
       "    <tr>\n",
       "      <th>18381</th>\n",
       "      <td>20228</td>\n",
       "      <td>20229</td>\n",
       "      <td>N#Cc1c(N2CCCCC2)cc(-c2cccc3ccccc23)c2c1Cc1cccc...</td>\n",
       "      <td>C1CCOC1</td>\n",
       "      <td>358.0</td>\n",
       "      <td>451.0</td>\n",
       "      <td>NaN</td>\n",
       "      <td>NaN</td>\n",
       "      <td>NaN</td>\n",
       "      <td>NaN</td>\n",
       "      <td>NaN</td>\n",
       "      <td>NaN</td>\n",
       "      <td>NaN</td>\n",
       "      <td>400.52356</td>\n",
       "      <td>DOI: 10.1021/ol9000679</td>\n",
       "      <td>93.0</td>\n",
       "    </tr>\n",
       "    <tr>\n",
       "      <th>18382</th>\n",
       "      <td>20230</td>\n",
       "      <td>20231</td>\n",
       "      <td>N#Cc1c(N2CCCCC2)cc(-c2ccc3ccc4cccc5ccc2c3c45)c...</td>\n",
       "      <td>C1CCOC1</td>\n",
       "      <td>344.0</td>\n",
       "      <td>481.0</td>\n",
       "      <td>NaN</td>\n",
       "      <td>NaN</td>\n",
       "      <td>NaN</td>\n",
       "      <td>NaN</td>\n",
       "      <td>NaN</td>\n",
       "      <td>NaN</td>\n",
       "      <td>NaN</td>\n",
       "      <td>474.60544</td>\n",
       "      <td>DOI: 10.1021/ol9000679</td>\n",
       "      <td>137.0</td>\n",
       "    </tr>\n",
       "    <tr>\n",
       "      <th>18383</th>\n",
       "      <td>20231</td>\n",
       "      <td>20232</td>\n",
       "      <td>N#Cc1c(N2CCCC2)cc(-c2ccccc2)c2c1C(=O)c1ccccc1-2</td>\n",
       "      <td>C1CCOC1</td>\n",
       "      <td>358.0</td>\n",
       "      <td>NaN</td>\n",
       "      <td>NaN</td>\n",
       "      <td>NaN</td>\n",
       "      <td>NaN</td>\n",
       "      <td>NaN</td>\n",
       "      <td>NaN</td>\n",
       "      <td>NaN</td>\n",
       "      <td>NaN</td>\n",
       "      <td>350.41992</td>\n",
       "      <td>DOI: 10.1021/ol9000679</td>\n",
       "      <td>NaN</td>\n",
       "    </tr>\n",
       "    <tr>\n",
       "      <th>18384</th>\n",
       "      <td>20233</td>\n",
       "      <td>20234</td>\n",
       "      <td>N#Cc1c(N2CCCCC2)cc(-c2cccc3ccccc23)c2c1C(=O)c1...</td>\n",
       "      <td>C1CCOC1</td>\n",
       "      <td>344.0</td>\n",
       "      <td>460.0</td>\n",
       "      <td>NaN</td>\n",
       "      <td>NaN</td>\n",
       "      <td>NaN</td>\n",
       "      <td>NaN</td>\n",
       "      <td>NaN</td>\n",
       "      <td>NaN</td>\n",
       "      <td>NaN</td>\n",
       "      <td>414.50668</td>\n",
       "      <td>DOI: 10.1021/ol9000679</td>\n",
       "      <td>116.0</td>\n",
       "    </tr>\n",
       "    <tr>\n",
       "      <th>18385</th>\n",
       "      <td>20235</td>\n",
       "      <td>20236</td>\n",
       "      <td>N#Cc1c(N2CCCCC2)cc(-c2ccc3ccc4cccc5ccc2c3c45)c...</td>\n",
       "      <td>C1CCOC1</td>\n",
       "      <td>344.0</td>\n",
       "      <td>473.0</td>\n",
       "      <td>NaN</td>\n",
       "      <td>NaN</td>\n",
       "      <td>NaN</td>\n",
       "      <td>NaN</td>\n",
       "      <td>NaN</td>\n",
       "      <td>NaN</td>\n",
       "      <td>NaN</td>\n",
       "      <td>488.58856</td>\n",
       "      <td>DOI: 10.1021/ol9000679</td>\n",
       "      <td>129.0</td>\n",
       "    </tr>\n",
       "  </tbody>\n",
       "</table>\n",
       "<p>18386 rows × 16 columns</p>\n",
       "</div>"
      ],
      "text/plain": [
       "       Unnamed: 0    Tag                                        Chromophore  \\\n",
       "0               0      1                             N#Cc1cc2ccc(O)cc2oc1=O   \n",
       "1               1      2                          N#Cc1cc2ccc([O-])cc2oc1=O   \n",
       "2               2      3  CCCCCCCCCCCC#CC#CCCCCCCCCCN1C(=O)c2ccc3c4ccc5c...   \n",
       "3               4      5       [O-]c1c(-c2nc3ccccc3s2)cc2ccc3cccc4ccc1c2c34   \n",
       "4               5      6                       CCN(CC)c1ccc2c(C)cc(=O)oc2c1   \n",
       "...           ...    ...                                                ...   \n",
       "18381       20228  20229  N#Cc1c(N2CCCCC2)cc(-c2cccc3ccccc23)c2c1Cc1cccc...   \n",
       "18382       20230  20231  N#Cc1c(N2CCCCC2)cc(-c2ccc3ccc4cccc5ccc2c3c45)c...   \n",
       "18383       20231  20232    N#Cc1c(N2CCCC2)cc(-c2ccccc2)c2c1C(=O)c1ccccc1-2   \n",
       "18384       20233  20234  N#Cc1c(N2CCCCC2)cc(-c2cccc3ccccc23)c2c1C(=O)c1...   \n",
       "18385       20235  20236  N#Cc1c(N2CCCCC2)cc(-c2ccc3ccc4cccc5ccc2c3c45)c...   \n",
       "\n",
       "         Solvent  Absorption max (nm)  Emission max (nm)  Lifetime (ns)  \\\n",
       "0              O                355.0              410.0       2.804262   \n",
       "1              O                408.0              450.0       3.961965   \n",
       "2      ClC(Cl)Cl                526.0              535.0       3.602954   \n",
       "3        CS(C)=O                524.0              555.0       4.700000   \n",
       "4       C1CCCCC1                350.0              395.0       2.800000   \n",
       "...          ...                  ...                ...            ...   \n",
       "18381    C1CCOC1                358.0              451.0            NaN   \n",
       "18382    C1CCOC1                344.0              481.0            NaN   \n",
       "18383    C1CCOC1                358.0                NaN            NaN   \n",
       "18384    C1CCOC1                344.0              460.0            NaN   \n",
       "18385    C1CCOC1                344.0              473.0            NaN   \n",
       "\n",
       "       Quantum yield  log(e/mol-1 dm3 cm-1)  abs FWHM (cm-1)  emi FWHM (cm-1)  \\\n",
       "0                NaN                    NaN              NaN              NaN   \n",
       "1                NaN                    NaN              NaN              NaN   \n",
       "2                NaN                    NaN              NaN              NaN   \n",
       "3                NaN                    NaN              NaN              NaN   \n",
       "4                NaN                    NaN              NaN              NaN   \n",
       "...              ...                    ...              ...              ...   \n",
       "18381            NaN                    NaN              NaN              NaN   \n",
       "18382            NaN                    NaN              NaN              NaN   \n",
       "18383            NaN                    NaN              NaN              NaN   \n",
       "18384            NaN                    NaN              NaN              NaN   \n",
       "18385            NaN                    NaN              NaN              NaN   \n",
       "\n",
       "       abs FWHM (nm)  emi FWHM (nm)  Molecular weight (g mol-1)  \\\n",
       "0                NaN            NaN                   187.15370   \n",
       "1                NaN           43.0                   186.14576   \n",
       "2                NaN            NaN                  1061.54348   \n",
       "3               58.0           50.0                   350.42028   \n",
       "4                NaN            NaN                   231.29398   \n",
       "...              ...            ...                         ...   \n",
       "18381            NaN            NaN                   400.52356   \n",
       "18382            NaN            NaN                   474.60544   \n",
       "18383            NaN            NaN                   350.41992   \n",
       "18384            NaN            NaN                   414.50668   \n",
       "18385            NaN            NaN                   488.58856   \n",
       "\n",
       "                                       Reference  Stokes shift  \n",
       "0                  DOI: 10.1021/acs.jpcb.5b09905          55.0  \n",
       "1                  DOI: 10.1021/acs.jpcb.5b09905          42.0  \n",
       "2         https://doi.org/10.1002/smll.201901342           9.0  \n",
       "3      https://doi.org/10.1016/j.snb.2018.10.043          31.0  \n",
       "4                       DOI: 10.1021/j100248a024          45.0  \n",
       "...                                          ...           ...  \n",
       "18381                     DOI: 10.1021/ol9000679          93.0  \n",
       "18382                     DOI: 10.1021/ol9000679         137.0  \n",
       "18383                     DOI: 10.1021/ol9000679           NaN  \n",
       "18384                     DOI: 10.1021/ol9000679         116.0  \n",
       "18385                     DOI: 10.1021/ol9000679         129.0  \n",
       "\n",
       "[18386 rows x 16 columns]"
      ]
     },
     "execution_count": 2,
     "metadata": {},
     "output_type": "execute_result"
    }
   ],
   "source": [
    "data_df = pd.read_csv('../train_split_fluor.csv')\n",
    "data_df"
   ]
  },
  {
   "cell_type": "code",
   "execution_count": 3,
   "metadata": {},
   "outputs": [
    {
     "data": {
      "text/plain": [
       "(18386, 16)"
      ]
     },
     "execution_count": 3,
     "metadata": {},
     "output_type": "execute_result"
    }
   ],
   "source": [
    "data_df.shape"
   ]
  },
  {
   "cell_type": "code",
   "execution_count": 6,
   "metadata": {},
   "outputs": [
    {
     "name": "stdout",
     "output_type": "stream",
     "text": [
      "18386 18386\n",
      "6469 1336\n"
     ]
    }
   ],
   "source": [
    "data_chromophore = data_df['Chromophore'].to_numpy()\n",
    "data_solvent = data_df['Solvent'].to_numpy()\n",
    "\n",
    "print(len(data_chromophore), len(data_solvent))\n",
    "print(len(np.unique(data_chromophore)), len(np.unique(data_solvent)))"
   ]
  },
  {
   "cell_type": "code",
   "execution_count": 7,
   "metadata": {},
   "outputs": [
    {
     "data": {
      "text/plain": [
       "array(['O', 'O', 'ClC(Cl)Cl', ..., 'C1CCOC1', 'C1CCOC1', 'C1CCOC1'],\n",
       "      dtype=object)"
      ]
     },
     "execution_count": 7,
     "metadata": {},
     "output_type": "execute_result"
    }
   ],
   "source": [
    "data_solvent"
   ]
  },
  {
   "cell_type": "code",
   "execution_count": 8,
   "metadata": {},
   "outputs": [
    {
     "data": {
      "text/plain": [
       "array(['BrC(Br)Br', 'BrCBr', 'BrCCBr', ..., 'c1csc(-c2ccc(-c3cccs3)s2)c1',\n",
       "       'c1csc(-c2cccs2)c1', 'gas'], dtype=object)"
      ]
     },
     "execution_count": 8,
     "metadata": {},
     "output_type": "execute_result"
    }
   ],
   "source": [
    "data_solvent_unique = np.unique(data_solvent)\n",
    "data_solvent_unique"
   ]
  },
  {
   "cell_type": "code",
   "execution_count": 9,
   "metadata": {},
   "outputs": [
    {
     "data": {
      "text/plain": [
       "True"
      ]
     },
     "execution_count": 9,
     "metadata": {},
     "output_type": "execute_result"
    }
   ],
   "source": [
    "'gas' in data_solvent_unique"
   ]
  },
  {
   "cell_type": "code",
   "execution_count": 10,
   "metadata": {},
   "outputs": [
    {
     "data": {
      "text/plain": [
       "False"
      ]
     },
     "execution_count": 10,
     "metadata": {},
     "output_type": "execute_result"
    }
   ],
   "source": [
    "'solid' in data_solvent_unique"
   ]
  },
  {
   "cell_type": "code",
   "execution_count": 11,
   "metadata": {},
   "outputs": [],
   "source": [
    "gas_number = 0\n",
    "gas_chromophore = []\n",
    "for i in range(len(data_solvent)):\n",
    "    if 'gas' == data_solvent[i]:\n",
    "        gas_number += 1\n",
    "        gas_chromophore.append(data_chromophore[i])\n",
    "gas_chromophore = np.array(gas_chromophore)"
   ]
  },
  {
   "cell_type": "code",
   "execution_count": 12,
   "metadata": {},
   "outputs": [
    {
     "name": "stdout",
     "output_type": "stream",
     "text": [
      "18 0.09790057652561732\n"
     ]
    }
   ],
   "source": [
    "print(gas_number, gas_number/len(data_solvent)*100)"
   ]
  },
  {
   "cell_type": "code",
   "execution_count": 13,
   "metadata": {},
   "outputs": [
    {
     "data": {
      "text/plain": [
       "array(['CN(C)c1cc(C#N)c(N(C)C)c(C#N)c1',\n",
       "       '[O-]c1c(-c2ccccc2)cc(-[n+]2c(-c3ccccc3)cc(-c3ccccc3)cc2-c2ccccc2)cc1-c1ccccc1',\n",
       "       'C', 'CC', 'CCC', 'CCCC', 'CCCCC', 'CCCCCC', 'CCCCCCC', 'CCCCCCCC',\n",
       "       'ClCl', 'BrBr', 'ClBr', 'C#C', 'COC', 'CS', 'CCSCC', 'CCOC(C)=O'],\n",
       "      dtype='<U77')"
      ]
     },
     "execution_count": 13,
     "metadata": {},
     "output_type": "execute_result"
    }
   ],
   "source": [
    "gas_chromophore"
   ]
  },
  {
   "cell_type": "code",
   "execution_count": 26,
   "metadata": {},
   "outputs": [
    {
     "name": "stdout",
     "output_type": "stream",
     "text": [
      "18386 7251\n"
     ]
    }
   ],
   "source": [
    "data_abs_FWHM = data_df['log(e/mol-1 dm3 cm-1)']\n",
    "\n",
    "data_abs_FWHM_nonan = data_abs_FWHM.dropna()\n",
    "\n",
    "print(len(data_abs_FWHM), len(data_abs_FWHM_nonan))"
   ]
  },
  {
   "cell_type": "code",
   "execution_count": 29,
   "metadata": {},
   "outputs": [
    {
     "data": {
      "image/png": "[encoded data removed]",
      "text/plain": [
       "<Figure size 640x480 with 1 Axes>"
      ]
     },
     "metadata": {},
     "output_type": "display_data"
    }
   ],
   "source": [
    "plt.hist(data_abs_FWHM, bins=30)\n",
    "plt.show()"
   ]
  },
  {
   "cell_type": "code",
   "execution_count": 23,
   "metadata": {},
   "outputs": [
    {
     "data": {
      "text/plain": [
       "(18386, 18386)"
      ]
     },
     "execution_count": 23,
     "metadata": {},
     "output_type": "execute_result"
    }
   ],
   "source": [
    "len(data_abs_FWHM_2), len(data_qy_2)"
   ]
  },
  {
   "cell_type": "code",
   "execution_count": 25,
   "metadata": {},
   "outputs": [
    {
     "data": {
      "text/plain": [
       "array([[1.        , 0.17627524],\n",
       "       [0.17627524, 1.        ]])"
      ]
     },
     "execution_count": 25,
     "metadata": {},
     "output_type": "execute_result"
    }
   ],
   "source": [
    "data_abs_FWHM_2 = data_abs_FWHM.to_numpy()\n",
    "data_qy_2 = data_qy.to_numpy()\n",
    "mask = ~np.isnan(data_abs_FWHM_2) & ~np.isnan(data_qy_2)\n",
    "np.corrcoef(data_abs_FWHM_2[mask], data_qy_2[mask])"
   ]
  },
  {
   "cell_type": "code",
   "execution_count": null,
   "metadata": {},
   "outputs": [],
   "source": []
  },
  {
   "cell_type": "code",
   "execution_count": 14,
   "metadata": {},
   "outputs": [
    {
     "name": "stdout",
     "output_type": "stream",
     "text": [
      "18386 14480\n"
     ]
    }
   ],
   "source": [
    "data_s_shift = data_df['Stokes shift']\n",
    "\n",
    "data_s_shift_nonan = data_s_shift.dropna()\n",
    "\n",
    "print(len(data_s_shift), len(data_s_shift_nonan))"
   ]
  },
  {
   "cell_type": "code",
   "execution_count": 15,
   "metadata": {},
   "outputs": [
    {
     "data": {
      "text/plain": [
       "1029      -2.000000\n",
       "1032      -3.000000\n",
       "1037      -1.000000\n",
       "2299      -1.000000\n",
       "2310      -2.000000\n",
       "2311      -6.000000\n",
       "2313      -5.000000\n",
       "2318      -2.000000\n",
       "3315      -7.000000\n",
       "4104     -25.000000\n",
       "4523     -14.000000\n",
       "5138     -26.000000\n",
       "5294     -23.542353\n",
       "6458      -2.274027\n",
       "6460      -1.013307\n",
       "6461      -0.302612\n",
       "8355      -4.000000\n",
       "8365     -62.000000\n",
       "8575     -28.000000\n",
       "8578     -24.000000\n",
       "8579     -27.000000\n",
       "8604     -12.000000\n",
       "10641    -48.000000\n",
       "11988    -97.000000\n",
       "11989    -98.000000\n",
       "12155     -2.000000\n",
       "12162    -12.000000\n",
       "12183     -6.000000\n",
       "12228    -10.727891\n",
       "13043     -3.000000\n",
       "17203   -255.000000\n",
       "Name: Stokes shift, dtype: float64"
      ]
     },
     "execution_count": 15,
     "metadata": {},
     "output_type": "execute_result"
    }
   ],
   "source": [
    "treshold = -0\n",
    "\n",
    "data_s_shift_bad = data_s_shift[data_s_shift < treshold]\n",
    "data_s_shift_clean = data_s_shift[data_s_shift >= treshold]\n",
    "\n",
    "data_s_shift_bad"
   ]
  },
  {
   "cell_type": "code",
   "execution_count": 16,
   "metadata": {},
   "outputs": [
    {
     "name": "stdout",
     "output_type": "stream",
     "text": [
      "0.16860654846078538 %\n"
     ]
    }
   ],
   "source": [
    "print(len(data_s_shift_bad)/len(data_s_shift)*100, '%')"
   ]
  },
  {
   "cell_type": "code",
   "execution_count": 17,
   "metadata": {},
   "outputs": [
    {
     "data": {
      "image/png": "[encoded data removed]",
      "text/plain": [
       "<Figure size 640x480 with 1 Axes>"
      ]
     },
     "metadata": {},
     "output_type": "display_data"
    }
   ],
   "source": [
    "plt.hist(data_s_shift_clean, bins=20)\n",
    "plt.show()"
   ]
  },
  {
   "cell_type": "code",
   "execution_count": 18,
   "metadata": {},
   "outputs": [
    {
     "data": {
      "text/plain": [
       "<Axes: >"
      ]
     },
     "execution_count": 18,
     "metadata": {},
     "output_type": "execute_result"
    },
    {
     "data": {
      "image/png": "[encoded data removed]",
      "text/plain": [
       "<Figure size 640x480 with 1 Axes>"
      ]
     },
     "metadata": {},
     "output_type": "display_data"
    }
   ],
   "source": [
    "data_df.boxplot(column=['Stokes shift'])"
   ]
  },
  {
   "cell_type": "code",
   "execution_count": 19,
   "metadata": {},
   "outputs": [
    {
     "name": "stdout",
     "output_type": "stream",
     "text": [
      "18386 15649\n"
     ]
    }
   ],
   "source": [
    "data_absorption = data_df['Absorption max (nm)']\n",
    "\n",
    "data_absorption_nonan = data_absorption.dropna()\n",
    "\n",
    "print(len(data_absorption), len(data_absorption_nonan))"
   ]
  },
  {
   "cell_type": "code",
   "execution_count": 20,
   "metadata": {},
   "outputs": [
    {
     "data": {
      "image/png": "[encoded data removed]",
      "text/plain": [
       "<Figure size 640x480 with 1 Axes>"
      ]
     },
     "metadata": {},
     "output_type": "display_data"
    }
   ],
   "source": [
    "plt.hist(data_absorption, bins=20)\n",
    "plt.show()"
   ]
  },
  {
   "cell_type": "code",
   "execution_count": 21,
   "metadata": {},
   "outputs": [
    {
     "name": "stdout",
     "output_type": "stream",
     "text": [
      "18386 16467\n"
     ]
    }
   ],
   "source": [
    "data_emission = data_df['Emission max (nm)']\n",
    "\n",
    "data_emission_nonan = data_emission.dropna()\n",
    "\n",
    "print(len(data_emission), len(data_emission_nonan))"
   ]
  },
  {
   "cell_type": "code",
   "execution_count": 19,
   "metadata": {},
   "outputs": [
    {
     "name": "stdout",
     "output_type": "stream",
     "text": [
      "18386 12538\n"
     ]
    }
   ],
   "source": [
    "data_qy = data_df['Quantum yield']\n",
    "\n",
    "data_qy_clean = data_df['Quantum yield'].dropna()\n",
    "\n",
    "print(len(data_qy), len(data_qy_clean))"
   ]
  },
  {
   "cell_type": "code",
   "execution_count": 23,
   "metadata": {},
   "outputs": [
    {
     "data": {
      "image/png": "[encoded data removed]",
      "text/plain": [
       "<Figure size 640x480 with 1 Axes>"
      ]
     },
     "metadata": {},
     "output_type": "display_data"
    }
   ],
   "source": [
    "plt.hist(data_qy, bins=20)\n",
    "plt.title('Yield')\n",
    "plt.show()"
   ]
  },
  {
   "cell_type": "code",
   "execution_count": 24,
   "metadata": {},
   "outputs": [
    {
     "data": {
      "text/plain": [
       "(14480, 5)"
      ]
     },
     "execution_count": 24,
     "metadata": {},
     "output_type": "execute_result"
    }
   ],
   "source": [
    "data_1 = data_df[['Chromophore', 'Solvent', 'Absorption max (nm)', 'Emission max (nm)', 'Stokes shift']].dropna(axis=0)\n",
    "data_1.shape"
   ]
  },
  {
   "cell_type": "code",
   "execution_count": 25,
   "metadata": {},
   "outputs": [
    {
     "data": {
      "text/plain": [
       "(14480, 4)"
      ]
     },
     "execution_count": 25,
     "metadata": {},
     "output_type": "execute_result"
    }
   ],
   "source": [
    "data_2 = data_df[['Chromophore', 'Solvent', 'Absorption max (nm)', 'Emission max (nm)']].dropna(axis=0)\n",
    "data_2.shape"
   ]
  },
  {
   "cell_type": "code",
   "execution_count": 26,
   "metadata": {},
   "outputs": [
    {
     "data": {
      "text/plain": [
       "(10856, 6)"
      ]
     },
     "execution_count": 26,
     "metadata": {},
     "output_type": "execute_result"
    }
   ],
   "source": [
    "data_3 = data_df[\n",
    "    ['Chromophore',\n",
    "     'Solvent',\n",
    "     'Absorption max (nm)',\n",
    "     'Emission max (nm)',\n",
    "     'Stokes shift',\n",
    "     'Quantum yield'\n",
    "     ]].dropna(axis=0)\n",
    "data_3.shape"
   ]
  },
  {
   "cell_type": "code",
   "execution_count": 27,
   "metadata": {},
   "outputs": [
    {
     "data": {
      "text/plain": [
       "(18141, 6)"
      ]
     },
     "execution_count": 27,
     "metadata": {},
     "output_type": "execute_result"
    }
   ],
   "source": [
    "data_4 = data_df[\n",
    "    ['Chromophore',\n",
    "     'Solvent',\n",
    "     'Absorption max (nm)',\n",
    "     'Emission max (nm)',\n",
    "     'Stokes shift',\n",
    "     'Quantum yield'\n",
    "     ]].dropna(subset=['Absorption max (nm)', 'Emission max (nm)', 'Stokes shift', 'Quantum yield'], how='all')\n",
    "data_4.shape"
   ]
  },
  {
   "cell_type": "code",
   "execution_count": 28,
   "metadata": {},
   "outputs": [],
   "source": [
    "data_absorption_freq = 3 * 10**(8+9-15) / data_absorption"
   ]
  },
  {
   "cell_type": "code",
   "execution_count": 32,
   "metadata": {},
   "outputs": [],
   "source": [
    "data_absorption_freq_clean = data_absorption_freq[data_absorption_freq < 1.5]"
   ]
  },
  {
   "cell_type": "code",
   "execution_count": 34,
   "metadata": {},
   "outputs": [
    {
     "data": {
      "image/png": "[encoded data removed]",
      "text/plain": [
       "<Figure size 640x480 with 1 Axes>"
      ]
     },
     "metadata": {},
     "output_type": "display_data"
    }
   ],
   "source": [
    "plt.hist(data_absorption_freq_clean, bins=20)\n",
    "plt.show()"
   ]
  },
  {
   "cell_type": "code",
   "execution_count": 35,
   "metadata": {},
   "outputs": [],
   "source": [
    "data_emission_freq = 3 * 10**(8+9-15) / data_emission"
   ]
  },
  {
   "cell_type": "code",
   "execution_count": 36,
   "metadata": {},
   "outputs": [
    {
     "data": {
      "image/png": "[encoded data removed]",
      "text/plain": [
       "<Figure size 640x480 with 1 Axes>"
      ]
     },
     "metadata": {},
     "output_type": "display_data"
    }
   ],
   "source": [
    "plt.hist(data_emission_freq, bins=20)\n",
    "plt.show()"
   ]
  },
  {
   "cell_type": "code",
   "execution_count": 50,
   "metadata": {},
   "outputs": [],
   "source": [
    "def make_log_qyield(df):\n",
    "    df_tmp = df.copy()\n",
    "    df_tmp.loc[df_tmp == 0.0] = 1e-5\n",
    "    # df_tmp.loc[:, 'log qyield'] = np.log(df_tmp['Quantum yield'])\n",
    "    return np.log(df_tmp)\n",
    "\n",
    "def inv_sigmoid(df, eps=1e-5):\n",
    "    df_tmp = df.copy()\n",
    "    df_tmp.loc[df_tmp == 0.0] = eps\n",
    "    df_tmp.loc[df_tmp == 1.0] = 1 - eps\n",
    "    # df_tmp.loc[:, 'log qyield'] = np.log(df_tmp['Quantum yield'])\n",
    "    return np.log(df_tmp) - np.log(1 - df_tmp)"
   ]
  },
  {
   "cell_type": "code",
   "execution_count": 51,
   "metadata": {},
   "outputs": [],
   "source": [
    "data_log_q_yield = make_log_qyield(data_qy)"
   ]
  },
  {
   "cell_type": "code",
   "execution_count": 52,
   "metadata": {},
   "outputs": [
    {
     "data": {
      "image/png": "[encoded data removed]",
      "text/plain": [
       "<Figure size 640x480 with 1 Axes>"
      ]
     },
     "metadata": {},
     "output_type": "display_data"
    }
   ],
   "source": [
    "plt.hist(data_log_q_yield, bins=20)\n",
    "plt.show()"
   ]
  },
  {
   "cell_type": "code",
   "execution_count": 1,
   "metadata": {},
   "outputs": [
    {
     "ename": "NameError",
     "evalue": "name 'inv_sigmoid' is not defined",
     "output_type": "error",
     "traceback": [
      "\u001b[0;31m---------------------------------------------------------------------------\u001b[0m",
      "\u001b[0;31mNameError\u001b[0m                                 Traceback (most recent call last)",
      "Cell \u001b[0;32mIn[1], line 1\u001b[0m\n\u001b[0;32m----> 1\u001b[0m data_inv_sig_q_yield \u001b[38;5;241m=\u001b[39m \u001b[43minv_sigmoid\u001b[49m(data_qy)\n",
      "\u001b[0;31mNameError\u001b[0m: name 'inv_sigmoid' is not defined"
     ]
    }
   ],
   "source": [
    "data_inv_sig_q_yield = inv_sigmoid(data_qy)"
   ]
  },
  {
   "cell_type": "code",
   "execution_count": 54,
   "metadata": {},
   "outputs": [
    {
     "data": {
      "image/png": "[encoded data removed]",
      "text/plain": [
       "<Figure size 640x480 with 1 Axes>"
      ]
     },
     "metadata": {},
     "output_type": "display_data"
    }
   ],
   "source": [
    "plt.hist(data_inv_sig_q_yield, bins=20)\n",
    "plt.show()"
   ]
  },
  {
   "cell_type": "code",
   "execution_count": null,
   "metadata": {},
   "outputs": [],
   "source": []
  }
 ],
 "metadata": {
  "kernelspec": {
   "display_name": "Python 3 (ipykernel)",
   "language": "python",
   "name": "python3"
  },
  "language_info": {
   "codemirror_mode": {
    "name": "ipython",
    "version": 3
   },
   "file_extension": ".py",
   "mimetype": "text/x-python",
   "name": "python",
   "nbconvert_exporter": "python",
   "pygments_lexer": "ipython3",
   "version": "3.11.9"
  }
 },
 "nbformat": 4,
 "nbformat_minor": 4
}
